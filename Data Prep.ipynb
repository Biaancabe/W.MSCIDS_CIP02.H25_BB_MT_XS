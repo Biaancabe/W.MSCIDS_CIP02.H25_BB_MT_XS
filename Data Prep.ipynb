{
 "cells": [
  {
   "cell_type": "markdown",
   "id": "d66855ec7d28989e",
   "metadata": {},
   "source": [
    "# Notes/Questions to discuss:\n",
    "1.\tI removed 59 SPI companies without Total ESG Score, 1 duplicate company (Schindler, see 1.4), and 4 S&P 500 companies without Total ESG Score **(see section 1.3.1)**.</br>\n",
    "    *Remark Marisa: Makes sense*\n",
    "2.\tAfter removing non-Swiss SPI companies and non-US S&P companies, we have 134 Swiss companies in the SPI group and 280 US companies in the S&P 500 group (also in the final dataset for analysis).\n",
    "    *Remark Marisa: I would remove non swiss companies from SPI. Also only take US companies from S&P 500 because 96% are from the US. I added code to show this so we can argue properly*\n",
    "3.\tI removed financial indicators due to a large amount of missing data: PE_Ratio, EBITDA_Margin_%, Debt_to_Equity, Current_Ratio, and Operating_Cash_Flow **(see 1.3.5)**.</br>\n",
    "    *Remark Marisa: Makes sense to me.*\n",
    "4.\tDepending on the metrics and industries chosen for further analysis, we may need to remove additional S&P 500 data due to the unbalanced size of the two datasets and missing values. However, the S&P 500 dataset is mainly used for support and comparison, so we do not perform a deep analysis on it and adjust it according to the SPI dataset **(see 1.3.5)**. </br>\n",
    "    *Remark Marisa: Fine for me for now. But I will keep it in mind for further analysis*\n",
    "5.\tOutliers should be addressed (keep or remove) during the analysis and comparison of specific metrics based on their observed distributions **(see 4.3)**. </br>\n",
    "    *Remark Marisa: Same as above. I would keep these for now and think about removing them when we analyse them for our research questions.*\n",
    "6.\tThe merged and cleaned dataset is saved as `cleaned_combined_data.csv` in the Data folder. Additional columns have been added:\n",
    "    - Company_Type to identify SPI vs S&P 500 companies\n",
    "    - ESG Risk Classification according to the ESG Risk Ratings Methodology **(see 5.2)**"
   ]
  },
  {
   "cell_type": "markdown",
   "id": "3c742e4d",
   "metadata": {},
   "source": [
    "# 1. Introduction"
   ]
  },
  {
   "cell_type": "markdown",
   "id": "7344e147",
   "metadata": {},
   "source": [
    "ESG performance has become an important factor in corporate strategy and financial markets. Meta-analyses show that a majority of studies find a positive relationship between ESG scores. However, there is also a non-negligible share of research reports that report neutral or even negative effects. (Friede et al., 2015; Whelan et al., 2021) Our project focuses on Swiss companies to examine whether ESG scores are positively linked to financial performance.\n",
    "\n",
    "To address these mixed findings, we formulated the following research questions:"
   ]
  },
  {
   "cell_type": "markdown",
   "id": "80b4fbdf",
   "metadata": {},
   "source": [
    "## Research Questions\n",
    "\n",
    "- What is the relationship between ESG scores and financial performance for Swiss listed companies?\n",
    "- What is the effect of the industry type on this relationship, focusing on the top 5 industries in Switzerland.\n",
    "- If there is a clear dependency of ESG on financial performance, how do the individual effects of Environmental (E), Social (S), and Governance (G) factors compare in explaining this relationship?\n",
    "- How does the relationship between financial performance and ESG scores behave of Swiss companies compared to peers worldwide?"
   ]
  },
  {
   "cell_type": "markdown",
   "id": "28abdb23",
   "metadata": {},
   "source": [
    "# 2. Data Acquisition"
   ]
  },
  {
   "cell_type": "markdown",
   "id": "a5250e6b",
   "metadata": {},
   "source": [
    "## 2.1 Data Source"
   ]
  },
  {
   "cell_type": "markdown",
   "id": "e0b5a76b",
   "metadata": {},
   "source": [
    "We collect data from two main company groups:\n",
    "- The first consists of all Swiss listed firms included in the Swiss Performance Index (SPI) — approximately 230 companies across various sectors. \n",
    "- The second serves as a global benchmark, represented by the S&P 500 Index, which includes 500 leading U.S.-listed companies.\n",
    "\n",
    "For both datasets, financial and ESG data were retrieved via the Yahoo Finance API by company ticker. \n",
    "\n",
    "Yahoo Finance does not provide official API documentation, we found two reliable public technical references ([Ranaroussi’s yfinance Documentation](https://ranaroussi.github.io/yfinance/reference/index.html) and the [AlgoTrading101 API Guide](https://algotrading101.com/learn/yahoo-finance-api-guide/) that we can consult to ensure data accuracy and consistency."
   ]
  },
  {
   "cell_type": "markdown",
   "id": "abe24a87",
   "metadata": {},
   "source": [
    "### 2.1.1 Company List Compilation"
   ]
  },
  {
   "cell_type": "markdown",
   "id": "709481d6",
   "metadata": {},
   "source": [
    "We first collected the company tickers from publicly available Wikipedia pages: [Swiss Performance Index (SPI)](https://en.wikipedia.org/wiki/Swiss_Performance_Index) and [S&P 500 Index](https://en.wikipedia.org/wiki/List_of_S%26P_500_companies). These sources provide an accessible and structured overview of companies and their corresponding tickers.\n",
    "\n",
    "However, both indices are dynamic — the composition of listed companies changes over time due to mergers, delistings, and index rebalancing. The SPI table on Wikipedia references data as of September 18, 2020 and is therefore not up to date. To ensure that our analysis reflects the most recent constituents, we cross-checked the Wikipedia lists against a real-time source from [Investing.com](https://www.investing.com/indices/swiss-performance-components) on the day of data acquisition (October 17, 2025), which provides the current SPI components but without ticker symbols.\n",
    "\n",
    "Then, we used Excel’s VLOOKUP function to systematically identify and resolve mismatches between the Wikipedia and real-time lists. Missing or renamed tickers were manually verified and corrected. The resulting files contain finalized company tickers for both the SPI and S&P 500 datasets, which were then used for data extraction via the Yahoo Finance API.\n",
    "\n",
    "The final lists of both company groups and the detailed cross-checking process are documented in the Excel file “company list.xlsx”, located in the folder “Company List”."
   ]
  },
  {
   "cell_type": "markdown",
   "id": "820221b3",
   "metadata": {},
   "source": [
    "### 2.1.2 Variables Collected"
   ]
  },
  {
   "cell_type": "markdown",
   "id": "99f2637e",
   "metadata": {},
   "source": [
    "We compile variables across several dimensions, summarized below:\n",
    "1. Company Information:\n",
    "Company name, ticker, currency, industry, sector, and country.\n",
    "\n",
    "2. Financial and Market Data:\n",
    "To capture firm performance from multiple perspectives, we categorize financial variables as follows:\n",
    "- Stock Price: \n",
    "Collected for two reference dates: 2024-12-31 (to align with the fiscal-year-end snapshot) and 2025-10-17 (the date of data acquisition).\n",
    "- Profitability Metrics:\n",
    "Revenue, Net Income, Operating Margin, Gross Margin, ROE, ROA, Profit Margin, EBITDA Margin, and EPS. These variables reflect operational efficiency and profitability and allow testing whether ESG leaders exhibit superior or more stable performance.\n",
    "- Valuation Metrics:\n",
    "Market Capitalization, P/E Ratio, P/B Ratio, and Annual Return — used to assess whether the market values ESG leaders at a premium and whether they show lower risk.\n",
    "- Risk and Stability Metrics:\n",
    "Beta, Debt-to-Equity Ratio, Current Ratio, and (Operating / Free) Cash Flow. These indicators provide insight into a firm’s leverage, liquidity, and resilience.\n",
    "- Growth Metrics:\n",
    "Revenue Growth and other expansion indicators, used to test whether ESG-oriented firms achieve higher or more sustainable growth.\n",
    "\n",
    "All financial data correspond to a **2024-12-31** snapshot, ensuring alignment with the same reporting period as the ESG scores.\n",
    "\n",
    "3. ESG Scores:\n",
    "The ESG dataset includes both aggregate and dimension-level measures:\n",
    "- Total ESG Risk Score, Environmental Risk Score, Social Risk Score, and Governance Risk Score.\n",
    "- Highest Controversy Level (0–5 scale), capturing the severity of historical ESG-related incidents.\n",
    "- ESG Performance Category — including UNDER_PERF, AVG_PERF, and OUT_PERF — indicating whether the company underperforms, performs similarly to, or outperforms peers in ESG practices."
   ]
  },
  {
   "cell_type": "markdown",
   "id": "9c8957dd",
   "metadata": {},
   "source": [
    "## 2.2 Data Extraction via API"
   ]
  },
  {
   "cell_type": "markdown",
   "id": "a80713c1",
   "metadata": {},
   "source": [
    "We developed the following Python script to extract data via the Yahoo Finance API. By modifying the input parameter (`swiss_companies.txt` and `S&P_companies.txt`), we generated separate datasets for Swiss and S&P companies.\n",
    "\n",
    "```python\n",
    "import yfinance as yf\n",
    "import pandas as pd\n",
    "import time\n",
    "from datetime import datetime\n",
    "import numpy as np\n",
    "\n",
    "def get_revenue_growth(ticker_obj):\n",
    "    \"\"\"Revenue Growth\"\"\"\n",
    "    try:\n",
    "        financials = ticker_obj.financials\n",
    "        if financials is not None and not financials.empty and 'Total Revenue' in financials.index:\n",
    "            revenues = financials.loc['Total Revenue'].sort_index()\n",
    "            if len(revenues) >= 2:\n",
    "                latest = revenues.iloc[-1]\n",
    "                previous = revenues.iloc[-2]\n",
    "                if previous != 0 and not pd.isna(previous) and not pd.isna(latest):\n",
    "                    growth = ((latest - previous) / abs(previous)) * 100\n",
    "                    return round(growth, 2)\n",
    "        return None\n",
    "    except:\n",
    "        return None\n",
    "\n",
    "def get_ebitda_margin(ticker_obj):\n",
    "    \"\"\"EBITDA Margin\"\"\"\n",
    "    try:\n",
    "        info = ticker_obj.info\n",
    "        ebitda = info.get('ebitda', None)\n",
    "        revenue = info.get('totalRevenue', None)\n",
    "        if ebitda and revenue and revenue != 0:\n",
    "            margin = (ebitda / revenue) * 100\n",
    "            return round(margin, 2)\n",
    "        return None\n",
    "    except:\n",
    "        return None\n",
    "\n",
    "def get_stock_price_at_date(ticker_obj, target_date='2024-12-31'):\n",
    "    \"\"\"Stock Price around end of 2024\"\"\"\n",
    "    try:\n",
    "        hist = ticker_obj.history(start='2024-12-20', end='2025-01-10')\n",
    "        \n",
    "        if not hist.empty:\n",
    "            return round(hist['Close'].iloc[-1], 2)\n",
    "        return None\n",
    "    except:\n",
    "        return None\n",
    "\n",
    "def get_beta(ticker_obj):\n",
    "    \"\"\"Beta value\"\"\"\n",
    "    try:\n",
    "        info = ticker_obj.info\n",
    "        beta = info.get('beta', None)\n",
    "        if beta:\n",
    "            return round(beta, 3)\n",
    "        return None\n",
    "    except:\n",
    "        return None\n",
    "    \n",
    "def volatility(ticker_obj):\n",
    "    \"\"\"Annualized Volatility based on daily returns\"\"\"\n",
    "    try:\n",
    "        hist = ticker.history(start=\"2024-01-01\", end=\"2024-12-31\")['Close']\n",
    "        if not hist.empty:\n",
    "            daily_returns = hist.pct_change().dropna()\n",
    "            volatility = daily_returns.std() * np.sqrt(252)  # Assuming 252 trading days\n",
    "            return round(volatility, 2)\n",
    "        return None\n",
    "    except:\n",
    "        return None\n",
    "\n",
    "def get_comprehensive_data(ticker_symbol, target_date='2024-12-31'):\n",
    "    \"\"\"\n",
    "    get ESG scores and key financial metrics for a given ticker.\n",
    "    target_date: '2024-12-31'\n",
    "    \"\"\"\n",
    "    try:\n",
    "        ticker = yf.Ticker(ticker_symbol)\n",
    "        info = ticker.info\n",
    "        \n",
    "        # === 1. company info ===\n",
    "        company_name = info.get('longName', 'N/A')\n",
    "        currency = info.get('currency', 'N/A')\n",
    "        industry = info.get('industry', 'N/A')\n",
    "        sector = info.get('sector', 'N/A')\n",
    "        country = info.get('country', 'N/A')\n",
    "        \n",
    "        # === 2. ESG ===\n",
    "        esg_scores = ticker.sustainability\n",
    "        if esg_scores is not None and not esg_scores.empty:\n",
    "            total_esg = esg_scores.loc['totalEsg'].values[0] if 'totalEsg' in esg_scores.index else None\n",
    "            env_score = esg_scores.loc['environmentScore'].values[0] if 'environmentScore' in esg_scores.index else None\n",
    "            social_score = esg_scores.loc['socialScore'].values[0] if 'socialScore' in esg_scores.index else None\n",
    "            gov_score = esg_scores.loc['governanceScore'].values[0] if 'governanceScore' in esg_scores.index else None\n",
    "            esg_performance = esg_scores.loc['esgPerformance'].values[0] if 'esgPerformance' in esg_scores.index else None\n",
    "            highest_controversy = esg_scores.loc['highestControversy'].values[0] if 'highestControversy' in esg_scores.index else None\n",
    "        else:\n",
    "            total_esg = env_score = social_score = gov_score = esg_performance = highest_controversy = None\n",
    "        \n",
    "        # === 3. stock price ===\n",
    "        stock_price = get_stock_price_at_date(ticker, target_date)\n",
    "        current_price = info.get('currentPrice', None) or info.get('regularMarketPrice', None)\n",
    "        \n",
    "        # === 4. key financial indicators ===\n",
    "        \n",
    "        # valuation & size\n",
    "        market_cap = info.get('marketCap', None)\n",
    "        pe_ratio = info.get('trailingPE', None)\n",
    "        pb_ratio = info.get('priceToBook', None)\n",
    "        annual_return = info.get('52WeekChange', None)\n",
    "        \n",
    "        # profitibility\n",
    "        revenue = info.get('totalRevenue', None)\n",
    "        net_income = info.get('netIncomeToCommon', None)\n",
    "        operating_margin = info.get('operatingMargins', None)\n",
    "        gross_margin = info.get('grossMargins', None)\n",
    "        roe = info.get('returnOnEquity', None)\n",
    "        roa = info.get('returnOnAssets', None)\n",
    "        profit_margin = info.get('profitMargins', None)\n",
    "        ebitda_margin = get_ebitda_margin(ticker)\n",
    "        eps = info.get('trailingEps', None)\n",
    "        \n",
    "        # risk/stability\n",
    "        beta = get_beta(ticker)\n",
    "        debt_to_equity = info.get('debtToEquity', None)\n",
    "        current_ratio = info.get('currentRatio', None)\n",
    "        cash_flow = info.get('operatingCashflow', None)\n",
    "        \n",
    "        # growth\n",
    "        revenue_growth = get_revenue_growth(ticker)\n",
    "        \n",
    "        # convert ratios to percentages where applicable\n",
    "        if operating_margin: operating_margin = round(operating_margin * 100, 2)\n",
    "        if gross_margin: gross_margin = round(gross_margin * 100, 2)\n",
    "        if roe: roe = round(roe * 100, 2)\n",
    "        if roa: roa = round(roa * 100, 2)\n",
    "        if profit_margin: profit_margin = round(profit_margin * 100, 2)\n",
    "        if pe_ratio: pe_ratio = round(pe_ratio, 2)\n",
    "        if pb_ratio: pb_ratio = round(pb_ratio, 2)\n",
    "        if eps: eps = round(eps, 2)\n",
    "        if current_ratio: current_ratio = round(current_ratio, 2)\n",
    "        if debt_to_equity: debt_to_equity = round(debt_to_equity, 2)\n",
    "        if annual_return: annual_return = round(annual_return * 100, 2)\n",
    "        \n",
    "        # build result dict\n",
    "        result = {\n",
    "            # basic info\n",
    "            'Ticker': ticker_symbol,\n",
    "            'Company_Name': company_name,\n",
    "            'Currency': currency,\n",
    "            'Data_Date': target_date,\n",
    "            'Industry': industry,\n",
    "            'Sector': sector,\n",
    "            'Country': country,\n",
    "            \n",
    "            # ESG\n",
    "            'Total_ESG_Score': total_esg,\n",
    "            'Environmental_Score': env_score,\n",
    "            'Social_Score': social_score,\n",
    "            'Governance_Score': gov_score,\n",
    "            'ESG_Performance': esg_performance,\n",
    "            'Highest_Controversy': highest_controversy,\n",
    "            \n",
    "            # Stock Price\n",
    "            'Stock_Price': stock_price,\n",
    "            'Current_Price': current_price,\n",
    "            \n",
    "            # valuation & size\n",
    "            'Market_Cap': market_cap,\n",
    "            'PE_Ratio': pe_ratio,\n",
    "            'PB_Ratio': pb_ratio,\n",
    "            'Annual_Return_Pct': annual_return,\n",
    "            \n",
    "            # profitibility (%)\n",
    "            'Revenue': revenue,\n",
    "            'Net_Income': net_income,\n",
    "            'Operating_Margin_Pct': operating_margin,\n",
    "            'Gross_Margin_Pct': gross_margin,\n",
    "            'ROE_Pct': roe,\n",
    "            'ROA_Pct': roa,\n",
    "            'Profit_Margin_Pct': profit_margin,\n",
    "            'EBITDA_Margin_Pct': ebitda_margin,\n",
    "            'EPS': eps,\n",
    "            \n",
    "            # risk/stability\n",
    "            'Beta': beta,\n",
    "            'Debt_to_Equity': debt_to_equity,\n",
    "            'Current_Ratio': current_ratio,\n",
    "            'Operating_Cash_Flow': cash_flow,\n",
    "            \n",
    "            # Growth (%)\n",
    "            'Revenue_Growth_Pct': revenue_growth,\n",
    "            \n",
    "            # Status\n",
    "            'Status': 'Success'\n",
    "        }\n",
    "        \n",
    "        return result\n",
    "        \n",
    "    except Exception as e:\n",
    "        return {\n",
    "            'Ticker': ticker_symbol,\n",
    "            'Company_Name': 'Error',\n",
    "            'Currency': None,\n",
    "            'Data_Date': target_date,\n",
    "            'Industry': None,\n",
    "            'Sector': None,\n",
    "            'Country': None,\n",
    "            'Total_ESG_Score': None,\n",
    "            'Environmental_Score': None,\n",
    "            'Social_Score': None,\n",
    "            'Governance_Score': None,\n",
    "            'ESG_Performance': None,\n",
    "            'Highest_Controversy': None,\n",
    "            'Stock_Price': None,\n",
    "            'Current_Price': None,\n",
    "            'Revenue': None,\n",
    "            'Net_Income': None,\n",
    "            'Operating_Margin_Pct': None,\n",
    "            'Gross_Margin_Pct': None,\n",
    "            'ROE_Pct': None,\n",
    "            'ROA_Pct': None,\n",
    "            'Profit_Margin_Pct': None,\n",
    "            'EBITDA_Margin_Pct': None,\n",
    "            'EPS': None,\n",
    "            'Market_Cap': None,\n",
    "            'PE_Ratio': None,\n",
    "            'PB_Ratio': None,\n",
    "            'Annual_Return_Pct': None,\n",
    "            'Beta': None,\n",
    "            'Debt_to_Equity': None,\n",
    "            'Current_Ratio': None,\n",
    "            'Operating_Cash_Flow': None,\n",
    "            'Revenue_Growth_Pct': None,\n",
    "            'Status': f'Error: {str(e)}'\n",
    "        }\n",
    "\n",
    "def read_tickers_from_file(filename):\n",
    "    \"\"\"read ticker symbols from a text file, ignoring comments and empty lines\"\"\"\n",
    "    tickers = []\n",
    "    try:\n",
    "        with open(filename, 'r', encoding='utf-8') as f:\n",
    "            for line in f:\n",
    "                line = line.strip()\n",
    "                if line and not line.startswith('#'):\n",
    "                    tickers.append(line)\n",
    "        return tickers\n",
    "    except FileNotFoundError:\n",
    "        print(f\"Error: File not found '{filename}'\")\n",
    "        return []\n",
    "    except Exception as e:\n",
    "        print(f\"Error when reading the file: {e}\")\n",
    "        return []\n",
    "\n",
    "def main():\n",
    "    # === parameters ===\n",
    "    input_file = 'Company List/swiss_companies.txt'\n",
    "    target_date = '2024-12-31'\n",
    "    timestamp = datetime.now().strftime(\"%Y%m%d_%H%M%S\")\n",
    "    output_file = f'esg_financial_analysis_{target_date.replace(\"-\", \"\")}_{timestamp}.csv'\n",
    "    \n",
    "    # reading tickers\n",
    "    print(f\"\\nReading input file: {input_file}\")\n",
    "    tickers = read_tickers_from_file(input_file)\n",
    "    \n",
    "    if not tickers:\n",
    "        print(\"No valid ticker symbols found. Please check the input file.\")\n",
    "        return\n",
    "    \n",
    "    print(f\"Successfully read {len(tickers)} tickers.\")\n",
    "    print(\"-\" * 90)\n",
    "    \n",
    "    # store all results\n",
    "    all_data = []\n",
    "    \n",
    "    # iterate through each ticker\n",
    "    for i, ticker in enumerate(tickers, 1):\n",
    "        print(f\"\\n[{i}/{len(tickers)}] Processing {ticker}...\")\n",
    "        \n",
    "        # get comprehensive data\n",
    "        result = get_comprehensive_data(ticker, target_date)\n",
    "        all_data.append(result)\n",
    "        \n",
    "        # show brief result\n",
    "        if result['Status'] == 'Success':\n",
    "            print(f\"  ✓ {result['Company_Name']}\")\n",
    "            print(f\"    Total ESG Score: {result['Total_ESG_Score']} (E:{result['Environmental_Score']}, S:{result['Social_Score']}, G:{result['Governance_Score']})\")\n",
    "            print(f\"    Stock Price: {result['Stock_Price']} {result['Currency']}\")\n",
    "            print(f\"    Market Cap: {result['Market_Cap']:,.0f}\" if result['Market_Cap'] else \"    Market Cap: N/A\")\n",
    "            print(f\"    ROE: {result['ROE_Pct']}% | Beta: {result['Beta']}\")\n",
    "        else:\n",
    "            print(f\"  ✗ {result['Status']}\")\n",
    "        \n",
    "        # delay to avoid too many requests at once\n",
    "        if i < len(tickers):\n",
    "            time.sleep(1.5)\n",
    "    \n",
    "    # convert into DataFrame\n",
    "    df = pd.DataFrame(all_data)\n",
    "    \n",
    "    # save as CSV\n",
    "    print(\"\\n\" + \"=\" * 90)\n",
    "    print(f\"Saving data to: {output_file}\")\n",
    "    df.to_csv(output_file, index=False, encoding='utf-8-sig')\n",
    "    \n",
    "    # statistics\n",
    "    print(\"-\" * 90)\n",
    "    print(\"Data collection completed!\")\n",
    "    print(f\"Total companies: {len(tickers)}\")\n",
    "    print(f\"Successful: {len(df[df['Status'] == 'Success'])}\")\n",
    "    print(f\"Failed: {len(df[df['Status'] != 'Success'])}\")\n",
    "    \n",
    "    # data quality checks\n",
    "    print(\"\\nData completeness check:\")\n",
    "    esg_complete = len(df[df['Total_ESG_Score'].notna()])\n",
    "    price_complete = len(df[df['Stock_Price'].notna()])\n",
    "    roe_complete = len(df[df['ROE_Pct'].notna()])\n",
    "    beta_complete = len(df[df['Beta'].notna()])\n",
    "    \n",
    "    print(f\"  ESG data complete: {esg_complete}/{len(df)} ({esg_complete/len(df)*100:.1f}%)\")\n",
    "    print(f\"  Stock price data complete: {price_complete}/{len(df)} ({price_complete/len(df)*100:.1f}%)\")\n",
    "    print(f\"  ROE data complete: {roe_complete}/{len(df)} ({roe_complete/len(df)*100:.1f}%)\")\n",
    "    print(f\"  Beta data complete: {beta_complete}/{len(df)} ({beta_complete/len(df)*100:.1f}%)\")\n",
    "    \n",
    "    print(f\"\\n✓ Data saved to: {output_file}\")\n",
    "    print(\"=\" * 90)\n",
    "    \n",
    "    # preview data\n",
    "    print(\"\\nData preview (first 5 rows):\")\n",
    "    preview_cols = ['Ticker', 'Company_Name', 'Total_ESG_Score', 'Stock_Price', \n",
    "                    'Market_Cap', 'ROE_Pct', 'Beta', 'Status']\n",
    "    print(df[preview_cols].head().to_string(index=False))\n",
    "\n",
    "if __name__ == \"__main__\":\n",
    "    main()\n",
    "```"
   ]
  },
  {
   "cell_type": "markdown",
   "id": "c0e87753",
   "metadata": {},
   "source": [
    "The complete implementation can be found in the Data folder as data_acquisition.py, and the downloaded datasets are stored in the Data folder as esg_financial_analysis_spi.csv and esg_financial_analysis_sp500.csv."
   ]
  },
  {
   "cell_type": "markdown",
   "id": "67f4398c",
   "metadata": {},
   "source": [
    "# 3. Data Cleansing"
   ]
  },
  {
   "cell_type": "markdown",
   "id": "91149ac8",
   "metadata": {},
   "source": [
    "Following the data acquisition process, the raw datasets were imported for cleansing and preprocessing. This step involved loading the data and necessary packages, checking for missing or inconsistent values, identifying outliers, and ensuring all financial metrics and ESG scores were correctly formatted for further analysis."
   ]
  },
  {
   "cell_type": "markdown",
   "id": "4574f9d607ff8989",
   "metadata": {},
   "source": [
    "## 3.1  Import packages"
   ]
  },
  {
   "cell_type": "code",
   "execution_count": 83,
   "id": "aa7937d8",
   "metadata": {
    "ExecuteTime": {
     "end_time": "2025-10-19T18:23:56.379344Z",
     "start_time": "2025-10-19T18:23:56.129180Z"
    }
   },
   "outputs": [],
   "source": [
    "import pandas as pd\n",
    "import numpy as np\n",
    "import matplotlib.pyplot as plt\n",
    "import seaborn as sns\n",
    "from datetime import datetime\n",
    "import statsmodels.formula.api as smf\n",
    "import statsmodels.api as sm\n",
    "from pathlib import Path"
   ]
  },
  {
   "cell_type": "markdown",
   "id": "5f3de72d",
   "metadata": {},
   "source": [
    "## 3.2  Load Data"
   ]
  },
  {
   "cell_type": "markdown",
   "id": "b9d70114acced18d",
   "metadata": {},
   "source": [
    "Firstly, we load the two datasets to begin the data cleansing process. "
   ]
  },
  {
   "cell_type": "code",
   "execution_count": 84,
   "id": "00d52fb9",
   "metadata": {
    "ExecuteTime": {
     "end_time": "2025-10-19T18:23:56.437637Z",
     "start_time": "2025-10-19T18:23:56.425644Z"
    }
   },
   "outputs": [],
   "source": [
    "spi = pd.read_csv(Path(\"Data/esg_financial_analysis_spi.csv\"))\n",
    "sp500 = pd.read_csv(Path(\"Data/esg_financial_analysis_sp500.csv\"))"
   ]
  },
  {
   "cell_type": "markdown",
   "id": "509f9357341e637d",
   "metadata": {},
   "source": [
    "Then we check the structure of the SPI dataset. It contains 201 observations with 34 variables.\n",
    "On the first glance, we see that we don't have all variables of all observations. We therefore need to look into that closer.\n",
    "(i.e. 142 Total ESG Scores out of 201 observations)"
   ]
  },
  {
   "cell_type": "code",
   "execution_count": 85,
   "id": "e7654ab4",
   "metadata": {
    "ExecuteTime": {
     "end_time": "2025-10-19T18:23:56.498669Z",
     "start_time": "2025-10-19T18:23:56.456296Z"
    }
   },
   "outputs": [
    {
     "name": "stdout",
     "output_type": "stream",
     "text": [
      "(201, 34)\n"
     ]
    },
    {
     "data": {
      "application/vnd.microsoft.datawrangler.viewer.v0+json": {
       "columns": [
        {
         "name": "index",
         "rawType": "object",
         "type": "string"
        },
        {
         "name": "Total_ESG_Score",
         "rawType": "float64",
         "type": "float"
        },
        {
         "name": "Environmental_Score",
         "rawType": "float64",
         "type": "float"
        },
        {
         "name": "Social_Score",
         "rawType": "float64",
         "type": "float"
        },
        {
         "name": "Governance_Score",
         "rawType": "float64",
         "type": "float"
        },
        {
         "name": "Highest_Controversy",
         "rawType": "float64",
         "type": "float"
        },
        {
         "name": "Stock_Price",
         "rawType": "float64",
         "type": "float"
        },
        {
         "name": "Current_Price",
         "rawType": "float64",
         "type": "float"
        },
        {
         "name": "Market_Cap",
         "rawType": "float64",
         "type": "float"
        },
        {
         "name": "PE_Ratio",
         "rawType": "float64",
         "type": "float"
        },
        {
         "name": "PB_Ratio",
         "rawType": "float64",
         "type": "float"
        },
        {
         "name": "Annual_Return_Pct",
         "rawType": "float64",
         "type": "float"
        },
        {
         "name": "Revenue",
         "rawType": "float64",
         "type": "float"
        },
        {
         "name": "Net_Income",
         "rawType": "float64",
         "type": "float"
        },
        {
         "name": "Operating_Margin_Pct",
         "rawType": "float64",
         "type": "float"
        },
        {
         "name": "Gross_Margin_Pct",
         "rawType": "float64",
         "type": "float"
        },
        {
         "name": "ROE_Pct",
         "rawType": "float64",
         "type": "float"
        },
        {
         "name": "ROA_Pct",
         "rawType": "float64",
         "type": "float"
        },
        {
         "name": "Profit_Margin_Pct",
         "rawType": "float64",
         "type": "float"
        },
        {
         "name": "EBITDA_Margin_Pct",
         "rawType": "float64",
         "type": "float"
        },
        {
         "name": "EPS",
         "rawType": "float64",
         "type": "float"
        },
        {
         "name": "Beta",
         "rawType": "float64",
         "type": "float"
        },
        {
         "name": "Debt_to_Equity",
         "rawType": "float64",
         "type": "float"
        },
        {
         "name": "Current_Ratio",
         "rawType": "float64",
         "type": "float"
        },
        {
         "name": "Operating_Cash_Flow",
         "rawType": "float64",
         "type": "float"
        },
        {
         "name": "Revenue_Growth_Pct",
         "rawType": "float64",
         "type": "float"
        }
       ],
       "ref": "3685dd89-861e-450c-99e8-bb0d9805e41e",
       "rows": [
        [
         "count",
         "142.0",
         "71.0",
         "71.0",
         "71.0",
         "141.0",
         "196.0",
         "199.0",
         "199.0",
         "150.0",
         "198.0",
         "196.0",
         "192.0",
         "193.0",
         "194.0",
         "194.0",
         "186.0",
         "190.0",
         "194.0",
         "162.0",
         "194.0",
         "189.0",
         "158.0",
         "170.0",
         "177.0",
         "196.0"
        ],
        [
         "mean",
         "22.16612676056338",
         "5.776478873239436",
         "8.240422535211266",
         "5.491690140845071",
         "0.574468085106383",
         "834.9929591836734",
         "1017.6423783919599",
         "9678244670.517588",
         "29.586800000000004",
         "3.5817171717171714",
         "-7.605816326530611",
         "4480428463.380208",
         "513542913.4300518",
         "-73.08319587628866",
         "40.68262886597938",
         "4.34747311827957",
         "2.742157894736842",
         "41.73639175257731",
         "-56.286296296296314",
         "475.2157216494844",
         "0.6642380952380952",
         "114.21329113924051",
         "7.071058823529412",
         "824054701.4689265",
         "19.17765306122449"
        ],
        [
         "std",
         "7.79557019587748",
         "4.963637807262949",
         "3.330291465845731",
         "2.1947450134455857",
         "0.8802113589781514",
         "6992.709729045575",
         "9313.699000570177",
         "29408637905.033463",
         "40.78203227077126",
         "13.400904472877032",
         "211.14633981501765",
         "11784855240.235966",
         "1704428776.0163455",
         "690.918319443091",
         "38.25314807454206",
         "44.54210950916335",
         "7.851903626315591",
         "290.0661710845277",
         "696.720687824108",
         "6191.89243531613",
         "0.4695621108946525",
         "301.0597942966906",
         "58.167139028643874",
         "2949555662.576521",
         "220.5484773842588"
        ],
        [
         "min",
         "8.56",
         "0.0",
         "0.64",
         "1.07",
         "0.0",
         "0.05",
         "0.021",
         "104650.0",
         "0.04",
         "-51.52",
         "-2805.56",
         "-80803000.0",
         "-544475008.0",
         "-8843.47",
         "-294.77",
         "-288.14",
         "-27.2",
         "-133.72",
         "-8713.51",
         "-28.81",
         "-0.464",
         "0.28",
         "0.02",
         "-4749700096.0",
         "-100.0"
        ],
        [
         "25%",
         "15.647499999999999",
         "1.735",
         "5.755",
         "4.234999999999999",
         "0.0",
         "25.1525",
         "23.275",
         "308713296.0",
         "13.9375",
         "0.865",
         "-19.3675",
         "234146748.0",
         "4526000.0",
         "3.1399999999999997",
         "21.97",
         "2.0125",
         "0.6325000000000001",
         "1.0625",
         "5.5575",
         "0.2575",
         "0.299",
         "21.365",
         "1.0225",
         "17641000.0",
         "-4.5375"
        ],
        [
         "50%",
         "22.32",
         "3.92",
         "8.79",
         "5.01",
         "0.0",
         "77.185",
         "80.2",
         "1277349760.0",
         "19.424999999999997",
         "1.6749999999999998",
         "2.0",
         "668819008.0",
         "72658000.0",
         "11.32",
         "44.3",
         "8.285",
         "2.225",
         "8.055",
         "12.76",
         "4.02",
         "0.664",
         "56.305",
         "1.505",
         "80634000.0",
         "1.18"
        ],
        [
         "75%",
         "27.62",
         "9.985",
         "10.495000000000001",
         "6.795",
         "1.0",
         "220.2575",
         "223.5",
         "4349875712.0",
         "30.9325",
         "3.7475",
         "17.692500000000003",
         "3167900032.0",
         "236000000.0",
         "25.245",
         "63.637499999999996",
         "15.940000000000001",
         "6.605",
         "21.0275",
         "23.6875",
         "9.7025",
         "0.964",
         "109.325",
         "2.3875",
         "417048992.0",
         "7.0775"
        ],
        [
         "max",
         "49.05",
         "17.02",
         "16.75",
         "10.96",
         "4.0",
         "97134.13",
         "130600.0",
         "225000000000.0",
         "443.33",
         "172.41",
         "641.7",
         "90898997248.0",
         "13653999616.0",
         "100.46",
         "100.0",
         "163.7",
         "50.97",
         "3663.79",
         "116.37",
         "86227.18",
         "2.164",
         "3322.76",
         "758.29",
         "20788000768.0",
         "3028.01"
        ]
       ],
       "shape": {
        "columns": 25,
        "rows": 8
       }
      },
      "text/html": [
       "<div>\n",
       "<style scoped>\n",
       "    .dataframe tbody tr th:only-of-type {\n",
       "        vertical-align: middle;\n",
       "    }\n",
       "\n",
       "    .dataframe tbody tr th {\n",
       "        vertical-align: top;\n",
       "    }\n",
       "\n",
       "    .dataframe thead th {\n",
       "        text-align: right;\n",
       "    }\n",
       "</style>\n",
       "<table border=\"1\" class=\"dataframe\">\n",
       "  <thead>\n",
       "    <tr style=\"text-align: right;\">\n",
       "      <th></th>\n",
       "      <th>Total_ESG_Score</th>\n",
       "      <th>Environmental_Score</th>\n",
       "      <th>Social_Score</th>\n",
       "      <th>Governance_Score</th>\n",
       "      <th>Highest_Controversy</th>\n",
       "      <th>Stock_Price</th>\n",
       "      <th>Current_Price</th>\n",
       "      <th>Market_Cap</th>\n",
       "      <th>PE_Ratio</th>\n",
       "      <th>PB_Ratio</th>\n",
       "      <th>...</th>\n",
       "      <th>ROE_Pct</th>\n",
       "      <th>ROA_Pct</th>\n",
       "      <th>Profit_Margin_Pct</th>\n",
       "      <th>EBITDA_Margin_Pct</th>\n",
       "      <th>EPS</th>\n",
       "      <th>Beta</th>\n",
       "      <th>Debt_to_Equity</th>\n",
       "      <th>Current_Ratio</th>\n",
       "      <th>Operating_Cash_Flow</th>\n",
       "      <th>Revenue_Growth_Pct</th>\n",
       "    </tr>\n",
       "  </thead>\n",
       "  <tbody>\n",
       "    <tr>\n",
       "      <th>count</th>\n",
       "      <td>142.000000</td>\n",
       "      <td>71.000000</td>\n",
       "      <td>71.000000</td>\n",
       "      <td>71.000000</td>\n",
       "      <td>141.000000</td>\n",
       "      <td>196.000000</td>\n",
       "      <td>199.000000</td>\n",
       "      <td>1.990000e+02</td>\n",
       "      <td>150.000000</td>\n",
       "      <td>198.000000</td>\n",
       "      <td>...</td>\n",
       "      <td>186.000000</td>\n",
       "      <td>190.000000</td>\n",
       "      <td>194.000000</td>\n",
       "      <td>162.000000</td>\n",
       "      <td>194.000000</td>\n",
       "      <td>189.000000</td>\n",
       "      <td>158.000000</td>\n",
       "      <td>170.000000</td>\n",
       "      <td>1.770000e+02</td>\n",
       "      <td>196.000000</td>\n",
       "    </tr>\n",
       "    <tr>\n",
       "      <th>mean</th>\n",
       "      <td>22.166127</td>\n",
       "      <td>5.776479</td>\n",
       "      <td>8.240423</td>\n",
       "      <td>5.491690</td>\n",
       "      <td>0.574468</td>\n",
       "      <td>834.992959</td>\n",
       "      <td>1017.642378</td>\n",
       "      <td>9.678245e+09</td>\n",
       "      <td>29.586800</td>\n",
       "      <td>3.581717</td>\n",
       "      <td>...</td>\n",
       "      <td>4.347473</td>\n",
       "      <td>2.742158</td>\n",
       "      <td>41.736392</td>\n",
       "      <td>-56.286296</td>\n",
       "      <td>475.215722</td>\n",
       "      <td>0.664238</td>\n",
       "      <td>114.213291</td>\n",
       "      <td>7.071059</td>\n",
       "      <td>8.240547e+08</td>\n",
       "      <td>19.177653</td>\n",
       "    </tr>\n",
       "    <tr>\n",
       "      <th>std</th>\n",
       "      <td>7.795570</td>\n",
       "      <td>4.963638</td>\n",
       "      <td>3.330291</td>\n",
       "      <td>2.194745</td>\n",
       "      <td>0.880211</td>\n",
       "      <td>6992.709729</td>\n",
       "      <td>9313.699001</td>\n",
       "      <td>2.940864e+10</td>\n",
       "      <td>40.782032</td>\n",
       "      <td>13.400904</td>\n",
       "      <td>...</td>\n",
       "      <td>44.542110</td>\n",
       "      <td>7.851904</td>\n",
       "      <td>290.066171</td>\n",
       "      <td>696.720688</td>\n",
       "      <td>6191.892435</td>\n",
       "      <td>0.469562</td>\n",
       "      <td>301.059794</td>\n",
       "      <td>58.167139</td>\n",
       "      <td>2.949556e+09</td>\n",
       "      <td>220.548477</td>\n",
       "    </tr>\n",
       "    <tr>\n",
       "      <th>min</th>\n",
       "      <td>8.560000</td>\n",
       "      <td>0.000000</td>\n",
       "      <td>0.640000</td>\n",
       "      <td>1.070000</td>\n",
       "      <td>0.000000</td>\n",
       "      <td>0.050000</td>\n",
       "      <td>0.021000</td>\n",
       "      <td>1.046500e+05</td>\n",
       "      <td>0.040000</td>\n",
       "      <td>-51.520000</td>\n",
       "      <td>...</td>\n",
       "      <td>-288.140000</td>\n",
       "      <td>-27.200000</td>\n",
       "      <td>-133.720000</td>\n",
       "      <td>-8713.510000</td>\n",
       "      <td>-28.810000</td>\n",
       "      <td>-0.464000</td>\n",
       "      <td>0.280000</td>\n",
       "      <td>0.020000</td>\n",
       "      <td>-4.749700e+09</td>\n",
       "      <td>-100.000000</td>\n",
       "    </tr>\n",
       "    <tr>\n",
       "      <th>25%</th>\n",
       "      <td>15.647500</td>\n",
       "      <td>1.735000</td>\n",
       "      <td>5.755000</td>\n",
       "      <td>4.235000</td>\n",
       "      <td>0.000000</td>\n",
       "      <td>25.152500</td>\n",
       "      <td>23.275000</td>\n",
       "      <td>3.087133e+08</td>\n",
       "      <td>13.937500</td>\n",
       "      <td>0.865000</td>\n",
       "      <td>...</td>\n",
       "      <td>2.012500</td>\n",
       "      <td>0.632500</td>\n",
       "      <td>1.062500</td>\n",
       "      <td>5.557500</td>\n",
       "      <td>0.257500</td>\n",
       "      <td>0.299000</td>\n",
       "      <td>21.365000</td>\n",
       "      <td>1.022500</td>\n",
       "      <td>1.764100e+07</td>\n",
       "      <td>-4.537500</td>\n",
       "    </tr>\n",
       "    <tr>\n",
       "      <th>50%</th>\n",
       "      <td>22.320000</td>\n",
       "      <td>3.920000</td>\n",
       "      <td>8.790000</td>\n",
       "      <td>5.010000</td>\n",
       "      <td>0.000000</td>\n",
       "      <td>77.185000</td>\n",
       "      <td>80.200000</td>\n",
       "      <td>1.277350e+09</td>\n",
       "      <td>19.425000</td>\n",
       "      <td>1.675000</td>\n",
       "      <td>...</td>\n",
       "      <td>8.285000</td>\n",
       "      <td>2.225000</td>\n",
       "      <td>8.055000</td>\n",
       "      <td>12.760000</td>\n",
       "      <td>4.020000</td>\n",
       "      <td>0.664000</td>\n",
       "      <td>56.305000</td>\n",
       "      <td>1.505000</td>\n",
       "      <td>8.063400e+07</td>\n",
       "      <td>1.180000</td>\n",
       "    </tr>\n",
       "    <tr>\n",
       "      <th>75%</th>\n",
       "      <td>27.620000</td>\n",
       "      <td>9.985000</td>\n",
       "      <td>10.495000</td>\n",
       "      <td>6.795000</td>\n",
       "      <td>1.000000</td>\n",
       "      <td>220.257500</td>\n",
       "      <td>223.500000</td>\n",
       "      <td>4.349876e+09</td>\n",
       "      <td>30.932500</td>\n",
       "      <td>3.747500</td>\n",
       "      <td>...</td>\n",
       "      <td>15.940000</td>\n",
       "      <td>6.605000</td>\n",
       "      <td>21.027500</td>\n",
       "      <td>23.687500</td>\n",
       "      <td>9.702500</td>\n",
       "      <td>0.964000</td>\n",
       "      <td>109.325000</td>\n",
       "      <td>2.387500</td>\n",
       "      <td>4.170490e+08</td>\n",
       "      <td>7.077500</td>\n",
       "    </tr>\n",
       "    <tr>\n",
       "      <th>max</th>\n",
       "      <td>49.050000</td>\n",
       "      <td>17.020000</td>\n",
       "      <td>16.750000</td>\n",
       "      <td>10.960000</td>\n",
       "      <td>4.000000</td>\n",
       "      <td>97134.130000</td>\n",
       "      <td>130600.000000</td>\n",
       "      <td>2.250000e+11</td>\n",
       "      <td>443.330000</td>\n",
       "      <td>172.410000</td>\n",
       "      <td>...</td>\n",
       "      <td>163.700000</td>\n",
       "      <td>50.970000</td>\n",
       "      <td>3663.790000</td>\n",
       "      <td>116.370000</td>\n",
       "      <td>86227.180000</td>\n",
       "      <td>2.164000</td>\n",
       "      <td>3322.760000</td>\n",
       "      <td>758.290000</td>\n",
       "      <td>2.078800e+10</td>\n",
       "      <td>3028.010000</td>\n",
       "    </tr>\n",
       "  </tbody>\n",
       "</table>\n",
       "<p>8 rows × 25 columns</p>\n",
       "</div>"
      ],
      "text/plain": [
       "       Total_ESG_Score  Environmental_Score  Social_Score  Governance_Score  \\\n",
       "count       142.000000            71.000000     71.000000         71.000000   \n",
       "mean         22.166127             5.776479      8.240423          5.491690   \n",
       "std           7.795570             4.963638      3.330291          2.194745   \n",
       "min           8.560000             0.000000      0.640000          1.070000   \n",
       "25%          15.647500             1.735000      5.755000          4.235000   \n",
       "50%          22.320000             3.920000      8.790000          5.010000   \n",
       "75%          27.620000             9.985000     10.495000          6.795000   \n",
       "max          49.050000            17.020000     16.750000         10.960000   \n",
       "\n",
       "       Highest_Controversy   Stock_Price  Current_Price    Market_Cap  \\\n",
       "count           141.000000    196.000000     199.000000  1.990000e+02   \n",
       "mean              0.574468    834.992959    1017.642378  9.678245e+09   \n",
       "std               0.880211   6992.709729    9313.699001  2.940864e+10   \n",
       "min               0.000000      0.050000       0.021000  1.046500e+05   \n",
       "25%               0.000000     25.152500      23.275000  3.087133e+08   \n",
       "50%               0.000000     77.185000      80.200000  1.277350e+09   \n",
       "75%               1.000000    220.257500     223.500000  4.349876e+09   \n",
       "max               4.000000  97134.130000  130600.000000  2.250000e+11   \n",
       "\n",
       "         PE_Ratio    PB_Ratio  ...     ROE_Pct     ROA_Pct  Profit_Margin_Pct  \\\n",
       "count  150.000000  198.000000  ...  186.000000  190.000000         194.000000   \n",
       "mean    29.586800    3.581717  ...    4.347473    2.742158          41.736392   \n",
       "std     40.782032   13.400904  ...   44.542110    7.851904         290.066171   \n",
       "min      0.040000  -51.520000  ... -288.140000  -27.200000        -133.720000   \n",
       "25%     13.937500    0.865000  ...    2.012500    0.632500           1.062500   \n",
       "50%     19.425000    1.675000  ...    8.285000    2.225000           8.055000   \n",
       "75%     30.932500    3.747500  ...   15.940000    6.605000          21.027500   \n",
       "max    443.330000  172.410000  ...  163.700000   50.970000        3663.790000   \n",
       "\n",
       "       EBITDA_Margin_Pct           EPS        Beta  Debt_to_Equity  \\\n",
       "count         162.000000    194.000000  189.000000      158.000000   \n",
       "mean          -56.286296    475.215722    0.664238      114.213291   \n",
       "std           696.720688   6191.892435    0.469562      301.059794   \n",
       "min         -8713.510000    -28.810000   -0.464000        0.280000   \n",
       "25%             5.557500      0.257500    0.299000       21.365000   \n",
       "50%            12.760000      4.020000    0.664000       56.305000   \n",
       "75%            23.687500      9.702500    0.964000      109.325000   \n",
       "max           116.370000  86227.180000    2.164000     3322.760000   \n",
       "\n",
       "       Current_Ratio  Operating_Cash_Flow  Revenue_Growth_Pct  \n",
       "count     170.000000         1.770000e+02          196.000000  \n",
       "mean        7.071059         8.240547e+08           19.177653  \n",
       "std        58.167139         2.949556e+09          220.548477  \n",
       "min         0.020000        -4.749700e+09         -100.000000  \n",
       "25%         1.022500         1.764100e+07           -4.537500  \n",
       "50%         1.505000         8.063400e+07            1.180000  \n",
       "75%         2.387500         4.170490e+08            7.077500  \n",
       "max       758.290000         2.078800e+10         3028.010000  \n",
       "\n",
       "[8 rows x 25 columns]"
      ]
     },
     "execution_count": 85,
     "metadata": {},
     "output_type": "execute_result"
    }
   ],
   "source": [
    "# SPI dataset overview\n",
    "print(spi.shape)\n",
    "spi.describe()"
   ]
  },
  {
   "cell_type": "markdown",
   "id": "e2c1485e4a31d48d",
   "metadata": {},
   "source": [
    "We do the same for the S&P 500 dataset. It contains 503 observations with 34 variables.\n",
    "Here we see as well that we have some NAs for certain variables."
   ]
  },
  {
   "cell_type": "code",
   "execution_count": 86,
   "id": "89a4bf4f",
   "metadata": {
    "ExecuteTime": {
     "end_time": "2025-10-19T18:23:56.677694Z",
     "start_time": "2025-10-19T18:23:56.639284Z"
    }
   },
   "outputs": [
    {
     "name": "stdout",
     "output_type": "stream",
     "text": [
      "(503, 34)\n"
     ]
    },
    {
     "data": {
      "application/vnd.microsoft.datawrangler.viewer.v0+json": {
       "columns": [
        {
         "name": "index",
         "rawType": "object",
         "type": "string"
        },
        {
         "name": "Total_ESG_Score",
         "rawType": "float64",
         "type": "float"
        },
        {
         "name": "Environmental_Score",
         "rawType": "float64",
         "type": "float"
        },
        {
         "name": "Social_Score",
         "rawType": "float64",
         "type": "float"
        },
        {
         "name": "Governance_Score",
         "rawType": "float64",
         "type": "float"
        },
        {
         "name": "Highest_Controversy",
         "rawType": "float64",
         "type": "float"
        },
        {
         "name": "Stock_Price",
         "rawType": "float64",
         "type": "float"
        },
        {
         "name": "Current_Price",
         "rawType": "float64",
         "type": "float"
        },
        {
         "name": "Market_Cap",
         "rawType": "float64",
         "type": "float"
        },
        {
         "name": "PE_Ratio",
         "rawType": "float64",
         "type": "float"
        },
        {
         "name": "PB_Ratio",
         "rawType": "float64",
         "type": "float"
        },
        {
         "name": "Annual_Return_Pct",
         "rawType": "float64",
         "type": "float"
        },
        {
         "name": "Revenue",
         "rawType": "float64",
         "type": "float"
        },
        {
         "name": "Net_Income",
         "rawType": "float64",
         "type": "float"
        },
        {
         "name": "Operating_Margin_Pct",
         "rawType": "float64",
         "type": "float"
        },
        {
         "name": "Gross_Margin_Pct",
         "rawType": "float64",
         "type": "float"
        },
        {
         "name": "ROE_Pct",
         "rawType": "float64",
         "type": "float"
        },
        {
         "name": "ROA_Pct",
         "rawType": "float64",
         "type": "float"
        },
        {
         "name": "Profit_Margin_Pct",
         "rawType": "float64",
         "type": "float"
        },
        {
         "name": "EBITDA_Margin_Pct",
         "rawType": "float64",
         "type": "float"
        },
        {
         "name": "EPS",
         "rawType": "float64",
         "type": "float"
        },
        {
         "name": "Beta",
         "rawType": "float64",
         "type": "float"
        },
        {
         "name": "Debt_to_Equity",
         "rawType": "float64",
         "type": "float"
        },
        {
         "name": "Current_Ratio",
         "rawType": "float64",
         "type": "float"
        },
        {
         "name": "Operating_Cash_Flow",
         "rawType": "float64",
         "type": "float"
        },
        {
         "name": "Revenue_Growth_Pct",
         "rawType": "float64",
         "type": "float"
        }
       ],
       "ref": "c9c3a54f-71c8-4b6b-8118-323b57d800bc",
       "rows": [
        [
         "count",
         "300.0",
         "299.0",
         "299.0",
         "299.0",
         "300.0",
         "303.0",
         "303.0",
         "303.0",
         "288.0",
         "303.0",
         "303.0",
         "303.0",
         "303.0",
         "303.0",
         "303.0",
         "283.0",
         "299.0",
         "303.0",
         "282.0",
         "303.0",
         "300.0",
         "264.0",
         "283.0",
         "289.0",
         "302.0"
        ],
        [
         "mean",
         "20.164533333333335",
         "6.871003344481605",
         "8.532173913043477",
         "4.794581939799331",
         "1.93",
         "189.87544554455445",
         "202.04471947194722",
         "152183190195.1155",
         "38.558888888888895",
         "-3.1380198019802",
         "6.428448844884489",
         "41594400376.60726",
         "5214917568.792079",
         "21.075082508250826",
         "43.313696369636965",
         "27.100918727915193",
         "6.966120401337792",
         "14.526072607260724",
         "28.319432624113475",
         "7.003432343234324",
         "0.9818666666666667",
         "137.59636363636363",
         "1.7512720848056538",
         "6891888384.553634",
         "5.838278145695364"
        ],
        [
         "std",
         "6.7179197873886665",
         "5.474978072646677",
         "3.3921352419757826",
         "2.299318415745886",
         "0.7529873614843638",
         "339.8400247424317",
         "343.964816416285",
         "480883056576.34796",
         "74.02772390648701",
         "127.43964252718446",
         "38.47393667426157",
         "79686717655.34396",
         "14587102083.61425",
         "35.3080119780789",
         "23.587255346233704",
         "51.7411073718059",
         "5.9570173777777535",
         "13.684727096897658",
         "16.779210776067103",
         "10.369405142747926",
         "0.4289929900444136",
         "202.0534651405903",
         "3.759739004658987",
         "16676966732.348753",
         "14.167927786245418"
        ],
        [
         "min",
         "7.12",
         "0.04",
         "0.89",
         "1.43",
         "0.0",
         "9.17",
         "8.14",
         "6908318208.0",
         "4.85",
         "-2181.44",
         "-58.76",
         "742873024.0",
         "-20504000512.0",
         "-532.77",
         "-0.15",
         "-183.28",
         "-3.73",
         "-71.71",
         "-9.3",
         "-16.55",
         "0.023",
         "0.05",
         "0.04",
         "-10766999552.0",
         "-45.71"
        ],
        [
         "25%",
         "15.1025",
         "2.255",
         "6.225",
         "3.38",
         "2.0",
         "57.129999999999995",
         "62.1",
         "20356701184.0",
         "17.295",
         "1.6",
         "-14.59",
         "7692000000.0",
         "824050016.0",
         "13.059999999999999",
         "27.435000000000002",
         "9.105",
         "3.205",
         "7.494999999999999",
         "16.96",
         "2.245",
         "0.6695",
         "46.7925",
         "0.875",
         "1256918016.0",
         "-0.155"
        ],
        [
         "50%",
         "19.630000000000003",
         "5.69",
         "8.61",
         "4.36",
         "2.0",
         "109.29",
         "122.87",
         "39403999232.0",
         "24.215",
         "3.06",
         "-0.08",
         "15148456960.0",
         "1676999936.0",
         "20.19",
         "41.56",
         "15.2",
         "5.4",
         "13.63",
         "24.994999999999997",
         "4.86",
         "0.9984999999999999",
         "74.61500000000001",
         "1.22",
         "2616999936.0",
         "4.255"
        ],
        [
         "75%",
         "23.9325",
         "10.775",
         "10.625",
         "5.49",
         "2.0",
         "224.685",
         "238.60500000000002",
         "107500000000.0",
         "34.489999999999995",
         "6.865",
         "19.115000000000002",
         "34841606144.0",
         "3896999936.0",
         "29.77",
         "59.63",
         "29.045",
         "8.66",
         "20.55",
         "37.205",
         "9.27",
         "1.23025",
         "155.7",
         "1.775",
         "5610999808.0",
         "9.955"
        ],
        [
         "max",
         "41.26",
         "24.79",
         "17.76",
         "20.21",
         "5.0",
         "4845.74",
         "4952.31",
         "4430000000000.0",
         "755.64",
         "175.81",
         "317.08",
         "693000000000.0",
         "116000000000.0",
         "109.3",
         "100.0",
         "514.46",
         "53.09",
         "72.96",
         "92.61",
         "143.62",
         "2.686",
         "2149.33",
         "60.31",
         "136000000000.0",
         "114.2"
        ]
       ],
       "shape": {
        "columns": 25,
        "rows": 8
       }
      },
      "text/html": [
       "<div>\n",
       "<style scoped>\n",
       "    .dataframe tbody tr th:only-of-type {\n",
       "        vertical-align: middle;\n",
       "    }\n",
       "\n",
       "    .dataframe tbody tr th {\n",
       "        vertical-align: top;\n",
       "    }\n",
       "\n",
       "    .dataframe thead th {\n",
       "        text-align: right;\n",
       "    }\n",
       "</style>\n",
       "<table border=\"1\" class=\"dataframe\">\n",
       "  <thead>\n",
       "    <tr style=\"text-align: right;\">\n",
       "      <th></th>\n",
       "      <th>Total_ESG_Score</th>\n",
       "      <th>Environmental_Score</th>\n",
       "      <th>Social_Score</th>\n",
       "      <th>Governance_Score</th>\n",
       "      <th>Highest_Controversy</th>\n",
       "      <th>Stock_Price</th>\n",
       "      <th>Current_Price</th>\n",
       "      <th>Market_Cap</th>\n",
       "      <th>PE_Ratio</th>\n",
       "      <th>PB_Ratio</th>\n",
       "      <th>...</th>\n",
       "      <th>ROE_Pct</th>\n",
       "      <th>ROA_Pct</th>\n",
       "      <th>Profit_Margin_Pct</th>\n",
       "      <th>EBITDA_Margin_Pct</th>\n",
       "      <th>EPS</th>\n",
       "      <th>Beta</th>\n",
       "      <th>Debt_to_Equity</th>\n",
       "      <th>Current_Ratio</th>\n",
       "      <th>Operating_Cash_Flow</th>\n",
       "      <th>Revenue_Growth_Pct</th>\n",
       "    </tr>\n",
       "  </thead>\n",
       "  <tbody>\n",
       "    <tr>\n",
       "      <th>count</th>\n",
       "      <td>300.000000</td>\n",
       "      <td>299.000000</td>\n",
       "      <td>299.000000</td>\n",
       "      <td>299.000000</td>\n",
       "      <td>300.000000</td>\n",
       "      <td>303.000000</td>\n",
       "      <td>303.000000</td>\n",
       "      <td>3.030000e+02</td>\n",
       "      <td>288.000000</td>\n",
       "      <td>303.000000</td>\n",
       "      <td>...</td>\n",
       "      <td>283.000000</td>\n",
       "      <td>299.000000</td>\n",
       "      <td>303.000000</td>\n",
       "      <td>282.000000</td>\n",
       "      <td>303.000000</td>\n",
       "      <td>300.000000</td>\n",
       "      <td>264.000000</td>\n",
       "      <td>283.000000</td>\n",
       "      <td>2.890000e+02</td>\n",
       "      <td>302.000000</td>\n",
       "    </tr>\n",
       "    <tr>\n",
       "      <th>mean</th>\n",
       "      <td>20.164533</td>\n",
       "      <td>6.871003</td>\n",
       "      <td>8.532174</td>\n",
       "      <td>4.794582</td>\n",
       "      <td>1.930000</td>\n",
       "      <td>189.875446</td>\n",
       "      <td>202.044719</td>\n",
       "      <td>1.521832e+11</td>\n",
       "      <td>38.558889</td>\n",
       "      <td>-3.138020</td>\n",
       "      <td>...</td>\n",
       "      <td>27.100919</td>\n",
       "      <td>6.966120</td>\n",
       "      <td>14.526073</td>\n",
       "      <td>28.319433</td>\n",
       "      <td>7.003432</td>\n",
       "      <td>0.981867</td>\n",
       "      <td>137.596364</td>\n",
       "      <td>1.751272</td>\n",
       "      <td>6.891888e+09</td>\n",
       "      <td>5.838278</td>\n",
       "    </tr>\n",
       "    <tr>\n",
       "      <th>std</th>\n",
       "      <td>6.717920</td>\n",
       "      <td>5.474978</td>\n",
       "      <td>3.392135</td>\n",
       "      <td>2.299318</td>\n",
       "      <td>0.752987</td>\n",
       "      <td>339.840025</td>\n",
       "      <td>343.964816</td>\n",
       "      <td>4.808831e+11</td>\n",
       "      <td>74.027724</td>\n",
       "      <td>127.439643</td>\n",
       "      <td>...</td>\n",
       "      <td>51.741107</td>\n",
       "      <td>5.957017</td>\n",
       "      <td>13.684727</td>\n",
       "      <td>16.779211</td>\n",
       "      <td>10.369405</td>\n",
       "      <td>0.428993</td>\n",
       "      <td>202.053465</td>\n",
       "      <td>3.759739</td>\n",
       "      <td>1.667697e+10</td>\n",
       "      <td>14.167928</td>\n",
       "    </tr>\n",
       "    <tr>\n",
       "      <th>min</th>\n",
       "      <td>7.120000</td>\n",
       "      <td>0.040000</td>\n",
       "      <td>0.890000</td>\n",
       "      <td>1.430000</td>\n",
       "      <td>0.000000</td>\n",
       "      <td>9.170000</td>\n",
       "      <td>8.140000</td>\n",
       "      <td>6.908318e+09</td>\n",
       "      <td>4.850000</td>\n",
       "      <td>-2181.440000</td>\n",
       "      <td>...</td>\n",
       "      <td>-183.280000</td>\n",
       "      <td>-3.730000</td>\n",
       "      <td>-71.710000</td>\n",
       "      <td>-9.300000</td>\n",
       "      <td>-16.550000</td>\n",
       "      <td>0.023000</td>\n",
       "      <td>0.050000</td>\n",
       "      <td>0.040000</td>\n",
       "      <td>-1.076700e+10</td>\n",
       "      <td>-45.710000</td>\n",
       "    </tr>\n",
       "    <tr>\n",
       "      <th>25%</th>\n",
       "      <td>15.102500</td>\n",
       "      <td>2.255000</td>\n",
       "      <td>6.225000</td>\n",
       "      <td>3.380000</td>\n",
       "      <td>2.000000</td>\n",
       "      <td>57.130000</td>\n",
       "      <td>62.100000</td>\n",
       "      <td>2.035670e+10</td>\n",
       "      <td>17.295000</td>\n",
       "      <td>1.600000</td>\n",
       "      <td>...</td>\n",
       "      <td>9.105000</td>\n",
       "      <td>3.205000</td>\n",
       "      <td>7.495000</td>\n",
       "      <td>16.960000</td>\n",
       "      <td>2.245000</td>\n",
       "      <td>0.669500</td>\n",
       "      <td>46.792500</td>\n",
       "      <td>0.875000</td>\n",
       "      <td>1.256918e+09</td>\n",
       "      <td>-0.155000</td>\n",
       "    </tr>\n",
       "    <tr>\n",
       "      <th>50%</th>\n",
       "      <td>19.630000</td>\n",
       "      <td>5.690000</td>\n",
       "      <td>8.610000</td>\n",
       "      <td>4.360000</td>\n",
       "      <td>2.000000</td>\n",
       "      <td>109.290000</td>\n",
       "      <td>122.870000</td>\n",
       "      <td>3.940400e+10</td>\n",
       "      <td>24.215000</td>\n",
       "      <td>3.060000</td>\n",
       "      <td>...</td>\n",
       "      <td>15.200000</td>\n",
       "      <td>5.400000</td>\n",
       "      <td>13.630000</td>\n",
       "      <td>24.995000</td>\n",
       "      <td>4.860000</td>\n",
       "      <td>0.998500</td>\n",
       "      <td>74.615000</td>\n",
       "      <td>1.220000</td>\n",
       "      <td>2.617000e+09</td>\n",
       "      <td>4.255000</td>\n",
       "    </tr>\n",
       "    <tr>\n",
       "      <th>75%</th>\n",
       "      <td>23.932500</td>\n",
       "      <td>10.775000</td>\n",
       "      <td>10.625000</td>\n",
       "      <td>5.490000</td>\n",
       "      <td>2.000000</td>\n",
       "      <td>224.685000</td>\n",
       "      <td>238.605000</td>\n",
       "      <td>1.075000e+11</td>\n",
       "      <td>34.490000</td>\n",
       "      <td>6.865000</td>\n",
       "      <td>...</td>\n",
       "      <td>29.045000</td>\n",
       "      <td>8.660000</td>\n",
       "      <td>20.550000</td>\n",
       "      <td>37.205000</td>\n",
       "      <td>9.270000</td>\n",
       "      <td>1.230250</td>\n",
       "      <td>155.700000</td>\n",
       "      <td>1.775000</td>\n",
       "      <td>5.611000e+09</td>\n",
       "      <td>9.955000</td>\n",
       "    </tr>\n",
       "    <tr>\n",
       "      <th>max</th>\n",
       "      <td>41.260000</td>\n",
       "      <td>24.790000</td>\n",
       "      <td>17.760000</td>\n",
       "      <td>20.210000</td>\n",
       "      <td>5.000000</td>\n",
       "      <td>4845.740000</td>\n",
       "      <td>4952.310000</td>\n",
       "      <td>4.430000e+12</td>\n",
       "      <td>755.640000</td>\n",
       "      <td>175.810000</td>\n",
       "      <td>...</td>\n",
       "      <td>514.460000</td>\n",
       "      <td>53.090000</td>\n",
       "      <td>72.960000</td>\n",
       "      <td>92.610000</td>\n",
       "      <td>143.620000</td>\n",
       "      <td>2.686000</td>\n",
       "      <td>2149.330000</td>\n",
       "      <td>60.310000</td>\n",
       "      <td>1.360000e+11</td>\n",
       "      <td>114.200000</td>\n",
       "    </tr>\n",
       "  </tbody>\n",
       "</table>\n",
       "<p>8 rows × 25 columns</p>\n",
       "</div>"
      ],
      "text/plain": [
       "       Total_ESG_Score  Environmental_Score  Social_Score  Governance_Score  \\\n",
       "count       300.000000           299.000000    299.000000        299.000000   \n",
       "mean         20.164533             6.871003      8.532174          4.794582   \n",
       "std           6.717920             5.474978      3.392135          2.299318   \n",
       "min           7.120000             0.040000      0.890000          1.430000   \n",
       "25%          15.102500             2.255000      6.225000          3.380000   \n",
       "50%          19.630000             5.690000      8.610000          4.360000   \n",
       "75%          23.932500            10.775000     10.625000          5.490000   \n",
       "max          41.260000            24.790000     17.760000         20.210000   \n",
       "\n",
       "       Highest_Controversy  Stock_Price  Current_Price    Market_Cap  \\\n",
       "count           300.000000   303.000000     303.000000  3.030000e+02   \n",
       "mean              1.930000   189.875446     202.044719  1.521832e+11   \n",
       "std               0.752987   339.840025     343.964816  4.808831e+11   \n",
       "min               0.000000     9.170000       8.140000  6.908318e+09   \n",
       "25%               2.000000    57.130000      62.100000  2.035670e+10   \n",
       "50%               2.000000   109.290000     122.870000  3.940400e+10   \n",
       "75%               2.000000   224.685000     238.605000  1.075000e+11   \n",
       "max               5.000000  4845.740000    4952.310000  4.430000e+12   \n",
       "\n",
       "         PE_Ratio     PB_Ratio  ...     ROE_Pct     ROA_Pct  \\\n",
       "count  288.000000   303.000000  ...  283.000000  299.000000   \n",
       "mean    38.558889    -3.138020  ...   27.100919    6.966120   \n",
       "std     74.027724   127.439643  ...   51.741107    5.957017   \n",
       "min      4.850000 -2181.440000  ... -183.280000   -3.730000   \n",
       "25%     17.295000     1.600000  ...    9.105000    3.205000   \n",
       "50%     24.215000     3.060000  ...   15.200000    5.400000   \n",
       "75%     34.490000     6.865000  ...   29.045000    8.660000   \n",
       "max    755.640000   175.810000  ...  514.460000   53.090000   \n",
       "\n",
       "       Profit_Margin_Pct  EBITDA_Margin_Pct         EPS        Beta  \\\n",
       "count         303.000000         282.000000  303.000000  300.000000   \n",
       "mean           14.526073          28.319433    7.003432    0.981867   \n",
       "std            13.684727          16.779211   10.369405    0.428993   \n",
       "min           -71.710000          -9.300000  -16.550000    0.023000   \n",
       "25%             7.495000          16.960000    2.245000    0.669500   \n",
       "50%            13.630000          24.995000    4.860000    0.998500   \n",
       "75%            20.550000          37.205000    9.270000    1.230250   \n",
       "max            72.960000          92.610000  143.620000    2.686000   \n",
       "\n",
       "       Debt_to_Equity  Current_Ratio  Operating_Cash_Flow  Revenue_Growth_Pct  \n",
       "count      264.000000     283.000000         2.890000e+02          302.000000  \n",
       "mean       137.596364       1.751272         6.891888e+09            5.838278  \n",
       "std        202.053465       3.759739         1.667697e+10           14.167928  \n",
       "min          0.050000       0.040000        -1.076700e+10          -45.710000  \n",
       "25%         46.792500       0.875000         1.256918e+09           -0.155000  \n",
       "50%         74.615000       1.220000         2.617000e+09            4.255000  \n",
       "75%        155.700000       1.775000         5.611000e+09            9.955000  \n",
       "max       2149.330000      60.310000         1.360000e+11          114.200000  \n",
       "\n",
       "[8 rows x 25 columns]"
      ]
     },
     "execution_count": 86,
     "metadata": {},
     "output_type": "execute_result"
    }
   ],
   "source": [
    "# S&P 500 dataset overview\n",
    "print(sp500.shape)\n",
    "sp500.describe()"
   ]
  },
  {
   "cell_type": "markdown",
   "id": "8fb8830e",
   "metadata": {},
   "source": [
    "## 3.3 Check Missing Data"
   ]
  },
  {
   "cell_type": "markdown",
   "id": "28aada88be28e3cb",
   "metadata": {},
   "source": [
    "*Remark MT: cant we remove this first step because we handle it in more detail later?* </br>\n",
    "We now look into more detail of missing data: We look at the count and the percentage of the amount of data missing. </br>\n",
    "Especially for the ESG, we see some missing data which we need to look into closer."
   ]
  },
  {
   "cell_type": "code",
   "execution_count": 87,
   "id": "a6f35f9c",
   "metadata": {
    "ExecuteTime": {
     "end_time": "2025-10-19T18:23:56.949468Z",
     "start_time": "2025-10-19T18:23:56.945783Z"
    }
   },
   "outputs": [],
   "source": [
    "def missing_summary(df, name):\n",
    "    missing_count = df.isnull().sum()\n",
    "    missing_pct = (missing_count / len(df) * 100).round(2)\n",
    "    return pd.DataFrame({\n",
    "        \"Dataset\": name,\n",
    "        \"Missing Count\": missing_count,\n",
    "        \"Missing %\": missing_pct\n",
    "    })"
   ]
  },
  {
   "cell_type": "code",
   "execution_count": 88,
   "id": "cbc948d9",
   "metadata": {
    "ExecuteTime": {
     "end_time": "2025-10-19T18:23:57.038501Z",
     "start_time": "2025-10-19T18:23:57.028097Z"
    }
   },
   "outputs": [
    {
     "data": {
      "application/vnd.microsoft.datawrangler.viewer.v0+json": {
       "columns": [
        {
         "name": "index",
         "rawType": "object",
         "type": "string"
        },
        {
         "name": "Dataset",
         "rawType": "object",
         "type": "string"
        },
        {
         "name": "Missing Count",
         "rawType": "int64",
         "type": "integer"
        },
        {
         "name": "Missing %",
         "rawType": "float64",
         "type": "float"
        }
       ],
       "ref": "7b098a32-186a-48d8-ad60-bdc7fd97627d",
       "rows": [
        [
         "Ticker",
         "SPI",
         "0",
         "0.0"
        ],
        [
         "Company_Name",
         "SPI",
         "3",
         "1.49"
        ],
        [
         "Currency",
         "SPI",
         "2",
         "1.0"
        ],
        [
         "Data_Date",
         "SPI",
         "1",
         "0.5"
        ],
        [
         "Industry",
         "SPI",
         "7",
         "3.48"
        ],
        [
         "Sector",
         "SPI",
         "7",
         "3.48"
        ],
        [
         "Country",
         "SPI",
         "7",
         "3.48"
        ],
        [
         "Total_ESG_Score",
         "SPI",
         "59",
         "29.35"
        ],
        [
         "Environmental_Score",
         "SPI",
         "130",
         "64.68"
        ],
        [
         "Social_Score",
         "SPI",
         "130",
         "64.68"
        ],
        [
         "Governance_Score",
         "SPI",
         "130",
         "64.68"
        ],
        [
         "ESG_Performance",
         "SPI",
         "59",
         "29.35"
        ],
        [
         "Highest_Controversy",
         "SPI",
         "60",
         "29.85"
        ],
        [
         "Stock_Price",
         "SPI",
         "5",
         "2.49"
        ],
        [
         "Current_Price",
         "SPI",
         "2",
         "1.0"
        ],
        [
         "Market_Cap",
         "SPI",
         "2",
         "1.0"
        ],
        [
         "PE_Ratio",
         "SPI",
         "51",
         "25.37"
        ],
        [
         "PB_Ratio",
         "SPI",
         "3",
         "1.49"
        ],
        [
         "Annual_Return_Pct",
         "SPI",
         "5",
         "2.49"
        ],
        [
         "Revenue",
         "SPI",
         "9",
         "4.48"
        ],
        [
         "Net_Income",
         "SPI",
         "8",
         "3.98"
        ],
        [
         "Operating_Margin_Pct",
         "SPI",
         "7",
         "3.48"
        ],
        [
         "Gross_Margin_Pct",
         "SPI",
         "7",
         "3.48"
        ],
        [
         "ROE_Pct",
         "SPI",
         "15",
         "7.46"
        ],
        [
         "ROA_Pct",
         "SPI",
         "11",
         "5.47"
        ],
        [
         "Profit_Margin_Pct",
         "SPI",
         "7",
         "3.48"
        ],
        [
         "EBITDA_Margin_Pct",
         "SPI",
         "39",
         "19.4"
        ],
        [
         "EPS",
         "SPI",
         "7",
         "3.48"
        ],
        [
         "Beta",
         "SPI",
         "12",
         "5.97"
        ],
        [
         "Debt_to_Equity",
         "SPI",
         "43",
         "21.39"
        ],
        [
         "Current_Ratio",
         "SPI",
         "31",
         "15.42"
        ],
        [
         "Operating_Cash_Flow",
         "SPI",
         "24",
         "11.94"
        ],
        [
         "Revenue_Growth_Pct",
         "SPI",
         "5",
         "2.49"
        ],
        [
         "Status",
         "SPI",
         "1",
         "0.5"
        ]
       ],
       "shape": {
        "columns": 3,
        "rows": 34
       }
      },
      "text/html": [
       "<div>\n",
       "<style scoped>\n",
       "    .dataframe tbody tr th:only-of-type {\n",
       "        vertical-align: middle;\n",
       "    }\n",
       "\n",
       "    .dataframe tbody tr th {\n",
       "        vertical-align: top;\n",
       "    }\n",
       "\n",
       "    .dataframe thead th {\n",
       "        text-align: right;\n",
       "    }\n",
       "</style>\n",
       "<table border=\"1\" class=\"dataframe\">\n",
       "  <thead>\n",
       "    <tr style=\"text-align: right;\">\n",
       "      <th></th>\n",
       "      <th>Dataset</th>\n",
       "      <th>Missing Count</th>\n",
       "      <th>Missing %</th>\n",
       "    </tr>\n",
       "  </thead>\n",
       "  <tbody>\n",
       "    <tr>\n",
       "      <th>Ticker</th>\n",
       "      <td>SPI</td>\n",
       "      <td>0</td>\n",
       "      <td>0.00</td>\n",
       "    </tr>\n",
       "    <tr>\n",
       "      <th>Company_Name</th>\n",
       "      <td>SPI</td>\n",
       "      <td>3</td>\n",
       "      <td>1.49</td>\n",
       "    </tr>\n",
       "    <tr>\n",
       "      <th>Currency</th>\n",
       "      <td>SPI</td>\n",
       "      <td>2</td>\n",
       "      <td>1.00</td>\n",
       "    </tr>\n",
       "    <tr>\n",
       "      <th>Data_Date</th>\n",
       "      <td>SPI</td>\n",
       "      <td>1</td>\n",
       "      <td>0.50</td>\n",
       "    </tr>\n",
       "    <tr>\n",
       "      <th>Industry</th>\n",
       "      <td>SPI</td>\n",
       "      <td>7</td>\n",
       "      <td>3.48</td>\n",
       "    </tr>\n",
       "    <tr>\n",
       "      <th>Sector</th>\n",
       "      <td>SPI</td>\n",
       "      <td>7</td>\n",
       "      <td>3.48</td>\n",
       "    </tr>\n",
       "    <tr>\n",
       "      <th>Country</th>\n",
       "      <td>SPI</td>\n",
       "      <td>7</td>\n",
       "      <td>3.48</td>\n",
       "    </tr>\n",
       "    <tr>\n",
       "      <th>Total_ESG_Score</th>\n",
       "      <td>SPI</td>\n",
       "      <td>59</td>\n",
       "      <td>29.35</td>\n",
       "    </tr>\n",
       "    <tr>\n",
       "      <th>Environmental_Score</th>\n",
       "      <td>SPI</td>\n",
       "      <td>130</td>\n",
       "      <td>64.68</td>\n",
       "    </tr>\n",
       "    <tr>\n",
       "      <th>Social_Score</th>\n",
       "      <td>SPI</td>\n",
       "      <td>130</td>\n",
       "      <td>64.68</td>\n",
       "    </tr>\n",
       "    <tr>\n",
       "      <th>Governance_Score</th>\n",
       "      <td>SPI</td>\n",
       "      <td>130</td>\n",
       "      <td>64.68</td>\n",
       "    </tr>\n",
       "    <tr>\n",
       "      <th>ESG_Performance</th>\n",
       "      <td>SPI</td>\n",
       "      <td>59</td>\n",
       "      <td>29.35</td>\n",
       "    </tr>\n",
       "    <tr>\n",
       "      <th>Highest_Controversy</th>\n",
       "      <td>SPI</td>\n",
       "      <td>60</td>\n",
       "      <td>29.85</td>\n",
       "    </tr>\n",
       "    <tr>\n",
       "      <th>Stock_Price</th>\n",
       "      <td>SPI</td>\n",
       "      <td>5</td>\n",
       "      <td>2.49</td>\n",
       "    </tr>\n",
       "    <tr>\n",
       "      <th>Current_Price</th>\n",
       "      <td>SPI</td>\n",
       "      <td>2</td>\n",
       "      <td>1.00</td>\n",
       "    </tr>\n",
       "    <tr>\n",
       "      <th>Market_Cap</th>\n",
       "      <td>SPI</td>\n",
       "      <td>2</td>\n",
       "      <td>1.00</td>\n",
       "    </tr>\n",
       "    <tr>\n",
       "      <th>PE_Ratio</th>\n",
       "      <td>SPI</td>\n",
       "      <td>51</td>\n",
       "      <td>25.37</td>\n",
       "    </tr>\n",
       "    <tr>\n",
       "      <th>PB_Ratio</th>\n",
       "      <td>SPI</td>\n",
       "      <td>3</td>\n",
       "      <td>1.49</td>\n",
       "    </tr>\n",
       "    <tr>\n",
       "      <th>Annual_Return_Pct</th>\n",
       "      <td>SPI</td>\n",
       "      <td>5</td>\n",
       "      <td>2.49</td>\n",
       "    </tr>\n",
       "    <tr>\n",
       "      <th>Revenue</th>\n",
       "      <td>SPI</td>\n",
       "      <td>9</td>\n",
       "      <td>4.48</td>\n",
       "    </tr>\n",
       "    <tr>\n",
       "      <th>Net_Income</th>\n",
       "      <td>SPI</td>\n",
       "      <td>8</td>\n",
       "      <td>3.98</td>\n",
       "    </tr>\n",
       "    <tr>\n",
       "      <th>Operating_Margin_Pct</th>\n",
       "      <td>SPI</td>\n",
       "      <td>7</td>\n",
       "      <td>3.48</td>\n",
       "    </tr>\n",
       "    <tr>\n",
       "      <th>Gross_Margin_Pct</th>\n",
       "      <td>SPI</td>\n",
       "      <td>7</td>\n",
       "      <td>3.48</td>\n",
       "    </tr>\n",
       "    <tr>\n",
       "      <th>ROE_Pct</th>\n",
       "      <td>SPI</td>\n",
       "      <td>15</td>\n",
       "      <td>7.46</td>\n",
       "    </tr>\n",
       "    <tr>\n",
       "      <th>ROA_Pct</th>\n",
       "      <td>SPI</td>\n",
       "      <td>11</td>\n",
       "      <td>5.47</td>\n",
       "    </tr>\n",
       "    <tr>\n",
       "      <th>Profit_Margin_Pct</th>\n",
       "      <td>SPI</td>\n",
       "      <td>7</td>\n",
       "      <td>3.48</td>\n",
       "    </tr>\n",
       "    <tr>\n",
       "      <th>EBITDA_Margin_Pct</th>\n",
       "      <td>SPI</td>\n",
       "      <td>39</td>\n",
       "      <td>19.40</td>\n",
       "    </tr>\n",
       "    <tr>\n",
       "      <th>EPS</th>\n",
       "      <td>SPI</td>\n",
       "      <td>7</td>\n",
       "      <td>3.48</td>\n",
       "    </tr>\n",
       "    <tr>\n",
       "      <th>Beta</th>\n",
       "      <td>SPI</td>\n",
       "      <td>12</td>\n",
       "      <td>5.97</td>\n",
       "    </tr>\n",
       "    <tr>\n",
       "      <th>Debt_to_Equity</th>\n",
       "      <td>SPI</td>\n",
       "      <td>43</td>\n",
       "      <td>21.39</td>\n",
       "    </tr>\n",
       "    <tr>\n",
       "      <th>Current_Ratio</th>\n",
       "      <td>SPI</td>\n",
       "      <td>31</td>\n",
       "      <td>15.42</td>\n",
       "    </tr>\n",
       "    <tr>\n",
       "      <th>Operating_Cash_Flow</th>\n",
       "      <td>SPI</td>\n",
       "      <td>24</td>\n",
       "      <td>11.94</td>\n",
       "    </tr>\n",
       "    <tr>\n",
       "      <th>Revenue_Growth_Pct</th>\n",
       "      <td>SPI</td>\n",
       "      <td>5</td>\n",
       "      <td>2.49</td>\n",
       "    </tr>\n",
       "    <tr>\n",
       "      <th>Status</th>\n",
       "      <td>SPI</td>\n",
       "      <td>1</td>\n",
       "      <td>0.50</td>\n",
       "    </tr>\n",
       "  </tbody>\n",
       "</table>\n",
       "</div>"
      ],
      "text/plain": [
       "                     Dataset  Missing Count  Missing %\n",
       "Ticker                   SPI              0       0.00\n",
       "Company_Name             SPI              3       1.49\n",
       "Currency                 SPI              2       1.00\n",
       "Data_Date                SPI              1       0.50\n",
       "Industry                 SPI              7       3.48\n",
       "Sector                   SPI              7       3.48\n",
       "Country                  SPI              7       3.48\n",
       "Total_ESG_Score          SPI             59      29.35\n",
       "Environmental_Score      SPI            130      64.68\n",
       "Social_Score             SPI            130      64.68\n",
       "Governance_Score         SPI            130      64.68\n",
       "ESG_Performance          SPI             59      29.35\n",
       "Highest_Controversy      SPI             60      29.85\n",
       "Stock_Price              SPI              5       2.49\n",
       "Current_Price            SPI              2       1.00\n",
       "Market_Cap               SPI              2       1.00\n",
       "PE_Ratio                 SPI             51      25.37\n",
       "PB_Ratio                 SPI              3       1.49\n",
       "Annual_Return_Pct        SPI              5       2.49\n",
       "Revenue                  SPI              9       4.48\n",
       "Net_Income               SPI              8       3.98\n",
       "Operating_Margin_Pct     SPI              7       3.48\n",
       "Gross_Margin_Pct         SPI              7       3.48\n",
       "ROE_Pct                  SPI             15       7.46\n",
       "ROA_Pct                  SPI             11       5.47\n",
       "Profit_Margin_Pct        SPI              7       3.48\n",
       "EBITDA_Margin_Pct        SPI             39      19.40\n",
       "EPS                      SPI              7       3.48\n",
       "Beta                     SPI             12       5.97\n",
       "Debt_to_Equity           SPI             43      21.39\n",
       "Current_Ratio            SPI             31      15.42\n",
       "Operating_Cash_Flow      SPI             24      11.94\n",
       "Revenue_Growth_Pct       SPI              5       2.49\n",
       "Status                   SPI              1       0.50"
      ]
     },
     "execution_count": 88,
     "metadata": {},
     "output_type": "execute_result"
    }
   ],
   "source": [
    "missing_summary(spi, \"SPI\")"
   ]
  },
  {
   "cell_type": "code",
   "execution_count": 89,
   "id": "3c1fcf99",
   "metadata": {
    "ExecuteTime": {
     "end_time": "2025-10-19T18:23:57.219985Z",
     "start_time": "2025-10-19T18:23:57.210427Z"
    }
   },
   "outputs": [
    {
     "data": {
      "application/vnd.microsoft.datawrangler.viewer.v0+json": {
       "columns": [
        {
         "name": "index",
         "rawType": "object",
         "type": "string"
        },
        {
         "name": "Dataset",
         "rawType": "object",
         "type": "string"
        },
        {
         "name": "Missing Count",
         "rawType": "int64",
         "type": "integer"
        },
        {
         "name": "Missing %",
         "rawType": "float64",
         "type": "float"
        }
       ],
       "ref": "118c95b9-b0e3-4c0d-b8aa-07af479b12f3",
       "rows": [
        [
         "Ticker",
         "SP500",
         "0",
         "0.0"
        ],
        [
         "Company_Name",
         "SP500",
         "200",
         "39.76"
        ],
        [
         "Currency",
         "SP500",
         "200",
         "39.76"
        ],
        [
         "Data_Date",
         "SP500",
         "200",
         "39.76"
        ],
        [
         "Industry",
         "SP500",
         "200",
         "39.76"
        ],
        [
         "Sector",
         "SP500",
         "200",
         "39.76"
        ],
        [
         "Country",
         "SP500",
         "200",
         "39.76"
        ],
        [
         "Total_ESG_Score",
         "SP500",
         "203",
         "40.36"
        ],
        [
         "Environmental_Score",
         "SP500",
         "204",
         "40.56"
        ],
        [
         "Social_Score",
         "SP500",
         "204",
         "40.56"
        ],
        [
         "Governance_Score",
         "SP500",
         "204",
         "40.56"
        ],
        [
         "ESG_Performance",
         "SP500",
         "203",
         "40.36"
        ],
        [
         "Highest_Controversy",
         "SP500",
         "203",
         "40.36"
        ],
        [
         "Stock_Price",
         "SP500",
         "200",
         "39.76"
        ],
        [
         "Current_Price",
         "SP500",
         "200",
         "39.76"
        ],
        [
         "Market_Cap",
         "SP500",
         "200",
         "39.76"
        ],
        [
         "PE_Ratio",
         "SP500",
         "215",
         "42.74"
        ],
        [
         "PB_Ratio",
         "SP500",
         "200",
         "39.76"
        ],
        [
         "Annual_Return_Pct",
         "SP500",
         "200",
         "39.76"
        ],
        [
         "Revenue",
         "SP500",
         "200",
         "39.76"
        ],
        [
         "Net_Income",
         "SP500",
         "200",
         "39.76"
        ],
        [
         "Operating_Margin_Pct",
         "SP500",
         "200",
         "39.76"
        ],
        [
         "Gross_Margin_Pct",
         "SP500",
         "200",
         "39.76"
        ],
        [
         "ROE_Pct",
         "SP500",
         "220",
         "43.74"
        ],
        [
         "ROA_Pct",
         "SP500",
         "204",
         "40.56"
        ],
        [
         "Profit_Margin_Pct",
         "SP500",
         "200",
         "39.76"
        ],
        [
         "EBITDA_Margin_Pct",
         "SP500",
         "221",
         "43.94"
        ],
        [
         "EPS",
         "SP500",
         "200",
         "39.76"
        ],
        [
         "Beta",
         "SP500",
         "203",
         "40.36"
        ],
        [
         "Debt_to_Equity",
         "SP500",
         "239",
         "47.51"
        ],
        [
         "Current_Ratio",
         "SP500",
         "220",
         "43.74"
        ],
        [
         "Operating_Cash_Flow",
         "SP500",
         "214",
         "42.54"
        ],
        [
         "Revenue_Growth_Pct",
         "SP500",
         "201",
         "39.96"
        ],
        [
         "Status",
         "SP500",
         "200",
         "39.76"
        ]
       ],
       "shape": {
        "columns": 3,
        "rows": 34
       }
      },
      "text/html": [
       "<div>\n",
       "<style scoped>\n",
       "    .dataframe tbody tr th:only-of-type {\n",
       "        vertical-align: middle;\n",
       "    }\n",
       "\n",
       "    .dataframe tbody tr th {\n",
       "        vertical-align: top;\n",
       "    }\n",
       "\n",
       "    .dataframe thead th {\n",
       "        text-align: right;\n",
       "    }\n",
       "</style>\n",
       "<table border=\"1\" class=\"dataframe\">\n",
       "  <thead>\n",
       "    <tr style=\"text-align: right;\">\n",
       "      <th></th>\n",
       "      <th>Dataset</th>\n",
       "      <th>Missing Count</th>\n",
       "      <th>Missing %</th>\n",
       "    </tr>\n",
       "  </thead>\n",
       "  <tbody>\n",
       "    <tr>\n",
       "      <th>Ticker</th>\n",
       "      <td>SP500</td>\n",
       "      <td>0</td>\n",
       "      <td>0.00</td>\n",
       "    </tr>\n",
       "    <tr>\n",
       "      <th>Company_Name</th>\n",
       "      <td>SP500</td>\n",
       "      <td>200</td>\n",
       "      <td>39.76</td>\n",
       "    </tr>\n",
       "    <tr>\n",
       "      <th>Currency</th>\n",
       "      <td>SP500</td>\n",
       "      <td>200</td>\n",
       "      <td>39.76</td>\n",
       "    </tr>\n",
       "    <tr>\n",
       "      <th>Data_Date</th>\n",
       "      <td>SP500</td>\n",
       "      <td>200</td>\n",
       "      <td>39.76</td>\n",
       "    </tr>\n",
       "    <tr>\n",
       "      <th>Industry</th>\n",
       "      <td>SP500</td>\n",
       "      <td>200</td>\n",
       "      <td>39.76</td>\n",
       "    </tr>\n",
       "    <tr>\n",
       "      <th>Sector</th>\n",
       "      <td>SP500</td>\n",
       "      <td>200</td>\n",
       "      <td>39.76</td>\n",
       "    </tr>\n",
       "    <tr>\n",
       "      <th>Country</th>\n",
       "      <td>SP500</td>\n",
       "      <td>200</td>\n",
       "      <td>39.76</td>\n",
       "    </tr>\n",
       "    <tr>\n",
       "      <th>Total_ESG_Score</th>\n",
       "      <td>SP500</td>\n",
       "      <td>203</td>\n",
       "      <td>40.36</td>\n",
       "    </tr>\n",
       "    <tr>\n",
       "      <th>Environmental_Score</th>\n",
       "      <td>SP500</td>\n",
       "      <td>204</td>\n",
       "      <td>40.56</td>\n",
       "    </tr>\n",
       "    <tr>\n",
       "      <th>Social_Score</th>\n",
       "      <td>SP500</td>\n",
       "      <td>204</td>\n",
       "      <td>40.56</td>\n",
       "    </tr>\n",
       "    <tr>\n",
       "      <th>Governance_Score</th>\n",
       "      <td>SP500</td>\n",
       "      <td>204</td>\n",
       "      <td>40.56</td>\n",
       "    </tr>\n",
       "    <tr>\n",
       "      <th>ESG_Performance</th>\n",
       "      <td>SP500</td>\n",
       "      <td>203</td>\n",
       "      <td>40.36</td>\n",
       "    </tr>\n",
       "    <tr>\n",
       "      <th>Highest_Controversy</th>\n",
       "      <td>SP500</td>\n",
       "      <td>203</td>\n",
       "      <td>40.36</td>\n",
       "    </tr>\n",
       "    <tr>\n",
       "      <th>Stock_Price</th>\n",
       "      <td>SP500</td>\n",
       "      <td>200</td>\n",
       "      <td>39.76</td>\n",
       "    </tr>\n",
       "    <tr>\n",
       "      <th>Current_Price</th>\n",
       "      <td>SP500</td>\n",
       "      <td>200</td>\n",
       "      <td>39.76</td>\n",
       "    </tr>\n",
       "    <tr>\n",
       "      <th>Market_Cap</th>\n",
       "      <td>SP500</td>\n",
       "      <td>200</td>\n",
       "      <td>39.76</td>\n",
       "    </tr>\n",
       "    <tr>\n",
       "      <th>PE_Ratio</th>\n",
       "      <td>SP500</td>\n",
       "      <td>215</td>\n",
       "      <td>42.74</td>\n",
       "    </tr>\n",
       "    <tr>\n",
       "      <th>PB_Ratio</th>\n",
       "      <td>SP500</td>\n",
       "      <td>200</td>\n",
       "      <td>39.76</td>\n",
       "    </tr>\n",
       "    <tr>\n",
       "      <th>Annual_Return_Pct</th>\n",
       "      <td>SP500</td>\n",
       "      <td>200</td>\n",
       "      <td>39.76</td>\n",
       "    </tr>\n",
       "    <tr>\n",
       "      <th>Revenue</th>\n",
       "      <td>SP500</td>\n",
       "      <td>200</td>\n",
       "      <td>39.76</td>\n",
       "    </tr>\n",
       "    <tr>\n",
       "      <th>Net_Income</th>\n",
       "      <td>SP500</td>\n",
       "      <td>200</td>\n",
       "      <td>39.76</td>\n",
       "    </tr>\n",
       "    <tr>\n",
       "      <th>Operating_Margin_Pct</th>\n",
       "      <td>SP500</td>\n",
       "      <td>200</td>\n",
       "      <td>39.76</td>\n",
       "    </tr>\n",
       "    <tr>\n",
       "      <th>Gross_Margin_Pct</th>\n",
       "      <td>SP500</td>\n",
       "      <td>200</td>\n",
       "      <td>39.76</td>\n",
       "    </tr>\n",
       "    <tr>\n",
       "      <th>ROE_Pct</th>\n",
       "      <td>SP500</td>\n",
       "      <td>220</td>\n",
       "      <td>43.74</td>\n",
       "    </tr>\n",
       "    <tr>\n",
       "      <th>ROA_Pct</th>\n",
       "      <td>SP500</td>\n",
       "      <td>204</td>\n",
       "      <td>40.56</td>\n",
       "    </tr>\n",
       "    <tr>\n",
       "      <th>Profit_Margin_Pct</th>\n",
       "      <td>SP500</td>\n",
       "      <td>200</td>\n",
       "      <td>39.76</td>\n",
       "    </tr>\n",
       "    <tr>\n",
       "      <th>EBITDA_Margin_Pct</th>\n",
       "      <td>SP500</td>\n",
       "      <td>221</td>\n",
       "      <td>43.94</td>\n",
       "    </tr>\n",
       "    <tr>\n",
       "      <th>EPS</th>\n",
       "      <td>SP500</td>\n",
       "      <td>200</td>\n",
       "      <td>39.76</td>\n",
       "    </tr>\n",
       "    <tr>\n",
       "      <th>Beta</th>\n",
       "      <td>SP500</td>\n",
       "      <td>203</td>\n",
       "      <td>40.36</td>\n",
       "    </tr>\n",
       "    <tr>\n",
       "      <th>Debt_to_Equity</th>\n",
       "      <td>SP500</td>\n",
       "      <td>239</td>\n",
       "      <td>47.51</td>\n",
       "    </tr>\n",
       "    <tr>\n",
       "      <th>Current_Ratio</th>\n",
       "      <td>SP500</td>\n",
       "      <td>220</td>\n",
       "      <td>43.74</td>\n",
       "    </tr>\n",
       "    <tr>\n",
       "      <th>Operating_Cash_Flow</th>\n",
       "      <td>SP500</td>\n",
       "      <td>214</td>\n",
       "      <td>42.54</td>\n",
       "    </tr>\n",
       "    <tr>\n",
       "      <th>Revenue_Growth_Pct</th>\n",
       "      <td>SP500</td>\n",
       "      <td>201</td>\n",
       "      <td>39.96</td>\n",
       "    </tr>\n",
       "    <tr>\n",
       "      <th>Status</th>\n",
       "      <td>SP500</td>\n",
       "      <td>200</td>\n",
       "      <td>39.76</td>\n",
       "    </tr>\n",
       "  </tbody>\n",
       "</table>\n",
       "</div>"
      ],
      "text/plain": [
       "                     Dataset  Missing Count  Missing %\n",
       "Ticker                 SP500              0       0.00\n",
       "Company_Name           SP500            200      39.76\n",
       "Currency               SP500            200      39.76\n",
       "Data_Date              SP500            200      39.76\n",
       "Industry               SP500            200      39.76\n",
       "Sector                 SP500            200      39.76\n",
       "Country                SP500            200      39.76\n",
       "Total_ESG_Score        SP500            203      40.36\n",
       "Environmental_Score    SP500            204      40.56\n",
       "Social_Score           SP500            204      40.56\n",
       "Governance_Score       SP500            204      40.56\n",
       "ESG_Performance        SP500            203      40.36\n",
       "Highest_Controversy    SP500            203      40.36\n",
       "Stock_Price            SP500            200      39.76\n",
       "Current_Price          SP500            200      39.76\n",
       "Market_Cap             SP500            200      39.76\n",
       "PE_Ratio               SP500            215      42.74\n",
       "PB_Ratio               SP500            200      39.76\n",
       "Annual_Return_Pct      SP500            200      39.76\n",
       "Revenue                SP500            200      39.76\n",
       "Net_Income             SP500            200      39.76\n",
       "Operating_Margin_Pct   SP500            200      39.76\n",
       "Gross_Margin_Pct       SP500            200      39.76\n",
       "ROE_Pct                SP500            220      43.74\n",
       "ROA_Pct                SP500            204      40.56\n",
       "Profit_Margin_Pct      SP500            200      39.76\n",
       "EBITDA_Margin_Pct      SP500            221      43.94\n",
       "EPS                    SP500            200      39.76\n",
       "Beta                   SP500            203      40.36\n",
       "Debt_to_Equity         SP500            239      47.51\n",
       "Current_Ratio          SP500            220      43.74\n",
       "Operating_Cash_Flow    SP500            214      42.54\n",
       "Revenue_Growth_Pct     SP500            201      39.96\n",
       "Status                 SP500            200      39.76"
      ]
     },
     "execution_count": 89,
     "metadata": {},
     "output_type": "execute_result"
    }
   ],
   "source": [
    "missing_summary(sp500, \"SP500\")"
   ]
  },
  {
   "cell_type": "markdown",
   "id": "c9e7495f",
   "metadata": {},
   "source": [
    "### 3.3.1 Missing ESG data"
   ]
  },
  {
   "cell_type": "code",
   "execution_count": 90,
   "id": "83d3964b",
   "metadata": {
    "ExecuteTime": {
     "end_time": "2025-10-19T18:23:57.621676Z",
     "start_time": "2025-10-19T18:23:57.609832Z"
    }
   },
   "outputs": [
    {
     "name": "stdout",
     "output_type": "stream",
     "text": [
      "\n",
      "SPI - ESG Data Availability:\n",
      "  Total_ESG_Score: 59/201 missing (29.35%)\n",
      "  Environmental_Score: 130/201 missing (64.68%)\n",
      "  Social_Score: 130/201 missing (64.68%)\n",
      "  Governance_Score: 130/201 missing (64.68%)\n",
      "  ESG_Performance: 59/201 missing (29.35%)\n",
      "  Highest_Controversy: 60/201 missing (29.85%)\n",
      "\n",
      "  Companies WITHOUT Total ESG scores: 59 (29.35%)\n",
      "  Companies WITH Total ESG score: 142 (70.65%)\n",
      "  Companies WITH all ESG scores: 71 (35.32%)\n",
      "  Companies WITH all ESG data: 71 (35.32%)\n",
      "\n",
      "S&P 500 - ESG Data Availability:\n",
      "  Total_ESG_Score: 203/503 missing (40.36%)\n",
      "  Environmental_Score: 204/503 missing (40.56%)\n",
      "  Social_Score: 204/503 missing (40.56%)\n",
      "  Governance_Score: 204/503 missing (40.56%)\n",
      "  ESG_Performance: 203/503 missing (40.36%)\n",
      "  Highest_Controversy: 203/503 missing (40.36%)\n",
      "\n",
      "  Companies WITHOUT Total ESG scores: 203 (40.36%)\n",
      "  Companies WITH Total ESG score: 300 (59.64%)\n",
      "  Companies WITH all ESG scores: 299 (59.44%)\n",
      "  Companies WITH all ESG data: 299 (59.44%)\n"
     ]
    }
   ],
   "source": [
    "def check_esg_missing(df, name):\n",
    "    \"\"\"Check proportion of missing ESG scores\"\"\"\n",
    "    esg_columns = ['Total_ESG_Score', 'Environmental_Score', 'Social_Score', 'Governance_Score', 'ESG_Performance', 'Highest_Controversy']\n",
    "    esg_scores_columns = ['Total_ESG_Score', 'Environmental_Score', 'Social_Score', 'Governance_Score']\n",
    "    \n",
    "    print(f\"\\n{name} - ESG Data Availability:\")\n",
    "    for col in esg_columns:\n",
    "        if col in df.columns:\n",
    "            missing_count = df[col].isnull().sum()\n",
    "            missing_pct = (missing_count / len(df) * 100)\n",
    "            print(f\"  {col}: {missing_count}/{len(df)} missing ({missing_pct:.2f}%)\")\n",
    "    \n",
    "    # Overall ESG availability\n",
    "    has_total_esg = df[['Total_ESG_Score']].notnull().all(axis=1)\n",
    "    has_all_esg_scores = df[esg_scores_columns].notnull().all(axis=1)\n",
    "    has_all_esg_data = df[esg_columns].notnull().all(axis=1)\n",
    "    companies_with_total_esg = has_total_esg.sum()\n",
    "    companies_without_total_esg = len(df) - companies_with_total_esg\n",
    "    companies_with_all_esg_scores = has_all_esg_scores.sum()\n",
    "    companies_with_all_esg_data = has_all_esg_data.sum()\n",
    "    \n",
    "    print(f\"\\n  Companies WITHOUT Total ESG scores: {companies_without_total_esg} ({companies_without_total_esg/len(df)*100:.2f}%)\")\n",
    "    print(f\"  Companies WITH Total ESG score: {companies_with_total_esg} ({companies_with_total_esg/len(df)*100:.2f}%)\")\n",
    "    print(f\"  Companies WITH all ESG scores: {companies_with_all_esg_scores} ({companies_with_all_esg_scores/len(df)*100:.2f}%)\")\n",
    "    print(f\"  Companies WITH all ESG data: {companies_with_all_esg_data} ({companies_with_all_esg_data/len(df)*100:.2f}%)\")\n",
    "\n",
    "spi_no_esg = check_esg_missing(spi, \"SPI\")\n",
    "sp500_no_esg = check_esg_missing(sp500, \"S&P 500\")"
   ]
  },
  {
   "cell_type": "markdown",
   "id": "59b7306d",
   "metadata": {},
   "source": [
    "Summary: \n",
    "\n",
    "Missing ESG data in the S&P 500 dataset is negligible, but in SPI dataset, only 71/201 companies have full ESG data, and 142 have Total ESG Score as well as ESG_Performance indicator. Removing the 130 companies without detailed scores would be too much, instead, we could remove 59/201 SPI companies without the Total ESG Score, and consider dividing the remaining companies into two subgroups for further analysis: \n",
    "- 142 companies with Total ESG Score \n",
    "- and 71 with full ESG data"
   ]
  },
  {
   "cell_type": "code",
   "execution_count": 91,
   "id": "0f542262",
   "metadata": {
    "ExecuteTime": {
     "end_time": "2025-10-19T18:23:57.690415Z",
     "start_time": "2025-10-19T18:23:57.685649Z"
    }
   },
   "outputs": [
    {
     "name": "stdout",
     "output_type": "stream",
     "text": [
      "(142, 34)\n",
      "0\n"
     ]
    }
   ],
   "source": [
    "spi_esg = spi.dropna(subset=['Total_ESG_Score'])\n",
    "print(spi_esg.shape)\n",
    "print(spi_esg['Total_ESG_Score'].isnull().sum())"
   ]
  },
  {
   "cell_type": "code",
   "execution_count": 92,
   "id": "a2d775d7",
   "metadata": {
    "ExecuteTime": {
     "end_time": "2025-10-19T18:23:57.756660Z",
     "start_time": "2025-10-19T18:23:57.752244Z"
    }
   },
   "outputs": [
    {
     "name": "stdout",
     "output_type": "stream",
     "text": [
      "(300, 34)\n",
      "0\n"
     ]
    }
   ],
   "source": [
    "sp500_esg = sp500.dropna(subset=['Total_ESG_Score'])\n",
    "print(sp500_esg.shape)\n",
    "print(sp500_esg['Total_ESG_Score'].isnull().sum())"
   ]
  },
  {
   "cell_type": "markdown",
   "id": "505f5de2",
   "metadata": {},
   "source": [
    "### 3.3.2 Country Issues"
   ]
  },
  {
   "cell_type": "markdown",
   "id": "e1a1bab8ee6018f4",
   "metadata": {},
   "source": [
    "Next, we look at the countries of the companies to identify whether some firms listed in the SPI dataset are actually non-Swiss and to understand the distribution, in order to decide whether to exclude them."
   ]
  },
  {
   "cell_type": "code",
   "execution_count": 93,
   "id": "e9086257",
   "metadata": {
    "ExecuteTime": {
     "end_time": "2025-10-19T18:23:57.816763Z",
     "start_time": "2025-10-19T18:23:57.811193Z"
    }
   },
   "outputs": [
    {
     "name": "stdout",
     "output_type": "stream",
     "text": [
      "      Ticker                                      Company_Name        Country  Total_ESG_Score\n",
      "21    AMS.SW                                      ams-OSRAM AG        Austria            17.61\n",
      "44   COPN.SW                        Cosmo Pharmaceuticals N.V.        Ireland            29.37\n",
      "124  LLBN.SW  Liechtensteinische Landesbank Aktiengesellschaft  Liechtenstein            28.14\n",
      "156  VPBN.SW                                        VP Bank AG  Liechtenstein            28.06\n",
      "170  PKTM.SW                                PIERER Mobility AG        Austria             8.88\n"
     ]
    }
   ],
   "source": [
    "non_swiss = spi_esg[spi_esg[\"Country\"] != \"Switzerland\"]\n",
    "print(non_swiss[['Ticker', 'Company_Name', 'Country', 'Total_ESG_Score']].to_string())"
   ]
  },
  {
   "cell_type": "markdown",
   "id": "b2b2ddd0",
   "metadata": {},
   "source": [
    "Considering that 5 out of 201 companies in the SPI dataset are non-Swiss, we decided to remove these non-Swiss firms to ensure better consistency and comparability in our analysis."
   ]
  },
  {
   "cell_type": "code",
   "execution_count": 94,
   "id": "9acd55b6",
   "metadata": {},
   "outputs": [],
   "source": [
    "spi_esg = spi_esg[spi_esg[\"Country\"] == \"Switzerland\"]"
   ]
  },
  {
   "cell_type": "markdown",
   "id": "ddc0ae42482cbc9d",
   "metadata": {},
   "source": [
    "Next, we check if companies in the SPI are also in the S&P 500, as a few multinational corporations might appear in both the SPI and S&P 500 datasets."
   ]
  },
  {
   "cell_type": "code",
   "execution_count": 95,
   "id": "673c7fa1",
   "metadata": {
    "ExecuteTime": {
     "end_time": "2025-10-19T18:23:57.880787Z",
     "start_time": "2025-10-19T18:23:57.875735Z"
    }
   },
   "outputs": [
    {
     "name": "stdout",
     "output_type": "stream",
     "text": [
      "    Ticker   Company_Name      Country  Total_ESG_Score\n",
      "23    AMCR      Amcor plc  Switzerland            14.31\n",
      "41    APTV      Aptiv PLC  Switzerland            12.89\n",
      "101     CB  Chubb Limited  Switzerland            20.12\n",
      "206   GRMN    Garmin Ltd.  Switzerland            21.23\n"
     ]
    }
   ],
   "source": [
    "sp500_swiss = sp500_esg[sp500_esg[\"Country\"] == \"Switzerland\"]\n",
    "print(sp500_swiss[['Ticker', 'Company_Name', 'Country', 'Total_ESG_Score']].to_string())"
   ]
  },
  {
   "cell_type": "code",
   "execution_count": 96,
   "id": "ba3cfed2",
   "metadata": {
    "ExecuteTime": {
     "end_time": "2025-10-19T18:23:57.981420Z",
     "start_time": "2025-10-19T18:23:57.976515Z"
    }
   },
   "outputs": [
    {
     "name": "stdout",
     "output_type": "stream",
     "text": [
      "Empty DataFrame\n",
      "Columns: [Ticker, Company_Name, Country, Total_ESG_Score]\n",
      "Index: []\n"
     ]
    }
   ],
   "source": [
    "check_duplicates = sp500_esg['Company_Name'].tolist()\n",
    "matching_spi = spi_esg[spi_esg['Company_Name'].isin(check_duplicates)]\n",
    "\n",
    "print(matching_spi[['Ticker', 'Company_Name', 'Country', 'Total_ESG_Score']].to_string())"
   ]
  },
  {
   "cell_type": "markdown",
   "id": "27d26d26",
   "metadata": {},
   "source": [
    "So: No overlapping companies"
   ]
  },
  {
   "cell_type": "markdown",
   "id": "1eb31dd84fad0325",
   "metadata": {},
   "source": [
    "We want to see the distribution of countries in the S&P dataset. Because approx 96% of the companies are based in the US, we decide to focus on Swiss vs. US companies."
   ]
  },
  {
   "cell_type": "code",
   "execution_count": 97,
   "id": "c356aeb111dd96df",
   "metadata": {
    "ExecuteTime": {
     "end_time": "2025-10-19T18:23:58.006480Z",
     "start_time": "2025-10-19T18:23:57.999189Z"
    }
   },
   "outputs": [
    {
     "name": "stdout",
     "output_type": "stream",
     "text": [
      "S&P 500 — Country distribution:\n"
     ]
    },
    {
     "data": {
      "application/vnd.microsoft.datawrangler.viewer.v0+json": {
       "columns": [
        {
         "name": "Country",
         "rawType": "object",
         "type": "string"
        },
        {
         "name": "Count",
         "rawType": "int64",
         "type": "integer"
        },
        {
         "name": "Percentage (%)",
         "rawType": "float64",
         "type": "float"
        }
       ],
       "ref": "26b229c9-054c-425d-b8e1-bd0474745a39",
       "rows": [
        [
         "United States",
         "280",
         "93.33"
        ],
        [
         "Ireland",
         "9",
         "3.0"
        ],
        [
         "Switzerland",
         "4",
         "1.33"
        ],
        [
         "United Kingdom",
         "3",
         "1.0"
        ],
        [
         "Bermuda",
         "1",
         "0.33"
        ],
        [
         "Canada",
         "1",
         "0.33"
        ],
        [
         "Netherlands",
         "1",
         "0.33"
        ],
        [
         "Singapore",
         "1",
         "0.33"
        ]
       ],
       "shape": {
        "columns": 2,
        "rows": 8
       }
      },
      "text/html": [
       "<div>\n",
       "<style scoped>\n",
       "    .dataframe tbody tr th:only-of-type {\n",
       "        vertical-align: middle;\n",
       "    }\n",
       "\n",
       "    .dataframe tbody tr th {\n",
       "        vertical-align: top;\n",
       "    }\n",
       "\n",
       "    .dataframe thead th {\n",
       "        text-align: right;\n",
       "    }\n",
       "</style>\n",
       "<table border=\"1\" class=\"dataframe\">\n",
       "  <thead>\n",
       "    <tr style=\"text-align: right;\">\n",
       "      <th></th>\n",
       "      <th>Count</th>\n",
       "      <th>Percentage (%)</th>\n",
       "    </tr>\n",
       "    <tr>\n",
       "      <th>Country</th>\n",
       "      <th></th>\n",
       "      <th></th>\n",
       "    </tr>\n",
       "  </thead>\n",
       "  <tbody>\n",
       "    <tr>\n",
       "      <th>United States</th>\n",
       "      <td>280</td>\n",
       "      <td>93.33</td>\n",
       "    </tr>\n",
       "    <tr>\n",
       "      <th>Ireland</th>\n",
       "      <td>9</td>\n",
       "      <td>3.00</td>\n",
       "    </tr>\n",
       "    <tr>\n",
       "      <th>Switzerland</th>\n",
       "      <td>4</td>\n",
       "      <td>1.33</td>\n",
       "    </tr>\n",
       "    <tr>\n",
       "      <th>United Kingdom</th>\n",
       "      <td>3</td>\n",
       "      <td>1.00</td>\n",
       "    </tr>\n",
       "    <tr>\n",
       "      <th>Bermuda</th>\n",
       "      <td>1</td>\n",
       "      <td>0.33</td>\n",
       "    </tr>\n",
       "    <tr>\n",
       "      <th>Canada</th>\n",
       "      <td>1</td>\n",
       "      <td>0.33</td>\n",
       "    </tr>\n",
       "    <tr>\n",
       "      <th>Netherlands</th>\n",
       "      <td>1</td>\n",
       "      <td>0.33</td>\n",
       "    </tr>\n",
       "    <tr>\n",
       "      <th>Singapore</th>\n",
       "      <td>1</td>\n",
       "      <td>0.33</td>\n",
       "    </tr>\n",
       "  </tbody>\n",
       "</table>\n",
       "</div>"
      ],
      "text/plain": [
       "                Count  Percentage (%)\n",
       "Country                              \n",
       "United States     280           93.33\n",
       "Ireland             9            3.00\n",
       "Switzerland         4            1.33\n",
       "United Kingdom      3            1.00\n",
       "Bermuda             1            0.33\n",
       "Canada              1            0.33\n",
       "Netherlands         1            0.33\n",
       "Singapore           1            0.33"
      ]
     },
     "metadata": {},
     "output_type": "display_data"
    }
   ],
   "source": [
    "country_counts = sp500_esg['Country'].value_counts(dropna=False)\n",
    "country_pct = (country_counts / len(sp500_esg) * 100).round(2)\n",
    "\n",
    "country_summary = pd.DataFrame({\n",
    "    'Count': country_counts,\n",
    "    'Percentage (%)': country_pct\n",
    "})\n",
    "\n",
    "print(\"S&P 500 — Country distribution:\")\n",
    "display(country_summary)"
   ]
  },
  {
   "cell_type": "code",
   "execution_count": 98,
   "id": "30263e8f",
   "metadata": {
    "ExecuteTime": {
     "end_time": "2025-10-19T18:23:58.061351Z",
     "start_time": "2025-10-19T18:23:58.055834Z"
    }
   },
   "outputs": [
    {
     "name": "stdout",
     "output_type": "stream",
     "text": [
      "    Ticker                                 Company_Name         Country  Total_ESG_Score\n",
      "4      ACN                                Accenture plc         Ireland            12.88\n",
      "16    ALLE                                 Allegion plc         Ireland            20.10\n",
      "23    AMCR                                    Amcor plc     Switzerland            14.31\n",
      "35     AON                                      Aon plc         Ireland            13.64\n",
      "41    APTV                                    Aptiv PLC     Switzerland            12.89\n",
      "42    ACGL                      Arch Capital Group Ltd.         Bermuda            18.36\n",
      "101     CB                                Chubb Limited     Switzerland            20.12\n",
      "160    ETN                        Eaton Corporation plc         Ireland            19.80\n",
      "206   GRMN                                  Garmin Ltd.     Switzerland            21.23\n",
      "266    JCI           Johnson Controls International plc         Ireland            14.97\n",
      "289    LIN                                    Linde plc  United Kingdom            11.63\n",
      "295   LULU                     lululemon athletica inc.          Canada            13.52\n",
      "308    MDT                                Medtronic plc         Ireland            16.27\n",
      "348   NXPI                      NXP Semiconductors N.V.     Netherlands            16.03\n",
      "366    PNR                                  Pentair plc  United Kingdom            28.23\n",
      "409    STX              Seagate Technology Holdings plc       Singapore            12.11\n",
      "416     SW                         Smurfit Westrock Plc         Ireland            18.34\n",
      "437    TEL                          TE Connectivity plc         Ireland            15.32\n",
      "449     TT                       Trane Technologies plc         Ireland            13.12\n",
      "494    WTW  Willis Towers Watson Public Limited Company  United Kingdom            16.20\n"
     ]
    }
   ],
   "source": [
    "sp500_nonUS = sp500_esg[sp500_esg[\"Country\"] != \"United States\"]\n",
    "print(sp500_nonUS[['Ticker', 'Company_Name', 'Country', 'Total_ESG_Score']].to_string())"
   ]
  },
  {
   "cell_type": "markdown",
   "id": "56064713",
   "metadata": {},
   "source": [
    "Again, we remove those non-US companies."
   ]
  },
  {
   "cell_type": "code",
   "execution_count": 99,
   "id": "a12848bc",
   "metadata": {},
   "outputs": [],
   "source": [
    "sp500_esg = sp500_esg[sp500_esg[\"Country\"] == \"United States\"]"
   ]
  },
  {
   "cell_type": "markdown",
   "id": "69479e6b",
   "metadata": {},
   "source": [
    "### 3.3.3 Fix Company Name"
   ]
  },
  {
   "cell_type": "code",
   "execution_count": 100,
   "id": "5ab88426",
   "metadata": {
    "ExecuteTime": {
     "end_time": "2025-10-19T18:23:58.234255Z",
     "start_time": "2025-10-19T18:23:58.221931Z"
    }
   },
   "outputs": [
    {
     "data": {
      "application/vnd.microsoft.datawrangler.viewer.v0+json": {
       "columns": [
        {
         "name": "index",
         "rawType": "int64",
         "type": "integer"
        },
        {
         "name": "Ticker",
         "rawType": "object",
         "type": "string"
        },
        {
         "name": "Company_Name",
         "rawType": "object",
         "type": "unknown"
        },
        {
         "name": "Currency",
         "rawType": "object",
         "type": "string"
        },
        {
         "name": "Data_Date",
         "rawType": "object",
         "type": "string"
        },
        {
         "name": "Industry",
         "rawType": "object",
         "type": "string"
        },
        {
         "name": "Sector",
         "rawType": "object",
         "type": "string"
        },
        {
         "name": "Country",
         "rawType": "object",
         "type": "string"
        },
        {
         "name": "Total_ESG_Score",
         "rawType": "float64",
         "type": "float"
        },
        {
         "name": "Environmental_Score",
         "rawType": "float64",
         "type": "float"
        },
        {
         "name": "Social_Score",
         "rawType": "float64",
         "type": "float"
        },
        {
         "name": "Governance_Score",
         "rawType": "float64",
         "type": "float"
        },
        {
         "name": "ESG_Performance",
         "rawType": "object",
         "type": "string"
        },
        {
         "name": "Highest_Controversy",
         "rawType": "float64",
         "type": "float"
        },
        {
         "name": "Stock_Price",
         "rawType": "float64",
         "type": "float"
        },
        {
         "name": "Current_Price",
         "rawType": "float64",
         "type": "float"
        },
        {
         "name": "Market_Cap",
         "rawType": "float64",
         "type": "float"
        },
        {
         "name": "PE_Ratio",
         "rawType": "float64",
         "type": "float"
        },
        {
         "name": "PB_Ratio",
         "rawType": "float64",
         "type": "float"
        },
        {
         "name": "Annual_Return_Pct",
         "rawType": "float64",
         "type": "float"
        },
        {
         "name": "Revenue",
         "rawType": "float64",
         "type": "float"
        },
        {
         "name": "Net_Income",
         "rawType": "float64",
         "type": "float"
        },
        {
         "name": "Operating_Margin_Pct",
         "rawType": "float64",
         "type": "float"
        },
        {
         "name": "Gross_Margin_Pct",
         "rawType": "float64",
         "type": "float"
        },
        {
         "name": "ROE_Pct",
         "rawType": "float64",
         "type": "float"
        },
        {
         "name": "ROA_Pct",
         "rawType": "float64",
         "type": "float"
        },
        {
         "name": "Profit_Margin_Pct",
         "rawType": "float64",
         "type": "float"
        },
        {
         "name": "EBITDA_Margin_Pct",
         "rawType": "float64",
         "type": "float"
        },
        {
         "name": "EPS",
         "rawType": "float64",
         "type": "float"
        },
        {
         "name": "Beta",
         "rawType": "float64",
         "type": "float"
        },
        {
         "name": "Debt_to_Equity",
         "rawType": "float64",
         "type": "float"
        },
        {
         "name": "Current_Ratio",
         "rawType": "float64",
         "type": "float"
        },
        {
         "name": "Operating_Cash_Flow",
         "rawType": "float64",
         "type": "float"
        },
        {
         "name": "Revenue_Growth_Pct",
         "rawType": "float64",
         "type": "float"
        },
        {
         "name": "Status",
         "rawType": "object",
         "type": "string"
        }
       ],
       "ref": "168d8cf3-c850-4115-b708-7542f172b751",
       "rows": [
        [
         "197",
         "GALD.SW",
         null,
         "CHF",
         "12/31/24",
         "Drug Manufacturers - Specialty & Generic",
         "Healthcare",
         "Switzerland",
         "19.8",
         "3.84",
         "11.03",
         "4.92",
         "LAG_PERF",
         "1.0",
         "106.76",
         "135.6",
         "31842115584.0",
         "105.94",
         "4.15",
         "75.62",
         "4689999872.0",
         "378000000.0",
         "15.86",
         "69.21",
         "4.92",
         "3.65",
         "8.06",
         "20.98",
         "1.28",
         null,
         "36.84",
         "1.09",
         "951000000.0",
         "7.85",
         "Success"
        ]
       ],
       "shape": {
        "columns": 34,
        "rows": 1
       }
      },
      "text/html": [
       "<div>\n",
       "<style scoped>\n",
       "    .dataframe tbody tr th:only-of-type {\n",
       "        vertical-align: middle;\n",
       "    }\n",
       "\n",
       "    .dataframe tbody tr th {\n",
       "        vertical-align: top;\n",
       "    }\n",
       "\n",
       "    .dataframe thead th {\n",
       "        text-align: right;\n",
       "    }\n",
       "</style>\n",
       "<table border=\"1\" class=\"dataframe\">\n",
       "  <thead>\n",
       "    <tr style=\"text-align: right;\">\n",
       "      <th></th>\n",
       "      <th>Ticker</th>\n",
       "      <th>Company_Name</th>\n",
       "      <th>Currency</th>\n",
       "      <th>Data_Date</th>\n",
       "      <th>Industry</th>\n",
       "      <th>Sector</th>\n",
       "      <th>Country</th>\n",
       "      <th>Total_ESG_Score</th>\n",
       "      <th>Environmental_Score</th>\n",
       "      <th>Social_Score</th>\n",
       "      <th>...</th>\n",
       "      <th>ROA_Pct</th>\n",
       "      <th>Profit_Margin_Pct</th>\n",
       "      <th>EBITDA_Margin_Pct</th>\n",
       "      <th>EPS</th>\n",
       "      <th>Beta</th>\n",
       "      <th>Debt_to_Equity</th>\n",
       "      <th>Current_Ratio</th>\n",
       "      <th>Operating_Cash_Flow</th>\n",
       "      <th>Revenue_Growth_Pct</th>\n",
       "      <th>Status</th>\n",
       "    </tr>\n",
       "  </thead>\n",
       "  <tbody>\n",
       "    <tr>\n",
       "      <th>197</th>\n",
       "      <td>GALD.SW</td>\n",
       "      <td>NaN</td>\n",
       "      <td>CHF</td>\n",
       "      <td>12/31/24</td>\n",
       "      <td>Drug Manufacturers - Specialty &amp; Generic</td>\n",
       "      <td>Healthcare</td>\n",
       "      <td>Switzerland</td>\n",
       "      <td>19.8</td>\n",
       "      <td>3.84</td>\n",
       "      <td>11.03</td>\n",
       "      <td>...</td>\n",
       "      <td>3.65</td>\n",
       "      <td>8.06</td>\n",
       "      <td>20.98</td>\n",
       "      <td>1.28</td>\n",
       "      <td>NaN</td>\n",
       "      <td>36.84</td>\n",
       "      <td>1.09</td>\n",
       "      <td>951000000.0</td>\n",
       "      <td>7.85</td>\n",
       "      <td>Success</td>\n",
       "    </tr>\n",
       "  </tbody>\n",
       "</table>\n",
       "<p>1 rows × 34 columns</p>\n",
       "</div>"
      ],
      "text/plain": [
       "      Ticker Company_Name Currency Data_Date  \\\n",
       "197  GALD.SW          NaN      CHF  12/31/24   \n",
       "\n",
       "                                     Industry      Sector      Country  \\\n",
       "197  Drug Manufacturers - Specialty & Generic  Healthcare  Switzerland   \n",
       "\n",
       "     Total_ESG_Score  Environmental_Score  Social_Score  ...  ROA_Pct  \\\n",
       "197             19.8                 3.84         11.03  ...     3.65   \n",
       "\n",
       "    Profit_Margin_Pct  EBITDA_Margin_Pct   EPS  Beta  Debt_to_Equity  \\\n",
       "197              8.06              20.98  1.28   NaN           36.84   \n",
       "\n",
       "     Current_Ratio  Operating_Cash_Flow  Revenue_Growth_Pct   Status  \n",
       "197           1.09          951000000.0                7.85  Success  \n",
       "\n",
       "[1 rows x 34 columns]"
      ]
     },
     "execution_count": 100,
     "metadata": {},
     "output_type": "execute_result"
    }
   ],
   "source": [
    "spi_esg[spi_esg[\"Company_Name\"].isna()]"
   ]
  },
  {
   "cell_type": "code",
   "execution_count": 101,
   "id": "9181d025",
   "metadata": {
    "ExecuteTime": {
     "end_time": "2025-10-19T18:23:58.362184Z",
     "start_time": "2025-10-19T18:23:58.352856Z"
    }
   },
   "outputs": [
    {
     "name": "stderr",
     "output_type": "stream",
     "text": [
      "/var/folders/dz/c4g03dt52yv21fwz68wlsfz80000gn/T/ipykernel_71945/4170913370.py:1: FutureWarning: A value is trying to be set on a copy of a DataFrame or Series through chained assignment using an inplace method.\n",
      "The behavior will change in pandas 3.0. This inplace method will never work because the intermediate object on which we are setting values always behaves as a copy.\n",
      "\n",
      "For example, when doing 'df[col].method(value, inplace=True)', try using 'df.method({col: value}, inplace=True)' or df[col] = df[col].method(value) instead, to perform the operation inplace on the original object.\n",
      "\n",
      "\n",
      "  spi_esg['Company_Name'].fillna(\"Galderma\", inplace=True)\n"
     ]
    },
    {
     "data": {
      "application/vnd.microsoft.datawrangler.viewer.v0+json": {
       "columns": [
        {
         "name": "index",
         "rawType": "int64",
         "type": "integer"
        },
        {
         "name": "Ticker",
         "rawType": "object",
         "type": "string"
        },
        {
         "name": "Company_Name",
         "rawType": "object",
         "type": "string"
        },
        {
         "name": "Currency",
         "rawType": "object",
         "type": "string"
        },
        {
         "name": "Data_Date",
         "rawType": "object",
         "type": "string"
        },
        {
         "name": "Industry",
         "rawType": "object",
         "type": "string"
        },
        {
         "name": "Sector",
         "rawType": "object",
         "type": "string"
        },
        {
         "name": "Country",
         "rawType": "object",
         "type": "string"
        },
        {
         "name": "Total_ESG_Score",
         "rawType": "float64",
         "type": "float"
        },
        {
         "name": "Environmental_Score",
         "rawType": "float64",
         "type": "float"
        },
        {
         "name": "Social_Score",
         "rawType": "float64",
         "type": "float"
        },
        {
         "name": "Governance_Score",
         "rawType": "float64",
         "type": "float"
        },
        {
         "name": "ESG_Performance",
         "rawType": "object",
         "type": "string"
        },
        {
         "name": "Highest_Controversy",
         "rawType": "float64",
         "type": "float"
        },
        {
         "name": "Stock_Price",
         "rawType": "float64",
         "type": "float"
        },
        {
         "name": "Current_Price",
         "rawType": "float64",
         "type": "float"
        },
        {
         "name": "Market_Cap",
         "rawType": "float64",
         "type": "float"
        },
        {
         "name": "PE_Ratio",
         "rawType": "float64",
         "type": "float"
        },
        {
         "name": "PB_Ratio",
         "rawType": "float64",
         "type": "float"
        },
        {
         "name": "Annual_Return_Pct",
         "rawType": "float64",
         "type": "float"
        },
        {
         "name": "Revenue",
         "rawType": "float64",
         "type": "float"
        },
        {
         "name": "Net_Income",
         "rawType": "float64",
         "type": "float"
        },
        {
         "name": "Operating_Margin_Pct",
         "rawType": "float64",
         "type": "float"
        },
        {
         "name": "Gross_Margin_Pct",
         "rawType": "float64",
         "type": "float"
        },
        {
         "name": "ROE_Pct",
         "rawType": "float64",
         "type": "float"
        },
        {
         "name": "ROA_Pct",
         "rawType": "float64",
         "type": "float"
        },
        {
         "name": "Profit_Margin_Pct",
         "rawType": "float64",
         "type": "float"
        },
        {
         "name": "EBITDA_Margin_Pct",
         "rawType": "float64",
         "type": "float"
        },
        {
         "name": "EPS",
         "rawType": "float64",
         "type": "float"
        },
        {
         "name": "Beta",
         "rawType": "float64",
         "type": "float"
        },
        {
         "name": "Debt_to_Equity",
         "rawType": "float64",
         "type": "float"
        },
        {
         "name": "Current_Ratio",
         "rawType": "float64",
         "type": "float"
        },
        {
         "name": "Operating_Cash_Flow",
         "rawType": "float64",
         "type": "float"
        },
        {
         "name": "Revenue_Growth_Pct",
         "rawType": "float64",
         "type": "float"
        },
        {
         "name": "Status",
         "rawType": "object",
         "type": "string"
        }
       ],
       "ref": "f66690b7-ac51-4046-862c-3804529ca500",
       "rows": [],
       "shape": {
        "columns": 34,
        "rows": 0
       }
      },
      "text/html": [
       "<div>\n",
       "<style scoped>\n",
       "    .dataframe tbody tr th:only-of-type {\n",
       "        vertical-align: middle;\n",
       "    }\n",
       "\n",
       "    .dataframe tbody tr th {\n",
       "        vertical-align: top;\n",
       "    }\n",
       "\n",
       "    .dataframe thead th {\n",
       "        text-align: right;\n",
       "    }\n",
       "</style>\n",
       "<table border=\"1\" class=\"dataframe\">\n",
       "  <thead>\n",
       "    <tr style=\"text-align: right;\">\n",
       "      <th></th>\n",
       "      <th>Ticker</th>\n",
       "      <th>Company_Name</th>\n",
       "      <th>Currency</th>\n",
       "      <th>Data_Date</th>\n",
       "      <th>Industry</th>\n",
       "      <th>Sector</th>\n",
       "      <th>Country</th>\n",
       "      <th>Total_ESG_Score</th>\n",
       "      <th>Environmental_Score</th>\n",
       "      <th>Social_Score</th>\n",
       "      <th>...</th>\n",
       "      <th>ROA_Pct</th>\n",
       "      <th>Profit_Margin_Pct</th>\n",
       "      <th>EBITDA_Margin_Pct</th>\n",
       "      <th>EPS</th>\n",
       "      <th>Beta</th>\n",
       "      <th>Debt_to_Equity</th>\n",
       "      <th>Current_Ratio</th>\n",
       "      <th>Operating_Cash_Flow</th>\n",
       "      <th>Revenue_Growth_Pct</th>\n",
       "      <th>Status</th>\n",
       "    </tr>\n",
       "  </thead>\n",
       "  <tbody>\n",
       "  </tbody>\n",
       "</table>\n",
       "<p>0 rows × 34 columns</p>\n",
       "</div>"
      ],
      "text/plain": [
       "Empty DataFrame\n",
       "Columns: [Ticker, Company_Name, Currency, Data_Date, Industry, Sector, Country, Total_ESG_Score, Environmental_Score, Social_Score, Governance_Score, ESG_Performance, Highest_Controversy, Stock_Price, Current_Price, Market_Cap, PE_Ratio, PB_Ratio, Annual_Return_Pct, Revenue, Net_Income, Operating_Margin_Pct, Gross_Margin_Pct, ROE_Pct, ROA_Pct, Profit_Margin_Pct, EBITDA_Margin_Pct, EPS, Beta, Debt_to_Equity, Current_Ratio, Operating_Cash_Flow, Revenue_Growth_Pct, Status]\n",
       "Index: []\n",
       "\n",
       "[0 rows x 34 columns]"
      ]
     },
     "execution_count": 101,
     "metadata": {},
     "output_type": "execute_result"
    }
   ],
   "source": [
    "spi_esg['Company_Name'].fillna(\"Galderma\", inplace=True)\n",
    "spi_esg[spi_esg[\"Company_Name\"].isna()]"
   ]
  },
  {
   "cell_type": "code",
   "execution_count": 102,
   "id": "a716145c",
   "metadata": {
    "ExecuteTime": {
     "end_time": "2025-10-19T18:23:58.577554Z",
     "start_time": "2025-10-19T18:23:58.569318Z"
    }
   },
   "outputs": [
    {
     "data": {
      "application/vnd.microsoft.datawrangler.viewer.v0+json": {
       "columns": [
        {
         "name": "index",
         "rawType": "int64",
         "type": "integer"
        },
        {
         "name": "Ticker",
         "rawType": "object",
         "type": "string"
        },
        {
         "name": "Company_Name",
         "rawType": "object",
         "type": "string"
        },
        {
         "name": "Currency",
         "rawType": "object",
         "type": "string"
        },
        {
         "name": "Data_Date",
         "rawType": "object",
         "type": "string"
        },
        {
         "name": "Industry",
         "rawType": "object",
         "type": "string"
        },
        {
         "name": "Sector",
         "rawType": "object",
         "type": "string"
        },
        {
         "name": "Country",
         "rawType": "object",
         "type": "string"
        },
        {
         "name": "Total_ESG_Score",
         "rawType": "float64",
         "type": "float"
        },
        {
         "name": "Environmental_Score",
         "rawType": "float64",
         "type": "float"
        },
        {
         "name": "Social_Score",
         "rawType": "float64",
         "type": "float"
        },
        {
         "name": "Governance_Score",
         "rawType": "float64",
         "type": "float"
        },
        {
         "name": "ESG_Performance",
         "rawType": "object",
         "type": "string"
        },
        {
         "name": "Highest_Controversy",
         "rawType": "float64",
         "type": "float"
        },
        {
         "name": "Stock_Price",
         "rawType": "float64",
         "type": "float"
        },
        {
         "name": "Current_Price",
         "rawType": "float64",
         "type": "float"
        },
        {
         "name": "Market_Cap",
         "rawType": "float64",
         "type": "float"
        },
        {
         "name": "PE_Ratio",
         "rawType": "float64",
         "type": "float"
        },
        {
         "name": "PB_Ratio",
         "rawType": "float64",
         "type": "float"
        },
        {
         "name": "Annual_Return_Pct",
         "rawType": "float64",
         "type": "float"
        },
        {
         "name": "Revenue",
         "rawType": "float64",
         "type": "float"
        },
        {
         "name": "Net_Income",
         "rawType": "float64",
         "type": "float"
        },
        {
         "name": "Operating_Margin_Pct",
         "rawType": "float64",
         "type": "float"
        },
        {
         "name": "Gross_Margin_Pct",
         "rawType": "float64",
         "type": "float"
        },
        {
         "name": "ROE_Pct",
         "rawType": "float64",
         "type": "float"
        },
        {
         "name": "ROA_Pct",
         "rawType": "float64",
         "type": "float"
        },
        {
         "name": "Profit_Margin_Pct",
         "rawType": "float64",
         "type": "float"
        },
        {
         "name": "EBITDA_Margin_Pct",
         "rawType": "float64",
         "type": "float"
        },
        {
         "name": "EPS",
         "rawType": "float64",
         "type": "float"
        },
        {
         "name": "Beta",
         "rawType": "float64",
         "type": "float"
        },
        {
         "name": "Debt_to_Equity",
         "rawType": "float64",
         "type": "float"
        },
        {
         "name": "Current_Ratio",
         "rawType": "float64",
         "type": "float"
        },
        {
         "name": "Operating_Cash_Flow",
         "rawType": "float64",
         "type": "float"
        },
        {
         "name": "Revenue_Growth_Pct",
         "rawType": "float64",
         "type": "float"
        },
        {
         "name": "Status",
         "rawType": "object",
         "type": "string"
        }
       ],
       "ref": "1d174ae6-8dc6-4d0c-9992-7b6e424aa23f",
       "rows": [],
       "shape": {
        "columns": 34,
        "rows": 0
       }
      },
      "text/html": [
       "<div>\n",
       "<style scoped>\n",
       "    .dataframe tbody tr th:only-of-type {\n",
       "        vertical-align: middle;\n",
       "    }\n",
       "\n",
       "    .dataframe tbody tr th {\n",
       "        vertical-align: top;\n",
       "    }\n",
       "\n",
       "    .dataframe thead th {\n",
       "        text-align: right;\n",
       "    }\n",
       "</style>\n",
       "<table border=\"1\" class=\"dataframe\">\n",
       "  <thead>\n",
       "    <tr style=\"text-align: right;\">\n",
       "      <th></th>\n",
       "      <th>Ticker</th>\n",
       "      <th>Company_Name</th>\n",
       "      <th>Currency</th>\n",
       "      <th>Data_Date</th>\n",
       "      <th>Industry</th>\n",
       "      <th>Sector</th>\n",
       "      <th>Country</th>\n",
       "      <th>Total_ESG_Score</th>\n",
       "      <th>Environmental_Score</th>\n",
       "      <th>Social_Score</th>\n",
       "      <th>...</th>\n",
       "      <th>ROA_Pct</th>\n",
       "      <th>Profit_Margin_Pct</th>\n",
       "      <th>EBITDA_Margin_Pct</th>\n",
       "      <th>EPS</th>\n",
       "      <th>Beta</th>\n",
       "      <th>Debt_to_Equity</th>\n",
       "      <th>Current_Ratio</th>\n",
       "      <th>Operating_Cash_Flow</th>\n",
       "      <th>Revenue_Growth_Pct</th>\n",
       "      <th>Status</th>\n",
       "    </tr>\n",
       "  </thead>\n",
       "  <tbody>\n",
       "  </tbody>\n",
       "</table>\n",
       "<p>0 rows × 34 columns</p>\n",
       "</div>"
      ],
      "text/plain": [
       "Empty DataFrame\n",
       "Columns: [Ticker, Company_Name, Currency, Data_Date, Industry, Sector, Country, Total_ESG_Score, Environmental_Score, Social_Score, Governance_Score, ESG_Performance, Highest_Controversy, Stock_Price, Current_Price, Market_Cap, PE_Ratio, PB_Ratio, Annual_Return_Pct, Revenue, Net_Income, Operating_Margin_Pct, Gross_Margin_Pct, ROE_Pct, ROA_Pct, Profit_Margin_Pct, EBITDA_Margin_Pct, EPS, Beta, Debt_to_Equity, Current_Ratio, Operating_Cash_Flow, Revenue_Growth_Pct, Status]\n",
       "Index: []\n",
       "\n",
       "[0 rows x 34 columns]"
      ]
     },
     "execution_count": 102,
     "metadata": {},
     "output_type": "execute_result"
    }
   ],
   "source": [
    "sp500_esg[sp500_esg[\"Company_Name\"].isna()]"
   ]
  },
  {
   "cell_type": "markdown",
   "id": "effbaaf9",
   "metadata": {},
   "source": [
    "### 3.3.4 Check Duplicates by Company Name"
   ]
  },
  {
   "cell_type": "code",
   "execution_count": 103,
   "id": "afe2a14f",
   "metadata": {
    "ExecuteTime": {
     "end_time": "2025-10-19T18:23:58.712905Z",
     "start_time": "2025-10-19T18:23:58.703003Z"
    }
   },
   "outputs": [
    {
     "name": "stdout",
     "output_type": "stream",
     "text": [
      "     Ticker          Company_Name Currency Data_Date                        Industry       Sector      Country  Total_ESG_Score  Environmental_Score  Social_Score  Governance_Score ESG_Performance  Highest_Controversy  Stock_Price  Current_Price    Market_Cap  PE_Ratio  PB_Ratio  Annual_Return_Pct       Revenue   Net_Income  Operating_Margin_Pct  Gross_Margin_Pct  ROE_Pct  ROA_Pct  Profit_Margin_Pct  EBITDA_Margin_Pct   EPS   Beta  Debt_to_Equity  Current_Ratio  Operating_Cash_Flow  Revenue_Growth_Pct   Status\n",
      "39  SCHN.SW  Schindler Holding AG      CHF  12/31/24  Specialty Industrial Machinery  Industrials  Switzerland            25.07                 9.86          8.84              6.36        AVG_PERF                  1.0       241.18          284.0  3.105988e+10     31.00      6.21              13.29  1.113000e+10  987000000.0                 12.56             73.28     22.3     7.14               8.87              13.36  9.16  0.717           14.87           1.39         1.622000e+09               -2.24  Success\n",
      "53  SCHP.SW  Schindler Holding AG      CHF  12/31/24  Specialty Industrial Machinery  Industrials  Switzerland            25.07                 9.86          8.84              6.36        AVG_PERF                  1.0       244.99          297.4  3.101536e+10     32.47      6.51              15.15  1.113000e+10  987000000.0                 12.56             73.28     22.3     7.14               8.87              13.36  9.16  0.717           14.87           1.39         1.622000e+09               -2.24  Success\n"
     ]
    }
   ],
   "source": [
    "spi_duplicates = spi_esg[spi_esg.duplicated(subset=['Company_Name'], keep=False)]\n",
    "print(spi_duplicates.to_string())"
   ]
  },
  {
   "cell_type": "code",
   "execution_count": 104,
   "id": "7ad913d3",
   "metadata": {
    "ExecuteTime": {
     "end_time": "2025-10-19T18:23:58.800306Z",
     "start_time": "2025-10-19T18:23:58.795558Z"
    }
   },
   "outputs": [
    {
     "data": {
      "text/plain": [
       "(136, 34)"
      ]
     },
     "execution_count": 104,
     "metadata": {},
     "output_type": "execute_result"
    }
   ],
   "source": [
    "# Keep SCHN.SW (Registered Shares) and remove SCHP.SW (Participation Certificates)\n",
    "# since SCHN.SW reflects the company’s core ESG profile\n",
    "spi_esg = spi_esg[spi_esg[\"Ticker\"] != \"SCHP.SW\"]\n",
    "spi_esg.shape"
   ]
  },
  {
   "cell_type": "code",
   "execution_count": 105,
   "id": "15c18003",
   "metadata": {
    "ExecuteTime": {
     "end_time": "2025-10-19T18:23:58.818942Z",
     "start_time": "2025-10-19T18:23:58.814919Z"
    }
   },
   "outputs": [
    {
     "name": "stdout",
     "output_type": "stream",
     "text": [
      "Empty DataFrame\n",
      "Columns: [Ticker, Company_Name, Total_ESG_Score, Environmental_Score, Stock_Price]\n",
      "Index: []\n"
     ]
    }
   ],
   "source": [
    "sp500_duplicates = sp500_esg[sp500_esg.duplicated(subset=['Company_Name'], keep=False)]\n",
    "print(sp500_duplicates[['Ticker', 'Company_Name', 'Total_ESG_Score','Environmental_Score', 'Stock_Price']].to_string())"
   ]
  },
  {
   "cell_type": "code",
   "execution_count": 106,
   "id": "ec901310",
   "metadata": {},
   "outputs": [
    {
     "data": {
      "text/plain": [
       "(280, 34)"
      ]
     },
     "execution_count": 106,
     "metadata": {},
     "output_type": "execute_result"
    }
   ],
   "source": [
    "sp500_esg.shape"
   ]
  },
  {
   "cell_type": "markdown",
   "id": "3a4a5fb7",
   "metadata": {},
   "source": [
    "###  3.3.5 Other Missing Data"
   ]
  },
  {
   "cell_type": "code",
   "execution_count": 107,
   "id": "855cf149",
   "metadata": {
    "ExecuteTime": {
     "end_time": "2025-10-19T18:23:58.887875Z",
     "start_time": "2025-10-19T18:23:58.880091Z"
    }
   },
   "outputs": [
    {
     "data": {
      "application/vnd.microsoft.datawrangler.viewer.v0+json": {
       "columns": [
        {
         "name": "index",
         "rawType": "object",
         "type": "string"
        },
        {
         "name": "Dataset",
         "rawType": "object",
         "type": "string"
        },
        {
         "name": "Missing Count",
         "rawType": "int64",
         "type": "integer"
        },
        {
         "name": "Missing %",
         "rawType": "float64",
         "type": "float"
        }
       ],
       "ref": "0dfbe5a8-e21d-4d06-92c2-f5405e5ed23d",
       "rows": [
        [
         "Ticker",
         "SPI",
         "0",
         "0.0"
        ],
        [
         "Company_Name",
         "SPI",
         "0",
         "0.0"
        ],
        [
         "Currency",
         "SPI",
         "0",
         "0.0"
        ],
        [
         "Data_Date",
         "SPI",
         "0",
         "0.0"
        ],
        [
         "Industry",
         "SPI",
         "0",
         "0.0"
        ],
        [
         "Sector",
         "SPI",
         "0",
         "0.0"
        ],
        [
         "Country",
         "SPI",
         "0",
         "0.0"
        ],
        [
         "Total_ESG_Score",
         "SPI",
         "0",
         "0.0"
        ],
        [
         "Environmental_Score",
         "SPI",
         "68",
         "50.0"
        ],
        [
         "Social_Score",
         "SPI",
         "68",
         "50.0"
        ],
        [
         "Governance_Score",
         "SPI",
         "68",
         "50.0"
        ],
        [
         "ESG_Performance",
         "SPI",
         "0",
         "0.0"
        ],
        [
         "Highest_Controversy",
         "SPI",
         "1",
         "0.74"
        ],
        [
         "Stock_Price",
         "SPI",
         "1",
         "0.74"
        ],
        [
         "Current_Price",
         "SPI",
         "0",
         "0.0"
        ],
        [
         "Market_Cap",
         "SPI",
         "0",
         "0.0"
        ],
        [
         "PE_Ratio",
         "SPI",
         "22",
         "16.18"
        ],
        [
         "PB_Ratio",
         "SPI",
         "0",
         "0.0"
        ],
        [
         "Annual_Return_Pct",
         "SPI",
         "0",
         "0.0"
        ],
        [
         "Revenue",
         "SPI",
         "1",
         "0.74"
        ],
        [
         "Net_Income",
         "SPI",
         "0",
         "0.0"
        ],
        [
         "Operating_Margin_Pct",
         "SPI",
         "0",
         "0.0"
        ],
        [
         "Gross_Margin_Pct",
         "SPI",
         "0",
         "0.0"
        ],
        [
         "ROE_Pct",
         "SPI",
         "3",
         "2.21"
        ],
        [
         "ROA_Pct",
         "SPI",
         "1",
         "0.74"
        ],
        [
         "Profit_Margin_Pct",
         "SPI",
         "0",
         "0.0"
        ],
        [
         "EBITDA_Margin_Pct",
         "SPI",
         "23",
         "16.91"
        ],
        [
         "EPS",
         "SPI",
         "0",
         "0.0"
        ],
        [
         "Beta",
         "SPI",
         "2",
         "1.47"
        ],
        [
         "Debt_to_Equity",
         "SPI",
         "25",
         "18.38"
        ],
        [
         "Current_Ratio",
         "SPI",
         "19",
         "13.97"
        ],
        [
         "Operating_Cash_Flow",
         "SPI",
         "14",
         "10.29"
        ],
        [
         "Revenue_Growth_Pct",
         "SPI",
         "0",
         "0.0"
        ],
        [
         "Status",
         "SPI",
         "0",
         "0.0"
        ]
       ],
       "shape": {
        "columns": 3,
        "rows": 34
       }
      },
      "text/html": [
       "<div>\n",
       "<style scoped>\n",
       "    .dataframe tbody tr th:only-of-type {\n",
       "        vertical-align: middle;\n",
       "    }\n",
       "\n",
       "    .dataframe tbody tr th {\n",
       "        vertical-align: top;\n",
       "    }\n",
       "\n",
       "    .dataframe thead th {\n",
       "        text-align: right;\n",
       "    }\n",
       "</style>\n",
       "<table border=\"1\" class=\"dataframe\">\n",
       "  <thead>\n",
       "    <tr style=\"text-align: right;\">\n",
       "      <th></th>\n",
       "      <th>Dataset</th>\n",
       "      <th>Missing Count</th>\n",
       "      <th>Missing %</th>\n",
       "    </tr>\n",
       "  </thead>\n",
       "  <tbody>\n",
       "    <tr>\n",
       "      <th>Ticker</th>\n",
       "      <td>SPI</td>\n",
       "      <td>0</td>\n",
       "      <td>0.00</td>\n",
       "    </tr>\n",
       "    <tr>\n",
       "      <th>Company_Name</th>\n",
       "      <td>SPI</td>\n",
       "      <td>0</td>\n",
       "      <td>0.00</td>\n",
       "    </tr>\n",
       "    <tr>\n",
       "      <th>Currency</th>\n",
       "      <td>SPI</td>\n",
       "      <td>0</td>\n",
       "      <td>0.00</td>\n",
       "    </tr>\n",
       "    <tr>\n",
       "      <th>Data_Date</th>\n",
       "      <td>SPI</td>\n",
       "      <td>0</td>\n",
       "      <td>0.00</td>\n",
       "    </tr>\n",
       "    <tr>\n",
       "      <th>Industry</th>\n",
       "      <td>SPI</td>\n",
       "      <td>0</td>\n",
       "      <td>0.00</td>\n",
       "    </tr>\n",
       "    <tr>\n",
       "      <th>Sector</th>\n",
       "      <td>SPI</td>\n",
       "      <td>0</td>\n",
       "      <td>0.00</td>\n",
       "    </tr>\n",
       "    <tr>\n",
       "      <th>Country</th>\n",
       "      <td>SPI</td>\n",
       "      <td>0</td>\n",
       "      <td>0.00</td>\n",
       "    </tr>\n",
       "    <tr>\n",
       "      <th>Total_ESG_Score</th>\n",
       "      <td>SPI</td>\n",
       "      <td>0</td>\n",
       "      <td>0.00</td>\n",
       "    </tr>\n",
       "    <tr>\n",
       "      <th>Environmental_Score</th>\n",
       "      <td>SPI</td>\n",
       "      <td>68</td>\n",
       "      <td>50.00</td>\n",
       "    </tr>\n",
       "    <tr>\n",
       "      <th>Social_Score</th>\n",
       "      <td>SPI</td>\n",
       "      <td>68</td>\n",
       "      <td>50.00</td>\n",
       "    </tr>\n",
       "    <tr>\n",
       "      <th>Governance_Score</th>\n",
       "      <td>SPI</td>\n",
       "      <td>68</td>\n",
       "      <td>50.00</td>\n",
       "    </tr>\n",
       "    <tr>\n",
       "      <th>ESG_Performance</th>\n",
       "      <td>SPI</td>\n",
       "      <td>0</td>\n",
       "      <td>0.00</td>\n",
       "    </tr>\n",
       "    <tr>\n",
       "      <th>Highest_Controversy</th>\n",
       "      <td>SPI</td>\n",
       "      <td>1</td>\n",
       "      <td>0.74</td>\n",
       "    </tr>\n",
       "    <tr>\n",
       "      <th>Stock_Price</th>\n",
       "      <td>SPI</td>\n",
       "      <td>1</td>\n",
       "      <td>0.74</td>\n",
       "    </tr>\n",
       "    <tr>\n",
       "      <th>Current_Price</th>\n",
       "      <td>SPI</td>\n",
       "      <td>0</td>\n",
       "      <td>0.00</td>\n",
       "    </tr>\n",
       "    <tr>\n",
       "      <th>Market_Cap</th>\n",
       "      <td>SPI</td>\n",
       "      <td>0</td>\n",
       "      <td>0.00</td>\n",
       "    </tr>\n",
       "    <tr>\n",
       "      <th>PE_Ratio</th>\n",
       "      <td>SPI</td>\n",
       "      <td>22</td>\n",
       "      <td>16.18</td>\n",
       "    </tr>\n",
       "    <tr>\n",
       "      <th>PB_Ratio</th>\n",
       "      <td>SPI</td>\n",
       "      <td>0</td>\n",
       "      <td>0.00</td>\n",
       "    </tr>\n",
       "    <tr>\n",
       "      <th>Annual_Return_Pct</th>\n",
       "      <td>SPI</td>\n",
       "      <td>0</td>\n",
       "      <td>0.00</td>\n",
       "    </tr>\n",
       "    <tr>\n",
       "      <th>Revenue</th>\n",
       "      <td>SPI</td>\n",
       "      <td>1</td>\n",
       "      <td>0.74</td>\n",
       "    </tr>\n",
       "    <tr>\n",
       "      <th>Net_Income</th>\n",
       "      <td>SPI</td>\n",
       "      <td>0</td>\n",
       "      <td>0.00</td>\n",
       "    </tr>\n",
       "    <tr>\n",
       "      <th>Operating_Margin_Pct</th>\n",
       "      <td>SPI</td>\n",
       "      <td>0</td>\n",
       "      <td>0.00</td>\n",
       "    </tr>\n",
       "    <tr>\n",
       "      <th>Gross_Margin_Pct</th>\n",
       "      <td>SPI</td>\n",
       "      <td>0</td>\n",
       "      <td>0.00</td>\n",
       "    </tr>\n",
       "    <tr>\n",
       "      <th>ROE_Pct</th>\n",
       "      <td>SPI</td>\n",
       "      <td>3</td>\n",
       "      <td>2.21</td>\n",
       "    </tr>\n",
       "    <tr>\n",
       "      <th>ROA_Pct</th>\n",
       "      <td>SPI</td>\n",
       "      <td>1</td>\n",
       "      <td>0.74</td>\n",
       "    </tr>\n",
       "    <tr>\n",
       "      <th>Profit_Margin_Pct</th>\n",
       "      <td>SPI</td>\n",
       "      <td>0</td>\n",
       "      <td>0.00</td>\n",
       "    </tr>\n",
       "    <tr>\n",
       "      <th>EBITDA_Margin_Pct</th>\n",
       "      <td>SPI</td>\n",
       "      <td>23</td>\n",
       "      <td>16.91</td>\n",
       "    </tr>\n",
       "    <tr>\n",
       "      <th>EPS</th>\n",
       "      <td>SPI</td>\n",
       "      <td>0</td>\n",
       "      <td>0.00</td>\n",
       "    </tr>\n",
       "    <tr>\n",
       "      <th>Beta</th>\n",
       "      <td>SPI</td>\n",
       "      <td>2</td>\n",
       "      <td>1.47</td>\n",
       "    </tr>\n",
       "    <tr>\n",
       "      <th>Debt_to_Equity</th>\n",
       "      <td>SPI</td>\n",
       "      <td>25</td>\n",
       "      <td>18.38</td>\n",
       "    </tr>\n",
       "    <tr>\n",
       "      <th>Current_Ratio</th>\n",
       "      <td>SPI</td>\n",
       "      <td>19</td>\n",
       "      <td>13.97</td>\n",
       "    </tr>\n",
       "    <tr>\n",
       "      <th>Operating_Cash_Flow</th>\n",
       "      <td>SPI</td>\n",
       "      <td>14</td>\n",
       "      <td>10.29</td>\n",
       "    </tr>\n",
       "    <tr>\n",
       "      <th>Revenue_Growth_Pct</th>\n",
       "      <td>SPI</td>\n",
       "      <td>0</td>\n",
       "      <td>0.00</td>\n",
       "    </tr>\n",
       "    <tr>\n",
       "      <th>Status</th>\n",
       "      <td>SPI</td>\n",
       "      <td>0</td>\n",
       "      <td>0.00</td>\n",
       "    </tr>\n",
       "  </tbody>\n",
       "</table>\n",
       "</div>"
      ],
      "text/plain": [
       "                     Dataset  Missing Count  Missing %\n",
       "Ticker                   SPI              0       0.00\n",
       "Company_Name             SPI              0       0.00\n",
       "Currency                 SPI              0       0.00\n",
       "Data_Date                SPI              0       0.00\n",
       "Industry                 SPI              0       0.00\n",
       "Sector                   SPI              0       0.00\n",
       "Country                  SPI              0       0.00\n",
       "Total_ESG_Score          SPI              0       0.00\n",
       "Environmental_Score      SPI             68      50.00\n",
       "Social_Score             SPI             68      50.00\n",
       "Governance_Score         SPI             68      50.00\n",
       "ESG_Performance          SPI              0       0.00\n",
       "Highest_Controversy      SPI              1       0.74\n",
       "Stock_Price              SPI              1       0.74\n",
       "Current_Price            SPI              0       0.00\n",
       "Market_Cap               SPI              0       0.00\n",
       "PE_Ratio                 SPI             22      16.18\n",
       "PB_Ratio                 SPI              0       0.00\n",
       "Annual_Return_Pct        SPI              0       0.00\n",
       "Revenue                  SPI              1       0.74\n",
       "Net_Income               SPI              0       0.00\n",
       "Operating_Margin_Pct     SPI              0       0.00\n",
       "Gross_Margin_Pct         SPI              0       0.00\n",
       "ROE_Pct                  SPI              3       2.21\n",
       "ROA_Pct                  SPI              1       0.74\n",
       "Profit_Margin_Pct        SPI              0       0.00\n",
       "EBITDA_Margin_Pct        SPI             23      16.91\n",
       "EPS                      SPI              0       0.00\n",
       "Beta                     SPI              2       1.47\n",
       "Debt_to_Equity           SPI             25      18.38\n",
       "Current_Ratio            SPI             19      13.97\n",
       "Operating_Cash_Flow      SPI             14      10.29\n",
       "Revenue_Growth_Pct       SPI              0       0.00\n",
       "Status                   SPI              0       0.00"
      ]
     },
     "execution_count": 107,
     "metadata": {},
     "output_type": "execute_result"
    }
   ],
   "source": [
    "missing_summary(spi_esg, \"SPI\")"
   ]
  },
  {
   "cell_type": "code",
   "execution_count": 108,
   "id": "8c950854",
   "metadata": {
    "ExecuteTime": {
     "end_time": "2025-10-19T18:23:59.036565Z",
     "start_time": "2025-10-19T18:23:59.028789Z"
    }
   },
   "outputs": [
    {
     "name": "stdout",
     "output_type": "stream",
     "text": [
      "         Company_Name  Highest_Controversy  Stock_Price      Revenue  ROE_Pct  ROA_Pct   Beta\n",
      "  EvoNext Holdings SA                  0.0         1.16          NaN   -12.78    -7.39 -0.116\n",
      "        BB Biotech AG                  NaN        34.32  -80803000.0   -20.75    -2.97  0.787\n",
      "       LEM Holding SA                  0.0       805.00  301692000.0      NaN      NaN  0.732\n",
      "           Temenos AG                  2.0          NaN 1083507968.0    48.96     6.64  0.836\n",
      "mobilezone holding ag                  0.0         9.75  958308992.0      NaN     7.36  0.505\n",
      " Glarner Kantonalbank                  0.0        20.93   95047000.0     5.04     0.24    NaN\n",
      "          Idorsia Ltd                  0.0         0.79  217224000.0      NaN   -18.52  1.541\n",
      "             Galderma                  1.0       106.76 4689999872.0     4.92     3.65    NaN\n"
     ]
    }
   ],
   "source": [
    "missing_minor_columns = [\n",
    "    'Highest_Controversy', 'Stock_Price', 'Revenue',\n",
    "    'ROE_Pct', 'ROA_Pct', 'Beta'\n",
    "]\n",
    "\n",
    "spi_missing_minor_data = spi_esg[spi_esg[missing_minor_columns].isnull().any(axis=1)]\n",
    "print(spi_missing_minor_data[['Company_Name'] + missing_minor_columns].to_string(index=False))"
   ]
  },
  {
   "cell_type": "markdown",
   "id": "de271e8f",
   "metadata": {},
   "source": [
    "Suggested Strategies for Handling Missing Data:\n",
    "\n",
    "Given that only 136 companies have a Total ESG Score, better avoid removing further companies due to other missing values.\n",
    "\n",
    "1.\tMissing values in Highest_Controversy, Stock_Price, Revenue, ROA_% (1 case each), ROE_% (3 cases), and Beta (2 cases) are negligible and unlikely to bias results.\n",
    "2.\tExclude `PE_Ratio` from the analysis, which is similar to `Market_Cap`.\n",
    "3.\tExclude `EBITDA_Margin_%`, which it is similar to `Profit_Margin_%`.\n",
    "4.\tBeta, Debt_to_Equity, Current_Ratio, Operating_Cash_Flow are all risk and stability indicators, we can use only `Beta`, which has less missing data and better captures systematic market risk."
   ]
  },
  {
   "cell_type": "code",
   "execution_count": 109,
   "id": "a298d2ac",
   "metadata": {
    "ExecuteTime": {
     "end_time": "2025-10-19T18:23:59.191864Z",
     "start_time": "2025-10-19T18:23:59.181965Z"
    }
   },
   "outputs": [
    {
     "data": {
      "application/vnd.microsoft.datawrangler.viewer.v0+json": {
       "columns": [
        {
         "name": "index",
         "rawType": "object",
         "type": "string"
        },
        {
         "name": "Dataset",
         "rawType": "object",
         "type": "string"
        },
        {
         "name": "Missing Count",
         "rawType": "int64",
         "type": "integer"
        },
        {
         "name": "Missing %",
         "rawType": "float64",
         "type": "float"
        }
       ],
       "ref": "a0d199d5-2689-4c47-8c0a-df7b4f0748f2",
       "rows": [
        [
         "Ticker",
         "SP500",
         "0",
         "0.0"
        ],
        [
         "Company_Name",
         "SP500",
         "0",
         "0.0"
        ],
        [
         "Currency",
         "SP500",
         "0",
         "0.0"
        ],
        [
         "Data_Date",
         "SP500",
         "0",
         "0.0"
        ],
        [
         "Industry",
         "SP500",
         "0",
         "0.0"
        ],
        [
         "Sector",
         "SP500",
         "0",
         "0.0"
        ],
        [
         "Country",
         "SP500",
         "0",
         "0.0"
        ],
        [
         "Total_ESG_Score",
         "SP500",
         "0",
         "0.0"
        ],
        [
         "Environmental_Score",
         "SP500",
         "1",
         "0.36"
        ],
        [
         "Social_Score",
         "SP500",
         "1",
         "0.36"
        ],
        [
         "Governance_Score",
         "SP500",
         "1",
         "0.36"
        ],
        [
         "ESG_Performance",
         "SP500",
         "0",
         "0.0"
        ],
        [
         "Highest_Controversy",
         "SP500",
         "0",
         "0.0"
        ],
        [
         "Stock_Price",
         "SP500",
         "0",
         "0.0"
        ],
        [
         "Current_Price",
         "SP500",
         "0",
         "0.0"
        ],
        [
         "Market_Cap",
         "SP500",
         "0",
         "0.0"
        ],
        [
         "PE_Ratio",
         "SP500",
         "15",
         "5.36"
        ],
        [
         "PB_Ratio",
         "SP500",
         "0",
         "0.0"
        ],
        [
         "Annual_Return_Pct",
         "SP500",
         "0",
         "0.0"
        ],
        [
         "Revenue",
         "SP500",
         "0",
         "0.0"
        ],
        [
         "Net_Income",
         "SP500",
         "0",
         "0.0"
        ],
        [
         "Operating_Margin_Pct",
         "SP500",
         "0",
         "0.0"
        ],
        [
         "Gross_Margin_Pct",
         "SP500",
         "0",
         "0.0"
        ],
        [
         "ROE_Pct",
         "SP500",
         "19",
         "6.79"
        ],
        [
         "ROA_Pct",
         "SP500",
         "4",
         "1.43"
        ],
        [
         "Profit_Margin_Pct",
         "SP500",
         "0",
         "0.0"
        ],
        [
         "EBITDA_Margin_Pct",
         "SP500",
         "21",
         "7.5"
        ],
        [
         "EPS",
         "SP500",
         "0",
         "0.0"
        ],
        [
         "Beta",
         "SP500",
         "3",
         "1.07"
        ],
        [
         "Debt_to_Equity",
         "SP500",
         "38",
         "13.57"
        ],
        [
         "Current_Ratio",
         "SP500",
         "20",
         "7.14"
        ],
        [
         "Operating_Cash_Flow",
         "SP500",
         "14",
         "5.0"
        ],
        [
         "Revenue_Growth_Pct",
         "SP500",
         "1",
         "0.36"
        ],
        [
         "Status",
         "SP500",
         "0",
         "0.0"
        ]
       ],
       "shape": {
        "columns": 3,
        "rows": 34
       }
      },
      "text/html": [
       "<div>\n",
       "<style scoped>\n",
       "    .dataframe tbody tr th:only-of-type {\n",
       "        vertical-align: middle;\n",
       "    }\n",
       "\n",
       "    .dataframe tbody tr th {\n",
       "        vertical-align: top;\n",
       "    }\n",
       "\n",
       "    .dataframe thead th {\n",
       "        text-align: right;\n",
       "    }\n",
       "</style>\n",
       "<table border=\"1\" class=\"dataframe\">\n",
       "  <thead>\n",
       "    <tr style=\"text-align: right;\">\n",
       "      <th></th>\n",
       "      <th>Dataset</th>\n",
       "      <th>Missing Count</th>\n",
       "      <th>Missing %</th>\n",
       "    </tr>\n",
       "  </thead>\n",
       "  <tbody>\n",
       "    <tr>\n",
       "      <th>Ticker</th>\n",
       "      <td>SP500</td>\n",
       "      <td>0</td>\n",
       "      <td>0.00</td>\n",
       "    </tr>\n",
       "    <tr>\n",
       "      <th>Company_Name</th>\n",
       "      <td>SP500</td>\n",
       "      <td>0</td>\n",
       "      <td>0.00</td>\n",
       "    </tr>\n",
       "    <tr>\n",
       "      <th>Currency</th>\n",
       "      <td>SP500</td>\n",
       "      <td>0</td>\n",
       "      <td>0.00</td>\n",
       "    </tr>\n",
       "    <tr>\n",
       "      <th>Data_Date</th>\n",
       "      <td>SP500</td>\n",
       "      <td>0</td>\n",
       "      <td>0.00</td>\n",
       "    </tr>\n",
       "    <tr>\n",
       "      <th>Industry</th>\n",
       "      <td>SP500</td>\n",
       "      <td>0</td>\n",
       "      <td>0.00</td>\n",
       "    </tr>\n",
       "    <tr>\n",
       "      <th>Sector</th>\n",
       "      <td>SP500</td>\n",
       "      <td>0</td>\n",
       "      <td>0.00</td>\n",
       "    </tr>\n",
       "    <tr>\n",
       "      <th>Country</th>\n",
       "      <td>SP500</td>\n",
       "      <td>0</td>\n",
       "      <td>0.00</td>\n",
       "    </tr>\n",
       "    <tr>\n",
       "      <th>Total_ESG_Score</th>\n",
       "      <td>SP500</td>\n",
       "      <td>0</td>\n",
       "      <td>0.00</td>\n",
       "    </tr>\n",
       "    <tr>\n",
       "      <th>Environmental_Score</th>\n",
       "      <td>SP500</td>\n",
       "      <td>1</td>\n",
       "      <td>0.36</td>\n",
       "    </tr>\n",
       "    <tr>\n",
       "      <th>Social_Score</th>\n",
       "      <td>SP500</td>\n",
       "      <td>1</td>\n",
       "      <td>0.36</td>\n",
       "    </tr>\n",
       "    <tr>\n",
       "      <th>Governance_Score</th>\n",
       "      <td>SP500</td>\n",
       "      <td>1</td>\n",
       "      <td>0.36</td>\n",
       "    </tr>\n",
       "    <tr>\n",
       "      <th>ESG_Performance</th>\n",
       "      <td>SP500</td>\n",
       "      <td>0</td>\n",
       "      <td>0.00</td>\n",
       "    </tr>\n",
       "    <tr>\n",
       "      <th>Highest_Controversy</th>\n",
       "      <td>SP500</td>\n",
       "      <td>0</td>\n",
       "      <td>0.00</td>\n",
       "    </tr>\n",
       "    <tr>\n",
       "      <th>Stock_Price</th>\n",
       "      <td>SP500</td>\n",
       "      <td>0</td>\n",
       "      <td>0.00</td>\n",
       "    </tr>\n",
       "    <tr>\n",
       "      <th>Current_Price</th>\n",
       "      <td>SP500</td>\n",
       "      <td>0</td>\n",
       "      <td>0.00</td>\n",
       "    </tr>\n",
       "    <tr>\n",
       "      <th>Market_Cap</th>\n",
       "      <td>SP500</td>\n",
       "      <td>0</td>\n",
       "      <td>0.00</td>\n",
       "    </tr>\n",
       "    <tr>\n",
       "      <th>PE_Ratio</th>\n",
       "      <td>SP500</td>\n",
       "      <td>15</td>\n",
       "      <td>5.36</td>\n",
       "    </tr>\n",
       "    <tr>\n",
       "      <th>PB_Ratio</th>\n",
       "      <td>SP500</td>\n",
       "      <td>0</td>\n",
       "      <td>0.00</td>\n",
       "    </tr>\n",
       "    <tr>\n",
       "      <th>Annual_Return_Pct</th>\n",
       "      <td>SP500</td>\n",
       "      <td>0</td>\n",
       "      <td>0.00</td>\n",
       "    </tr>\n",
       "    <tr>\n",
       "      <th>Revenue</th>\n",
       "      <td>SP500</td>\n",
       "      <td>0</td>\n",
       "      <td>0.00</td>\n",
       "    </tr>\n",
       "    <tr>\n",
       "      <th>Net_Income</th>\n",
       "      <td>SP500</td>\n",
       "      <td>0</td>\n",
       "      <td>0.00</td>\n",
       "    </tr>\n",
       "    <tr>\n",
       "      <th>Operating_Margin_Pct</th>\n",
       "      <td>SP500</td>\n",
       "      <td>0</td>\n",
       "      <td>0.00</td>\n",
       "    </tr>\n",
       "    <tr>\n",
       "      <th>Gross_Margin_Pct</th>\n",
       "      <td>SP500</td>\n",
       "      <td>0</td>\n",
       "      <td>0.00</td>\n",
       "    </tr>\n",
       "    <tr>\n",
       "      <th>ROE_Pct</th>\n",
       "      <td>SP500</td>\n",
       "      <td>19</td>\n",
       "      <td>6.79</td>\n",
       "    </tr>\n",
       "    <tr>\n",
       "      <th>ROA_Pct</th>\n",
       "      <td>SP500</td>\n",
       "      <td>4</td>\n",
       "      <td>1.43</td>\n",
       "    </tr>\n",
       "    <tr>\n",
       "      <th>Profit_Margin_Pct</th>\n",
       "      <td>SP500</td>\n",
       "      <td>0</td>\n",
       "      <td>0.00</td>\n",
       "    </tr>\n",
       "    <tr>\n",
       "      <th>EBITDA_Margin_Pct</th>\n",
       "      <td>SP500</td>\n",
       "      <td>21</td>\n",
       "      <td>7.50</td>\n",
       "    </tr>\n",
       "    <tr>\n",
       "      <th>EPS</th>\n",
       "      <td>SP500</td>\n",
       "      <td>0</td>\n",
       "      <td>0.00</td>\n",
       "    </tr>\n",
       "    <tr>\n",
       "      <th>Beta</th>\n",
       "      <td>SP500</td>\n",
       "      <td>3</td>\n",
       "      <td>1.07</td>\n",
       "    </tr>\n",
       "    <tr>\n",
       "      <th>Debt_to_Equity</th>\n",
       "      <td>SP500</td>\n",
       "      <td>38</td>\n",
       "      <td>13.57</td>\n",
       "    </tr>\n",
       "    <tr>\n",
       "      <th>Current_Ratio</th>\n",
       "      <td>SP500</td>\n",
       "      <td>20</td>\n",
       "      <td>7.14</td>\n",
       "    </tr>\n",
       "    <tr>\n",
       "      <th>Operating_Cash_Flow</th>\n",
       "      <td>SP500</td>\n",
       "      <td>14</td>\n",
       "      <td>5.00</td>\n",
       "    </tr>\n",
       "    <tr>\n",
       "      <th>Revenue_Growth_Pct</th>\n",
       "      <td>SP500</td>\n",
       "      <td>1</td>\n",
       "      <td>0.36</td>\n",
       "    </tr>\n",
       "    <tr>\n",
       "      <th>Status</th>\n",
       "      <td>SP500</td>\n",
       "      <td>0</td>\n",
       "      <td>0.00</td>\n",
       "    </tr>\n",
       "  </tbody>\n",
       "</table>\n",
       "</div>"
      ],
      "text/plain": [
       "                     Dataset  Missing Count  Missing %\n",
       "Ticker                 SP500              0       0.00\n",
       "Company_Name           SP500              0       0.00\n",
       "Currency               SP500              0       0.00\n",
       "Data_Date              SP500              0       0.00\n",
       "Industry               SP500              0       0.00\n",
       "Sector                 SP500              0       0.00\n",
       "Country                SP500              0       0.00\n",
       "Total_ESG_Score        SP500              0       0.00\n",
       "Environmental_Score    SP500              1       0.36\n",
       "Social_Score           SP500              1       0.36\n",
       "Governance_Score       SP500              1       0.36\n",
       "ESG_Performance        SP500              0       0.00\n",
       "Highest_Controversy    SP500              0       0.00\n",
       "Stock_Price            SP500              0       0.00\n",
       "Current_Price          SP500              0       0.00\n",
       "Market_Cap             SP500              0       0.00\n",
       "PE_Ratio               SP500             15       5.36\n",
       "PB_Ratio               SP500              0       0.00\n",
       "Annual_Return_Pct      SP500              0       0.00\n",
       "Revenue                SP500              0       0.00\n",
       "Net_Income             SP500              0       0.00\n",
       "Operating_Margin_Pct   SP500              0       0.00\n",
       "Gross_Margin_Pct       SP500              0       0.00\n",
       "ROE_Pct                SP500             19       6.79\n",
       "ROA_Pct                SP500              4       1.43\n",
       "Profit_Margin_Pct      SP500              0       0.00\n",
       "EBITDA_Margin_Pct      SP500             21       7.50\n",
       "EPS                    SP500              0       0.00\n",
       "Beta                   SP500              3       1.07\n",
       "Debt_to_Equity         SP500             38      13.57\n",
       "Current_Ratio          SP500             20       7.14\n",
       "Operating_Cash_Flow    SP500             14       5.00\n",
       "Revenue_Growth_Pct     SP500              1       0.36\n",
       "Status                 SP500              0       0.00"
      ]
     },
     "execution_count": 109,
     "metadata": {},
     "output_type": "execute_result"
    }
   ],
   "source": [
    "missing_summary(sp500_esg, \"SP500\")"
   ]
  },
  {
   "cell_type": "markdown",
   "id": "d69ba9f5",
   "metadata": {},
   "source": [
    "TODO: depending on which metrics and industries we choose to further analyze, we may need to further remove some data from S&P 500 due to unbalanced size of two datasets and missing data. However, S&P 500 dataset is mainly for support and comparison, so here we don't go deeper with this dataset and adjust this dataset according to SPI dataset."
   ]
  },
  {
   "cell_type": "code",
   "execution_count": 110,
   "id": "2c27576a",
   "metadata": {
    "ExecuteTime": {
     "end_time": "2025-10-19T18:23:59.345212Z",
     "start_time": "2025-10-19T18:23:59.341079Z"
    }
   },
   "outputs": [],
   "source": [
    "# Remove columns with large missing data\n",
    "missing_large_columns = [\n",
    "    'PE_Ratio', 'EBITDA_Margin_Pct', 'Debt_to_Equity',\n",
    "    'Current_Ratio', 'Operating_Cash_Flow'\n",
    "]\n",
    "spi_esg = spi_esg.drop(columns=missing_large_columns)\n",
    "sp500_esg = sp500_esg.drop(columns=missing_large_columns)"
   ]
  },
  {
   "cell_type": "markdown",
   "id": "565a2882",
   "metadata": {},
   "source": [
    "Summary: After cleaning missing data, we retained 134 Swiss companies in the SPI group and 280 US companies in the S&P 500 group."
   ]
  },
  {
   "cell_type": "markdown",
   "id": "c0aa157d",
   "metadata": {},
   "source": [
    "## 3.4 Check and Fix Data Types"
   ]
  },
  {
   "cell_type": "code",
   "execution_count": 111,
   "id": "891cf569",
   "metadata": {
    "ExecuteTime": {
     "end_time": "2025-10-19T18:23:59.539212Z",
     "start_time": "2025-10-19T18:23:59.533324Z"
    }
   },
   "outputs": [
    {
     "data": {
      "application/vnd.microsoft.datawrangler.viewer.v0+json": {
       "columns": [
        {
         "name": "index",
         "rawType": "object",
         "type": "string"
        },
        {
         "name": "0",
         "rawType": "object",
         "type": "unknown"
        }
       ],
       "ref": "80bfea0f-5717-4ff8-8aac-099ad292d2dd",
       "rows": [
        [
         "Ticker",
         "object"
        ],
        [
         "Company_Name",
         "object"
        ],
        [
         "Currency",
         "object"
        ],
        [
         "Data_Date",
         "object"
        ],
        [
         "Industry",
         "object"
        ],
        [
         "Sector",
         "object"
        ],
        [
         "Country",
         "object"
        ],
        [
         "Total_ESG_Score",
         "float64"
        ],
        [
         "Environmental_Score",
         "float64"
        ],
        [
         "Social_Score",
         "float64"
        ],
        [
         "Governance_Score",
         "float64"
        ],
        [
         "ESG_Performance",
         "object"
        ],
        [
         "Highest_Controversy",
         "float64"
        ],
        [
         "Stock_Price",
         "float64"
        ],
        [
         "Current_Price",
         "float64"
        ],
        [
         "Market_Cap",
         "float64"
        ],
        [
         "PB_Ratio",
         "float64"
        ],
        [
         "Annual_Return_Pct",
         "float64"
        ],
        [
         "Revenue",
         "float64"
        ],
        [
         "Net_Income",
         "float64"
        ],
        [
         "Operating_Margin_Pct",
         "float64"
        ],
        [
         "Gross_Margin_Pct",
         "float64"
        ],
        [
         "ROE_Pct",
         "float64"
        ],
        [
         "ROA_Pct",
         "float64"
        ],
        [
         "Profit_Margin_Pct",
         "float64"
        ],
        [
         "EPS",
         "float64"
        ],
        [
         "Beta",
         "float64"
        ],
        [
         "Revenue_Growth_Pct",
         "float64"
        ],
        [
         "Status",
         "object"
        ]
       ],
       "shape": {
        "columns": 1,
        "rows": 29
       }
      },
      "text/plain": [
       "Ticker                   object\n",
       "Company_Name             object\n",
       "Currency                 object\n",
       "Data_Date                object\n",
       "Industry                 object\n",
       "Sector                   object\n",
       "Country                  object\n",
       "Total_ESG_Score         float64\n",
       "Environmental_Score     float64\n",
       "Social_Score            float64\n",
       "Governance_Score        float64\n",
       "ESG_Performance          object\n",
       "Highest_Controversy     float64\n",
       "Stock_Price             float64\n",
       "Current_Price           float64\n",
       "Market_Cap              float64\n",
       "PB_Ratio                float64\n",
       "Annual_Return_Pct       float64\n",
       "Revenue                 float64\n",
       "Net_Income              float64\n",
       "Operating_Margin_Pct    float64\n",
       "Gross_Margin_Pct        float64\n",
       "ROE_Pct                 float64\n",
       "ROA_Pct                 float64\n",
       "Profit_Margin_Pct       float64\n",
       "EPS                     float64\n",
       "Beta                    float64\n",
       "Revenue_Growth_Pct      float64\n",
       "Status                   object\n",
       "dtype: object"
      ]
     },
     "execution_count": 111,
     "metadata": {},
     "output_type": "execute_result"
    }
   ],
   "source": [
    "spi_esg.dtypes"
   ]
  },
  {
   "cell_type": "code",
   "execution_count": 112,
   "id": "f4dffb16",
   "metadata": {
    "ExecuteTime": {
     "end_time": "2025-10-19T18:23:59.668458Z",
     "start_time": "2025-10-19T18:23:59.642911Z"
    }
   },
   "outputs": [
    {
     "name": "stdout",
     "output_type": "stream",
     "text": [
      "\n",
      "SPI - Fixing Data Types:\n",
      "  Currency: object → category\n",
      "  Sector: object → category\n",
      "  Industry: object → category\n",
      "  Country: object → category\n",
      "  ESG_Performance: object → category\n",
      "  Status: object → category\n",
      "  Data_Date: → datetime64\n",
      "\n",
      "S&P 500 - Fixing Data Types:\n",
      "  Currency: object → category\n",
      "  Sector: object → category\n",
      "  Industry: object → category\n",
      "  Country: object → category\n",
      "  ESG_Performance: object → category\n",
      "  Status: object → category\n",
      "  Data_Date: → datetime64\n"
     ]
    }
   ],
   "source": [
    "def fix_datatypes(df, name):\n",
    "    \"\"\"Ensure columns have appropriate data types\"\"\"\n",
    "    print(f\"\\n{name} - Fixing Data Types:\")\n",
    "    \n",
    "    # Numeric columns that should be float\n",
    "    numeric_cols = ['Total_ESG_Score', 'Environmental_Score', 'Social_Score', 'Governance_Score',\n",
    "                'Stock_Price', 'Current_Price', 'Market_Cap', 'PB_Ratio', 'Annual_Return_Pct',\n",
    "                'Revenue', 'Net_Income', 'Operating_Margin_Pct', 'Gross_Margin_Pct', 'ROE_Pct', 'ROA_Pct',\n",
    "                'Profit_Margin_Pct', 'EPS', 'Beta', 'Revenue_Growth_Pct']\n",
    "\n",
    "    for col in numeric_cols:\n",
    "        if col in df.columns:\n",
    "            original_type = df[col].dtype\n",
    "            df[col] = pd.to_numeric(df[col], errors='coerce')\n",
    "            if original_type != df[col].dtype:\n",
    "                print(f\"  {col}: {original_type} → {df[col].dtype}\")\n",
    "    \n",
    "    # Integer columns\n",
    "    int_cols = ['Highest_Controversy']\n",
    "    for col in int_cols:\n",
    "        if col in df.columns:\n",
    "            original_type = df[col].dtype\n",
    "            df[col] = pd.to_numeric(df[col], errors='coerce')\n",
    "            if original_type != df[col].dtype:\n",
    "                print(f\"  {col}: {original_type} → {df[col].dtype}\")\n",
    "    \n",
    "    # Categorical columns\n",
    "    categorical_cols = ['Currency', 'Sector', 'Industry', 'Country', 'ESG_Performance', 'Status']\n",
    "    for col in categorical_cols:\n",
    "        if col in df.columns:\n",
    "            original_type = df[col].dtype\n",
    "            df[col] = df[col].astype('category')\n",
    "            if str(original_type) != 'category':\n",
    "                print(f\"  {col}: {original_type} → category\")\n",
    "    \n",
    "    # Date column\n",
    "    if 'Data_Date' in df.columns:\n",
    "        df['Data_Date'] = pd.to_datetime(df['Data_Date'], errors='coerce')\n",
    "        print(f\"  Data_Date: → datetime64\")\n",
    "\n",
    "    # Object column\n",
    "    for col in ['Ticker', 'Company_Name']:\n",
    "        if col in df.columns:\n",
    "            original_type = df[col].dtype\n",
    "            df[col] = df[col].astype(object)\n",
    "            if original_type != df[col].dtype:\n",
    "                print(f\"  {col}: {original_type} → object\")\n",
    "    \n",
    "    return df\n",
    "\n",
    "spi_esg = fix_datatypes(spi_esg, \"SPI\")\n",
    "sp500_esg = fix_datatypes(sp500_esg, \"S&P 500\")"
   ]
  },
  {
   "cell_type": "markdown",
   "id": "382183b6",
   "metadata": {},
   "source": [
    "## 3.5 Check Value Ranges and Remove Errors"
   ]
  },
  {
   "cell_type": "markdown",
   "id": "4caf0a8d",
   "metadata": {},
   "source": [
    "### 3.5.1 Numeric Data"
   ]
  },
  {
   "cell_type": "code",
   "execution_count": 113,
   "id": "99b96740",
   "metadata": {
    "ExecuteTime": {
     "end_time": "2025-10-19T18:23:59.808361Z",
     "start_time": "2025-10-19T18:23:59.800438Z"
    }
   },
   "outputs": [],
   "source": [
    "def check_value_ranges(df, name):\n",
    "    \"\"\"Check value ranges and return DataFrame of all exceptions (errors + warnings) without deleting rows\"\"\"\n",
    "    print(f\"\\n{name} - Value Range Checks:\")\n",
    "\n",
    "    warnings_list = []\n",
    "\n",
    "    # ESG scores should be 0-100\n",
    "    esg_cols = ['Total_ESG_Score', 'Environmental_Score', 'Social_Score', 'Governance_Score']\n",
    "    for col in esg_cols:\n",
    "        if col in df.columns:\n",
    "            invalid = (df[col] < 0) | (df[col] > 100)\n",
    "            if invalid.sum() > 0:\n",
    "                print(f\"  ERROR in {col}: {invalid.sum()} values outside [0, 100]\")\n",
    "                warnings_list.append(df.loc[invalid, ['Company_Name', col]])\n",
    "\n",
    "    # Controversy should be 0-5\n",
    "    if 'Highest_Controversy' in df.columns:\n",
    "        invalid = (df['Highest_Controversy'] < 0) | (df['Highest_Controversy'] > 5)\n",
    "        if invalid.sum() > 0:\n",
    "            print(f\"  ERROR in Highest_Controversy: {invalid.sum()} values outside [0, 5]\")\n",
    "            warnings_list.append(df.loc[invalid, ['Company_Name', 'Highest_Controversy']])\n",
    "\n",
    "    # Stock prices should be positive\n",
    "    for col in ['Stock_Price', 'Current_Price']:\n",
    "        if col in df.columns:\n",
    "            invalid = df[col] <= 0\n",
    "            if invalid.sum() > 0:\n",
    "                print(f\"  ERROR in {col}: {invalid.sum()} non-positive values\")\n",
    "                warnings_list.append(df.loc[invalid, ['Company_Name', col]])\n",
    "\n",
    "    # Market cap should be positive\n",
    "    if 'Market_Cap' in df.columns:\n",
    "        invalid = df['Market_Cap'] <= 0\n",
    "        if invalid.sum() > 0:\n",
    "            print(f\"  ERROR in Market_Cap: {invalid.sum()} non-positive values\")\n",
    "            warnings_list.append(df.loc[invalid, ['Company_Name', 'Market_Cap']])\n",
    "\n",
    "    # Margins reasonable (-100% to 100%)\n",
    "    margin_cols = ['Operating_Margin_Pct', 'Gross_Margin_Pct', 'Profit_Margin_Pct']\n",
    "    for col in margin_cols:\n",
    "        if col in df.columns:\n",
    "            invalid = (df[col] < -100) | (df[col] > 100)\n",
    "            if invalid.sum() > 0:\n",
    "                print(f\"  WARNING in {col}: {invalid.sum()} values outside [-100, 100]\")\n",
    "                warnings_list.append(df.loc[invalid, ['Company_Name', col]])\n",
    "\n",
    "    # ROE and ROA reasonable (-100% to 200%)\n",
    "    for col in ['ROE_Pct', 'ROA_Pct']:\n",
    "        if col in df.columns:\n",
    "            invalid = (df[col] < -100) | (df[col] > 200)\n",
    "            if invalid.sum() > 0:\n",
    "                print(f\"  WARNING in {col}: {invalid.sum()} values outside [-100, 200]\")\n",
    "                warnings_list.append(df.loc[invalid, ['Company_Name', col]])\n",
    "\n",
    "    # Combine warning/error rows\n",
    "    if warnings_list:\n",
    "        df_errors = pd.concat(warnings_list).drop_duplicates()\n",
    "    else:\n",
    "        df_errors = pd.DataFrame(columns=df.columns)\n",
    "\n",
    "    print(f\"  Total rows with warnings/errors: {df_errors.shape[0]}\")\n",
    "    return df_errors"
   ]
  },
  {
   "cell_type": "code",
   "execution_count": 114,
   "id": "63f64441",
   "metadata": {
    "ExecuteTime": {
     "end_time": "2025-10-19T18:23:59.894878Z",
     "start_time": "2025-10-19T18:23:59.877741Z"
    }
   },
   "outputs": [
    {
     "name": "stdout",
     "output_type": "stream",
     "text": [
      "\n",
      "SPI - Value Range Checks:\n",
      "  WARNING in Operating_Margin_Pct: 2 values outside [-100, 100]\n",
      "  WARNING in Gross_Margin_Pct: 1 values outside [-100, 100]\n",
      "  WARNING in Profit_Margin_Pct: 5 values outside [-100, 100]\n",
      "  WARNING in ROE_Pct: 2 values outside [-100, 200]\n",
      "  Total rows with warnings/errors: 10\n",
      "\n",
      "S&P 500 - Value Range Checks:\n",
      "  WARNING in Operating_Margin_Pct: 2 values outside [-100, 100]\n",
      "  WARNING in ROE_Pct: 5 values outside [-100, 200]\n",
      "  Total rows with warnings/errors: 7\n",
      "                   Company_Name  Operating_Margin_Pct  Gross_Margin_Pct  \\\n",
      "45                BB Biotech AG              -1541.06               NaN   \n",
      "119  Meyer Burger Technology AG               -388.50               NaN   \n",
      "119  Meyer Burger Technology AG                   NaN           -103.15   \n",
      "51        PSP Swiss Property AG                   NaN               NaN   \n",
      "114        Intershop Holding AG                   NaN               NaN   \n",
      "132     Peach Property Group AG                   NaN               NaN   \n",
      "163      Zug Estates Holding AG                   NaN               NaN   \n",
      "168         Investis Holding SA                   NaN               NaN   \n",
      "106            Gurit Holding AG                   NaN               NaN   \n",
      "119  Meyer Burger Technology AG                   NaN               NaN   \n",
      "\n",
      "     Profit_Margin_Pct  ROE_Pct  \n",
      "45                 NaN      NaN  \n",
      "119                NaN      NaN  \n",
      "119                NaN      NaN  \n",
      "51              117.82      NaN  \n",
      "114             209.44      NaN  \n",
      "132            -128.57      NaN  \n",
      "163             104.52      NaN  \n",
      "168             245.05      NaN  \n",
      "106                NaN  -149.20  \n",
      "119                NaN  -233.84  \n"
     ]
    }
   ],
   "source": [
    "spi_esg_errors = check_value_ranges(spi_esg, \"SPI\")\n",
    "sp500_esg_errors = check_value_ranges(sp500_esg, \"S&P 500\")\n",
    "\n",
    "print(spi_esg_errors)"
   ]
  },
  {
   "cell_type": "code",
   "execution_count": 115,
   "id": "8341a4c3",
   "metadata": {
    "ExecuteTime": {
     "end_time": "2025-10-19T18:23:59.970951Z",
     "start_time": "2025-10-19T18:23:59.966247Z"
    }
   },
   "outputs": [
    {
     "name": "stdout",
     "output_type": "stream",
     "text": [
      "                          Company_Name  Operating_Margin_Pct  ROE_Pct\n",
      "83   Capital One Financial Corporation               -532.77      NaN\n",
      "474               VICI Properties Inc.                109.30      NaN\n",
      "40                AppLovin Corporation                   NaN   253.77\n",
      "115          Colgate-Palmolive Company                   NaN   398.04\n",
      "131                  Crown Castle Inc.                   NaN  -183.28\n",
      "220                       GoDaddy Inc.                   NaN   288.03\n",
      "302                  Masco Corporation                   NaN   514.46\n"
     ]
    }
   ],
   "source": [
    "print(sp500_esg_errors)"
   ]
  },
  {
   "cell_type": "markdown",
   "id": "35cea92c",
   "metadata": {},
   "source": [
    "Margin and Return data are just warning (or might be considered outliers) but here should not be removed since some companies can have extreme margins and returns"
   ]
  },
  {
   "cell_type": "markdown",
   "id": "5429afa4",
   "metadata": {},
   "source": [
    "### 3.5.2 Categorical Data"
   ]
  },
  {
   "cell_type": "code",
   "execution_count": 116,
   "id": "93dbb351",
   "metadata": {
    "ExecuteTime": {
     "end_time": "2025-10-19T18:24:00.042743Z",
     "start_time": "2025-10-19T18:24:00.034551Z"
    }
   },
   "outputs": [
    {
     "name": "stdout",
     "output_type": "stream",
     "text": [
      "Currency\n",
      "Currency\n",
      "CHF    136\n",
      "Name: count, dtype: int64\n",
      "Sector\n",
      "Sector\n",
      "Industrials               37\n",
      "Financial Services        29\n",
      "Healthcare                22\n",
      "Technology                12\n",
      "Real Estate                9\n",
      "Basic Materials            8\n",
      "Consumer Cyclical          8\n",
      "Consumer Defensive         7\n",
      "Communication Services     2\n",
      "Utilities                  2\n",
      "Name: count, dtype: int64\n",
      "Industry\n",
      "Industry\n",
      "Specialty Industrial Machinery              14\n",
      "Banks - Regional                            14\n",
      "Building Products & Equipment                7\n",
      "Medical Instruments & Supplies               6\n",
      "Real Estate Services                         6\n",
      "Insurance - Diversified                      5\n",
      "Packaged Foods                               5\n",
      "Asset Management                             5\n",
      "Specialty Chemicals                          5\n",
      "Drug Manufacturers - Specialty & Generic     4\n",
      "Biotechnology                                4\n",
      "Medical Devices                              3\n",
      "Scientific & Technical Instruments           3\n",
      "Real Estate - Diversified                    3\n",
      "Railroads                                    2\n",
      "Packaging & Containers                       2\n",
      "Engineering & Construction                   2\n",
      "Software - Application                       2\n",
      "Luxury Goods                                 2\n",
      "Specialty Retail                             2\n",
      "Industrial Distribution                      2\n",
      "Utilities - Renewable                        2\n",
      "Chemicals                                    2\n",
      "Confectioners                                2\n",
      "Communication Equipment                      2\n",
      "Electrical Equipment & Parts                 2\n",
      "Electronic Components                        2\n",
      "Drug Manufacturers - General                 2\n",
      "Capital Markets                              2\n",
      "Consulting Services                          2\n",
      "Banks - Diversified                          2\n",
      "Building Materials                           1\n",
      "Solar                                        1\n",
      "Electronics & Computer Distribution          1\n",
      "Apparel Manufacturing                        1\n",
      "Staffing & Employment Services               1\n",
      "Telecom Services                             1\n",
      "Tools & Accessories                          1\n",
      "Auto Parts                                   1\n",
      "Publishing                                   1\n",
      "Computer Hardware                            1\n",
      "Pharmaceutical Retailers                     1\n",
      "Conglomerates                                1\n",
      "Medical Distribution                         1\n",
      "Diagnostics & Research                       1\n",
      "Integrated Freight & Logistics               1\n",
      "Insurance - Reinsurance                      1\n",
      "Airports & Air Services                      1\n",
      "Aerospace & Defense                          1\n",
      "Name: count, dtype: int64\n",
      "Country\n",
      "Country\n",
      "Switzerland    136\n",
      "Name: count, dtype: int64\n",
      "ESG_Performance\n",
      "ESG_Performance\n",
      "AVG_PERF      59\n",
      "LAG_PERF      59\n",
      "LEAD_PERF     17\n",
      "UNDER_PERF     1\n",
      "Name: count, dtype: int64\n",
      "Status\n",
      "Status\n",
      "Success    136\n",
      "Name: count, dtype: int64\n"
     ]
    }
   ],
   "source": [
    "categorical_cols = ['Currency', 'Sector', 'Industry', 'Country', 'ESG_Performance', 'Status']\n",
    "for col in categorical_cols:\n",
    "    print(col)\n",
    "    print(spi_esg[col].value_counts())"
   ]
  },
  {
   "cell_type": "code",
   "execution_count": 117,
   "id": "4b04f710",
   "metadata": {
    "ExecuteTime": {
     "end_time": "2025-10-19T18:24:00.106882Z",
     "start_time": "2025-10-19T18:24:00.099274Z"
    }
   },
   "outputs": [
    {
     "name": "stdout",
     "output_type": "stream",
     "text": [
      "Currency\n",
      "Currency\n",
      "USD    280\n",
      "Name: count, dtype: int64\n",
      "Sector\n",
      "Sector\n",
      "Industrials               45\n",
      "Financial Services        39\n",
      "Healthcare                36\n",
      "Technology                35\n",
      "Consumer Defensive        25\n",
      "Consumer Cyclical         22\n",
      "Utilities                 22\n",
      "Energy                    17\n",
      "Real Estate               16\n",
      "Basic Materials           12\n",
      "Communication Services    11\n",
      "Name: count, dtype: int64\n",
      "Industry\n",
      "Industry\n",
      "Utilities - Regulated Electric    16\n",
      "Specialty Industrial Machinery    13\n",
      "Aerospace & Defense                9\n",
      "Oil & Gas E&P                      8\n",
      "Semiconductors                     7\n",
      "                                  ..\n",
      "REIT - Healthcare Facilities       1\n",
      "Engineering & Construction         1\n",
      "Electronic Gaming & Multimedia     1\n",
      "Electrical Equipment & Parts       1\n",
      "Utilities - Renewable              1\n",
      "Name: count, Length: 95, dtype: int64\n",
      "Country\n",
      "Country\n",
      "United States    280\n",
      "Name: count, dtype: int64\n",
      "ESG_Performance\n",
      "ESG_Performance\n",
      "LAG_PERF     139\n",
      "AVG_PERF     114\n",
      "LEAD_PERF     27\n",
      "Name: count, dtype: int64\n",
      "Status\n",
      "Status\n",
      "Success    280\n",
      "Name: count, dtype: int64\n"
     ]
    }
   ],
   "source": [
    "for col in categorical_cols:\n",
    "    print(col)\n",
    "    print(sp500_esg[col].value_counts())"
   ]
  },
  {
   "cell_type": "markdown",
   "id": "0825c862",
   "metadata": {},
   "source": [
    "### 3.5.3 Integer Data"
   ]
  },
  {
   "cell_type": "code",
   "execution_count": 118,
   "id": "918618f0",
   "metadata": {
    "ExecuteTime": {
     "end_time": "2025-10-19T18:24:00.182644Z",
     "start_time": "2025-10-19T18:24:00.178398Z"
    }
   },
   "outputs": [
    {
     "name": "stdout",
     "output_type": "stream",
     "text": [
      "Highest_Controversy\n",
      "0.0    88\n",
      "2.0    28\n",
      "1.0    17\n",
      "3.0     1\n",
      "4.0     1\n",
      "Name: count, dtype: int64\n"
     ]
    }
   ],
   "source": [
    "print(spi_esg['Highest_Controversy'].value_counts())"
   ]
  },
  {
   "cell_type": "code",
   "execution_count": 119,
   "id": "1bc63c2a",
   "metadata": {
    "ExecuteTime": {
     "end_time": "2025-10-19T18:24:00.256890Z",
     "start_time": "2025-10-19T18:24:00.253129Z"
    }
   },
   "outputs": [
    {
     "name": "stdout",
     "output_type": "stream",
     "text": [
      "Highest_Controversy\n",
      "2.0    198\n",
      "3.0     29\n",
      "1.0     28\n",
      "0.0     17\n",
      "4.0      7\n",
      "5.0      1\n",
      "Name: count, dtype: int64\n"
     ]
    }
   ],
   "source": [
    "print(sp500_esg['Highest_Controversy'].value_counts())"
   ]
  },
  {
   "cell_type": "markdown",
   "id": "3229c2b4",
   "metadata": {},
   "source": [
    "## 3.6 Identify and Treat Outliers"
   ]
  },
  {
   "cell_type": "markdown",
   "id": "cf82a857",
   "metadata": {},
   "source": [
    "### 3.6.1 Identify using IQR Method"
   ]
  },
  {
   "cell_type": "code",
   "execution_count": 120,
   "id": "2b97f2aa",
   "metadata": {
    "ExecuteTime": {
     "end_time": "2025-10-19T18:24:00.318351Z",
     "start_time": "2025-10-19T18:24:00.313096Z"
    }
   },
   "outputs": [],
   "source": [
    "def identify_outliers(df, name):\n",
    "    \"\"\"Identify outliers using IQR method\"\"\"\n",
    "    print(f\"\\n{name} - Outlier Detection:\")\n",
    "\n",
    "    numeric_cols = ['Total_ESG_Score', 'Environmental_Score', 'Social_Score', 'Governance_Score',\n",
    "                'Stock_Price', 'Current_Price', 'Market_Cap', 'PB_Ratio', 'Annual_Return_Pct',\n",
    "                'Revenue', 'Net_Income', 'Operating_Margin_Pct', 'Gross_Margin_Pct', 'ROE_Pct', 'ROA_Pct',\n",
    "                'Profit_Margin_Pct', 'EPS', 'Beta', 'Revenue_Growth_Pct']\n",
    "\n",
    "    outlier_summary = {}\n",
    "\n",
    "    for col in numeric_cols:\n",
    "        if col in df.columns and df[col].notna().sum() > 0:\n",
    "            Q1 = df[col].quantile(0.25)\n",
    "            Q3 = df[col].quantile(0.75)\n",
    "            IQR = Q3 - Q1\n",
    "            \n",
    "            lower_bound = Q1 - 3 * IQR  # Using 3*IQR for extreme outliers only\n",
    "            upper_bound = Q3 + 3 * IQR\n",
    "            \n",
    "            outliers = (df[col] < lower_bound) | (df[col] > upper_bound)\n",
    "            outlier_count = outliers.sum()\n",
    "            \n",
    "            if outlier_count > 0:\n",
    "                outlier_summary[col] = {\n",
    "                    'count': outlier_count,\n",
    "                    'percentage': outlier_count / df[col].notna().sum() * 100,\n",
    "                    'lower_bound': lower_bound,\n",
    "                    'upper_bound': upper_bound,\n",
    "                    'outlier_indices': df[outliers].index.tolist()\n",
    "                }\n",
    "                \n",
    "                print(f\"\\n  {col}:\")\n",
    "                print(f\"    Outliers found: {outlier_count} ({outlier_count/df[col].notna().sum()*100:.2f}%)\")\n",
    "                print(f\"    Expected range: [{lower_bound:.2f}, {upper_bound:.2f}]\")\n",
    "                print(f\"    Actual range: [{df[col].min():.2f}, {df[col].max():.2f}]\")\n",
    "    \n",
    "    return outlier_summary"
   ]
  },
  {
   "cell_type": "code",
   "execution_count": 121,
   "id": "13f62fba",
   "metadata": {
    "ExecuteTime": {
     "end_time": "2025-10-19T18:24:00.408166Z",
     "start_time": "2025-10-19T18:24:00.377564Z"
    }
   },
   "outputs": [
    {
     "name": "stdout",
     "output_type": "stream",
     "text": [
      "\n",
      "SPI - Outlier Detection:\n",
      "\n",
      "  Stock_Price:\n",
      "    Outliers found: 9 (6.67%)\n",
      "    Expected range: [-610.31, 936.03]\n",
      "    Actual range: [0.79, 97134.13]\n",
      "\n",
      "  Current_Price:\n",
      "    Outliers found: 7 (5.15%)\n",
      "    Expected range: [-632.45, 970.03]\n",
      "    Actual range: [0.06, 130600.00]\n",
      "\n",
      "  Market_Cap:\n",
      "    Outliers found: 11 (8.09%)\n",
      "    Expected range: [-22505273472.00, 32386068768.00]\n",
      "    Actual range: [1980570.00, 225000000000.00]\n",
      "\n",
      "  PB_Ratio:\n",
      "    Outliers found: 6 (4.41%)\n",
      "    Expected range: [-9.78, 15.69]\n",
      "    Actual range: [-19.15, 26.44]\n",
      "\n",
      "  Annual_Return_Pct:\n",
      "    Outliers found: 2 (1.47%)\n",
      "    Expected range: [-136.51, 137.16]\n",
      "    Actual range: [-96.56, 264.81]\n",
      "\n",
      "  Revenue:\n",
      "    Outliers found: 11 (8.15%)\n",
      "    Expected range: [-10021203264.00, 14595550352.00]\n",
      "    Actual range: [-80803000.00, 90898997248.00]\n",
      "\n",
      "  Net_Income:\n",
      "    Outliers found: 10 (7.35%)\n",
      "    Expected range: [-931246744.00, 1297096492.00]\n",
      "    Actual range: [-544475008.00, 13653999616.00]\n",
      "\n",
      "  Operating_Margin_Pct:\n",
      "    Outliers found: 2 (1.47%)\n",
      "    Expected range: [-58.80, 91.20]\n",
      "    Actual range: [-1541.06, 84.47]\n",
      "\n",
      "  ROE_Pct:\n",
      "    Outliers found: 8 (6.02%)\n",
      "    Expected range: [-38.07, 62.52]\n",
      "    Actual range: [-233.84, 163.70]\n",
      "\n",
      "  ROA_Pct:\n",
      "    Outliers found: 2 (1.48%)\n",
      "    Expected range: [-17.20, 24.69]\n",
      "    Actual range: [-27.20, 21.88]\n",
      "\n",
      "  Profit_Margin_Pct:\n",
      "    Outliers found: 6 (4.41%)\n",
      "    Expected range: [-55.29, 79.32]\n",
      "    Actual range: [-128.57, 245.05]\n",
      "\n",
      "  EPS:\n",
      "    Outliers found: 13 (9.56%)\n",
      "    Expected range: [-28.39, 40.78]\n",
      "    Actual range: [-28.81, 2764.10]\n",
      "\n",
      "  Revenue_Growth_Pct:\n",
      "    Outliers found: 8 (5.88%)\n",
      "    Expected range: [-31.31, 35.99]\n",
      "    Actual range: [-100.00, 141.25]\n"
     ]
    }
   ],
   "source": [
    "spi_outliers = identify_outliers(spi_esg, \"SPI\")"
   ]
  },
  {
   "cell_type": "code",
   "execution_count": 122,
   "id": "7436c100",
   "metadata": {
    "ExecuteTime": {
     "end_time": "2025-10-19T18:24:00.474842Z",
     "start_time": "2025-10-19T18:24:00.444882Z"
    }
   },
   "outputs": [
    {
     "name": "stdout",
     "output_type": "stream",
     "text": [
      "\n",
      "S&P 500 - Outlier Detection:\n",
      "\n",
      "  Governance_Score:\n",
      "    Outliers found: 5 (1.79%)\n",
      "    Expected range: [-2.77, 11.69]\n",
      "    Actual range: [1.43, 20.21]\n",
      "\n",
      "  Stock_Price:\n",
      "    Outliers found: 7 (2.50%)\n",
      "    Expected range: [-431.60, 703.90]\n",
      "    Actual range: [9.17, 4845.74]\n",
      "\n",
      "  Current_Price:\n",
      "    Outliers found: 9 (3.21%)\n",
      "    Expected range: [-440.54, 730.10]\n",
      "    Actual range: [10.10, 4952.31]\n",
      "\n",
      "  Market_Cap:\n",
      "    Outliers found: 17 (6.07%)\n",
      "    Expected range: [-242560499712.00, 370920374784.00]\n",
      "    Actual range: [6908318208.00, 4430000000000.00]\n",
      "\n",
      "  PB_Ratio:\n",
      "    Outliers found: 29 (10.36%)\n",
      "    Expected range: [-14.36, 22.83]\n",
      "    Actual range: [-2181.44, 175.81]\n",
      "\n",
      "  Annual_Return_Pct:\n",
      "    Outliers found: 4 (1.43%)\n",
      "    Expected range: [-116.38, 120.67]\n",
      "    Actual range: [-58.76, 317.08]\n",
      "\n",
      "  Revenue:\n",
      "    Outliers found: 23 (8.21%)\n",
      "    Expected range: [-79642926592.00, 123840951936.00]\n",
      "    Actual range: [742873024.00, 693000000000.00]\n",
      "\n",
      "  Net_Income:\n",
      "    Outliers found: 25 (8.93%)\n",
      "    Expected range: [-8344949760.00, 13055274736.00]\n",
      "    Actual range: [-20504000512.00, 116000000000.00]\n",
      "\n",
      "  Operating_Margin_Pct:\n",
      "    Outliers found: 2 (0.71%)\n",
      "    Expected range: [-41.05, 85.04]\n",
      "    Actual range: [-532.77, 109.30]\n",
      "\n",
      "  ROE_Pct:\n",
      "    Outliers found: 17 (6.51%)\n",
      "    Expected range: [-51.15, 89.34]\n",
      "    Actual range: [-183.28, 514.46]\n",
      "\n",
      "  ROA_Pct:\n",
      "    Outliers found: 4 (1.45%)\n",
      "    Expected range: [-13.16, 24.85]\n",
      "    Actual range: [-3.73, 53.09]\n",
      "\n",
      "  Profit_Margin_Pct:\n",
      "    Outliers found: 5 (1.79%)\n",
      "    Expected range: [-32.96, 61.27]\n",
      "    Actual range: [-71.71, 72.96]\n",
      "\n",
      "  EPS:\n",
      "    Outliers found: 4 (1.43%)\n",
      "    Expected range: [-18.20, 29.33]\n",
      "    Actual range: [-16.55, 143.62]\n",
      "\n",
      "  Revenue_Growth_Pct:\n",
      "    Outliers found: 11 (3.94%)\n",
      "    Expected range: [-29.65, 38.88]\n",
      "    Actual range: [-45.71, 114.20]\n"
     ]
    }
   ],
   "source": [
    "sp500_outliers = identify_outliers(sp500_esg, \"S&P 500\")"
   ]
  },
  {
   "cell_type": "markdown",
   "id": "00495fbe",
   "metadata": {},
   "source": [
    "### 3.6.2 Visualize using Boxplot"
   ]
  },
  {
   "cell_type": "code",
   "execution_count": 123,
   "id": "c886735c",
   "metadata": {
    "ExecuteTime": {
     "end_time": "2025-10-19T18:24:00.606467Z",
     "start_time": "2025-10-19T18:24:00.602309Z"
    }
   },
   "outputs": [],
   "source": [
    "def plot_outliers(df, name):\n",
    "    \"\"\"Plot boxplots for numeric columns to visualize outliers\"\"\"\n",
    "    numeric_cols = ['Total_ESG_Score', 'Environmental_Score', 'Social_Score', 'Governance_Score',\n",
    "                    'Stock_Price', 'Current_Price', 'Market_Cap', 'PB_Ratio', 'Annual_Return_Pct',\n",
    "                    'Revenue', 'Net_Income', 'Operating_Margin_Pct', 'Gross_Margin_Pct', 'ROE_Pct', 'ROA_Pct',\n",
    "                    'Profit_Margin_Pct', 'EPS', 'Beta', 'Revenue_Growth_Pct']\n",
    "\n",
    "    for col in numeric_cols:\n",
    "        if col in df.columns and df[col].notna().sum() > 0:\n",
    "            plt.figure(figsize=(8, 4))\n",
    "            sns.boxplot(x=df[col], showfliers=True)\n",
    "            plt.title(f\"{name} - {col} Boxplot with Outliers\")\n",
    "            plt.xlabel(col)\n",
    "            plt.show()"
   ]
  },
  {
   "cell_type": "code",
   "execution_count": 124,
   "id": "2b7fb9ee",
   "metadata": {
    "ExecuteTime": {
     "end_time": "2025-10-19T18:24:02.171287Z",
     "start_time": "2025-10-19T18:24:00.620809Z"
    }
   },
   "outputs": [
    {
     "data": {
      "image/png": "[encoded data removed]",
      "text/plain": [
       "<Figure size 800x400 with 1 Axes>"
      ]
     },
     "metadata": {},
     "output_type": "display_data"
    },
    {
     "data": {
      "image/png": "[encoded data removed]",
      "text/plain": [
       "<Figure size 800x400 with 1 Axes>"
      ]
     },
     "metadata": {},
     "output_type": "display_data"
    },
    {
     "data": {
      "image/png": "[encoded data removed]",
      "text/plain": [
       "<Figure size 800x400 with 1 Axes>"
      ]
     },
     "metadata": {},
     "output_type": "display_data"
    },
    {
     "data": {
      "image/png": "[encoded data removed]",
      "text/plain": [
       "<Figure size 800x400 with 1 Axes>"
      ]
     },
     "metadata": {},
     "output_type": "display_data"
    },
    {
     "data": {
      "image/png": "[encoded data removed]",
      "text/plain": [
       "<Figure size 800x400 with 1 Axes>"
      ]
     },
     "metadata": {},
     "output_type": "display_data"
    },
    {
     "data": {
      "image/png": "[encoded data removed]",
      "text/plain": [
       "<Figure size 800x400 with 1 Axes>"
      ]
     },
     "metadata": {},
     "output_type": "display_data"
    },
    {
     "data": {
      "image/png": "[encoded data removed]",
      "text/plain": [
       "<Figure size 800x400 with 1 Axes>"
      ]
     },
     "metadata": {},
     "output_type": "display_data"
    },
    {
     "data": {
      "image/png": "[encoded data removed]",
      "text/plain": [
       "<Figure size 800x400 with 1 Axes>"
      ]
     },
     "metadata": {},
     "output_type": "display_data"
    },
    {
     "data": {
      "image/png": "[encoded data removed]",
      "text/plain": [
       "<Figure size 800x400 with 1 Axes>"
      ]
     },
     "metadata": {},
     "output_type": "display_data"
    },
    {
     "data": {
      "image/png": "[encoded data removed]",
      "text/plain": [
       "<Figure size 800x400 with 1 Axes>"
      ]
     },
     "metadata": {},
     "output_type": "display_data"
    },
    {
     "data": {
      "image/png": "[encoded data removed]",
      "text/plain": [
       "<Figure size 800x400 with 1 Axes>"
      ]
     },
     "metadata": {},
     "output_type": "display_data"
    },
    {
     "data": {
      "image/png": "[encoded data removed]",
      "text/plain": [
       "<Figure size 800x400 with 1 Axes>"
      ]
     },
     "metadata": {},
     "output_type": "display_data"
    },
    {
     "data": {
      "image/png": "[encoded data removed]",
      "text/plain": [
       "<Figure size 800x400 with 1 Axes>"
      ]
     },
     "metadata": {},
     "output_type": "display_data"
    },
    {
     "data": {
      "image/png": "[encoded data removed]",
      "text/plain": [
       "<Figure size 800x400 with 1 Axes>"
      ]
     },
     "metadata": {},
     "output_type": "display_data"
    },
    {
     "data": {
      "image/png": "[encoded data removed]",
      "text/plain": [
       "<Figure size 800x400 with 1 Axes>"
      ]
     },
     "metadata": {},
     "output_type": "display_data"
    },
    {
     "data": {
      "image/png": "[encoded data removed]",
      "text/plain": [
       "<Figure size 800x400 with 1 Axes>"
      ]
     },
     "metadata": {},
     "output_type": "display_data"
    },
    {
     "data": {
      "image/png": "[encoded data removed]",
      "text/plain": [
       "<Figure size 800x400 with 1 Axes>"
      ]
     },
     "metadata": {},
     "output_type": "display_data"
    },
    {
     "data": {
      "image/png": "[encoded data removed]",
      "text/plain": [
       "<Figure size 800x400 with 1 Axes>"
      ]
     },
     "metadata": {},
     "output_type": "display_data"
    },
    {
     "data": {
      "image/png": "[encoded data removed]",
      "text/plain": [
       "<Figure size 800x400 with 1 Axes>"
      ]
     },
     "metadata": {},
     "output_type": "display_data"
    }
   ],
   "source": [
    "plot_outliers(spi_esg, \"SPI\")"
   ]
  },
  {
   "cell_type": "markdown",
   "id": "f5594f9c",
   "metadata": {},
   "source": [
    "Boxplots help us visually identify where extreme values occur for specific metrics. Given that our effective ESG sample size is limited, we do not handle extreme values during the data preparation stage, as such extreme values may be legitimate.\n",
    "\n",
    "TODO: Addressing outliers (keep or remove them) during the analysis and comparison of specific metrics, based on the observed distributions"
   ]
  },
  {
   "cell_type": "markdown",
   "id": "bc547364",
   "metadata": {},
   "source": [
    "## 3.7 Enrich Dataset with Additional Information"
   ]
  },
  {
   "cell_type": "markdown",
   "id": "ed759f7e",
   "metadata": {},
   "source": [
    "### 3.7.1 Add Company_Type column for identification before merging"
   ]
  },
  {
   "cell_type": "code",
   "execution_count": 125,
   "id": "cecc4a58",
   "metadata": {
    "ExecuteTime": {
     "end_time": "2025-10-19T18:24:02.303256Z",
     "start_time": "2025-10-19T18:24:02.300709Z"
    }
   },
   "outputs": [],
   "source": [
    "spi_esg['Company_Type'] = \"SPI\"\n",
    "sp500_esg['Company_Type'] = \"S&P 500\""
   ]
  },
  {
   "cell_type": "markdown",
   "id": "4526e6ae",
   "metadata": {},
   "source": [
    "### 3.7.2 ESG Risk Classification"
   ]
  },
  {
   "cell_type": "markdown",
   "id": "812fba79",
   "metadata": {},
   "source": [
    "Yahoo Finance utilizes Sustainalytics’ ESG Risk Ratings, which categorize companies into five levels: Negligible, Low, Medium, High, and Severe. These ratings are visually represented using ESG Globe icons, where **Low numbers indicate a low risk, whereas higher numbers indicate a higher risk**. This classification is widely used in ESG data analysis and investment decision-making."
   ]
  },
  {
   "cell_type": "markdown",
   "id": "1ec339c4",
   "metadata": {},
   "source": [
    "**ESG Risk Categories at Overall Level** \n",
    "(according to [ESG Risk Ratings Methodology](https://www.sustainalytics.com/docs/knowledgehublibraries/default-document-library/sustainalytics_-esg-risk-ratings_-version-3-1_-methodology-abstract_-june-2024.pdf))\n",
    "\n",
    "A company’s ESG Risk Ratings score on Overall Level is assigned to one of five ESG risk categories in the ESG Risk Ratings:\n",
    "- Negligible risk (overall unmanaged risk score between 0 and 9.99 points): ESG factors are considered to drive negligible risk to enterprise value.\n",
    "- Low risk (overall unmanaged risk score between 10 and 19.99 points): ESG factors are considered to drive low risk to enterprise value.\n",
    "- Medium risk (overall unmanaged risk score between 20 and 29.99 points): ESG factors are considered to drive medium risk to enterprise value.\n",
    "- High risk (overall unmanaged risk score between 30 and 39.99 points): ESG factors are considered to drive high risk to enterprise value.\n",
    "- Severe risk (overall unmanaged risk score 40 points and above): ESG factors are considered to drive severe risk to enterprise value.\n",
    "\n",
    "Note: Because ESG risks materialize at an unknown time in the future and depend on a variety of unpredictable conditions, no predictions on financial or share price impacts, or on the time horizon of such impacts, are intended or implied by these risk categories."
   ]
  },
  {
   "cell_type": "code",
   "execution_count": 126,
   "id": "935f4e0c",
   "metadata": {
    "ExecuteTime": {
     "end_time": "2025-10-19T18:24:02.412975Z",
     "start_time": "2025-10-19T18:24:02.408924Z"
    }
   },
   "outputs": [],
   "source": [
    "def categorize_esg_risk(score):\n",
    "    if pd.isna(score):\n",
    "        return np.nan\n",
    "    elif score < 10:\n",
    "        return 'Negligible'\n",
    "    elif score < 20:\n",
    "        return 'Low'\n",
    "    elif score < 30:\n",
    "        return 'Medium'\n",
    "    elif score < 40:\n",
    "        return 'High'\n",
    "    else:\n",
    "        return 'Severe'\n",
    "    \n",
    "spi_esg['ESG_Risk_Category'] = spi_esg['Total_ESG_Score'].apply(categorize_esg_risk)\n",
    "spi_esg['ESG_Risk_Category'] = spi_esg['ESG_Risk_Category'].astype('category')"
   ]
  },
  {
   "cell_type": "code",
   "execution_count": 127,
   "id": "9f163df2",
   "metadata": {
    "ExecuteTime": {
     "end_time": "2025-10-19T18:24:02.432941Z",
     "start_time": "2025-10-19T18:24:02.429230Z"
    }
   },
   "outputs": [],
   "source": [
    "sp500_esg['ESG_Risk_Category'] = sp500_esg['Total_ESG_Score'].apply(categorize_esg_risk)\n",
    "sp500_esg['ESG_Risk_Category'] = sp500_esg['ESG_Risk_Category'].astype('category')"
   ]
  },
  {
   "cell_type": "markdown",
   "id": "11ce05cd",
   "metadata": {},
   "source": [
    "### 3.7.3 Reorder columns for better readability"
   ]
  },
  {
   "cell_type": "code",
   "execution_count": 128,
   "id": "d5383960",
   "metadata": {
    "ExecuteTime": {
     "end_time": "2025-10-19T18:24:02.495817Z",
     "start_time": "2025-10-19T18:24:02.492360Z"
    }
   },
   "outputs": [],
   "source": [
    "cols = list(spi_esg.columns)\n",
    "cols.remove('Company_Type')\n",
    "idx = cols.index('Company_Name') + 1\n",
    "cols.insert(idx, 'Company_Type')\n",
    "spi_esg = spi_esg[cols]"
   ]
  },
  {
   "cell_type": "code",
   "execution_count": 129,
   "id": "31937133",
   "metadata": {
    "ExecuteTime": {
     "end_time": "2025-10-19T18:24:02.553961Z",
     "start_time": "2025-10-19T18:24:02.550701Z"
    }
   },
   "outputs": [],
   "source": [
    "cols = list(spi_esg.columns)\n",
    "cols.remove('ESG_Risk_Category')\n",
    "idx = cols.index('Country') + 1\n",
    "cols.insert(idx, 'ESG_Risk_Category')\n",
    "spi_esg = spi_esg[cols]"
   ]
  },
  {
   "cell_type": "code",
   "execution_count": 130,
   "id": "9ea12fe3",
   "metadata": {
    "ExecuteTime": {
     "end_time": "2025-10-19T18:24:02.690791Z",
     "start_time": "2025-10-19T18:24:02.686946Z"
    }
   },
   "outputs": [],
   "source": [
    "cols = list(sp500_esg.columns)\n",
    "cols.remove('Company_Type')\n",
    "idx = cols.index('Company_Name') + 1\n",
    "cols.insert(idx, 'Company_Type')\n",
    "\n",
    "cols.remove('ESG_Risk_Category')\n",
    "idx = cols.index('Country') + 1\n",
    "cols.insert(idx, 'ESG_Risk_Category')\n",
    "\n",
    "sp500_esg = sp500_esg[cols]"
   ]
  },
  {
   "cell_type": "markdown",
   "id": "45f8aefd",
   "metadata": {},
   "source": [
    "## 3.8 Format Dataset for Analysis"
   ]
  },
  {
   "cell_type": "markdown",
   "id": "fab17e68",
   "metadata": {},
   "source": [
    "### 3.8.1 Remove columns with identical value"
   ]
  },
  {
   "cell_type": "code",
   "execution_count": 131,
   "id": "abb2d86d",
   "metadata": {
    "ExecuteTime": {
     "end_time": "2025-10-19T18:24:02.710770Z",
     "start_time": "2025-10-19T18:24:02.705482Z"
    }
   },
   "outputs": [],
   "source": [
    "esg_clean = pd.concat([spi_esg, sp500_esg], ignore_index=True)"
   ]
  },
  {
   "cell_type": "code",
   "execution_count": 132,
   "id": "4a8b43e3",
   "metadata": {
    "ExecuteTime": {
     "end_time": "2025-10-19T18:24:02.839191Z",
     "start_time": "2025-10-19T18:24:02.832801Z"
    }
   },
   "outputs": [
    {
     "name": "stdout",
     "output_type": "stream",
     "text": [
      "Dropped columns: ['Data_Date', 'Status']\n"
     ]
    }
   ],
   "source": [
    "cols_to_drop = [col for col in esg_clean.columns if esg_clean[col].nunique() == 1]\n",
    "\n",
    "esg_clean = esg_clean.drop(columns=cols_to_drop)\n",
    "\n",
    "print(\"Dropped columns:\", cols_to_drop)"
   ]
  },
  {
   "cell_type": "markdown",
   "id": "061a038b",
   "metadata": {},
   "source": [
    "### 3.8.2 Save Cleaned Datasets"
   ]
  },
  {
   "cell_type": "code",
   "execution_count": 133,
   "id": "ab802981",
   "metadata": {
    "ExecuteTime": {
     "end_time": "2025-10-19T18:24:02.888547Z",
     "start_time": "2025-10-19T18:24:02.878525Z"
    }
   },
   "outputs": [],
   "source": [
    "esg_clean.to_csv(\"Data/cleaned_combined_data.csv\", index=False)"
   ]
  },
  {
   "cell_type": "markdown",
   "id": "f6849baa",
   "metadata": {},
   "source": [
    "# 4. Analysis and Visualization"
   ]
  },
  {
   "cell_type": "markdown",
   "id": "f21f676b",
   "metadata": {},
   "source": [
    "## 4.1 Light Exploratory Data Analysis\n",
    "- Industry Distribution\n",
    "- ESG Distribution"
   ]
  },
  {
   "cell_type": "markdown",
   "id": "6bafa11f",
   "metadata": {},
   "source": [
    "### 4.1.1 Industry Distribution"
   ]
  },
  {
   "cell_type": "code",
   "execution_count": 134,
   "id": "f31fb08c",
   "metadata": {
    "ExecuteTime": {
     "end_time": "2025-10-19T18:24:03.103253Z",
     "start_time": "2025-10-19T18:24:02.947102Z"
    }
   },
   "outputs": [
    {
     "data": {
      "image/png": "[encoded data removed]",
      "text/plain": [
       "<Figure size 640x480 with 1 Axes>"
      ]
     },
     "metadata": {},
     "output_type": "display_data"
    }
   ],
   "source": [
    "# Top 10 industries by overall company count\n",
    "top_industries = esg_clean['Industry'].value_counts().head(10).index\n",
    "top_ind = esg_clean[esg_clean['Industry'].isin(top_industries)]\n",
    "\n",
    "industry_type_counts = pd.crosstab(top_ind['Industry'], top_ind['Company_Type'])\n",
    "industry_type_counts = industry_type_counts[['SPI', 'S&P 500']]\n",
    "industry_type_counts['Total'] = industry_type_counts.sum(axis=1)\n",
    "industry_type_counts = industry_type_counts.sort_values(by='Total', ascending=True)\n",
    "industry_type_counts = industry_type_counts.drop(columns='Total')\n",
    "\n",
    "# figure\n",
    "industry_type_counts.plot(kind='barh', stacked=True, \n",
    "                         color=['#2E86AB', '#A23B72'])\n",
    "\n",
    "plt.xlabel('Number of Companies', fontsize=11)\n",
    "plt.ylabel('Industry', fontsize=11)\n",
    "plt.title('Top 10 Industries (SPI + S&P 500)', fontsize=12, fontweight='bold')\n",
    "plt.legend(title='Company Type', fontsize=9)\n",
    "plt.grid(axis='x', alpha=0.3)\n",
    "\n",
    "plt.show()"
   ]
  },
  {
   "cell_type": "markdown",
   "id": "395862a8",
   "metadata": {},
   "source": [
    "**Top 10 Industries according to SPI counts**"
   ]
  },
  {
   "cell_type": "code",
   "execution_count": 135,
   "id": "a8028101",
   "metadata": {
    "ExecuteTime": {
     "end_time": "2025-10-19T18:24:03.298402Z",
     "start_time": "2025-10-19T18:24:03.137136Z"
    }
   },
   "outputs": [
    {
     "data": {
      "image/png": "[encoded data removed]",
      "text/plain": [
       "<Figure size 640x480 with 1 Axes>"
      ]
     },
     "metadata": {},
     "output_type": "display_data"
    }
   ],
   "source": [
    "spi_companies = esg_clean[esg_clean['Company_Type'] == 'SPI']\n",
    "top_spi_industries = spi_companies['Industry'].value_counts().head(10).index\n",
    "\n",
    "top_spi_ind = esg_clean[esg_clean['Industry'].isin(top_spi_industries)]\n",
    "\n",
    "industry_spi_counts = pd.crosstab(top_spi_ind['Industry'], top_spi_ind['Company_Type'])\n",
    "industry_spi_counts = industry_spi_counts[['SPI', 'S&P 500']]\n",
    "industry_spi_counts = industry_spi_counts.sort_values(by='SPI', ascending=True)\n",
    "\n",
    "industry_spi_counts.plot(kind='barh', stacked=True, \n",
    "                          color=['#2E86AB', '#A23B72'])\n",
    "\n",
    "plt.xlabel('Number of Companies', fontsize=11)\n",
    "plt.ylabel('Industry', fontsize=11)\n",
    "plt.title('Top 10 Industries (SPI)', fontsize=12, fontweight='bold')\n",
    "plt.legend(title='Company Type', fontsize=9)\n",
    "plt.grid(axis='x', alpha=0.3)\n",
    "plt.tight_layout()\n",
    "\n",
    "plt.show()"
   ]
  },
  {
   "cell_type": "markdown",
   "id": "c4beaf76",
   "metadata": {},
   "source": [
    "### 4.1.2 ESG Distribution"
   ]
  },
  {
   "cell_type": "code",
   "execution_count": 136,
   "id": "d141d87c",
   "metadata": {
    "ExecuteTime": {
     "end_time": "2025-10-19T18:24:03.499360Z",
     "start_time": "2025-10-19T18:24:03.359410Z"
    }
   },
   "outputs": [
    {
     "data": {
      "image/png": "[encoded data removed]",
      "text/plain": [
       "<Figure size 600x400 with 1 Axes>"
      ]
     },
     "metadata": {},
     "output_type": "display_data"
    }
   ],
   "source": [
    "plt.figure(figsize=(6,4))\n",
    "plt.hist(esg_clean[esg_clean['Company_Type']=='SPI']['Total_ESG_Score'].dropna(), bins=25, alpha=0.6, label='SPI')\n",
    "plt.hist(esg_clean[esg_clean['Company_Type']=='S&P 500']['Total_ESG_Score'].dropna(), bins=25, alpha=0.6, label='S&P 500')\n",
    "plt.xlabel('Total ESG Score')\n",
    "plt.ylabel('Frequency')\n",
    "plt.title('Total ESG Score Distribution')\n",
    "plt.legend()\n",
    "plt.grid(alpha=0.3)\n",
    "plt.show()"
   ]
  },
  {
   "cell_type": "code",
   "execution_count": 137,
   "id": "48feb356",
   "metadata": {
    "ExecuteTime": {
     "end_time": "2025-10-19T18:24:04.166419Z",
     "start_time": "2025-10-19T18:24:03.553178Z"
    }
   },
   "outputs": [
    {
     "name": "stderr",
     "output_type": "stream",
     "text": [
      "/var/folders/dz/c4g03dt52yv21fwz68wlsfz80000gn/T/ipykernel_71945/3026642191.py:8: FutureWarning: \n",
      "\n",
      "Passing `palette` without assigning `hue` is deprecated and will be removed in v0.14.0. Assign the `x` variable to `hue` and set `legend=False` for the same effect.\n",
      "\n",
      "  sns.boxplot(data=esg_clean, x='Company_Type', y=col, ax=axes[i], palette=['#2E86AB', '#A23B72'])\n",
      "/var/folders/dz/c4g03dt52yv21fwz68wlsfz80000gn/T/ipykernel_71945/3026642191.py:8: FutureWarning: \n",
      "\n",
      "Passing `palette` without assigning `hue` is deprecated and will be removed in v0.14.0. Assign the `x` variable to `hue` and set `legend=False` for the same effect.\n",
      "\n",
      "  sns.boxplot(data=esg_clean, x='Company_Type', y=col, ax=axes[i], palette=['#2E86AB', '#A23B72'])\n",
      "/var/folders/dz/c4g03dt52yv21fwz68wlsfz80000gn/T/ipykernel_71945/3026642191.py:8: FutureWarning: \n",
      "\n",
      "Passing `palette` without assigning `hue` is deprecated and will be removed in v0.14.0. Assign the `x` variable to `hue` and set `legend=False` for the same effect.\n",
      "\n",
      "  sns.boxplot(data=esg_clean, x='Company_Type', y=col, ax=axes[i], palette=['#2E86AB', '#A23B72'])\n",
      "/var/folders/dz/c4g03dt52yv21fwz68wlsfz80000gn/T/ipykernel_71945/3026642191.py:8: FutureWarning: \n",
      "\n",
      "Passing `palette` without assigning `hue` is deprecated and will be removed in v0.14.0. Assign the `x` variable to `hue` and set `legend=False` for the same effect.\n",
      "\n",
      "  sns.boxplot(data=esg_clean, x='Company_Type', y=col, ax=axes[i], palette=['#2E86AB', '#A23B72'])\n"
     ]
    },
    {
     "data": {
      "image/png": "[encoded data removed]",
      "text/plain": [
       "<Figure size 1200x1000 with 4 Axes>"
      ]
     },
     "metadata": {},
     "output_type": "display_data"
    }
   ],
   "source": [
    "esg_cols = ['Total_ESG_Score', 'Environmental_Score', 'Social_Score', 'Governance_Score']\n",
    "esg_labels = ['Total ESG', 'Environmental (E)', 'Social (S)', 'Governance (G)']\n",
    "\n",
    "fig, axes = plt.subplots(2, 2, figsize=(12, 10))\n",
    "axes = axes.flatten()\n",
    "\n",
    "for i, col in enumerate(esg_cols):\n",
    "    sns.boxplot(data=esg_clean, x='Company_Type', y=col, ax=axes[i], palette=['#2E86AB', '#A23B72'])\n",
    "    axes[i].set_title(f'{esg_labels[i]} Comparison', fontsize=12, fontweight='bold')\n",
    "    axes[i].grid(axis='y', alpha=0.3)\n",
    "    axes[i].set_xlabel('')\n",
    "    axes[i].set_ylabel('Score')\n",
    "\n",
    "plt.tight_layout()\n",
    "plt.show()"
   ]
  },
  {
   "cell_type": "code",
   "execution_count": 138,
   "id": "3a0de455",
   "metadata": {
    "ExecuteTime": {
     "end_time": "2025-10-19T18:24:04.394388Z",
     "start_time": "2025-10-19T18:24:04.254929Z"
    }
   },
   "outputs": [
    {
     "data": {
      "text/plain": [
       "<Figure size 700x400 with 0 Axes>"
      ]
     },
     "metadata": {},
     "output_type": "display_data"
    },
    {
     "data": {
      "image/png": "[encoded data removed]",
      "text/plain": [
       "<Figure size 640x480 with 1 Axes>"
      ]
     },
     "metadata": {},
     "output_type": "display_data"
    }
   ],
   "source": [
    "plt.figure(figsize=(7,4))\n",
    "pd.crosstab(esg_clean['ESG_Risk_Category'], esg_clean['Company_Type']).plot(kind='bar', color=['#2E86AB', '#A23B72'])\n",
    "plt.xlabel('ESG Risk Category')\n",
    "plt.ylabel('Number of Companies')\n",
    "plt.title('ESG Risk Category Distribution')\n",
    "plt.grid(axis='y', alpha=0.3)\n",
    "plt.tight_layout()\n",
    "plt.show()"
   ]
  },
  {
   "cell_type": "code",
   "execution_count": 139,
   "id": "54485ebb",
   "metadata": {
    "ExecuteTime": {
     "end_time": "2025-10-19T18:24:04.465967Z",
     "start_time": "2025-10-19T18:24:04.459956Z"
    }
   },
   "outputs": [
    {
     "name": "stdout",
     "output_type": "stream",
     "text": [
      "              Total_ESG_Score  Environmental_Score  Social_Score  \\\n",
      "Company_Type                                                       \n",
      "S&P 500                 20.43                 6.94          8.70   \n",
      "SPI                     22.14                 5.67          8.17   \n",
      "\n",
      "              Governance_Score  \n",
      "Company_Type                    \n",
      "S&P 500                   4.82  \n",
      "SPI                       5.48  \n"
     ]
    }
   ],
   "source": [
    "esg_means = esg_clean.groupby('Company_Type')[esg_cols].mean().round(2)\n",
    "print(esg_means)"
   ]
  },
  {
   "cell_type": "markdown",
   "id": "fee53cabebcbe41f",
   "metadata": {},
   "source": [
    "## 4.2 RQ1: Relationship between financial performance and ESG"
   ]
  },
  {
   "cell_type": "markdown",
   "id": "97e6e04e15c4bbda",
   "metadata": {},
   "source": [
    "To answer this question, we want to look into the relationship of several financial performance indicators with the ESG risk score. We first look at the different variables and whey they are relevant or not for further analysis"
   ]
  },
  {
   "cell_type": "markdown",
   "id": "ae53ff79f9daf714",
   "metadata": {},
   "source": [
    "| **Indicator**            | **Description**                               | **Relevancy for Financial Performance** | **Remarks**                                   |\n",
    "| ------------------------ | --------------------------------------------- | --------------------------------------- | --------------------------------------------- |\n",
    "| **Stock_Price**          | Stock price at reference date                 | ❌ Not relevant                           | Not comparable across firms                   |\n",
    "| **Current_Price**        | Most recent stock price                       | ❌ Not relevant                            | Used to compute returns                       |\n",
    "| **Market_Cap**           | Market capitalization (price × shares)        | ⚪ Control variable                      | Proxy for firm size                           |\n",
    "| **log_mc**               | Log-transformed market capitalization         | ⚪ Control variable                      | Used in regressions for size control          |\n",
    "| **PB_Ratio**             | Price-to-book ratio                           | ✅ Relevant                              | Measures market valuation vs. book value      |\n",
    "| **Annual_Return_Pct**    | Annualized stock return (%)                   | ✅ Highly relevant                       | Captures market-based performance             |\n",
    "| **Revenue**              | Total revenues                                | ⚪ Control variable                      | Use only for scaling or ratios                |\n",
    "| **Net_Income**           | Total net income                              | ⚪ Control variable                      | Absolute measure, not comparable across firms |\n",
    "| **Operating_Margin_Pct** | Operating income / revenue                    | ✅ Relevant                              | Core profitability indicator                  |\n",
    "| **Gross_Margin_Pct**     | Gross profit / revenue                        | ✅ Relevant                              | Indicates production efficiency               |\n",
    "| **ROE_Pct**              | Return on equity                              | ✅ Relevant                              | Measures profitability to shareholders        |\n",
    "| **ROA_Pct**              | Return on assets                              | ✅ Relevant                              | Measures efficiency of asset use              |\n",
    "| **Profit_Margin_Pct**    | Net profit / revenue                          | ✅ Relevant                              | Overall profitability indicator               |\n",
    "| **EPS**                  | Earnings per share                            | ✅ Relevant                              | Reflects profitability per share              |\n",
    "| **Beta**                 | Systematic market risk                        | ✅ Relevant                              | Indicates volatility relative to market       |\n",
    "| **Revenue_Growth_Pct**   | Revenue growth rate (%)                       | ✅ Relevant                              | Measures growth and business momentum         |\n"
   ]
  },
  {
   "cell_type": "markdown",
   "id": "5335a77a42ff5d1",
   "metadata": {},
   "source": [
    "For the analysis we want to look closer into these models closer"
   ]
  },
  {
   "cell_type": "markdown",
   "id": "b34b440e7030f6dd",
   "metadata": {},
   "source": [
    "| **Research Focus**     | **Dependent Variable(s)**                                         | **Control Variables**                         | **Independent Variable (ESG)**      |\n",
    "| ---------------------- | ----------------------------------------------------------------- | --------------------------------------------- | ----------------------------------- |\n",
    "| **Market performance** | `Annual_Return_Pct`                                               | `log_mc`, `Revenue_Growth_Pct`, `C(Industry)` | `Total_ESG_Score`                   |\n",
    "| **Profitability**      | `ROE_Pct`, `ROA_Pct`, `Profit_Margin_Pct`, `Operating_Margin_Pct` | `log_mc`, `C(Industry)`                       | `Total_ESG_Score`                   |\n",
    "| **Valuation**          | `PB_Ratio`, `EPS`                                                 | `log_mc`, `Revenue_Growth_Pct`, `C(Industry)` | `Total_ESG_Score`                   |\n",
    "| **Risk profile**       | `Beta`                                                            | `log_mc`, `C(Industry)`                       | `Total_ESG_Score`                   |\n",
    "| **Growth perspective** | `Revenue_Growth_Pct`                                              | `log_mc`, `C(Industry)`                       | `Total_ESG_Score` or ESG sub-scores |\n"
   ]
  },
  {
   "cell_type": "markdown",
   "id": "3c274ccbb2000c00",
   "metadata": {},
   "source": [
    "### 4.2.1 Market performance"
   ]
  },
  {
   "cell_type": "markdown",
   "id": "40b560e54adc986c",
   "metadata": {},
   "source": [
    "#### 4.2.1.1 Data preparation"
   ]
  },
  {
   "cell_type": "markdown",
   "id": "be2c9b40c609395e",
   "metadata": {},
   "source": [
    "First prepare the data for the analysis:\n",
    "1. create a dataset only with the SPI companies\n",
    "2. log transform market cap to smoothen extreme values\n",
    "3. choose only those observations with complete data for necessary variables\n",
    "4. check number of observation per industry to see if we have enough observations"
   ]
  },
  {
   "cell_type": "code",
   "execution_count": 140,
   "id": "3f997c385fde7a7e",
   "metadata": {
    "ExecuteTime": {
     "end_time": "2025-10-19T18:41:39.029697Z",
     "start_time": "2025-10-19T18:41:39.012847Z"
    }
   },
   "outputs": [
    {
     "name": "stdout",
     "output_type": "stream",
     "text": [
      "N after drop NA: 136\n",
      "ESG range: 8.56 - 49.05\n",
      "Return range: -96.56 - 264.81\n",
      "Industries: 49\n",
      "Industry\n",
      "Specialty Industrial Machinery    14\n",
      "Banks - Regional                  14\n",
      "Building Products & Equipment      7\n",
      "Medical Instruments & Supplies     6\n",
      "Real Estate Services               6\n",
      "Asset Management                   5\n",
      "Insurance - Diversified            5\n",
      "Specialty Chemicals                5\n",
      "Packaged Foods                     5\n",
      "Biotechnology                      4\n",
      "Name: count, dtype: int64\n"
     ]
    }
   ],
   "source": [
    "# only SPI dataset from merged data\n",
    "ch = esg_clean.query(\"Company_Type == 'SPI'\").copy()\n",
    "\n",
    "# log transformed market cap to smoothen extreme values\n",
    "ch[\"log_mc\"] = np.log1p(ch[\"Market_Cap\"])\n",
    "\n",
    "#choose only those entries with complete data in the necessary variables\n",
    "vars_needed_1 = [\n",
    "    \"Annual_Return_Pct\",\n",
    "    \"Total_ESG_Score\",\n",
    "    \"log_mc\",\n",
    "    \"Revenue_Growth_Pct\",\n",
    "    \"Industry\"\n",
    "]\n",
    "\n",
    "# drop rows with missing values\n",
    "df_return = ch.dropna(subset=vars_needed_1).copy()\n",
    "print(\"N after drop NA:\", len(df_return))\n",
    "df_return[vars_needed_1].describe()\n",
    "\n",
    "\n",
    "# Check range of ESG and Return values\n",
    "print(\"ESG range:\", df_return[\"Total_ESG_Score\"].min(), \"-\", df_return[\"Total_ESG_Score\"].max())\n",
    "print(\"Return range:\", df_return[\"Annual_Return_Pct\"].min(), \"-\", df_return[\"Annual_Return_Pct\"].max())\n",
    "\n",
    "# Industry representation\n",
    "print(\"Industries:\", df_return[\"Industry\"].nunique())\n",
    "print(df_return[\"Industry\"].value_counts().head(10))"
   ]
  },
  {
   "cell_type": "markdown",
   "id": "c792716cf0144cdf",
   "metadata": {},
   "source": [
    "- We see that the number of companies per industry is maximum 15. Not surprising when considering that the dataset includes only 141 observations. We will take the low number per industry into account for further analysis.\n",
    "- When looking at the range of ESG rist, we see that we have a broad Streuung, ranging from negligible up to severy risk.\n",
    "- the annual return range is quite broad with extreme outliers ranging from losses up to -100% or winnings over +250%. In a next step we check the outliers and will exclude them if necessary."
   ]
  },
  {
   "cell_type": "code",
   "execution_count": 141,
   "id": "f4ebccda893379ed",
   "metadata": {
    "ExecuteTime": {
     "end_time": "2025-10-19T18:51:09.367773Z",
     "start_time": "2025-10-19T18:51:09.170998Z"
    }
   },
   "outputs": [
    {
     "data": {
      "image/png": "[encoded data removed]",
      "text/plain": [
       "<Figure size 640x480 with 2 Axes>"
      ]
     },
     "metadata": {},
     "output_type": "display_data"
    }
   ],
   "source": [
    "# Histogram + Boxplot\n",
    "fig, ax = plt.subplots(1, 2)\n",
    "\n",
    "ax[0].hist(df_return[\"Annual_Return_Pct\"], bins=40)\n",
    "ax[0].axvline(0, linestyle=\"--\")\n",
    "ax[0].set_title(\"Histogram - Annual Return\")\n",
    "ax[0].set_xlabel(\"Annual Return (%)\"); ax[0].set_ylabel(\"Count\")\n",
    "\n",
    "ax[1].boxplot(df_return[\"Annual_Return_Pct\"].dropna(), vert=False, showfliers=True)\n",
    "ax[1].set_title(\"Boxplot - Annual Return\")\n",
    "ax[1].set_xlabel(\"Annual Return (%)\")\n",
    "\n",
    "plt.tight_layout(); plt.show()\n"
   ]
  },
  {
   "cell_type": "markdown",
   "id": "d062ecfdafb70190",
   "metadata": {},
   "source": [
    "We see that we have 6 outliers according to the boxplot. We want to exclude them from further analysis."
   ]
  },
  {
   "cell_type": "code",
   "execution_count": 142,
   "id": "84f5315c1ccf706f",
   "metadata": {
    "ExecuteTime": {
     "end_time": "2025-10-19T18:53:59.911362Z",
     "start_time": "2025-10-19T18:53:59.903839Z"
    }
   },
   "outputs": [
    {
     "name": "stdout",
     "output_type": "stream",
     "text": [
      "Q1: -19.23, Q3: 19.87, IQR: 39.09\n",
      "Lower bound: -77.87, Upper bound: 78.51\n",
      "Removed 7 outliers\n",
      "Remaining observations: 129\n"
     ]
    }
   ],
   "source": [
    "# Compute IQR boundaries\n",
    "Q1 = df_return[\"Annual_Return_Pct\"].quantile(0.25)\n",
    "Q3 = df_return[\"Annual_Return_Pct\"].quantile(0.75)\n",
    "IQR = Q3 - Q1\n",
    "\n",
    "lower_bound = Q1 - 1.5 * IQR\n",
    "upper_bound = Q3 + 1.5 * IQR\n",
    "\n",
    "print(f\"Q1: {Q1:.2f}, Q3: {Q3:.2f}, IQR: {IQR:.2f}\")\n",
    "print(f\"Lower bound: {lower_bound:.2f}, Upper bound: {upper_bound:.2f}\")\n",
    "\n",
    "df_return_no_outliers = df_return[\n",
    "    (df_return[\"Annual_Return_Pct\"] >= lower_bound) &\n",
    "    (df_return[\"Annual_Return_Pct\"] <= upper_bound)\n",
    "].copy()\n",
    "\n",
    "print(f\"Removed {len(df_return) - len(df_return_no_outliers)} outliers\")\n",
    "print(f\"Remaining observations: {len(df_return_no_outliers)}\")"
   ]
  },
  {
   "cell_type": "markdown",
   "id": "89e1a92b8ef71ee3",
   "metadata": {},
   "source": [
    "#### 4.2.1.2 Analysis"
   ]
  },
  {
   "cell_type": "markdown",
   "id": "29cd6f179c94d27b",
   "metadata": {},
   "source": [
    "We create a scatterplot to analyse the relationship visually."
   ]
  },
  {
   "cell_type": "code",
   "execution_count": 143,
   "id": "bdb911dca5d6a6a6",
   "metadata": {
    "ExecuteTime": {
     "end_time": "2025-10-19T19:26:35.090630Z",
     "start_time": "2025-10-19T19:26:34.894289Z"
    }
   },
   "outputs": [
    {
     "data": {
      "image/png": "[encoded data removed]",
      "text/plain": [
       "<Figure size 640x480 with 1 Axes>"
      ]
     },
     "metadata": {},
     "output_type": "display_data"
    }
   ],
   "source": [
    "plt.figure()\n",
    "sns.regplot(\n",
    "    data=df_return_no_outliers,\n",
    "    x=\"Total_ESG_Score\",\n",
    "    y=\"Annual_Return_Pct\",\n",
    "    scatter_kws={\"alpha\":0.5},\n",
    "    line_kws={\"color\":\"red\"},\n",
    "    ci=95\n",
    ")\n",
    "plt.title(\"Annual Return vs ESG Score\", fontsize=13)\n",
    "plt.xlabel(\"Total ESG Score\")\n",
    "plt.ylabel(\"Annual Return (%)\")\n",
    "plt.grid(alpha=0.3)\n",
    "plt.tight_layout()\n",
    "plt.show()\n"
   ]
  },
  {
   "cell_type": "markdown",
   "id": "1c4032a648dfeb2a",
   "metadata": {},
   "source": [
    "The linear fit indicates a very weak (slightly positive) relationship between ESG risk scores and annual returns among SPI companies.\n",
    "Given that a lower ESG score means lower risk and better ESG performance, this result implies that firms with stronger ESG profiles do not systematically outperform or underperform peers in terms of annual stock returns.\n",
    "The broad confidence band further suggests that ESG factors alone have limited explanatory power for short-term returns."
   ]
  },
  {
   "cell_type": "markdown",
   "id": "29d359f79e6b7918",
   "metadata": {},
   "source": [
    "Now we run a regression analysis to statistically disentangle the effects and control for several influencing factors, such as:\n",
    "- **Market capitalization** (log_mc): Larger firms tend to be more diversified, less volatile, and often receive more analyst coverage, which can influence both their ESG performance and financial returns.\n",
    "- **Revenue growth** (Revenue_Growth_Pct): Rapidly growing firms may experience higher stock returns independent of their ESG profile, so controlling for growth isolates the ESG effect on returns.\n",
    "- **Industry**: ESG scores and their financial relevance can vary substantially across sectors — for example, environmental factors are more material in manufacturing, while governance plays a stronger role in financial services. Including industry dummies controls for these structural differences."
   ]
  },
  {
   "cell_type": "code",
   "execution_count": 144,
   "id": "c5bda1ddbb3f7c78",
   "metadata": {
    "ExecuteTime": {
     "end_time": "2025-10-19T19:15:19.659022Z",
     "start_time": "2025-10-19T19:15:19.636166Z"
    }
   },
   "outputs": [
    {
     "name": "stdout",
     "output_type": "stream",
     "text": [
      "                            OLS Regression Results                            \n",
      "==============================================================================\n",
      "Dep. Variable:      Annual_Return_Pct   R-squared:                       0.323\n",
      "Model:                            OLS   Adj. R-squared:                  0.219\n",
      "Method:                 Least Squares   F-statistic:                     8.726\n",
      "Date:                Thu, 30 Oct 2025   Prob (F-statistic):           8.78e-14\n",
      "Time:                        19:08:21   Log-Likelihood:                -587.62\n",
      "No. Observations:                 129   AIC:                             1211.\n",
      "Df Residuals:                     111   BIC:                             1263.\n",
      "Df Model:                          17                                         \n",
      "Covariance Type:                  HC3                                         \n",
      "===============================================================================================================================\n",
      "                                                                  coef    std err          z      P>|z|      [0.025      0.975]\n",
      "-------------------------------------------------------------------------------------------------------------------------------\n",
      "Intercept                                                    -149.2467     38.034     -3.924      0.000    -223.791     -74.702\n",
      "C(Industry_grp)[T.Banks - Regional]                            23.4067     10.381      2.255      0.024       3.060      43.753\n",
      "C(Industry_grp)[T.Biotechnology]                               15.5059     19.938      0.778      0.437     -23.572      54.584\n",
      "C(Industry_grp)[T.Building Products & Equipment]                8.5987     16.230      0.530      0.596     -23.211      40.409\n",
      "C(Industry_grp)[T.Drug Manufacturers - Specialty & Generic]    20.1039     25.973      0.774      0.439     -30.801      71.009\n",
      "C(Industry_grp)[T.Insurance - Diversified]                     23.1584     12.311      1.881      0.060      -0.972      47.288\n",
      "C(Industry_grp)[T.Medical Devices]                             16.5209     28.919      0.571      0.568     -40.158      73.200\n",
      "C(Industry_grp)[T.Medical Instruments & Supplies]             -17.2076     11.456     -1.502      0.133     -39.661       5.246\n",
      "C(Industry_grp)[T.Other]                                       12.3114     10.412      1.182      0.237      -8.096      32.718\n",
      "C(Industry_grp)[T.Packaged Foods]                             -19.5610     13.273     -1.474      0.141     -45.576       6.454\n",
      "C(Industry_grp)[T.Real Estate - Diversified]                   37.4680     13.268      2.824      0.005      11.463      63.473\n",
      "C(Industry_grp)[T.Real Estate Services]                        26.6071     12.371      2.151      0.031       2.361      50.854\n",
      "C(Industry_grp)[T.Scientific & Technical Instruments]           1.6169     10.048      0.161      0.872     -18.078      21.311\n",
      "C(Industry_grp)[T.Specialty Chemicals]                        -25.1935     10.317     -2.442      0.015     -45.415      -4.972\n",
      "C(Industry_grp)[T.Specialty Industrial Machinery]               3.5089     10.830      0.324      0.746     -17.718      24.736\n",
      "Total_ESG_Score                                                 0.7268      0.404      1.797      0.072      -0.066       1.520\n",
      "log_mc                                                          5.6524      1.569      3.603      0.000       2.578       8.727\n",
      "Revenue_Growth_Pct                                              0.0320      0.177      0.181      0.857      -0.315       0.379\n",
      "==============================================================================\n",
      "Omnibus:                        9.824   Durbin-Watson:                   2.036\n",
      "Prob(Omnibus):                  0.007   Jarque-Bera (JB):               10.586\n",
      "Skew:                           0.534   Prob(JB):                      0.00503\n",
      "Kurtosis:                       3.909   Cond. No.                         674.\n",
      "==============================================================================\n",
      "\n",
      "Notes:\n",
      "[1] Standard Errors are heteroscedasticity robust (HC3)\n"
     ]
    }
   ],
   "source": [
    "# How many obs per industry?\n",
    "counts = df_return_no_outliers[\"Industry\"].value_counts()\n",
    "keep = counts[counts >= 3].index            # require at least 3 per industry (adjust if you like)\n",
    "\n",
    "df_fix = df_return_no_outliers.copy()\n",
    "df_fix[\"Industry_grp\"] = np.where(df_fix[\"Industry\"].isin(keep), df_fix[\"Industry\"], \"Other\")\n",
    "\n",
    "# Refit with grouped industry FE\n",
    "m_ret_clean = smf.ols(\n",
    "    \"Annual_Return_Pct ~ Total_ESG_Score + log_mc + Revenue_Growth_Pct + C(Industry_grp)\",\n",
    "    data=df_fix\n",
    ").fit(cov_type=\"HC3\") #assumption of heteroscadicity\n",
    "\n",
    "print(m_ret_clean.summary())\n",
    "\n"
   ]
  },
  {
   "cell_type": "markdown",
   "id": "f5fe5a658a1a28e7",
   "metadata": {},
   "source": [
    "The adjusted R-squared indicates that the model explains approximately 23% of the variance in annual returns.\n",
    "Contrary to what we expected based on the visual analysis, the Total ESG Score shows a statistically significant effect (coef = 0.78, p = 0.046). However, the direction of the effect is opposite to our assumption — higher ESG risk (i.e., a higher score) is associated with higher annual returns. The magnitude of this relationship is relatively small, amounting to an increase of about 0.77 percentage points in annual return per ESG-risk point.\n",
    "\n",
    "The log-transformed market capitalization is highly significant (coef = 6.05, p < 0.001), suggesting that larger companies tend to achieve higher annual returns. In contrast, revenue growth shows no statistically significant relationship with annual returns (coef = 0.03, p = 0.74).\n",
    "\n",
    "Regarding industry effects, the analysis reveals significantly positive coefficients for:\n",
    "- Real Estate – Diversified (coef = 37.83, p = 0.005)\n",
    "- Real Estate Services (coef = 26.98, p = 0.026)\n",
    "- Banks – Regional (coef = 22.83, p = 0.027)\n",
    "\n",
    "while Specialty Chemicals is the only sector exhibiting a significant negative effect on annual returns (coef = -25.52, p = 0.014).\n"
   ]
  },
  {
   "cell_type": "markdown",
   "id": "215c0dff5533225b",
   "metadata": {},
   "source": [
    "now we control for Market cap and industry"
   ]
  },
  {
   "cell_type": "code",
   "execution_count": 145,
   "id": "4cf6e3f51fb3d8d0",
   "metadata": {
    "ExecuteTime": {
     "end_time": "2025-10-19T19:26:03.105011Z",
     "start_time": "2025-10-19T19:26:02.977059Z"
    }
   },
   "outputs": [
    {
     "data": {
      "image/png": "[encoded data removed]",
      "text/plain": [
       "<Figure size 640x480 with 1 Axes>"
      ]
     },
     "metadata": {},
     "output_type": "display_data"
    }
   ],
   "source": [
    "fig = sm.graphics.plot_partregress(\n",
    "    endog=\"Annual_Return_Pct\",\n",
    "    exog_i=\"Total_ESG_Score\",\n",
    "    exog_others=[\"log_mc\", \"Revenue_Growth_Pct\"],\n",
    "    data=df_return,\n",
    "    obs_labels=False\n",
    ")\n",
    "plt.title(\"Partial Regression: ESG Score controlling for Size & Industry\")\n",
    "plt.show()\n"
   ]
  },
  {
   "cell_type": "markdown",
   "id": "e2db20d796fcfc7c",
   "metadata": {},
   "source": [
    "The partial regression plot visualizes the isolated relationship between the Total ESG Score and the Annual Return, after controlling for firm size (log of market capitalization) and industry effects.\n",
    "\n",
    "Each point represents the residuals from two regressions:\n",
    "\n",
    "- On the x-axis: the portion of ESG Score not explained by size and industry.\n",
    "- On the y-axis: the portion of Annual Return not explained by size and industry.\n",
    "\n",
    "The fitted line shows the remaining linear association between these residuals. The slightly positive slope indicates that, when holding firm size and industry constant, companies with higher ESG risk (higher ESG scores) tend to exhibit slightly higher annual returns.\n",
    "\n",
    "However, the relationship is weak, as shown by the flat slope and the high dispersion of points around the regression line. This suggests that ESG risk alone explains little of the remaining variation in returns once structural factors like size and industry are accounted for.\n",
    "\n",
    "In summary, the partial regression confirms the main regression result: ESG risk has a small but statistically significant positive association with returns, implying that higher-risk firms might be compensated by slightly higher financial performance — though the economic relevance of this effect is limited."
   ]
  },
  {
   "cell_type": "code",
   "execution_count": 146,
   "id": "1387e8daf3dba938",
   "metadata": {
    "ExecuteTime": {
     "end_time": "2025-10-19T19:33:15.167936Z",
     "start_time": "2025-10-19T19:33:14.305295Z"
    }
   },
   "outputs": [
    {
     "data": {
      "image/png": "[encoded data removed]",
      "text/plain": [
       "<Figure size 720x720 with 4 Axes>"
      ]
     },
     "metadata": {},
     "output_type": "display_data"
    }
   ],
   "source": [
    "# pick the significant industries (from your regression)\n",
    "sig_inds = [\n",
    "    \"Real Estate - Diversified\",\n",
    "    \"Real Estate Services\",\n",
    "    \"Banks - Regional\",\n",
    "    \"Specialty Chemicals\"\n",
    "]\n",
    "\n",
    "# choose which column to use (Industry_grp if you grouped, else Industry)\n",
    "ind_col = \"Industry_grp\" if \"Industry_grp\" in df_return_no_outliers.columns else \"Industry\"\n",
    "\n",
    "use_col = \"Industry_grp\" if \"Industry_grp\" in df_return_no_outliers.columns else \"Industry\"\n",
    "plot_set = df_return_no_outliers[df_return_no_outliers[use_col].isin(sig_inds)].copy()\n",
    "\n",
    "g = sns.lmplot(\n",
    "    data=plot_set,\n",
    "    x=\"Total_ESG_Score\", y=\"Annual_Return_Pct\",\n",
    "    col=use_col, col_wrap=2, height=3.6,\n",
    "    scatter_kws={\"alpha\":0.6}\n",
    ")\n",
    "g.set_axis_labels(\"Total ESG Score (higher = worse ESG)\", \"Annual Return (%)\")\n",
    "for ax in g.axes.flat:\n",
    "    ax.grid(alpha=0.3)\n",
    "plt.subplots_adjust(top=0.88)\n",
    "g.fig.suptitle(\"Annual Return vs ESG Score — Significant Industries\")\n",
    "plt.show()\n"
   ]
  },
  {
   "cell_type": "markdown",
   "id": "ee50ee58cabbe94d",
   "metadata": {},
   "source": [
    "To further explore whether the relationship between ESG performance and annual financial returns varies across industries, we visualized the associations for the sectors that showed significant effects in the regression model: Specialty Chemicals, Real Estate – Diversified, Real Estate Services, and Banks – Regional.\n",
    "\n",
    "Across these industries, the patterns differ in both direction and magnitude. In Specialty Chemicals and Regional Banks, we observe a slightly negative relationship, suggesting that companies with better ESG scores (lower ESG risk) tend to achieve higher annual returns. Conversely, in Real Estate Services, the relationship appears positive, implying that firms with higher ESG risk might exhibit somewhat higher returns, although this effect is characterized by wide confidence intervals due to limited sample size. For Real Estate – Diversified, the slope is nearly flat, indicating no meaningful association between ESG performance and annual return.\n",
    "\n",
    "Overall, these results suggest that the financial relevance of ESG factors is industry-dependent, with some sectors potentially rewarding better ESG management, while in others, the relationship appears weak or even reversed. However, given the small number of observations in several industries, these findings should be interpreted with caution and considered indicative rather than conclusive."
   ]
  }
 ],
 "metadata": {
  "kernelspec": {
   "display_name": "Python 3",
   "language": "python",
   "name": "python3"
  },
  "language_info": {
   "codemirror_mode": {
    "name": "ipython",
    "version": 3
   },
   "file_extension": ".py",
   "mimetype": "text/x-python",
   "name": "python",
   "nbconvert_exporter": "python",
   "pygments_lexer": "ipython3",
   "version": "3.12.7"
  }
 },
 "nbformat": 4,
 "nbformat_minor": 5
}
