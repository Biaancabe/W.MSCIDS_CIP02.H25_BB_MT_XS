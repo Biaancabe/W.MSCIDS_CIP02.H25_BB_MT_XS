{
 "cells": [
  {
   "cell_type": "markdown",
   "id": "bc0d146d",
   "metadata": {},
   "source": [
    "# Data Cleansing"
   ]
  },
  {
   "cell_type": "markdown",
   "id": "50cb31b0",
   "metadata": {},
   "source": [
    "## Notes/Questions to discuss:\n",
    "1.\tI removed 59 SPI companies without Total ESG Score, 1 duplicate company (Schindler, see 1.4), and 4 S&P 500 companies without Total ESG Score **(see section 1.1)**.\n",
    "2.\t**To discuss:** Should we remove SPI companies whose Country is not Switzerland? (There are 5 with ESG scores.) Should we remove a few S&P companies whose country is not US? **(See 1.2)**\n",
    "3.\tI removed financial indicators due to a large amount of missing data: PE_Ratio, EBITDA_Margin_%, Debt_to_Equity, Current_Ratio, and Operating_Cash_Flow **(see 1.5)**.\n",
    "4.\tDepending on the metrics and industries chosen for further analysis, we may need to remove additional S&P 500 data due to the unbalanced size of the two datasets and missing values. However, the S&P 500 dataset is mainly used for support and comparison, so we do not perform a deep analysis on it and adjust it according to the SPI dataset **(see 1.5)**.\n",
    "5.\tOutliers should be addressed (keep or remove) during the analysis and comparison of specific metrics based on their observed distributions **(see 4.3)**.\n",
    "6.\tThe merged and cleaned dataset is saved as `cleaned_combined_data.csv` in the Data folder. Additional columns have been added:\n",
    "    - Company_Type to identify SPI vs S&P 500 companies\n",
    "    - ESG Risk Classification according to the ESG Risk Ratings Methodology **(see 5.2)**"
   ]
  },
  {
   "cell_type": "markdown",
   "id": "c3fe4a52",
   "metadata": {},
   "source": [
    "## Import packages"
   ]
  },
  {
   "cell_type": "code",
   "execution_count": 1,
   "id": "aa7937d8",
   "metadata": {},
   "outputs": [],
   "source": [
    "import pandas as pd\n",
    "import numpy as np\n",
    "import matplotlib.pyplot as plt\n",
    "import seaborn as sns\n",
    "from datetime import datetime"
   ]
  },
  {
   "cell_type": "markdown",
   "id": "5f3de72d",
   "metadata": {},
   "source": [
    "## Load Data"
   ]
  },
  {
   "cell_type": "code",
   "execution_count": 2,
   "id": "00d52fb9",
   "metadata": {},
   "outputs": [],
   "source": [
    "spi = pd.read_csv(\"Data/esg_financial_analysis_spi.csv\")\n",
    "sp500 = pd.read_csv(\"Data/esg_financial_analysis_sp500.csv\")"
   ]
  },
  {
   "cell_type": "code",
   "execution_count": 3,
   "id": "e7654ab4",
   "metadata": {},
   "outputs": [
    {
     "name": "stdout",
     "output_type": "stream",
     "text": [
      "(201, 34)\n"
     ]
    },
    {
     "data": {
      "application/vnd.microsoft.datawrangler.viewer.v0+json": {
       "columns": [
        {
         "name": "index",
         "rawType": "object",
         "type": "string"
        },
        {
         "name": "Total_ESG_Score",
         "rawType": "float64",
         "type": "float"
        },
        {
         "name": "Environmental_Score",
         "rawType": "float64",
         "type": "float"
        },
        {
         "name": "Social_Score",
         "rawType": "float64",
         "type": "float"
        },
        {
         "name": "Governance_Score",
         "rawType": "float64",
         "type": "float"
        },
        {
         "name": "Highest_Controversy",
         "rawType": "float64",
         "type": "float"
        },
        {
         "name": "Stock_Price",
         "rawType": "float64",
         "type": "float"
        },
        {
         "name": "Current_Price",
         "rawType": "float64",
         "type": "float"
        },
        {
         "name": "Market_Cap",
         "rawType": "float64",
         "type": "float"
        },
        {
         "name": "PE_Ratio",
         "rawType": "float64",
         "type": "float"
        },
        {
         "name": "PB_Ratio",
         "rawType": "float64",
         "type": "float"
        },
        {
         "name": "Annual_Return_%",
         "rawType": "float64",
         "type": "float"
        },
        {
         "name": "Revenue",
         "rawType": "float64",
         "type": "float"
        },
        {
         "name": "Net_Income",
         "rawType": "float64",
         "type": "float"
        },
        {
         "name": "Operating_Margin_%",
         "rawType": "float64",
         "type": "float"
        },
        {
         "name": "Gross_Margin_%",
         "rawType": "float64",
         "type": "float"
        },
        {
         "name": "ROE_%",
         "rawType": "float64",
         "type": "float"
        },
        {
         "name": "ROA_%",
         "rawType": "float64",
         "type": "float"
        },
        {
         "name": "Profit_Margin_%",
         "rawType": "float64",
         "type": "float"
        },
        {
         "name": "EBITDA_Margin_%",
         "rawType": "float64",
         "type": "float"
        },
        {
         "name": "EPS",
         "rawType": "float64",
         "type": "float"
        },
        {
         "name": "Beta",
         "rawType": "float64",
         "type": "float"
        },
        {
         "name": "Debt_to_Equity",
         "rawType": "float64",
         "type": "float"
        },
        {
         "name": "Current_Ratio",
         "rawType": "float64",
         "type": "float"
        },
        {
         "name": "Operating_Cash_Flow",
         "rawType": "float64",
         "type": "float"
        },
        {
         "name": "Revenue_Growth_%",
         "rawType": "float64",
         "type": "float"
        }
       ],
       "ref": "2dcf5fbc-b9c9-4c2a-bdf5-0ddb6e142eff",
       "rows": [
        [
         "count",
         "142.0",
         "71.0",
         "71.0",
         "71.0",
         "141.0",
         "197.0",
         "200.0",
         "200.0",
         "151.0",
         "199.0",
         "197.0",
         "193.0",
         "194.0",
         "195.0",
         "195.0",
         "187.0",
         "191.0",
         "195.0",
         "163.0",
         "195.0",
         "190.0",
         "158.0",
         "171.0",
         "178.0",
         "197.0"
        ],
        [
         "mean",
         "22.16612676056338",
         "5.776478873239436",
         "8.240422535211266",
         "5.491690140845071",
         "0.574468085106383",
         "831.0094416243654",
         "1012.7856665000003",
         "9631341661.405",
         "29.529006622516558",
         "3.56678391959799",
         "-7.6438071065989845",
         "4460212839.176166",
         "510969310.78350514",
         "-72.70266666666667",
         "40.65651282051282",
         "4.340213903743315",
         "2.7381151832460735",
         "41.53497435897436",
         "-55.88644171779142",
         "472.7901025641024",
         "0.6643368421052631",
         "114.21329113924051",
         "7.039824561403509",
         "819686118.8764045",
         "19.085736040609138"
        ],
        [
         "std",
         "7.79557019587748",
         "4.963637807262949",
         "3.330291465845731",
         "2.1947450134455857",
         "0.8802113589781514",
         "6975.072465168901",
         "9290.522167004263",
         "29342152129.890617",
         "40.652068578035355",
         "13.368680824162345",
         "210.60768741959043",
         "11757480114.417658",
         "1700385304.3547773",
         "689.1557880420227",
         "38.15617297673477",
         "44.42232219989651",
         "7.831412765424415",
         "289.3312833894887",
         "694.5857469581304",
         "6176.006216376788",
         "0.46832021357720766",
         "301.0597942966906",
         "57.997245101649476",
         "2941789216.3734293",
         "219.98891720250364"
        ],
        [
         "min",
         "8.56",
         "0.0",
         "0.64",
         "1.07",
         "0.0",
         "0.05",
         "0.021",
         "104650.0",
         "0.04",
         "-51.52",
         "-2805.56",
         "-80803000.0",
         "-544475008.0",
         "-8843.47",
         "-294.77",
         "-288.14",
         "-27.2",
         "-133.72",
         "-8713.51",
         "-28.81",
         "-0.464",
         "0.28",
         "0.02",
         "-4749700096.0",
         "-100.0"
        ],
        [
         "25%",
         "15.647499999999999",
         "1.735",
         "5.755",
         "4.234999999999999",
         "0.0",
         "25.72",
         "23.2875",
         "298072184.0",
         "13.945",
         "0.86",
         "-19.33",
         "236210000.0",
         "4728000.0",
         "2.88",
         "22.0",
         "2.1550000000000002",
         "0.635",
         "1.0750000000000002",
         "5.585",
         "0.275",
         "0.299",
         "21.365",
         "1.025",
         "17697500.0",
         "-4.53"
        ],
        [
         "50%",
         "22.32",
         "3.92",
         "8.79",
         "5.01",
         "0.0",
         "76.95",
         "80.1",
         "1277346624.0",
         "19.47",
         "1.67",
         "1.83",
         "664067008.0",
         "70550500.0",
         "11.3",
         "44.13",
         "8.1",
         "2.21",
         "8.05",
         "12.7",
         "4.0",
         "0.6705000000000001",
         "56.305",
         "1.51",
         "80066500.0",
         "1.16"
        ],
        [
         "75%",
         "27.62",
         "9.985",
         "10.495000000000001",
         "6.795",
         "1.0",
         "219.0",
         "222.75",
         "4323705088.0",
         "30.865000000000002",
         "3.725",
         "17.6",
         "3112600064.0",
         "234186248.0",
         "25.07",
         "63.584999999999994",
         "15.920000000000002",
         "6.6",
         "20.795",
         "23.645",
         "9.695",
         "0.9624999999999999",
         "109.325",
         "2.385",
         "416161744.0",
         "7.06"
        ],
        [
         "max",
         "49.05",
         "17.02",
         "16.75",
         "10.96",
         "4.0",
         "97134.13",
         "130600.0",
         "225000000000.0",
         "443.33",
         "172.41",
         "641.7",
         "90898997248.0",
         "13653999616.0",
         "100.46",
         "100.0",
         "163.7",
         "50.97",
         "3663.79",
         "116.37",
         "86227.18",
         "2.164",
         "3322.76",
         "758.29",
         "20788000768.0",
         "3028.01"
        ]
       ],
       "shape": {
        "columns": 25,
        "rows": 8
       }
      },
      "text/html": [
       "<div>\n",
       "<style scoped>\n",
       "    .dataframe tbody tr th:only-of-type {\n",
       "        vertical-align: middle;\n",
       "    }\n",
       "\n",
       "    .dataframe tbody tr th {\n",
       "        vertical-align: top;\n",
       "    }\n",
       "\n",
       "    .dataframe thead th {\n",
       "        text-align: right;\n",
       "    }\n",
       "</style>\n",
       "<table border=\"1\" class=\"dataframe\">\n",
       "  <thead>\n",
       "    <tr style=\"text-align: right;\">\n",
       "      <th></th>\n",
       "      <th>Total_ESG_Score</th>\n",
       "      <th>Environmental_Score</th>\n",
       "      <th>Social_Score</th>\n",
       "      <th>Governance_Score</th>\n",
       "      <th>Highest_Controversy</th>\n",
       "      <th>Stock_Price</th>\n",
       "      <th>Current_Price</th>\n",
       "      <th>Market_Cap</th>\n",
       "      <th>PE_Ratio</th>\n",
       "      <th>PB_Ratio</th>\n",
       "      <th>...</th>\n",
       "      <th>ROE_%</th>\n",
       "      <th>ROA_%</th>\n",
       "      <th>Profit_Margin_%</th>\n",
       "      <th>EBITDA_Margin_%</th>\n",
       "      <th>EPS</th>\n",
       "      <th>Beta</th>\n",
       "      <th>Debt_to_Equity</th>\n",
       "      <th>Current_Ratio</th>\n",
       "      <th>Operating_Cash_Flow</th>\n",
       "      <th>Revenue_Growth_%</th>\n",
       "    </tr>\n",
       "  </thead>\n",
       "  <tbody>\n",
       "    <tr>\n",
       "      <th>count</th>\n",
       "      <td>142.000000</td>\n",
       "      <td>71.000000</td>\n",
       "      <td>71.000000</td>\n",
       "      <td>71.000000</td>\n",
       "      <td>141.000000</td>\n",
       "      <td>197.000000</td>\n",
       "      <td>200.000000</td>\n",
       "      <td>2.000000e+02</td>\n",
       "      <td>151.000000</td>\n",
       "      <td>199.000000</td>\n",
       "      <td>...</td>\n",
       "      <td>187.000000</td>\n",
       "      <td>191.000000</td>\n",
       "      <td>195.000000</td>\n",
       "      <td>163.000000</td>\n",
       "      <td>195.000000</td>\n",
       "      <td>190.000000</td>\n",
       "      <td>158.000000</td>\n",
       "      <td>171.000000</td>\n",
       "      <td>1.780000e+02</td>\n",
       "      <td>197.000000</td>\n",
       "    </tr>\n",
       "    <tr>\n",
       "      <th>mean</th>\n",
       "      <td>22.166127</td>\n",
       "      <td>5.776479</td>\n",
       "      <td>8.240423</td>\n",
       "      <td>5.491690</td>\n",
       "      <td>0.574468</td>\n",
       "      <td>831.009442</td>\n",
       "      <td>1012.785667</td>\n",
       "      <td>9.631342e+09</td>\n",
       "      <td>29.529007</td>\n",
       "      <td>3.566784</td>\n",
       "      <td>...</td>\n",
       "      <td>4.340214</td>\n",
       "      <td>2.738115</td>\n",
       "      <td>41.534974</td>\n",
       "      <td>-55.886442</td>\n",
       "      <td>472.790103</td>\n",
       "      <td>0.664337</td>\n",
       "      <td>114.213291</td>\n",
       "      <td>7.039825</td>\n",
       "      <td>8.196861e+08</td>\n",
       "      <td>19.085736</td>\n",
       "    </tr>\n",
       "    <tr>\n",
       "      <th>std</th>\n",
       "      <td>7.795570</td>\n",
       "      <td>4.963638</td>\n",
       "      <td>3.330291</td>\n",
       "      <td>2.194745</td>\n",
       "      <td>0.880211</td>\n",
       "      <td>6975.072465</td>\n",
       "      <td>9290.522167</td>\n",
       "      <td>2.934215e+10</td>\n",
       "      <td>40.652069</td>\n",
       "      <td>13.368681</td>\n",
       "      <td>...</td>\n",
       "      <td>44.422322</td>\n",
       "      <td>7.831413</td>\n",
       "      <td>289.331283</td>\n",
       "      <td>694.585747</td>\n",
       "      <td>6176.006216</td>\n",
       "      <td>0.468320</td>\n",
       "      <td>301.059794</td>\n",
       "      <td>57.997245</td>\n",
       "      <td>2.941789e+09</td>\n",
       "      <td>219.988917</td>\n",
       "    </tr>\n",
       "    <tr>\n",
       "      <th>min</th>\n",
       "      <td>8.560000</td>\n",
       "      <td>0.000000</td>\n",
       "      <td>0.640000</td>\n",
       "      <td>1.070000</td>\n",
       "      <td>0.000000</td>\n",
       "      <td>0.050000</td>\n",
       "      <td>0.021000</td>\n",
       "      <td>1.046500e+05</td>\n",
       "      <td>0.040000</td>\n",
       "      <td>-51.520000</td>\n",
       "      <td>...</td>\n",
       "      <td>-288.140000</td>\n",
       "      <td>-27.200000</td>\n",
       "      <td>-133.720000</td>\n",
       "      <td>-8713.510000</td>\n",
       "      <td>-28.810000</td>\n",
       "      <td>-0.464000</td>\n",
       "      <td>0.280000</td>\n",
       "      <td>0.020000</td>\n",
       "      <td>-4.749700e+09</td>\n",
       "      <td>-100.000000</td>\n",
       "    </tr>\n",
       "    <tr>\n",
       "      <th>25%</th>\n",
       "      <td>15.647500</td>\n",
       "      <td>1.735000</td>\n",
       "      <td>5.755000</td>\n",
       "      <td>4.235000</td>\n",
       "      <td>0.000000</td>\n",
       "      <td>25.720000</td>\n",
       "      <td>23.287500</td>\n",
       "      <td>2.980722e+08</td>\n",
       "      <td>13.945000</td>\n",
       "      <td>0.860000</td>\n",
       "      <td>...</td>\n",
       "      <td>2.155000</td>\n",
       "      <td>0.635000</td>\n",
       "      <td>1.075000</td>\n",
       "      <td>5.585000</td>\n",
       "      <td>0.275000</td>\n",
       "      <td>0.299000</td>\n",
       "      <td>21.365000</td>\n",
       "      <td>1.025000</td>\n",
       "      <td>1.769750e+07</td>\n",
       "      <td>-4.530000</td>\n",
       "    </tr>\n",
       "    <tr>\n",
       "      <th>50%</th>\n",
       "      <td>22.320000</td>\n",
       "      <td>3.920000</td>\n",
       "      <td>8.790000</td>\n",
       "      <td>5.010000</td>\n",
       "      <td>0.000000</td>\n",
       "      <td>76.950000</td>\n",
       "      <td>80.100000</td>\n",
       "      <td>1.277347e+09</td>\n",
       "      <td>19.470000</td>\n",
       "      <td>1.670000</td>\n",
       "      <td>...</td>\n",
       "      <td>8.100000</td>\n",
       "      <td>2.210000</td>\n",
       "      <td>8.050000</td>\n",
       "      <td>12.700000</td>\n",
       "      <td>4.000000</td>\n",
       "      <td>0.670500</td>\n",
       "      <td>56.305000</td>\n",
       "      <td>1.510000</td>\n",
       "      <td>8.006650e+07</td>\n",
       "      <td>1.160000</td>\n",
       "    </tr>\n",
       "    <tr>\n",
       "      <th>75%</th>\n",
       "      <td>27.620000</td>\n",
       "      <td>9.985000</td>\n",
       "      <td>10.495000</td>\n",
       "      <td>6.795000</td>\n",
       "      <td>1.000000</td>\n",
       "      <td>219.000000</td>\n",
       "      <td>222.750000</td>\n",
       "      <td>4.323705e+09</td>\n",
       "      <td>30.865000</td>\n",
       "      <td>3.725000</td>\n",
       "      <td>...</td>\n",
       "      <td>15.920000</td>\n",
       "      <td>6.600000</td>\n",
       "      <td>20.795000</td>\n",
       "      <td>23.645000</td>\n",
       "      <td>9.695000</td>\n",
       "      <td>0.962500</td>\n",
       "      <td>109.325000</td>\n",
       "      <td>2.385000</td>\n",
       "      <td>4.161617e+08</td>\n",
       "      <td>7.060000</td>\n",
       "    </tr>\n",
       "    <tr>\n",
       "      <th>max</th>\n",
       "      <td>49.050000</td>\n",
       "      <td>17.020000</td>\n",
       "      <td>16.750000</td>\n",
       "      <td>10.960000</td>\n",
       "      <td>4.000000</td>\n",
       "      <td>97134.130000</td>\n",
       "      <td>130600.000000</td>\n",
       "      <td>2.250000e+11</td>\n",
       "      <td>443.330000</td>\n",
       "      <td>172.410000</td>\n",
       "      <td>...</td>\n",
       "      <td>163.700000</td>\n",
       "      <td>50.970000</td>\n",
       "      <td>3663.790000</td>\n",
       "      <td>116.370000</td>\n",
       "      <td>86227.180000</td>\n",
       "      <td>2.164000</td>\n",
       "      <td>3322.760000</td>\n",
       "      <td>758.290000</td>\n",
       "      <td>2.078800e+10</td>\n",
       "      <td>3028.010000</td>\n",
       "    </tr>\n",
       "  </tbody>\n",
       "</table>\n",
       "<p>8 rows × 25 columns</p>\n",
       "</div>"
      ],
      "text/plain": [
       "       Total_ESG_Score  Environmental_Score  Social_Score  Governance_Score  \\\n",
       "count       142.000000            71.000000     71.000000         71.000000   \n",
       "mean         22.166127             5.776479      8.240423          5.491690   \n",
       "std           7.795570             4.963638      3.330291          2.194745   \n",
       "min           8.560000             0.000000      0.640000          1.070000   \n",
       "25%          15.647500             1.735000      5.755000          4.235000   \n",
       "50%          22.320000             3.920000      8.790000          5.010000   \n",
       "75%          27.620000             9.985000     10.495000          6.795000   \n",
       "max          49.050000            17.020000     16.750000         10.960000   \n",
       "\n",
       "       Highest_Controversy   Stock_Price  Current_Price    Market_Cap  \\\n",
       "count           141.000000    197.000000     200.000000  2.000000e+02   \n",
       "mean              0.574468    831.009442    1012.785667  9.631342e+09   \n",
       "std               0.880211   6975.072465    9290.522167  2.934215e+10   \n",
       "min               0.000000      0.050000       0.021000  1.046500e+05   \n",
       "25%               0.000000     25.720000      23.287500  2.980722e+08   \n",
       "50%               0.000000     76.950000      80.100000  1.277347e+09   \n",
       "75%               1.000000    219.000000     222.750000  4.323705e+09   \n",
       "max               4.000000  97134.130000  130600.000000  2.250000e+11   \n",
       "\n",
       "         PE_Ratio    PB_Ratio  ...       ROE_%       ROA_%  Profit_Margin_%  \\\n",
       "count  151.000000  199.000000  ...  187.000000  191.000000       195.000000   \n",
       "mean    29.529007    3.566784  ...    4.340214    2.738115        41.534974   \n",
       "std     40.652069   13.368681  ...   44.422322    7.831413       289.331283   \n",
       "min      0.040000  -51.520000  ... -288.140000  -27.200000      -133.720000   \n",
       "25%     13.945000    0.860000  ...    2.155000    0.635000         1.075000   \n",
       "50%     19.470000    1.670000  ...    8.100000    2.210000         8.050000   \n",
       "75%     30.865000    3.725000  ...   15.920000    6.600000        20.795000   \n",
       "max    443.330000  172.410000  ...  163.700000   50.970000      3663.790000   \n",
       "\n",
       "       EBITDA_Margin_%           EPS        Beta  Debt_to_Equity  \\\n",
       "count       163.000000    195.000000  190.000000      158.000000   \n",
       "mean        -55.886442    472.790103    0.664337      114.213291   \n",
       "std         694.585747   6176.006216    0.468320      301.059794   \n",
       "min       -8713.510000    -28.810000   -0.464000        0.280000   \n",
       "25%           5.585000      0.275000    0.299000       21.365000   \n",
       "50%          12.700000      4.000000    0.670500       56.305000   \n",
       "75%          23.645000      9.695000    0.962500      109.325000   \n",
       "max         116.370000  86227.180000    2.164000     3322.760000   \n",
       "\n",
       "       Current_Ratio  Operating_Cash_Flow  Revenue_Growth_%  \n",
       "count     171.000000         1.780000e+02        197.000000  \n",
       "mean        7.039825         8.196861e+08         19.085736  \n",
       "std        57.997245         2.941789e+09        219.988917  \n",
       "min         0.020000        -4.749700e+09       -100.000000  \n",
       "25%         1.025000         1.769750e+07         -4.530000  \n",
       "50%         1.510000         8.006650e+07          1.160000  \n",
       "75%         2.385000         4.161617e+08          7.060000  \n",
       "max       758.290000         2.078800e+10       3028.010000  \n",
       "\n",
       "[8 rows x 25 columns]"
      ]
     },
     "execution_count": 3,
     "metadata": {},
     "output_type": "execute_result"
    }
   ],
   "source": [
    "# SPI dataset overview\n",
    "print(spi.shape)\n",
    "spi.describe()"
   ]
  },
  {
   "cell_type": "code",
   "execution_count": 4,
   "id": "89a4bf4f",
   "metadata": {},
   "outputs": [
    {
     "name": "stdout",
     "output_type": "stream",
     "text": [
      "(503, 34)\n"
     ]
    },
    {
     "data": {
      "application/vnd.microsoft.datawrangler.viewer.v0+json": {
       "columns": [
        {
         "name": "index",
         "rawType": "object",
         "type": "string"
        },
        {
         "name": "Total_ESG_Score",
         "rawType": "float64",
         "type": "float"
        },
        {
         "name": "Environmental_Score",
         "rawType": "float64",
         "type": "float"
        },
        {
         "name": "Social_Score",
         "rawType": "float64",
         "type": "float"
        },
        {
         "name": "Governance_Score",
         "rawType": "float64",
         "type": "float"
        },
        {
         "name": "Highest_Controversy",
         "rawType": "float64",
         "type": "float"
        },
        {
         "name": "Stock_Price",
         "rawType": "float64",
         "type": "float"
        },
        {
         "name": "Current_Price",
         "rawType": "float64",
         "type": "float"
        },
        {
         "name": "Market_Cap",
         "rawType": "float64",
         "type": "float"
        },
        {
         "name": "PE_Ratio",
         "rawType": "float64",
         "type": "float"
        },
        {
         "name": "PB_Ratio",
         "rawType": "float64",
         "type": "float"
        },
        {
         "name": "Annual_Return_%",
         "rawType": "float64",
         "type": "float"
        },
        {
         "name": "Revenue",
         "rawType": "float64",
         "type": "float"
        },
        {
         "name": "Net_Income",
         "rawType": "float64",
         "type": "float"
        },
        {
         "name": "Operating_Margin_%",
         "rawType": "float64",
         "type": "float"
        },
        {
         "name": "Gross_Margin_%",
         "rawType": "float64",
         "type": "float"
        },
        {
         "name": "ROE_%",
         "rawType": "float64",
         "type": "float"
        },
        {
         "name": "ROA_%",
         "rawType": "float64",
         "type": "float"
        },
        {
         "name": "Profit_Margin_%",
         "rawType": "float64",
         "type": "float"
        },
        {
         "name": "EBITDA_Margin_%",
         "rawType": "float64",
         "type": "float"
        },
        {
         "name": "EPS",
         "rawType": "float64",
         "type": "float"
        },
        {
         "name": "Beta",
         "rawType": "float64",
         "type": "float"
        },
        {
         "name": "Debt_to_Equity",
         "rawType": "float64",
         "type": "float"
        },
        {
         "name": "Current_Ratio",
         "rawType": "float64",
         "type": "float"
        },
        {
         "name": "Operating_Cash_Flow",
         "rawType": "float64",
         "type": "float"
        },
        {
         "name": "Revenue_Growth_%",
         "rawType": "float64",
         "type": "float"
        }
       ],
       "ref": "a61a7af8-5c4b-4c3b-94ad-b9dbcd0183f1",
       "rows": [
        [
         "count",
         "499.0",
         "498.0",
         "498.0",
         "498.0",
         "499.0",
         "502.0",
         "502.0",
         "502.0",
         "481.0",
         "502.0",
         "502.0",
         "502.0",
         "502.0",
         "502.0",
         "502.0",
         "470.0",
         "497.0",
         "502.0",
         "472.0",
         "502.0",
         "498.0",
         "448.0",
         "479.0",
         "480.0",
         "500.0"
        ],
        [
         "mean",
         "19.69687374749499",
         "6.284578313253013",
         "8.55218875502008",
         "4.879397590361445",
         "1.8577154308617234",
         "215.66330677290836",
         "227.57100597609565",
         "125959325741.89641",
         "46.92858627858627",
         "0.5595019920318709",
         "5.701613545816733",
         "35426620175.42629",
         "4302216143.824701",
         "19.457390438247014",
         "45.074980079681275",
         "54.57791489361703",
         "6.880845070422534",
         "14.087330677290836",
         "27.493855932203388",
         "8.428645418326694",
         "1.013574297188755",
         "128.95633928571428",
         "1.7173068893528183",
         "5993220538.066667",
         "6.4394800000000005"
        ],
        [
         "std",
         "6.514326091299647",
         "5.181406387828166",
         "3.3381384088642077",
         "2.206782766751637",
         "0.7210236414629959",
         "473.7544726201183",
         "475.86839752090674",
         "402127559941.7439",
         "172.50148021972805",
         "99.48290169918657",
         "39.557489591990226",
         "72550044858.25685",
         "12305939043.491394",
         "41.06605869825994",
         "23.711033037895106",
         "629.2428638272504",
         "5.999728361638419",
         "14.225744803551889",
         "17.600208692921857",
         "23.77292164943696",
         "0.4419585497079651",
         "186.47288337209147",
         "3.0079222543920716",
         "14945064843.062592",
         "14.263576935101769"
        ],
        [
         "min",
         "6.68",
         "0.04",
         "0.89",
         "1.43",
         "0.0",
         "9.17",
         "8.14",
         "6353985024.0",
         "4.85",
         "-2181.44",
         "-58.76",
         "742873024.0",
         "-20504000512.0",
         "-638.73",
         "-71.44",
         "-183.28",
         "-14.77",
         "-94.31",
         "-99.58",
         "-24.13",
         "-0.025",
         "0.05",
         "0.04",
         "-10766999552.0",
         "-52.64"
        ],
        [
         "25%",
         "14.85",
         "2.3024999999999998",
         "6.2525",
         "3.51",
         "2.0",
         "68.27000000000001",
         "70.1825",
         "20305544192.0",
         "17.86",
         "1.7725",
         "-15.865",
         "6625000192.0",
         "778000000.0",
         "12.43",
         "29.48",
         "9.0725",
         "3.16",
         "7.2975",
         "16.2125",
         "2.3600000000000003",
         "0.71925",
         "39.339999999999996",
         "0.88",
         "1234505792.0",
         "0.03"
        ],
        [
         "50%",
         "18.84",
         "4.68",
         "8.585",
         "4.425",
         "2.0",
         "119.62",
         "130.635",
         "39009351680.0",
         "25.43",
         "3.16",
         "-1.07",
         "13910499840.0",
         "1527006976.0",
         "19.509999999999998",
         "43.845",
         "15.559999999999999",
         "5.39",
         "13.08",
         "24.59",
         "5.24",
         "1.0065",
         "74.17",
         "1.24",
         "2367156096.0",
         "4.895"
        ],
        [
         "75%",
         "23.33",
         "9.73",
         "10.61",
         "5.637499999999999",
         "2.0",
         "227.72750000000002",
         "245.275",
         "85900355584.0",
         "35.1",
         "7.3175",
         "17.84",
         "28720250368.0",
         "3287750080.0",
         "28.625",
         "60.8",
         "28.7975",
         "8.85",
         "20.2",
         "36.695",
         "9.157499999999999",
         "1.2745",
         "144.7275",
         "1.84",
         "4910900224.0",
         "10.592500000000001"
        ],
        [
         "max",
         "41.26",
         "24.79",
         "20.12",
         "20.21",
         "5.0",
         "8005.95",
         "7605.88",
         "4430000000000.0",
         "3519.5",
         "175.81",
         "389.9",
         "693000000000.0",
         "116000000000.0",
         "109.3",
         "100.0",
         "13631.68",
         "53.09",
         "73.17",
         "92.61",
         "473.09",
         "3.684",
         "2149.33",
         "60.31",
         "136000000000.0",
         "114.2"
        ]
       ],
       "shape": {
        "columns": 25,
        "rows": 8
       }
      },
      "text/html": [
       "<div>\n",
       "<style scoped>\n",
       "    .dataframe tbody tr th:only-of-type {\n",
       "        vertical-align: middle;\n",
       "    }\n",
       "\n",
       "    .dataframe tbody tr th {\n",
       "        vertical-align: top;\n",
       "    }\n",
       "\n",
       "    .dataframe thead th {\n",
       "        text-align: right;\n",
       "    }\n",
       "</style>\n",
       "<table border=\"1\" class=\"dataframe\">\n",
       "  <thead>\n",
       "    <tr style=\"text-align: right;\">\n",
       "      <th></th>\n",
       "      <th>Total_ESG_Score</th>\n",
       "      <th>Environmental_Score</th>\n",
       "      <th>Social_Score</th>\n",
       "      <th>Governance_Score</th>\n",
       "      <th>Highest_Controversy</th>\n",
       "      <th>Stock_Price</th>\n",
       "      <th>Current_Price</th>\n",
       "      <th>Market_Cap</th>\n",
       "      <th>PE_Ratio</th>\n",
       "      <th>PB_Ratio</th>\n",
       "      <th>...</th>\n",
       "      <th>ROE_%</th>\n",
       "      <th>ROA_%</th>\n",
       "      <th>Profit_Margin_%</th>\n",
       "      <th>EBITDA_Margin_%</th>\n",
       "      <th>EPS</th>\n",
       "      <th>Beta</th>\n",
       "      <th>Debt_to_Equity</th>\n",
       "      <th>Current_Ratio</th>\n",
       "      <th>Operating_Cash_Flow</th>\n",
       "      <th>Revenue_Growth_%</th>\n",
       "    </tr>\n",
       "  </thead>\n",
       "  <tbody>\n",
       "    <tr>\n",
       "      <th>count</th>\n",
       "      <td>499.000000</td>\n",
       "      <td>498.000000</td>\n",
       "      <td>498.000000</td>\n",
       "      <td>498.000000</td>\n",
       "      <td>499.000000</td>\n",
       "      <td>502.000000</td>\n",
       "      <td>502.000000</td>\n",
       "      <td>5.020000e+02</td>\n",
       "      <td>481.000000</td>\n",
       "      <td>502.000000</td>\n",
       "      <td>...</td>\n",
       "      <td>470.000000</td>\n",
       "      <td>497.000000</td>\n",
       "      <td>502.000000</td>\n",
       "      <td>472.000000</td>\n",
       "      <td>502.000000</td>\n",
       "      <td>498.000000</td>\n",
       "      <td>448.000000</td>\n",
       "      <td>479.000000</td>\n",
       "      <td>4.800000e+02</td>\n",
       "      <td>500.000000</td>\n",
       "    </tr>\n",
       "    <tr>\n",
       "      <th>mean</th>\n",
       "      <td>19.696874</td>\n",
       "      <td>6.284578</td>\n",
       "      <td>8.552189</td>\n",
       "      <td>4.879398</td>\n",
       "      <td>1.857715</td>\n",
       "      <td>215.663307</td>\n",
       "      <td>227.571006</td>\n",
       "      <td>1.259593e+11</td>\n",
       "      <td>46.928586</td>\n",
       "      <td>0.559502</td>\n",
       "      <td>...</td>\n",
       "      <td>54.577915</td>\n",
       "      <td>6.880845</td>\n",
       "      <td>14.087331</td>\n",
       "      <td>27.493856</td>\n",
       "      <td>8.428645</td>\n",
       "      <td>1.013574</td>\n",
       "      <td>128.956339</td>\n",
       "      <td>1.717307</td>\n",
       "      <td>5.993221e+09</td>\n",
       "      <td>6.439480</td>\n",
       "    </tr>\n",
       "    <tr>\n",
       "      <th>std</th>\n",
       "      <td>6.514326</td>\n",
       "      <td>5.181406</td>\n",
       "      <td>3.338138</td>\n",
       "      <td>2.206783</td>\n",
       "      <td>0.721024</td>\n",
       "      <td>473.754473</td>\n",
       "      <td>475.868398</td>\n",
       "      <td>4.021276e+11</td>\n",
       "      <td>172.501480</td>\n",
       "      <td>99.482902</td>\n",
       "      <td>...</td>\n",
       "      <td>629.242864</td>\n",
       "      <td>5.999728</td>\n",
       "      <td>14.225745</td>\n",
       "      <td>17.600209</td>\n",
       "      <td>23.772922</td>\n",
       "      <td>0.441959</td>\n",
       "      <td>186.472883</td>\n",
       "      <td>3.007922</td>\n",
       "      <td>1.494506e+10</td>\n",
       "      <td>14.263577</td>\n",
       "    </tr>\n",
       "    <tr>\n",
       "      <th>min</th>\n",
       "      <td>6.680000</td>\n",
       "      <td>0.040000</td>\n",
       "      <td>0.890000</td>\n",
       "      <td>1.430000</td>\n",
       "      <td>0.000000</td>\n",
       "      <td>9.170000</td>\n",
       "      <td>8.140000</td>\n",
       "      <td>6.353985e+09</td>\n",
       "      <td>4.850000</td>\n",
       "      <td>-2181.440000</td>\n",
       "      <td>...</td>\n",
       "      <td>-183.280000</td>\n",
       "      <td>-14.770000</td>\n",
       "      <td>-94.310000</td>\n",
       "      <td>-99.580000</td>\n",
       "      <td>-24.130000</td>\n",
       "      <td>-0.025000</td>\n",
       "      <td>0.050000</td>\n",
       "      <td>0.040000</td>\n",
       "      <td>-1.076700e+10</td>\n",
       "      <td>-52.640000</td>\n",
       "    </tr>\n",
       "    <tr>\n",
       "      <th>25%</th>\n",
       "      <td>14.850000</td>\n",
       "      <td>2.302500</td>\n",
       "      <td>6.252500</td>\n",
       "      <td>3.510000</td>\n",
       "      <td>2.000000</td>\n",
       "      <td>68.270000</td>\n",
       "      <td>70.182500</td>\n",
       "      <td>2.030554e+10</td>\n",
       "      <td>17.860000</td>\n",
       "      <td>1.772500</td>\n",
       "      <td>...</td>\n",
       "      <td>9.072500</td>\n",
       "      <td>3.160000</td>\n",
       "      <td>7.297500</td>\n",
       "      <td>16.212500</td>\n",
       "      <td>2.360000</td>\n",
       "      <td>0.719250</td>\n",
       "      <td>39.340000</td>\n",
       "      <td>0.880000</td>\n",
       "      <td>1.234506e+09</td>\n",
       "      <td>0.030000</td>\n",
       "    </tr>\n",
       "    <tr>\n",
       "      <th>50%</th>\n",
       "      <td>18.840000</td>\n",
       "      <td>4.680000</td>\n",
       "      <td>8.585000</td>\n",
       "      <td>4.425000</td>\n",
       "      <td>2.000000</td>\n",
       "      <td>119.620000</td>\n",
       "      <td>130.635000</td>\n",
       "      <td>3.900935e+10</td>\n",
       "      <td>25.430000</td>\n",
       "      <td>3.160000</td>\n",
       "      <td>...</td>\n",
       "      <td>15.560000</td>\n",
       "      <td>5.390000</td>\n",
       "      <td>13.080000</td>\n",
       "      <td>24.590000</td>\n",
       "      <td>5.240000</td>\n",
       "      <td>1.006500</td>\n",
       "      <td>74.170000</td>\n",
       "      <td>1.240000</td>\n",
       "      <td>2.367156e+09</td>\n",
       "      <td>4.895000</td>\n",
       "    </tr>\n",
       "    <tr>\n",
       "      <th>75%</th>\n",
       "      <td>23.330000</td>\n",
       "      <td>9.730000</td>\n",
       "      <td>10.610000</td>\n",
       "      <td>5.637500</td>\n",
       "      <td>2.000000</td>\n",
       "      <td>227.727500</td>\n",
       "      <td>245.275000</td>\n",
       "      <td>8.590036e+10</td>\n",
       "      <td>35.100000</td>\n",
       "      <td>7.317500</td>\n",
       "      <td>...</td>\n",
       "      <td>28.797500</td>\n",
       "      <td>8.850000</td>\n",
       "      <td>20.200000</td>\n",
       "      <td>36.695000</td>\n",
       "      <td>9.157500</td>\n",
       "      <td>1.274500</td>\n",
       "      <td>144.727500</td>\n",
       "      <td>1.840000</td>\n",
       "      <td>4.910900e+09</td>\n",
       "      <td>10.592500</td>\n",
       "    </tr>\n",
       "    <tr>\n",
       "      <th>max</th>\n",
       "      <td>41.260000</td>\n",
       "      <td>24.790000</td>\n",
       "      <td>20.120000</td>\n",
       "      <td>20.210000</td>\n",
       "      <td>5.000000</td>\n",
       "      <td>8005.950000</td>\n",
       "      <td>7605.880000</td>\n",
       "      <td>4.430000e+12</td>\n",
       "      <td>3519.500000</td>\n",
       "      <td>175.810000</td>\n",
       "      <td>...</td>\n",
       "      <td>13631.680000</td>\n",
       "      <td>53.090000</td>\n",
       "      <td>73.170000</td>\n",
       "      <td>92.610000</td>\n",
       "      <td>473.090000</td>\n",
       "      <td>3.684000</td>\n",
       "      <td>2149.330000</td>\n",
       "      <td>60.310000</td>\n",
       "      <td>1.360000e+11</td>\n",
       "      <td>114.200000</td>\n",
       "    </tr>\n",
       "  </tbody>\n",
       "</table>\n",
       "<p>8 rows × 25 columns</p>\n",
       "</div>"
      ],
      "text/plain": [
       "       Total_ESG_Score  Environmental_Score  Social_Score  Governance_Score  \\\n",
       "count       499.000000           498.000000    498.000000        498.000000   \n",
       "mean         19.696874             6.284578      8.552189          4.879398   \n",
       "std           6.514326             5.181406      3.338138          2.206783   \n",
       "min           6.680000             0.040000      0.890000          1.430000   \n",
       "25%          14.850000             2.302500      6.252500          3.510000   \n",
       "50%          18.840000             4.680000      8.585000          4.425000   \n",
       "75%          23.330000             9.730000     10.610000          5.637500   \n",
       "max          41.260000            24.790000     20.120000         20.210000   \n",
       "\n",
       "       Highest_Controversy  Stock_Price  Current_Price    Market_Cap  \\\n",
       "count           499.000000   502.000000     502.000000  5.020000e+02   \n",
       "mean              1.857715   215.663307     227.571006  1.259593e+11   \n",
       "std               0.721024   473.754473     475.868398  4.021276e+11   \n",
       "min               0.000000     9.170000       8.140000  6.353985e+09   \n",
       "25%               2.000000    68.270000      70.182500  2.030554e+10   \n",
       "50%               2.000000   119.620000     130.635000  3.900935e+10   \n",
       "75%               2.000000   227.727500     245.275000  8.590036e+10   \n",
       "max               5.000000  8005.950000    7605.880000  4.430000e+12   \n",
       "\n",
       "          PE_Ratio     PB_Ratio  ...         ROE_%       ROA_%  \\\n",
       "count   481.000000   502.000000  ...    470.000000  497.000000   \n",
       "mean     46.928586     0.559502  ...     54.577915    6.880845   \n",
       "std     172.501480    99.482902  ...    629.242864    5.999728   \n",
       "min       4.850000 -2181.440000  ...   -183.280000  -14.770000   \n",
       "25%      17.860000     1.772500  ...      9.072500    3.160000   \n",
       "50%      25.430000     3.160000  ...     15.560000    5.390000   \n",
       "75%      35.100000     7.317500  ...     28.797500    8.850000   \n",
       "max    3519.500000   175.810000  ...  13631.680000   53.090000   \n",
       "\n",
       "       Profit_Margin_%  EBITDA_Margin_%         EPS        Beta  \\\n",
       "count       502.000000       472.000000  502.000000  498.000000   \n",
       "mean         14.087331        27.493856    8.428645    1.013574   \n",
       "std          14.225745        17.600209   23.772922    0.441959   \n",
       "min         -94.310000       -99.580000  -24.130000   -0.025000   \n",
       "25%           7.297500        16.212500    2.360000    0.719250   \n",
       "50%          13.080000        24.590000    5.240000    1.006500   \n",
       "75%          20.200000        36.695000    9.157500    1.274500   \n",
       "max          73.170000        92.610000  473.090000    3.684000   \n",
       "\n",
       "       Debt_to_Equity  Current_Ratio  Operating_Cash_Flow  Revenue_Growth_%  \n",
       "count      448.000000     479.000000         4.800000e+02        500.000000  \n",
       "mean       128.956339       1.717307         5.993221e+09          6.439480  \n",
       "std        186.472883       3.007922         1.494506e+10         14.263577  \n",
       "min          0.050000       0.040000        -1.076700e+10        -52.640000  \n",
       "25%         39.340000       0.880000         1.234506e+09          0.030000  \n",
       "50%         74.170000       1.240000         2.367156e+09          4.895000  \n",
       "75%        144.727500       1.840000         4.910900e+09         10.592500  \n",
       "max       2149.330000      60.310000         1.360000e+11        114.200000  \n",
       "\n",
       "[8 rows x 25 columns]"
      ]
     },
     "execution_count": 4,
     "metadata": {},
     "output_type": "execute_result"
    }
   ],
   "source": [
    "# S&P 500 dataset overview\n",
    "print(sp500.shape)\n",
    "sp500.describe()"
   ]
  },
  {
   "cell_type": "markdown",
   "id": "8fb8830e",
   "metadata": {},
   "source": [
    "## 1. Check for gaps / missing data"
   ]
  },
  {
   "cell_type": "code",
   "execution_count": 5,
   "id": "a6f35f9c",
   "metadata": {},
   "outputs": [],
   "source": [
    "def missing_summary(df, name):\n",
    "    missing_count = df.isnull().sum()\n",
    "    missing_pct = (missing_count / len(df) * 100).round(2)\n",
    "    return pd.DataFrame({\n",
    "        \"Dataset\": name,\n",
    "        \"Missing Count\": missing_count,\n",
    "        \"Missing %\": missing_pct\n",
    "    })"
   ]
  },
  {
   "cell_type": "code",
   "execution_count": 6,
   "id": "cbc948d9",
   "metadata": {},
   "outputs": [
    {
     "data": {
      "application/vnd.microsoft.datawrangler.viewer.v0+json": {
       "columns": [
        {
         "name": "index",
         "rawType": "object",
         "type": "string"
        },
        {
         "name": "Dataset",
         "rawType": "object",
         "type": "string"
        },
        {
         "name": "Missing Count",
         "rawType": "int64",
         "type": "integer"
        },
        {
         "name": "Missing %",
         "rawType": "float64",
         "type": "float"
        }
       ],
       "ref": "d151f46a-43e2-42d9-b40b-14c25dab675f",
       "rows": [
        [
         "Ticker",
         "SPI",
         "0",
         "0.0"
        ],
        [
         "Company_Name",
         "SPI",
         "2",
         "1.0"
        ],
        [
         "Currency",
         "SPI",
         "1",
         "0.5"
        ],
        [
         "Data_Date",
         "SPI",
         "0",
         "0.0"
        ],
        [
         "Industry",
         "SPI",
         "6",
         "2.99"
        ],
        [
         "Sector",
         "SPI",
         "6",
         "2.99"
        ],
        [
         "Country",
         "SPI",
         "6",
         "2.99"
        ],
        [
         "Total_ESG_Score",
         "SPI",
         "59",
         "29.35"
        ],
        [
         "Environmental_Score",
         "SPI",
         "130",
         "64.68"
        ],
        [
         "Social_Score",
         "SPI",
         "130",
         "64.68"
        ],
        [
         "Governance_Score",
         "SPI",
         "130",
         "64.68"
        ],
        [
         "ESG_Performance",
         "SPI",
         "59",
         "29.35"
        ],
        [
         "Highest_Controversy",
         "SPI",
         "60",
         "29.85"
        ],
        [
         "Stock_Price",
         "SPI",
         "4",
         "1.99"
        ],
        [
         "Current_Price",
         "SPI",
         "1",
         "0.5"
        ],
        [
         "Market_Cap",
         "SPI",
         "1",
         "0.5"
        ],
        [
         "PE_Ratio",
         "SPI",
         "50",
         "24.88"
        ],
        [
         "PB_Ratio",
         "SPI",
         "2",
         "1.0"
        ],
        [
         "Annual_Return_%",
         "SPI",
         "4",
         "1.99"
        ],
        [
         "Revenue",
         "SPI",
         "8",
         "3.98"
        ],
        [
         "Net_Income",
         "SPI",
         "7",
         "3.48"
        ],
        [
         "Operating_Margin_%",
         "SPI",
         "6",
         "2.99"
        ],
        [
         "Gross_Margin_%",
         "SPI",
         "6",
         "2.99"
        ],
        [
         "ROE_%",
         "SPI",
         "14",
         "6.97"
        ],
        [
         "ROA_%",
         "SPI",
         "10",
         "4.98"
        ],
        [
         "Profit_Margin_%",
         "SPI",
         "6",
         "2.99"
        ],
        [
         "EBITDA_Margin_%",
         "SPI",
         "38",
         "18.91"
        ],
        [
         "EPS",
         "SPI",
         "6",
         "2.99"
        ],
        [
         "Beta",
         "SPI",
         "11",
         "5.47"
        ],
        [
         "Debt_to_Equity",
         "SPI",
         "43",
         "21.39"
        ],
        [
         "Current_Ratio",
         "SPI",
         "30",
         "14.93"
        ],
        [
         "Operating_Cash_Flow",
         "SPI",
         "23",
         "11.44"
        ],
        [
         "Revenue_Growth_%",
         "SPI",
         "4",
         "1.99"
        ],
        [
         "Status",
         "SPI",
         "0",
         "0.0"
        ]
       ],
       "shape": {
        "columns": 3,
        "rows": 34
       }
      },
      "text/html": [
       "<div>\n",
       "<style scoped>\n",
       "    .dataframe tbody tr th:only-of-type {\n",
       "        vertical-align: middle;\n",
       "    }\n",
       "\n",
       "    .dataframe tbody tr th {\n",
       "        vertical-align: top;\n",
       "    }\n",
       "\n",
       "    .dataframe thead th {\n",
       "        text-align: right;\n",
       "    }\n",
       "</style>\n",
       "<table border=\"1\" class=\"dataframe\">\n",
       "  <thead>\n",
       "    <tr style=\"text-align: right;\">\n",
       "      <th></th>\n",
       "      <th>Dataset</th>\n",
       "      <th>Missing Count</th>\n",
       "      <th>Missing %</th>\n",
       "    </tr>\n",
       "  </thead>\n",
       "  <tbody>\n",
       "    <tr>\n",
       "      <th>Ticker</th>\n",
       "      <td>SPI</td>\n",
       "      <td>0</td>\n",
       "      <td>0.00</td>\n",
       "    </tr>\n",
       "    <tr>\n",
       "      <th>Company_Name</th>\n",
       "      <td>SPI</td>\n",
       "      <td>2</td>\n",
       "      <td>1.00</td>\n",
       "    </tr>\n",
       "    <tr>\n",
       "      <th>Currency</th>\n",
       "      <td>SPI</td>\n",
       "      <td>1</td>\n",
       "      <td>0.50</td>\n",
       "    </tr>\n",
       "    <tr>\n",
       "      <th>Data_Date</th>\n",
       "      <td>SPI</td>\n",
       "      <td>0</td>\n",
       "      <td>0.00</td>\n",
       "    </tr>\n",
       "    <tr>\n",
       "      <th>Industry</th>\n",
       "      <td>SPI</td>\n",
       "      <td>6</td>\n",
       "      <td>2.99</td>\n",
       "    </tr>\n",
       "    <tr>\n",
       "      <th>Sector</th>\n",
       "      <td>SPI</td>\n",
       "      <td>6</td>\n",
       "      <td>2.99</td>\n",
       "    </tr>\n",
       "    <tr>\n",
       "      <th>Country</th>\n",
       "      <td>SPI</td>\n",
       "      <td>6</td>\n",
       "      <td>2.99</td>\n",
       "    </tr>\n",
       "    <tr>\n",
       "      <th>Total_ESG_Score</th>\n",
       "      <td>SPI</td>\n",
       "      <td>59</td>\n",
       "      <td>29.35</td>\n",
       "    </tr>\n",
       "    <tr>\n",
       "      <th>Environmental_Score</th>\n",
       "      <td>SPI</td>\n",
       "      <td>130</td>\n",
       "      <td>64.68</td>\n",
       "    </tr>\n",
       "    <tr>\n",
       "      <th>Social_Score</th>\n",
       "      <td>SPI</td>\n",
       "      <td>130</td>\n",
       "      <td>64.68</td>\n",
       "    </tr>\n",
       "    <tr>\n",
       "      <th>Governance_Score</th>\n",
       "      <td>SPI</td>\n",
       "      <td>130</td>\n",
       "      <td>64.68</td>\n",
       "    </tr>\n",
       "    <tr>\n",
       "      <th>ESG_Performance</th>\n",
       "      <td>SPI</td>\n",
       "      <td>59</td>\n",
       "      <td>29.35</td>\n",
       "    </tr>\n",
       "    <tr>\n",
       "      <th>Highest_Controversy</th>\n",
       "      <td>SPI</td>\n",
       "      <td>60</td>\n",
       "      <td>29.85</td>\n",
       "    </tr>\n",
       "    <tr>\n",
       "      <th>Stock_Price</th>\n",
       "      <td>SPI</td>\n",
       "      <td>4</td>\n",
       "      <td>1.99</td>\n",
       "    </tr>\n",
       "    <tr>\n",
       "      <th>Current_Price</th>\n",
       "      <td>SPI</td>\n",
       "      <td>1</td>\n",
       "      <td>0.50</td>\n",
       "    </tr>\n",
       "    <tr>\n",
       "      <th>Market_Cap</th>\n",
       "      <td>SPI</td>\n",
       "      <td>1</td>\n",
       "      <td>0.50</td>\n",
       "    </tr>\n",
       "    <tr>\n",
       "      <th>PE_Ratio</th>\n",
       "      <td>SPI</td>\n",
       "      <td>50</td>\n",
       "      <td>24.88</td>\n",
       "    </tr>\n",
       "    <tr>\n",
       "      <th>PB_Ratio</th>\n",
       "      <td>SPI</td>\n",
       "      <td>2</td>\n",
       "      <td>1.00</td>\n",
       "    </tr>\n",
       "    <tr>\n",
       "      <th>Annual_Return_%</th>\n",
       "      <td>SPI</td>\n",
       "      <td>4</td>\n",
       "      <td>1.99</td>\n",
       "    </tr>\n",
       "    <tr>\n",
       "      <th>Revenue</th>\n",
       "      <td>SPI</td>\n",
       "      <td>8</td>\n",
       "      <td>3.98</td>\n",
       "    </tr>\n",
       "    <tr>\n",
       "      <th>Net_Income</th>\n",
       "      <td>SPI</td>\n",
       "      <td>7</td>\n",
       "      <td>3.48</td>\n",
       "    </tr>\n",
       "    <tr>\n",
       "      <th>Operating_Margin_%</th>\n",
       "      <td>SPI</td>\n",
       "      <td>6</td>\n",
       "      <td>2.99</td>\n",
       "    </tr>\n",
       "    <tr>\n",
       "      <th>Gross_Margin_%</th>\n",
       "      <td>SPI</td>\n",
       "      <td>6</td>\n",
       "      <td>2.99</td>\n",
       "    </tr>\n",
       "    <tr>\n",
       "      <th>ROE_%</th>\n",
       "      <td>SPI</td>\n",
       "      <td>14</td>\n",
       "      <td>6.97</td>\n",
       "    </tr>\n",
       "    <tr>\n",
       "      <th>ROA_%</th>\n",
       "      <td>SPI</td>\n",
       "      <td>10</td>\n",
       "      <td>4.98</td>\n",
       "    </tr>\n",
       "    <tr>\n",
       "      <th>Profit_Margin_%</th>\n",
       "      <td>SPI</td>\n",
       "      <td>6</td>\n",
       "      <td>2.99</td>\n",
       "    </tr>\n",
       "    <tr>\n",
       "      <th>EBITDA_Margin_%</th>\n",
       "      <td>SPI</td>\n",
       "      <td>38</td>\n",
       "      <td>18.91</td>\n",
       "    </tr>\n",
       "    <tr>\n",
       "      <th>EPS</th>\n",
       "      <td>SPI</td>\n",
       "      <td>6</td>\n",
       "      <td>2.99</td>\n",
       "    </tr>\n",
       "    <tr>\n",
       "      <th>Beta</th>\n",
       "      <td>SPI</td>\n",
       "      <td>11</td>\n",
       "      <td>5.47</td>\n",
       "    </tr>\n",
       "    <tr>\n",
       "      <th>Debt_to_Equity</th>\n",
       "      <td>SPI</td>\n",
       "      <td>43</td>\n",
       "      <td>21.39</td>\n",
       "    </tr>\n",
       "    <tr>\n",
       "      <th>Current_Ratio</th>\n",
       "      <td>SPI</td>\n",
       "      <td>30</td>\n",
       "      <td>14.93</td>\n",
       "    </tr>\n",
       "    <tr>\n",
       "      <th>Operating_Cash_Flow</th>\n",
       "      <td>SPI</td>\n",
       "      <td>23</td>\n",
       "      <td>11.44</td>\n",
       "    </tr>\n",
       "    <tr>\n",
       "      <th>Revenue_Growth_%</th>\n",
       "      <td>SPI</td>\n",
       "      <td>4</td>\n",
       "      <td>1.99</td>\n",
       "    </tr>\n",
       "    <tr>\n",
       "      <th>Status</th>\n",
       "      <td>SPI</td>\n",
       "      <td>0</td>\n",
       "      <td>0.00</td>\n",
       "    </tr>\n",
       "  </tbody>\n",
       "</table>\n",
       "</div>"
      ],
      "text/plain": [
       "                    Dataset  Missing Count  Missing %\n",
       "Ticker                  SPI              0       0.00\n",
       "Company_Name            SPI              2       1.00\n",
       "Currency                SPI              1       0.50\n",
       "Data_Date               SPI              0       0.00\n",
       "Industry                SPI              6       2.99\n",
       "Sector                  SPI              6       2.99\n",
       "Country                 SPI              6       2.99\n",
       "Total_ESG_Score         SPI             59      29.35\n",
       "Environmental_Score     SPI            130      64.68\n",
       "Social_Score            SPI            130      64.68\n",
       "Governance_Score        SPI            130      64.68\n",
       "ESG_Performance         SPI             59      29.35\n",
       "Highest_Controversy     SPI             60      29.85\n",
       "Stock_Price             SPI              4       1.99\n",
       "Current_Price           SPI              1       0.50\n",
       "Market_Cap              SPI              1       0.50\n",
       "PE_Ratio                SPI             50      24.88\n",
       "PB_Ratio                SPI              2       1.00\n",
       "Annual_Return_%         SPI              4       1.99\n",
       "Revenue                 SPI              8       3.98\n",
       "Net_Income              SPI              7       3.48\n",
       "Operating_Margin_%      SPI              6       2.99\n",
       "Gross_Margin_%          SPI              6       2.99\n",
       "ROE_%                   SPI             14       6.97\n",
       "ROA_%                   SPI             10       4.98\n",
       "Profit_Margin_%         SPI              6       2.99\n",
       "EBITDA_Margin_%         SPI             38      18.91\n",
       "EPS                     SPI              6       2.99\n",
       "Beta                    SPI             11       5.47\n",
       "Debt_to_Equity          SPI             43      21.39\n",
       "Current_Ratio           SPI             30      14.93\n",
       "Operating_Cash_Flow     SPI             23      11.44\n",
       "Revenue_Growth_%        SPI              4       1.99\n",
       "Status                  SPI              0       0.00"
      ]
     },
     "execution_count": 6,
     "metadata": {},
     "output_type": "execute_result"
    }
   ],
   "source": [
    "missing_summary(spi, \"SPI\")"
   ]
  },
  {
   "cell_type": "code",
   "execution_count": 7,
   "id": "3c1fcf99",
   "metadata": {},
   "outputs": [
    {
     "data": {
      "application/vnd.microsoft.datawrangler.viewer.v0+json": {
       "columns": [
        {
         "name": "index",
         "rawType": "object",
         "type": "string"
        },
        {
         "name": "Dataset",
         "rawType": "object",
         "type": "string"
        },
        {
         "name": "Missing Count",
         "rawType": "int64",
         "type": "integer"
        },
        {
         "name": "Missing %",
         "rawType": "float64",
         "type": "float"
        }
       ],
       "ref": "a0b0d894-4885-4a8e-82b1-bec6035c2e23",
       "rows": [
        [
         "Ticker",
         "SP500",
         "0",
         "0.0"
        ],
        [
         "Company_Name",
         "SP500",
         "0",
         "0.0"
        ],
        [
         "Currency",
         "SP500",
         "1",
         "0.2"
        ],
        [
         "Data_Date",
         "SP500",
         "0",
         "0.0"
        ],
        [
         "Industry",
         "SP500",
         "1",
         "0.2"
        ],
        [
         "Sector",
         "SP500",
         "1",
         "0.2"
        ],
        [
         "Country",
         "SP500",
         "1",
         "0.2"
        ],
        [
         "Total_ESG_Score",
         "SP500",
         "4",
         "0.8"
        ],
        [
         "Environmental_Score",
         "SP500",
         "5",
         "0.99"
        ],
        [
         "Social_Score",
         "SP500",
         "5",
         "0.99"
        ],
        [
         "Governance_Score",
         "SP500",
         "5",
         "0.99"
        ],
        [
         "ESG_Performance",
         "SP500",
         "4",
         "0.8"
        ],
        [
         "Highest_Controversy",
         "SP500",
         "4",
         "0.8"
        ],
        [
         "Stock_Price",
         "SP500",
         "1",
         "0.2"
        ],
        [
         "Current_Price",
         "SP500",
         "1",
         "0.2"
        ],
        [
         "Market_Cap",
         "SP500",
         "1",
         "0.2"
        ],
        [
         "PE_Ratio",
         "SP500",
         "22",
         "4.37"
        ],
        [
         "PB_Ratio",
         "SP500",
         "1",
         "0.2"
        ],
        [
         "Annual_Return_%",
         "SP500",
         "1",
         "0.2"
        ],
        [
         "Revenue",
         "SP500",
         "1",
         "0.2"
        ],
        [
         "Net_Income",
         "SP500",
         "1",
         "0.2"
        ],
        [
         "Operating_Margin_%",
         "SP500",
         "1",
         "0.2"
        ],
        [
         "Gross_Margin_%",
         "SP500",
         "1",
         "0.2"
        ],
        [
         "ROE_%",
         "SP500",
         "33",
         "6.56"
        ],
        [
         "ROA_%",
         "SP500",
         "6",
         "1.19"
        ],
        [
         "Profit_Margin_%",
         "SP500",
         "1",
         "0.2"
        ],
        [
         "EBITDA_Margin_%",
         "SP500",
         "31",
         "6.16"
        ],
        [
         "EPS",
         "SP500",
         "1",
         "0.2"
        ],
        [
         "Beta",
         "SP500",
         "5",
         "0.99"
        ],
        [
         "Debt_to_Equity",
         "SP500",
         "55",
         "10.93"
        ],
        [
         "Current_Ratio",
         "SP500",
         "24",
         "4.77"
        ],
        [
         "Operating_Cash_Flow",
         "SP500",
         "23",
         "4.57"
        ],
        [
         "Revenue_Growth_%",
         "SP500",
         "3",
         "0.6"
        ],
        [
         "Status",
         "SP500",
         "0",
         "0.0"
        ]
       ],
       "shape": {
        "columns": 3,
        "rows": 34
       }
      },
      "text/html": [
       "<div>\n",
       "<style scoped>\n",
       "    .dataframe tbody tr th:only-of-type {\n",
       "        vertical-align: middle;\n",
       "    }\n",
       "\n",
       "    .dataframe tbody tr th {\n",
       "        vertical-align: top;\n",
       "    }\n",
       "\n",
       "    .dataframe thead th {\n",
       "        text-align: right;\n",
       "    }\n",
       "</style>\n",
       "<table border=\"1\" class=\"dataframe\">\n",
       "  <thead>\n",
       "    <tr style=\"text-align: right;\">\n",
       "      <th></th>\n",
       "      <th>Dataset</th>\n",
       "      <th>Missing Count</th>\n",
       "      <th>Missing %</th>\n",
       "    </tr>\n",
       "  </thead>\n",
       "  <tbody>\n",
       "    <tr>\n",
       "      <th>Ticker</th>\n",
       "      <td>SP500</td>\n",
       "      <td>0</td>\n",
       "      <td>0.00</td>\n",
       "    </tr>\n",
       "    <tr>\n",
       "      <th>Company_Name</th>\n",
       "      <td>SP500</td>\n",
       "      <td>0</td>\n",
       "      <td>0.00</td>\n",
       "    </tr>\n",
       "    <tr>\n",
       "      <th>Currency</th>\n",
       "      <td>SP500</td>\n",
       "      <td>1</td>\n",
       "      <td>0.20</td>\n",
       "    </tr>\n",
       "    <tr>\n",
       "      <th>Data_Date</th>\n",
       "      <td>SP500</td>\n",
       "      <td>0</td>\n",
       "      <td>0.00</td>\n",
       "    </tr>\n",
       "    <tr>\n",
       "      <th>Industry</th>\n",
       "      <td>SP500</td>\n",
       "      <td>1</td>\n",
       "      <td>0.20</td>\n",
       "    </tr>\n",
       "    <tr>\n",
       "      <th>Sector</th>\n",
       "      <td>SP500</td>\n",
       "      <td>1</td>\n",
       "      <td>0.20</td>\n",
       "    </tr>\n",
       "    <tr>\n",
       "      <th>Country</th>\n",
       "      <td>SP500</td>\n",
       "      <td>1</td>\n",
       "      <td>0.20</td>\n",
       "    </tr>\n",
       "    <tr>\n",
       "      <th>Total_ESG_Score</th>\n",
       "      <td>SP500</td>\n",
       "      <td>4</td>\n",
       "      <td>0.80</td>\n",
       "    </tr>\n",
       "    <tr>\n",
       "      <th>Environmental_Score</th>\n",
       "      <td>SP500</td>\n",
       "      <td>5</td>\n",
       "      <td>0.99</td>\n",
       "    </tr>\n",
       "    <tr>\n",
       "      <th>Social_Score</th>\n",
       "      <td>SP500</td>\n",
       "      <td>5</td>\n",
       "      <td>0.99</td>\n",
       "    </tr>\n",
       "    <tr>\n",
       "      <th>Governance_Score</th>\n",
       "      <td>SP500</td>\n",
       "      <td>5</td>\n",
       "      <td>0.99</td>\n",
       "    </tr>\n",
       "    <tr>\n",
       "      <th>ESG_Performance</th>\n",
       "      <td>SP500</td>\n",
       "      <td>4</td>\n",
       "      <td>0.80</td>\n",
       "    </tr>\n",
       "    <tr>\n",
       "      <th>Highest_Controversy</th>\n",
       "      <td>SP500</td>\n",
       "      <td>4</td>\n",
       "      <td>0.80</td>\n",
       "    </tr>\n",
       "    <tr>\n",
       "      <th>Stock_Price</th>\n",
       "      <td>SP500</td>\n",
       "      <td>1</td>\n",
       "      <td>0.20</td>\n",
       "    </tr>\n",
       "    <tr>\n",
       "      <th>Current_Price</th>\n",
       "      <td>SP500</td>\n",
       "      <td>1</td>\n",
       "      <td>0.20</td>\n",
       "    </tr>\n",
       "    <tr>\n",
       "      <th>Market_Cap</th>\n",
       "      <td>SP500</td>\n",
       "      <td>1</td>\n",
       "      <td>0.20</td>\n",
       "    </tr>\n",
       "    <tr>\n",
       "      <th>PE_Ratio</th>\n",
       "      <td>SP500</td>\n",
       "      <td>22</td>\n",
       "      <td>4.37</td>\n",
       "    </tr>\n",
       "    <tr>\n",
       "      <th>PB_Ratio</th>\n",
       "      <td>SP500</td>\n",
       "      <td>1</td>\n",
       "      <td>0.20</td>\n",
       "    </tr>\n",
       "    <tr>\n",
       "      <th>Annual_Return_%</th>\n",
       "      <td>SP500</td>\n",
       "      <td>1</td>\n",
       "      <td>0.20</td>\n",
       "    </tr>\n",
       "    <tr>\n",
       "      <th>Revenue</th>\n",
       "      <td>SP500</td>\n",
       "      <td>1</td>\n",
       "      <td>0.20</td>\n",
       "    </tr>\n",
       "    <tr>\n",
       "      <th>Net_Income</th>\n",
       "      <td>SP500</td>\n",
       "      <td>1</td>\n",
       "      <td>0.20</td>\n",
       "    </tr>\n",
       "    <tr>\n",
       "      <th>Operating_Margin_%</th>\n",
       "      <td>SP500</td>\n",
       "      <td>1</td>\n",
       "      <td>0.20</td>\n",
       "    </tr>\n",
       "    <tr>\n",
       "      <th>Gross_Margin_%</th>\n",
       "      <td>SP500</td>\n",
       "      <td>1</td>\n",
       "      <td>0.20</td>\n",
       "    </tr>\n",
       "    <tr>\n",
       "      <th>ROE_%</th>\n",
       "      <td>SP500</td>\n",
       "      <td>33</td>\n",
       "      <td>6.56</td>\n",
       "    </tr>\n",
       "    <tr>\n",
       "      <th>ROA_%</th>\n",
       "      <td>SP500</td>\n",
       "      <td>6</td>\n",
       "      <td>1.19</td>\n",
       "    </tr>\n",
       "    <tr>\n",
       "      <th>Profit_Margin_%</th>\n",
       "      <td>SP500</td>\n",
       "      <td>1</td>\n",
       "      <td>0.20</td>\n",
       "    </tr>\n",
       "    <tr>\n",
       "      <th>EBITDA_Margin_%</th>\n",
       "      <td>SP500</td>\n",
       "      <td>31</td>\n",
       "      <td>6.16</td>\n",
       "    </tr>\n",
       "    <tr>\n",
       "      <th>EPS</th>\n",
       "      <td>SP500</td>\n",
       "      <td>1</td>\n",
       "      <td>0.20</td>\n",
       "    </tr>\n",
       "    <tr>\n",
       "      <th>Beta</th>\n",
       "      <td>SP500</td>\n",
       "      <td>5</td>\n",
       "      <td>0.99</td>\n",
       "    </tr>\n",
       "    <tr>\n",
       "      <th>Debt_to_Equity</th>\n",
       "      <td>SP500</td>\n",
       "      <td>55</td>\n",
       "      <td>10.93</td>\n",
       "    </tr>\n",
       "    <tr>\n",
       "      <th>Current_Ratio</th>\n",
       "      <td>SP500</td>\n",
       "      <td>24</td>\n",
       "      <td>4.77</td>\n",
       "    </tr>\n",
       "    <tr>\n",
       "      <th>Operating_Cash_Flow</th>\n",
       "      <td>SP500</td>\n",
       "      <td>23</td>\n",
       "      <td>4.57</td>\n",
       "    </tr>\n",
       "    <tr>\n",
       "      <th>Revenue_Growth_%</th>\n",
       "      <td>SP500</td>\n",
       "      <td>3</td>\n",
       "      <td>0.60</td>\n",
       "    </tr>\n",
       "    <tr>\n",
       "      <th>Status</th>\n",
       "      <td>SP500</td>\n",
       "      <td>0</td>\n",
       "      <td>0.00</td>\n",
       "    </tr>\n",
       "  </tbody>\n",
       "</table>\n",
       "</div>"
      ],
      "text/plain": [
       "                    Dataset  Missing Count  Missing %\n",
       "Ticker                SP500              0       0.00\n",
       "Company_Name          SP500              0       0.00\n",
       "Currency              SP500              1       0.20\n",
       "Data_Date             SP500              0       0.00\n",
       "Industry              SP500              1       0.20\n",
       "Sector                SP500              1       0.20\n",
       "Country               SP500              1       0.20\n",
       "Total_ESG_Score       SP500              4       0.80\n",
       "Environmental_Score   SP500              5       0.99\n",
       "Social_Score          SP500              5       0.99\n",
       "Governance_Score      SP500              5       0.99\n",
       "ESG_Performance       SP500              4       0.80\n",
       "Highest_Controversy   SP500              4       0.80\n",
       "Stock_Price           SP500              1       0.20\n",
       "Current_Price         SP500              1       0.20\n",
       "Market_Cap            SP500              1       0.20\n",
       "PE_Ratio              SP500             22       4.37\n",
       "PB_Ratio              SP500              1       0.20\n",
       "Annual_Return_%       SP500              1       0.20\n",
       "Revenue               SP500              1       0.20\n",
       "Net_Income            SP500              1       0.20\n",
       "Operating_Margin_%    SP500              1       0.20\n",
       "Gross_Margin_%        SP500              1       0.20\n",
       "ROE_%                 SP500             33       6.56\n",
       "ROA_%                 SP500              6       1.19\n",
       "Profit_Margin_%       SP500              1       0.20\n",
       "EBITDA_Margin_%       SP500             31       6.16\n",
       "EPS                   SP500              1       0.20\n",
       "Beta                  SP500              5       0.99\n",
       "Debt_to_Equity        SP500             55      10.93\n",
       "Current_Ratio         SP500             24       4.77\n",
       "Operating_Cash_Flow   SP500             23       4.57\n",
       "Revenue_Growth_%      SP500              3       0.60\n",
       "Status                SP500              0       0.00"
      ]
     },
     "execution_count": 7,
     "metadata": {},
     "output_type": "execute_result"
    }
   ],
   "source": [
    "missing_summary(sp500, \"SP500\")"
   ]
  },
  {
   "cell_type": "markdown",
   "id": "c9e7495f",
   "metadata": {},
   "source": [
    "### 1.1 Missing ESG data"
   ]
  },
  {
   "cell_type": "code",
   "execution_count": 8,
   "id": "83d3964b",
   "metadata": {},
   "outputs": [
    {
     "name": "stdout",
     "output_type": "stream",
     "text": [
      "\n",
      "SPI - ESG Data Availability:\n",
      "  Total_ESG_Score: 59/201 missing (29.35%)\n",
      "  Environmental_Score: 130/201 missing (64.68%)\n",
      "  Social_Score: 130/201 missing (64.68%)\n",
      "  Governance_Score: 130/201 missing (64.68%)\n",
      "  ESG_Performance: 59/201 missing (29.35%)\n",
      "  Highest_Controversy: 60/201 missing (29.85%)\n",
      "\n",
      "  Companies WITHOUT Total ESG scores: 59 (29.35%)\n",
      "  Companies WITH Total ESG score: 142 (70.65%)\n",
      "  Companies WITH all ESG scores: 71 (35.32%)\n",
      "  Companies WITH all ESG data: 71 (35.32%)\n",
      "\n",
      "S&P 500 - ESG Data Availability:\n",
      "  Total_ESG_Score: 4/503 missing (0.80%)\n",
      "  Environmental_Score: 5/503 missing (0.99%)\n",
      "  Social_Score: 5/503 missing (0.99%)\n",
      "  Governance_Score: 5/503 missing (0.99%)\n",
      "  ESG_Performance: 4/503 missing (0.80%)\n",
      "  Highest_Controversy: 4/503 missing (0.80%)\n",
      "\n",
      "  Companies WITHOUT Total ESG scores: 4 (0.80%)\n",
      "  Companies WITH Total ESG score: 499 (99.20%)\n",
      "  Companies WITH all ESG scores: 498 (99.01%)\n",
      "  Companies WITH all ESG data: 498 (99.01%)\n"
     ]
    }
   ],
   "source": [
    "def check_esg_missing(df, name):\n",
    "    \"\"\"Check proportion of missing ESG scores\"\"\"\n",
    "    esg_columns = ['Total_ESG_Score', 'Environmental_Score', 'Social_Score', 'Governance_Score', 'ESG_Performance', 'Highest_Controversy']\n",
    "    esg_scores_columns = ['Total_ESG_Score', 'Environmental_Score', 'Social_Score', 'Governance_Score']\n",
    "    \n",
    "    print(f\"\\n{name} - ESG Data Availability:\")\n",
    "    for col in esg_columns:\n",
    "        if col in df.columns:\n",
    "            missing_count = df[col].isnull().sum()\n",
    "            missing_pct = (missing_count / len(df) * 100)\n",
    "            print(f\"  {col}: {missing_count}/{len(df)} missing ({missing_pct:.2f}%)\")\n",
    "    \n",
    "    # Overall ESG availability\n",
    "    has_total_esg = df[['Total_ESG_Score']].notnull().all(axis=1)\n",
    "    has_all_esg_scores = df[esg_scores_columns].notnull().all(axis=1)\n",
    "    has_all_esg_data = df[esg_columns].notnull().all(axis=1)\n",
    "    companies_with_total_esg = has_total_esg.sum()\n",
    "    companies_without_total_esg = len(df) - companies_with_total_esg\n",
    "    companies_with_all_esg_scores = has_all_esg_scores.sum()\n",
    "    companies_with_all_esg_data = has_all_esg_data.sum()\n",
    "    \n",
    "    print(f\"\\n  Companies WITHOUT Total ESG scores: {companies_without_total_esg} ({companies_without_total_esg/len(df)*100:.2f}%)\")\n",
    "    print(f\"  Companies WITH Total ESG score: {companies_with_total_esg} ({companies_with_total_esg/len(df)*100:.2f}%)\")\n",
    "    print(f\"  Companies WITH all ESG scores: {companies_with_all_esg_scores} ({companies_with_all_esg_scores/len(df)*100:.2f}%)\")\n",
    "    print(f\"  Companies WITH all ESG data: {companies_with_all_esg_data} ({companies_with_all_esg_data/len(df)*100:.2f}%)\")\n",
    "\n",
    "spi_no_esg = check_esg_missing(spi, \"SPI\")\n",
    "sp500_no_esg = check_esg_missing(sp500, \"S&P 500\")"
   ]
  },
  {
   "cell_type": "markdown",
   "id": "59b7306d",
   "metadata": {},
   "source": [
    "Summary: \n",
    "\n",
    "Missing ESG data in the S&P 500 dataset is negligible, but in SPI dataset, only 71/201 companies have full ESG data, and 142 have Total ESG Score as well as ESG_Performance indicator. Removing the 130 companies without detailed scores would be too much, instead, we could remove 59/201 SPI companies without the Total ESG Score, and consider dividing the remaining companies into two subgroups for further analysis: \n",
    "- 142 companies with Total ESG Score \n",
    "- and 71 with full ESG data"
   ]
  },
  {
   "cell_type": "code",
   "execution_count": 9,
   "id": "0f542262",
   "metadata": {},
   "outputs": [
    {
     "name": "stdout",
     "output_type": "stream",
     "text": [
      "(142, 34)\n",
      "0\n"
     ]
    }
   ],
   "source": [
    "spi_esg = spi.dropna(subset=['Total_ESG_Score'])\n",
    "print(spi_esg.shape)\n",
    "print(spi_esg['Total_ESG_Score'].isnull().sum())"
   ]
  },
  {
   "cell_type": "code",
   "execution_count": 10,
   "id": "a2d775d7",
   "metadata": {},
   "outputs": [
    {
     "name": "stdout",
     "output_type": "stream",
     "text": [
      "(499, 34)\n",
      "0\n"
     ]
    }
   ],
   "source": [
    "sp500_esg = sp500.dropna(subset=['Total_ESG_Score'])\n",
    "print(sp500_esg.shape)\n",
    "print(sp500_esg['Total_ESG_Score'].isnull().sum())"
   ]
  },
  {
   "cell_type": "markdown",
   "id": "505f5de2",
   "metadata": {},
   "source": [
    "### 1.2 Country Issues"
   ]
  },
  {
   "cell_type": "code",
   "execution_count": 11,
   "id": "e9086257",
   "metadata": {},
   "outputs": [
    {
     "name": "stdout",
     "output_type": "stream",
     "text": [
      "      Ticker                                      Company_Name        Country  Total_ESG_Score\n",
      "21    AMS.SW                                      ams-OSRAM AG        Austria            17.61\n",
      "44   COPN.SW                        Cosmo Pharmaceuticals N.V.        Ireland            29.37\n",
      "124  LLBN.SW  Liechtensteinische Landesbank Aktiengesellschaft  Liechtenstein            28.14\n",
      "156  VPBN.SW                                        VP Bank AG  Liechtenstein            28.06\n",
      "170  PKTM.SW                                PIERER Mobility AG        Austria             8.88\n"
     ]
    }
   ],
   "source": [
    "non_swiss = spi_esg[spi_esg[\"Country\"] != \"Switzerland\"]\n",
    "print(non_swiss[['Ticker', 'Company_Name', 'Country', 'Total_ESG_Score']].to_string())"
   ]
  },
  {
   "cell_type": "markdown",
   "id": "b2b2ddd0",
   "metadata": {},
   "source": [
    "TODO: Consider if we should remove these non-swiss companies from SPI dataset"
   ]
  },
  {
   "cell_type": "code",
   "execution_count": 12,
   "id": "673c7fa1",
   "metadata": {},
   "outputs": [
    {
     "name": "stdout",
     "output_type": "stream",
     "text": [
      "    Ticker   Company_Name      Country  Total_ESG_Score\n",
      "23    AMCR      Amcor plc  Switzerland            14.31\n",
      "41    APTV      Aptiv PLC  Switzerland            12.89\n",
      "101     CB  Chubb Limited  Switzerland            20.12\n",
      "206   GRMN    Garmin Ltd.  Switzerland            21.23\n"
     ]
    }
   ],
   "source": [
    "sp500_swiss = sp500_esg[sp500_esg[\"Country\"] == \"Switzerland\"]\n",
    "print(sp500_swiss[['Ticker', 'Company_Name', 'Country', 'Total_ESG_Score']].to_string())"
   ]
  },
  {
   "cell_type": "code",
   "execution_count": 13,
   "id": "ba3cfed2",
   "metadata": {},
   "outputs": [
    {
     "name": "stdout",
     "output_type": "stream",
     "text": [
      "Empty DataFrame\n",
      "Columns: [Ticker, Company_Name, Country, Total_ESG_Score]\n",
      "Index: []\n"
     ]
    }
   ],
   "source": [
    "check_duplicates = sp500_esg['Company_Name'].tolist()\n",
    "matching_spi = spi_esg[spi_esg['Company_Name'].isin(check_duplicates)]\n",
    "\n",
    "print(matching_spi[['Ticker', 'Company_Name', 'Country', 'Total_ESG_Score']].to_string())"
   ]
  },
  {
   "cell_type": "markdown",
   "id": "27d26d26",
   "metadata": {},
   "source": [
    "So: No overlapping companies; However, consider whether remove S&P companies whose country is not US..."
   ]
  },
  {
   "cell_type": "code",
   "execution_count": 14,
   "id": "30263e8f",
   "metadata": {},
   "outputs": [
    {
     "name": "stdout",
     "output_type": "stream",
     "text": [
      "    Ticker                                 Company_Name         Country  Total_ESG_Score\n",
      "4      ACN                                Accenture plc         Ireland            12.88\n",
      "16    ALLE                                 Allegion plc         Ireland            20.10\n",
      "23    AMCR                                    Amcor plc     Switzerland            14.31\n",
      "35     AON                                      Aon plc         Ireland            13.64\n",
      "41    APTV                                    Aptiv PLC     Switzerland            12.89\n",
      "42    ACGL                      Arch Capital Group Ltd.         Bermuda            18.36\n",
      "101     CB                                Chubb Limited     Switzerland            20.12\n",
      "160    ETN                        Eaton Corporation plc         Ireland            19.80\n",
      "179     EG                          Everest Group, Ltd.         Bermuda            19.28\n",
      "206   GRMN                                  Garmin Ltd.     Switzerland            21.23\n",
      "266    JCI           Johnson Controls International plc         Ireland            14.97\n",
      "289    LIN                                    Linde plc  United Kingdom            11.63\n",
      "295   LULU                     lululemon athletica inc.          Canada            13.52\n",
      "308    MDT                                Medtronic plc         Ireland            16.27\n",
      "348   NXPI                      NXP Semiconductors N.V.     Netherlands            16.03\n",
      "366    PNR                                  Pentair plc  United Kingdom            28.23\n",
      "409    STX              Seagate Technology Holdings plc       Singapore            12.11\n",
      "416     SW                         Smurfit Westrock Plc         Ireland            18.34\n",
      "437    TEL                          TE Connectivity plc         Ireland            15.32\n",
      "449     TT                       Trane Technologies plc         Ireland            13.12\n",
      "494    WTW  Willis Towers Watson Public Limited Company  United Kingdom            16.20\n"
     ]
    }
   ],
   "source": [
    "sp500_nonUS = sp500_esg[sp500_esg[\"Country\"] != \"United States\"]\n",
    "print(sp500_nonUS[['Ticker', 'Company_Name', 'Country', 'Total_ESG_Score']].to_string())"
   ]
  },
  {
   "cell_type": "markdown",
   "id": "69479e6b",
   "metadata": {},
   "source": [
    "### 1.3 Fix Company Name"
   ]
  },
  {
   "cell_type": "code",
   "execution_count": 15,
   "id": "5ab88426",
   "metadata": {},
   "outputs": [
    {
     "data": {
      "application/vnd.microsoft.datawrangler.viewer.v0+json": {
       "columns": [
        {
         "name": "index",
         "rawType": "int64",
         "type": "integer"
        },
        {
         "name": "Ticker",
         "rawType": "object",
         "type": "string"
        },
        {
         "name": "Company_Name",
         "rawType": "object",
         "type": "unknown"
        },
        {
         "name": "Currency",
         "rawType": "object",
         "type": "string"
        },
        {
         "name": "Data_Date",
         "rawType": "object",
         "type": "string"
        },
        {
         "name": "Industry",
         "rawType": "object",
         "type": "string"
        },
        {
         "name": "Sector",
         "rawType": "object",
         "type": "string"
        },
        {
         "name": "Country",
         "rawType": "object",
         "type": "string"
        },
        {
         "name": "Total_ESG_Score",
         "rawType": "float64",
         "type": "float"
        },
        {
         "name": "Environmental_Score",
         "rawType": "float64",
         "type": "float"
        },
        {
         "name": "Social_Score",
         "rawType": "float64",
         "type": "float"
        },
        {
         "name": "Governance_Score",
         "rawType": "float64",
         "type": "float"
        },
        {
         "name": "ESG_Performance",
         "rawType": "object",
         "type": "string"
        },
        {
         "name": "Highest_Controversy",
         "rawType": "float64",
         "type": "float"
        },
        {
         "name": "Stock_Price",
         "rawType": "float64",
         "type": "float"
        },
        {
         "name": "Current_Price",
         "rawType": "float64",
         "type": "float"
        },
        {
         "name": "Market_Cap",
         "rawType": "float64",
         "type": "float"
        },
        {
         "name": "PE_Ratio",
         "rawType": "float64",
         "type": "float"
        },
        {
         "name": "PB_Ratio",
         "rawType": "float64",
         "type": "float"
        },
        {
         "name": "Annual_Return_%",
         "rawType": "float64",
         "type": "float"
        },
        {
         "name": "Revenue",
         "rawType": "float64",
         "type": "float"
        },
        {
         "name": "Net_Income",
         "rawType": "float64",
         "type": "float"
        },
        {
         "name": "Operating_Margin_%",
         "rawType": "float64",
         "type": "float"
        },
        {
         "name": "Gross_Margin_%",
         "rawType": "float64",
         "type": "float"
        },
        {
         "name": "ROE_%",
         "rawType": "float64",
         "type": "float"
        },
        {
         "name": "ROA_%",
         "rawType": "float64",
         "type": "float"
        },
        {
         "name": "Profit_Margin_%",
         "rawType": "float64",
         "type": "float"
        },
        {
         "name": "EBITDA_Margin_%",
         "rawType": "float64",
         "type": "float"
        },
        {
         "name": "EPS",
         "rawType": "float64",
         "type": "float"
        },
        {
         "name": "Beta",
         "rawType": "float64",
         "type": "float"
        },
        {
         "name": "Debt_to_Equity",
         "rawType": "float64",
         "type": "float"
        },
        {
         "name": "Current_Ratio",
         "rawType": "float64",
         "type": "float"
        },
        {
         "name": "Operating_Cash_Flow",
         "rawType": "float64",
         "type": "float"
        },
        {
         "name": "Revenue_Growth_%",
         "rawType": "float64",
         "type": "float"
        },
        {
         "name": "Status",
         "rawType": "object",
         "type": "string"
        }
       ],
       "ref": "d1bc16d6-9144-4600-8076-9e4e938ca7c6",
       "rows": [
        [
         "197",
         "GALD.SW",
         null,
         "CHF",
         "12/31/24",
         "Drug Manufacturers - Specialty & Generic",
         "Healthcare",
         "Switzerland",
         "19.8",
         "3.84",
         "11.03",
         "4.92",
         "LAG_PERF",
         "1.0",
         "106.76",
         "135.6",
         "31842115584.0",
         "105.94",
         "4.15",
         "75.62",
         "4689999872.0",
         "378000000.0",
         "15.86",
         "69.21",
         "4.92",
         "3.65",
         "8.06",
         "20.98",
         "1.28",
         null,
         "36.84",
         "1.09",
         "951000000.0",
         "7.85",
         "Success"
        ]
       ],
       "shape": {
        "columns": 34,
        "rows": 1
       }
      },
      "text/html": [
       "<div>\n",
       "<style scoped>\n",
       "    .dataframe tbody tr th:only-of-type {\n",
       "        vertical-align: middle;\n",
       "    }\n",
       "\n",
       "    .dataframe tbody tr th {\n",
       "        vertical-align: top;\n",
       "    }\n",
       "\n",
       "    .dataframe thead th {\n",
       "        text-align: right;\n",
       "    }\n",
       "</style>\n",
       "<table border=\"1\" class=\"dataframe\">\n",
       "  <thead>\n",
       "    <tr style=\"text-align: right;\">\n",
       "      <th></th>\n",
       "      <th>Ticker</th>\n",
       "      <th>Company_Name</th>\n",
       "      <th>Currency</th>\n",
       "      <th>Data_Date</th>\n",
       "      <th>Industry</th>\n",
       "      <th>Sector</th>\n",
       "      <th>Country</th>\n",
       "      <th>Total_ESG_Score</th>\n",
       "      <th>Environmental_Score</th>\n",
       "      <th>Social_Score</th>\n",
       "      <th>...</th>\n",
       "      <th>ROA_%</th>\n",
       "      <th>Profit_Margin_%</th>\n",
       "      <th>EBITDA_Margin_%</th>\n",
       "      <th>EPS</th>\n",
       "      <th>Beta</th>\n",
       "      <th>Debt_to_Equity</th>\n",
       "      <th>Current_Ratio</th>\n",
       "      <th>Operating_Cash_Flow</th>\n",
       "      <th>Revenue_Growth_%</th>\n",
       "      <th>Status</th>\n",
       "    </tr>\n",
       "  </thead>\n",
       "  <tbody>\n",
       "    <tr>\n",
       "      <th>197</th>\n",
       "      <td>GALD.SW</td>\n",
       "      <td>NaN</td>\n",
       "      <td>CHF</td>\n",
       "      <td>12/31/24</td>\n",
       "      <td>Drug Manufacturers - Specialty &amp; Generic</td>\n",
       "      <td>Healthcare</td>\n",
       "      <td>Switzerland</td>\n",
       "      <td>19.8</td>\n",
       "      <td>3.84</td>\n",
       "      <td>11.03</td>\n",
       "      <td>...</td>\n",
       "      <td>3.65</td>\n",
       "      <td>8.06</td>\n",
       "      <td>20.98</td>\n",
       "      <td>1.28</td>\n",
       "      <td>NaN</td>\n",
       "      <td>36.84</td>\n",
       "      <td>1.09</td>\n",
       "      <td>951000000.0</td>\n",
       "      <td>7.85</td>\n",
       "      <td>Success</td>\n",
       "    </tr>\n",
       "  </tbody>\n",
       "</table>\n",
       "<p>1 rows × 34 columns</p>\n",
       "</div>"
      ],
      "text/plain": [
       "      Ticker Company_Name Currency Data_Date  \\\n",
       "197  GALD.SW          NaN      CHF  12/31/24   \n",
       "\n",
       "                                     Industry      Sector      Country  \\\n",
       "197  Drug Manufacturers - Specialty & Generic  Healthcare  Switzerland   \n",
       "\n",
       "     Total_ESG_Score  Environmental_Score  Social_Score  ...  ROA_%  \\\n",
       "197             19.8                 3.84         11.03  ...   3.65   \n",
       "\n",
       "    Profit_Margin_%  EBITDA_Margin_%   EPS  Beta  Debt_to_Equity  \\\n",
       "197            8.06            20.98  1.28   NaN           36.84   \n",
       "\n",
       "     Current_Ratio  Operating_Cash_Flow  Revenue_Growth_%   Status  \n",
       "197           1.09          951000000.0              7.85  Success  \n",
       "\n",
       "[1 rows x 34 columns]"
      ]
     },
     "execution_count": 15,
     "metadata": {},
     "output_type": "execute_result"
    }
   ],
   "source": [
    "spi_esg[spi_esg[\"Company_Name\"].isna()]"
   ]
  },
  {
   "cell_type": "code",
   "execution_count": 16,
   "id": "9181d025",
   "metadata": {},
   "outputs": [
    {
     "name": "stderr",
     "output_type": "stream",
     "text": [
      "/var/folders/dz/c4g03dt52yv21fwz68wlsfz80000gn/T/ipykernel_25465/4170913370.py:1: FutureWarning: A value is trying to be set on a copy of a DataFrame or Series through chained assignment using an inplace method.\n",
      "The behavior will change in pandas 3.0. This inplace method will never work because the intermediate object on which we are setting values always behaves as a copy.\n",
      "\n",
      "For example, when doing 'df[col].method(value, inplace=True)', try using 'df.method({col: value}, inplace=True)' or df[col] = df[col].method(value) instead, to perform the operation inplace on the original object.\n",
      "\n",
      "\n",
      "  spi_esg['Company_Name'].fillna(\"Galderma\", inplace=True)\n",
      "/var/folders/dz/c4g03dt52yv21fwz68wlsfz80000gn/T/ipykernel_25465/4170913370.py:1: SettingWithCopyWarning: \n",
      "A value is trying to be set on a copy of a slice from a DataFrame\n",
      "\n",
      "See the caveats in the documentation: https://pandas.pydata.org/pandas-docs/stable/user_guide/indexing.html#returning-a-view-versus-a-copy\n",
      "  spi_esg['Company_Name'].fillna(\"Galderma\", inplace=True)\n"
     ]
    },
    {
     "data": {
      "application/vnd.microsoft.datawrangler.viewer.v0+json": {
       "columns": [
        {
         "name": "index",
         "rawType": "int64",
         "type": "integer"
        },
        {
         "name": "Ticker",
         "rawType": "object",
         "type": "string"
        },
        {
         "name": "Company_Name",
         "rawType": "object",
         "type": "string"
        },
        {
         "name": "Currency",
         "rawType": "object",
         "type": "string"
        },
        {
         "name": "Data_Date",
         "rawType": "object",
         "type": "string"
        },
        {
         "name": "Industry",
         "rawType": "object",
         "type": "string"
        },
        {
         "name": "Sector",
         "rawType": "object",
         "type": "string"
        },
        {
         "name": "Country",
         "rawType": "object",
         "type": "string"
        },
        {
         "name": "Total_ESG_Score",
         "rawType": "float64",
         "type": "float"
        },
        {
         "name": "Environmental_Score",
         "rawType": "float64",
         "type": "float"
        },
        {
         "name": "Social_Score",
         "rawType": "float64",
         "type": "float"
        },
        {
         "name": "Governance_Score",
         "rawType": "float64",
         "type": "float"
        },
        {
         "name": "ESG_Performance",
         "rawType": "object",
         "type": "string"
        },
        {
         "name": "Highest_Controversy",
         "rawType": "float64",
         "type": "float"
        },
        {
         "name": "Stock_Price",
         "rawType": "float64",
         "type": "float"
        },
        {
         "name": "Current_Price",
         "rawType": "float64",
         "type": "float"
        },
        {
         "name": "Market_Cap",
         "rawType": "float64",
         "type": "float"
        },
        {
         "name": "PE_Ratio",
         "rawType": "float64",
         "type": "float"
        },
        {
         "name": "PB_Ratio",
         "rawType": "float64",
         "type": "float"
        },
        {
         "name": "Annual_Return_%",
         "rawType": "float64",
         "type": "float"
        },
        {
         "name": "Revenue",
         "rawType": "float64",
         "type": "float"
        },
        {
         "name": "Net_Income",
         "rawType": "float64",
         "type": "float"
        },
        {
         "name": "Operating_Margin_%",
         "rawType": "float64",
         "type": "float"
        },
        {
         "name": "Gross_Margin_%",
         "rawType": "float64",
         "type": "float"
        },
        {
         "name": "ROE_%",
         "rawType": "float64",
         "type": "float"
        },
        {
         "name": "ROA_%",
         "rawType": "float64",
         "type": "float"
        },
        {
         "name": "Profit_Margin_%",
         "rawType": "float64",
         "type": "float"
        },
        {
         "name": "EBITDA_Margin_%",
         "rawType": "float64",
         "type": "float"
        },
        {
         "name": "EPS",
         "rawType": "float64",
         "type": "float"
        },
        {
         "name": "Beta",
         "rawType": "float64",
         "type": "float"
        },
        {
         "name": "Debt_to_Equity",
         "rawType": "float64",
         "type": "float"
        },
        {
         "name": "Current_Ratio",
         "rawType": "float64",
         "type": "float"
        },
        {
         "name": "Operating_Cash_Flow",
         "rawType": "float64",
         "type": "float"
        },
        {
         "name": "Revenue_Growth_%",
         "rawType": "float64",
         "type": "float"
        },
        {
         "name": "Status",
         "rawType": "object",
         "type": "string"
        }
       ],
       "ref": "b0130956-dc73-4adc-bf05-cd4f533a72c1",
       "rows": [],
       "shape": {
        "columns": 34,
        "rows": 0
       }
      },
      "text/html": [
       "<div>\n",
       "<style scoped>\n",
       "    .dataframe tbody tr th:only-of-type {\n",
       "        vertical-align: middle;\n",
       "    }\n",
       "\n",
       "    .dataframe tbody tr th {\n",
       "        vertical-align: top;\n",
       "    }\n",
       "\n",
       "    .dataframe thead th {\n",
       "        text-align: right;\n",
       "    }\n",
       "</style>\n",
       "<table border=\"1\" class=\"dataframe\">\n",
       "  <thead>\n",
       "    <tr style=\"text-align: right;\">\n",
       "      <th></th>\n",
       "      <th>Ticker</th>\n",
       "      <th>Company_Name</th>\n",
       "      <th>Currency</th>\n",
       "      <th>Data_Date</th>\n",
       "      <th>Industry</th>\n",
       "      <th>Sector</th>\n",
       "      <th>Country</th>\n",
       "      <th>Total_ESG_Score</th>\n",
       "      <th>Environmental_Score</th>\n",
       "      <th>Social_Score</th>\n",
       "      <th>...</th>\n",
       "      <th>ROA_%</th>\n",
       "      <th>Profit_Margin_%</th>\n",
       "      <th>EBITDA_Margin_%</th>\n",
       "      <th>EPS</th>\n",
       "      <th>Beta</th>\n",
       "      <th>Debt_to_Equity</th>\n",
       "      <th>Current_Ratio</th>\n",
       "      <th>Operating_Cash_Flow</th>\n",
       "      <th>Revenue_Growth_%</th>\n",
       "      <th>Status</th>\n",
       "    </tr>\n",
       "  </thead>\n",
       "  <tbody>\n",
       "  </tbody>\n",
       "</table>\n",
       "<p>0 rows × 34 columns</p>\n",
       "</div>"
      ],
      "text/plain": [
       "Empty DataFrame\n",
       "Columns: [Ticker, Company_Name, Currency, Data_Date, Industry, Sector, Country, Total_ESG_Score, Environmental_Score, Social_Score, Governance_Score, ESG_Performance, Highest_Controversy, Stock_Price, Current_Price, Market_Cap, PE_Ratio, PB_Ratio, Annual_Return_%, Revenue, Net_Income, Operating_Margin_%, Gross_Margin_%, ROE_%, ROA_%, Profit_Margin_%, EBITDA_Margin_%, EPS, Beta, Debt_to_Equity, Current_Ratio, Operating_Cash_Flow, Revenue_Growth_%, Status]\n",
       "Index: []\n",
       "\n",
       "[0 rows x 34 columns]"
      ]
     },
     "execution_count": 16,
     "metadata": {},
     "output_type": "execute_result"
    }
   ],
   "source": [
    "spi_esg['Company_Name'].fillna(\"Galderma\", inplace=True)\n",
    "spi_esg[spi_esg[\"Company_Name\"].isna()]"
   ]
  },
  {
   "cell_type": "code",
   "execution_count": 17,
   "id": "a716145c",
   "metadata": {},
   "outputs": [
    {
     "data": {
      "application/vnd.microsoft.datawrangler.viewer.v0+json": {
       "columns": [
        {
         "name": "index",
         "rawType": "int64",
         "type": "integer"
        },
        {
         "name": "Ticker",
         "rawType": "object",
         "type": "string"
        },
        {
         "name": "Company_Name",
         "rawType": "object",
         "type": "string"
        },
        {
         "name": "Currency",
         "rawType": "object",
         "type": "string"
        },
        {
         "name": "Data_Date",
         "rawType": "object",
         "type": "string"
        },
        {
         "name": "Industry",
         "rawType": "object",
         "type": "string"
        },
        {
         "name": "Sector",
         "rawType": "object",
         "type": "string"
        },
        {
         "name": "Country",
         "rawType": "object",
         "type": "string"
        },
        {
         "name": "Total_ESG_Score",
         "rawType": "float64",
         "type": "float"
        },
        {
         "name": "Environmental_Score",
         "rawType": "float64",
         "type": "float"
        },
        {
         "name": "Social_Score",
         "rawType": "float64",
         "type": "float"
        },
        {
         "name": "Governance_Score",
         "rawType": "float64",
         "type": "float"
        },
        {
         "name": "ESG_Performance",
         "rawType": "object",
         "type": "string"
        },
        {
         "name": "Highest_Controversy",
         "rawType": "float64",
         "type": "float"
        },
        {
         "name": "Stock_Price",
         "rawType": "float64",
         "type": "float"
        },
        {
         "name": "Current_Price",
         "rawType": "float64",
         "type": "float"
        },
        {
         "name": "Market_Cap",
         "rawType": "float64",
         "type": "float"
        },
        {
         "name": "PE_Ratio",
         "rawType": "float64",
         "type": "float"
        },
        {
         "name": "PB_Ratio",
         "rawType": "float64",
         "type": "float"
        },
        {
         "name": "Annual_Return_%",
         "rawType": "float64",
         "type": "float"
        },
        {
         "name": "Revenue",
         "rawType": "float64",
         "type": "float"
        },
        {
         "name": "Net_Income",
         "rawType": "float64",
         "type": "float"
        },
        {
         "name": "Operating_Margin_%",
         "rawType": "float64",
         "type": "float"
        },
        {
         "name": "Gross_Margin_%",
         "rawType": "float64",
         "type": "float"
        },
        {
         "name": "ROE_%",
         "rawType": "float64",
         "type": "float"
        },
        {
         "name": "ROA_%",
         "rawType": "float64",
         "type": "float"
        },
        {
         "name": "Profit_Margin_%",
         "rawType": "float64",
         "type": "float"
        },
        {
         "name": "EBITDA_Margin_%",
         "rawType": "float64",
         "type": "float"
        },
        {
         "name": "EPS",
         "rawType": "float64",
         "type": "float"
        },
        {
         "name": "Beta",
         "rawType": "float64",
         "type": "float"
        },
        {
         "name": "Debt_to_Equity",
         "rawType": "float64",
         "type": "float"
        },
        {
         "name": "Current_Ratio",
         "rawType": "float64",
         "type": "float"
        },
        {
         "name": "Operating_Cash_Flow",
         "rawType": "float64",
         "type": "float"
        },
        {
         "name": "Revenue_Growth_%",
         "rawType": "float64",
         "type": "float"
        },
        {
         "name": "Status",
         "rawType": "object",
         "type": "string"
        }
       ],
       "ref": "b596c7fb-d84b-4e89-8bf8-ce19425342d7",
       "rows": [],
       "shape": {
        "columns": 34,
        "rows": 0
       }
      },
      "text/html": [
       "<div>\n",
       "<style scoped>\n",
       "    .dataframe tbody tr th:only-of-type {\n",
       "        vertical-align: middle;\n",
       "    }\n",
       "\n",
       "    .dataframe tbody tr th {\n",
       "        vertical-align: top;\n",
       "    }\n",
       "\n",
       "    .dataframe thead th {\n",
       "        text-align: right;\n",
       "    }\n",
       "</style>\n",
       "<table border=\"1\" class=\"dataframe\">\n",
       "  <thead>\n",
       "    <tr style=\"text-align: right;\">\n",
       "      <th></th>\n",
       "      <th>Ticker</th>\n",
       "      <th>Company_Name</th>\n",
       "      <th>Currency</th>\n",
       "      <th>Data_Date</th>\n",
       "      <th>Industry</th>\n",
       "      <th>Sector</th>\n",
       "      <th>Country</th>\n",
       "      <th>Total_ESG_Score</th>\n",
       "      <th>Environmental_Score</th>\n",
       "      <th>Social_Score</th>\n",
       "      <th>...</th>\n",
       "      <th>ROA_%</th>\n",
       "      <th>Profit_Margin_%</th>\n",
       "      <th>EBITDA_Margin_%</th>\n",
       "      <th>EPS</th>\n",
       "      <th>Beta</th>\n",
       "      <th>Debt_to_Equity</th>\n",
       "      <th>Current_Ratio</th>\n",
       "      <th>Operating_Cash_Flow</th>\n",
       "      <th>Revenue_Growth_%</th>\n",
       "      <th>Status</th>\n",
       "    </tr>\n",
       "  </thead>\n",
       "  <tbody>\n",
       "  </tbody>\n",
       "</table>\n",
       "<p>0 rows × 34 columns</p>\n",
       "</div>"
      ],
      "text/plain": [
       "Empty DataFrame\n",
       "Columns: [Ticker, Company_Name, Currency, Data_Date, Industry, Sector, Country, Total_ESG_Score, Environmental_Score, Social_Score, Governance_Score, ESG_Performance, Highest_Controversy, Stock_Price, Current_Price, Market_Cap, PE_Ratio, PB_Ratio, Annual_Return_%, Revenue, Net_Income, Operating_Margin_%, Gross_Margin_%, ROE_%, ROA_%, Profit_Margin_%, EBITDA_Margin_%, EPS, Beta, Debt_to_Equity, Current_Ratio, Operating_Cash_Flow, Revenue_Growth_%, Status]\n",
       "Index: []\n",
       "\n",
       "[0 rows x 34 columns]"
      ]
     },
     "execution_count": 17,
     "metadata": {},
     "output_type": "execute_result"
    }
   ],
   "source": [
    "sp500_esg[sp500_esg[\"Company_Name\"].isna()]"
   ]
  },
  {
   "cell_type": "markdown",
   "id": "effbaaf9",
   "metadata": {},
   "source": [
    "### 1.4 Check Duplicates by Company Name"
   ]
  },
  {
   "cell_type": "code",
   "execution_count": 18,
   "id": "afe2a14f",
   "metadata": {},
   "outputs": [
    {
     "name": "stdout",
     "output_type": "stream",
     "text": [
      "     Ticker          Company_Name Currency Data_Date                        Industry       Sector      Country  Total_ESG_Score  Environmental_Score  Social_Score  Governance_Score ESG_Performance  Highest_Controversy  Stock_Price  Current_Price    Market_Cap  PE_Ratio  PB_Ratio  Annual_Return_%       Revenue   Net_Income  Operating_Margin_%  Gross_Margin_%  ROE_%  ROA_%  Profit_Margin_%  EBITDA_Margin_%   EPS   Beta  Debt_to_Equity  Current_Ratio  Operating_Cash_Flow  Revenue_Growth_%   Status\n",
      "39  SCHN.SW  Schindler Holding AG      CHF  12/31/24  Specialty Industrial Machinery  Industrials  Switzerland            25.07                 9.86          8.84              6.36        AVG_PERF                  1.0       241.18          284.0  3.105988e+10     31.00      6.21            13.29  1.113000e+10  987000000.0               12.56           73.28   22.3   7.14             8.87            13.36  9.16  0.717           14.87           1.39         1.622000e+09             -2.24  Success\n",
      "53  SCHP.SW  Schindler Holding AG      CHF  12/31/24  Specialty Industrial Machinery  Industrials  Switzerland            25.07                 9.86          8.84              6.36        AVG_PERF                  1.0       244.99          297.4  3.101536e+10     32.47      6.51            15.15  1.113000e+10  987000000.0               12.56           73.28   22.3   7.14             8.87            13.36  9.16  0.717           14.87           1.39         1.622000e+09             -2.24  Success\n"
     ]
    }
   ],
   "source": [
    "spi_duplicates = spi_esg[spi_esg.duplicated(subset=['Company_Name'], keep=False)]\n",
    "print(spi_duplicates.to_string())"
   ]
  },
  {
   "cell_type": "code",
   "execution_count": 19,
   "id": "7ad913d3",
   "metadata": {},
   "outputs": [
    {
     "data": {
      "text/plain": [
       "(141, 34)"
      ]
     },
     "execution_count": 19,
     "metadata": {},
     "output_type": "execute_result"
    }
   ],
   "source": [
    "# Keep SCHN.SW (Registered Shares) and remove SCHP.SW (Participation Certificates)\n",
    "# since SCHN.SW reflects the company’s core ESG profile\n",
    "spi_esg = spi_esg[spi_esg[\"Ticker\"] != \"SCHP.SW\"]\n",
    "spi_esg.shape"
   ]
  },
  {
   "cell_type": "code",
   "execution_count": 20,
   "id": "15c18003",
   "metadata": {},
   "outputs": [
    {
     "name": "stdout",
     "output_type": "stream",
     "text": [
      "Empty DataFrame\n",
      "Columns: [Ticker, Company_Name, Total_ESG_Score, Environmental_Score, Stock_Price]\n",
      "Index: []\n"
     ]
    }
   ],
   "source": [
    "sp500_duplicates = sp500_esg[sp500_esg.duplicated(subset=['Company_Name'], keep=False)]\n",
    "print(sp500_duplicates[['Ticker', 'Company_Name', 'Total_ESG_Score','Environmental_Score', 'Stock_Price']].to_string())"
   ]
  },
  {
   "cell_type": "markdown",
   "id": "3a4a5fb7",
   "metadata": {},
   "source": [
    "###  1.5 Other Missing Data"
   ]
  },
  {
   "cell_type": "code",
   "execution_count": 21,
   "id": "855cf149",
   "metadata": {},
   "outputs": [
    {
     "data": {
      "application/vnd.microsoft.datawrangler.viewer.v0+json": {
       "columns": [
        {
         "name": "index",
         "rawType": "object",
         "type": "string"
        },
        {
         "name": "Dataset",
         "rawType": "object",
         "type": "string"
        },
        {
         "name": "Missing Count",
         "rawType": "int64",
         "type": "integer"
        },
        {
         "name": "Missing %",
         "rawType": "float64",
         "type": "float"
        }
       ],
       "ref": "0fdd7f2d-4fa0-407f-84af-d55bc5862e07",
       "rows": [
        [
         "Ticker",
         "SPI",
         "0",
         "0.0"
        ],
        [
         "Company_Name",
         "SPI",
         "0",
         "0.0"
        ],
        [
         "Currency",
         "SPI",
         "0",
         "0.0"
        ],
        [
         "Data_Date",
         "SPI",
         "0",
         "0.0"
        ],
        [
         "Industry",
         "SPI",
         "0",
         "0.0"
        ],
        [
         "Sector",
         "SPI",
         "0",
         "0.0"
        ],
        [
         "Country",
         "SPI",
         "0",
         "0.0"
        ],
        [
         "Total_ESG_Score",
         "SPI",
         "0",
         "0.0"
        ],
        [
         "Environmental_Score",
         "SPI",
         "71",
         "50.35"
        ],
        [
         "Social_Score",
         "SPI",
         "71",
         "50.35"
        ],
        [
         "Governance_Score",
         "SPI",
         "71",
         "50.35"
        ],
        [
         "ESG_Performance",
         "SPI",
         "0",
         "0.0"
        ],
        [
         "Highest_Controversy",
         "SPI",
         "1",
         "0.71"
        ],
        [
         "Stock_Price",
         "SPI",
         "1",
         "0.71"
        ],
        [
         "Current_Price",
         "SPI",
         "0",
         "0.0"
        ],
        [
         "Market_Cap",
         "SPI",
         "0",
         "0.0"
        ],
        [
         "PE_Ratio",
         "SPI",
         "24",
         "17.02"
        ],
        [
         "PB_Ratio",
         "SPI",
         "0",
         "0.0"
        ],
        [
         "Annual_Return_%",
         "SPI",
         "0",
         "0.0"
        ],
        [
         "Revenue",
         "SPI",
         "1",
         "0.71"
        ],
        [
         "Net_Income",
         "SPI",
         "0",
         "0.0"
        ],
        [
         "Operating_Margin_%",
         "SPI",
         "0",
         "0.0"
        ],
        [
         "Gross_Margin_%",
         "SPI",
         "0",
         "0.0"
        ],
        [
         "ROE_%",
         "SPI",
         "3",
         "2.13"
        ],
        [
         "ROA_%",
         "SPI",
         "1",
         "0.71"
        ],
        [
         "Profit_Margin_%",
         "SPI",
         "0",
         "0.0"
        ],
        [
         "EBITDA_Margin_%",
         "SPI",
         "25",
         "17.73"
        ],
        [
         "EPS",
         "SPI",
         "0",
         "0.0"
        ],
        [
         "Beta",
         "SPI",
         "2",
         "1.42"
        ],
        [
         "Debt_to_Equity",
         "SPI",
         "27",
         "19.15"
        ],
        [
         "Current_Ratio",
         "SPI",
         "21",
         "14.89"
        ],
        [
         "Operating_Cash_Flow",
         "SPI",
         "14",
         "9.93"
        ],
        [
         "Revenue_Growth_%",
         "SPI",
         "0",
         "0.0"
        ],
        [
         "Status",
         "SPI",
         "0",
         "0.0"
        ]
       ],
       "shape": {
        "columns": 3,
        "rows": 34
       }
      },
      "text/html": [
       "<div>\n",
       "<style scoped>\n",
       "    .dataframe tbody tr th:only-of-type {\n",
       "        vertical-align: middle;\n",
       "    }\n",
       "\n",
       "    .dataframe tbody tr th {\n",
       "        vertical-align: top;\n",
       "    }\n",
       "\n",
       "    .dataframe thead th {\n",
       "        text-align: right;\n",
       "    }\n",
       "</style>\n",
       "<table border=\"1\" class=\"dataframe\">\n",
       "  <thead>\n",
       "    <tr style=\"text-align: right;\">\n",
       "      <th></th>\n",
       "      <th>Dataset</th>\n",
       "      <th>Missing Count</th>\n",
       "      <th>Missing %</th>\n",
       "    </tr>\n",
       "  </thead>\n",
       "  <tbody>\n",
       "    <tr>\n",
       "      <th>Ticker</th>\n",
       "      <td>SPI</td>\n",
       "      <td>0</td>\n",
       "      <td>0.00</td>\n",
       "    </tr>\n",
       "    <tr>\n",
       "      <th>Company_Name</th>\n",
       "      <td>SPI</td>\n",
       "      <td>0</td>\n",
       "      <td>0.00</td>\n",
       "    </tr>\n",
       "    <tr>\n",
       "      <th>Currency</th>\n",
       "      <td>SPI</td>\n",
       "      <td>0</td>\n",
       "      <td>0.00</td>\n",
       "    </tr>\n",
       "    <tr>\n",
       "      <th>Data_Date</th>\n",
       "      <td>SPI</td>\n",
       "      <td>0</td>\n",
       "      <td>0.00</td>\n",
       "    </tr>\n",
       "    <tr>\n",
       "      <th>Industry</th>\n",
       "      <td>SPI</td>\n",
       "      <td>0</td>\n",
       "      <td>0.00</td>\n",
       "    </tr>\n",
       "    <tr>\n",
       "      <th>Sector</th>\n",
       "      <td>SPI</td>\n",
       "      <td>0</td>\n",
       "      <td>0.00</td>\n",
       "    </tr>\n",
       "    <tr>\n",
       "      <th>Country</th>\n",
       "      <td>SPI</td>\n",
       "      <td>0</td>\n",
       "      <td>0.00</td>\n",
       "    </tr>\n",
       "    <tr>\n",
       "      <th>Total_ESG_Score</th>\n",
       "      <td>SPI</td>\n",
       "      <td>0</td>\n",
       "      <td>0.00</td>\n",
       "    </tr>\n",
       "    <tr>\n",
       "      <th>Environmental_Score</th>\n",
       "      <td>SPI</td>\n",
       "      <td>71</td>\n",
       "      <td>50.35</td>\n",
       "    </tr>\n",
       "    <tr>\n",
       "      <th>Social_Score</th>\n",
       "      <td>SPI</td>\n",
       "      <td>71</td>\n",
       "      <td>50.35</td>\n",
       "    </tr>\n",
       "    <tr>\n",
       "      <th>Governance_Score</th>\n",
       "      <td>SPI</td>\n",
       "      <td>71</td>\n",
       "      <td>50.35</td>\n",
       "    </tr>\n",
       "    <tr>\n",
       "      <th>ESG_Performance</th>\n",
       "      <td>SPI</td>\n",
       "      <td>0</td>\n",
       "      <td>0.00</td>\n",
       "    </tr>\n",
       "    <tr>\n",
       "      <th>Highest_Controversy</th>\n",
       "      <td>SPI</td>\n",
       "      <td>1</td>\n",
       "      <td>0.71</td>\n",
       "    </tr>\n",
       "    <tr>\n",
       "      <th>Stock_Price</th>\n",
       "      <td>SPI</td>\n",
       "      <td>1</td>\n",
       "      <td>0.71</td>\n",
       "    </tr>\n",
       "    <tr>\n",
       "      <th>Current_Price</th>\n",
       "      <td>SPI</td>\n",
       "      <td>0</td>\n",
       "      <td>0.00</td>\n",
       "    </tr>\n",
       "    <tr>\n",
       "      <th>Market_Cap</th>\n",
       "      <td>SPI</td>\n",
       "      <td>0</td>\n",
       "      <td>0.00</td>\n",
       "    </tr>\n",
       "    <tr>\n",
       "      <th>PE_Ratio</th>\n",
       "      <td>SPI</td>\n",
       "      <td>24</td>\n",
       "      <td>17.02</td>\n",
       "    </tr>\n",
       "    <tr>\n",
       "      <th>PB_Ratio</th>\n",
       "      <td>SPI</td>\n",
       "      <td>0</td>\n",
       "      <td>0.00</td>\n",
       "    </tr>\n",
       "    <tr>\n",
       "      <th>Annual_Return_%</th>\n",
       "      <td>SPI</td>\n",
       "      <td>0</td>\n",
       "      <td>0.00</td>\n",
       "    </tr>\n",
       "    <tr>\n",
       "      <th>Revenue</th>\n",
       "      <td>SPI</td>\n",
       "      <td>1</td>\n",
       "      <td>0.71</td>\n",
       "    </tr>\n",
       "    <tr>\n",
       "      <th>Net_Income</th>\n",
       "      <td>SPI</td>\n",
       "      <td>0</td>\n",
       "      <td>0.00</td>\n",
       "    </tr>\n",
       "    <tr>\n",
       "      <th>Operating_Margin_%</th>\n",
       "      <td>SPI</td>\n",
       "      <td>0</td>\n",
       "      <td>0.00</td>\n",
       "    </tr>\n",
       "    <tr>\n",
       "      <th>Gross_Margin_%</th>\n",
       "      <td>SPI</td>\n",
       "      <td>0</td>\n",
       "      <td>0.00</td>\n",
       "    </tr>\n",
       "    <tr>\n",
       "      <th>ROE_%</th>\n",
       "      <td>SPI</td>\n",
       "      <td>3</td>\n",
       "      <td>2.13</td>\n",
       "    </tr>\n",
       "    <tr>\n",
       "      <th>ROA_%</th>\n",
       "      <td>SPI</td>\n",
       "      <td>1</td>\n",
       "      <td>0.71</td>\n",
       "    </tr>\n",
       "    <tr>\n",
       "      <th>Profit_Margin_%</th>\n",
       "      <td>SPI</td>\n",
       "      <td>0</td>\n",
       "      <td>0.00</td>\n",
       "    </tr>\n",
       "    <tr>\n",
       "      <th>EBITDA_Margin_%</th>\n",
       "      <td>SPI</td>\n",
       "      <td>25</td>\n",
       "      <td>17.73</td>\n",
       "    </tr>\n",
       "    <tr>\n",
       "      <th>EPS</th>\n",
       "      <td>SPI</td>\n",
       "      <td>0</td>\n",
       "      <td>0.00</td>\n",
       "    </tr>\n",
       "    <tr>\n",
       "      <th>Beta</th>\n",
       "      <td>SPI</td>\n",
       "      <td>2</td>\n",
       "      <td>1.42</td>\n",
       "    </tr>\n",
       "    <tr>\n",
       "      <th>Debt_to_Equity</th>\n",
       "      <td>SPI</td>\n",
       "      <td>27</td>\n",
       "      <td>19.15</td>\n",
       "    </tr>\n",
       "    <tr>\n",
       "      <th>Current_Ratio</th>\n",
       "      <td>SPI</td>\n",
       "      <td>21</td>\n",
       "      <td>14.89</td>\n",
       "    </tr>\n",
       "    <tr>\n",
       "      <th>Operating_Cash_Flow</th>\n",
       "      <td>SPI</td>\n",
       "      <td>14</td>\n",
       "      <td>9.93</td>\n",
       "    </tr>\n",
       "    <tr>\n",
       "      <th>Revenue_Growth_%</th>\n",
       "      <td>SPI</td>\n",
       "      <td>0</td>\n",
       "      <td>0.00</td>\n",
       "    </tr>\n",
       "    <tr>\n",
       "      <th>Status</th>\n",
       "      <td>SPI</td>\n",
       "      <td>0</td>\n",
       "      <td>0.00</td>\n",
       "    </tr>\n",
       "  </tbody>\n",
       "</table>\n",
       "</div>"
      ],
      "text/plain": [
       "                    Dataset  Missing Count  Missing %\n",
       "Ticker                  SPI              0       0.00\n",
       "Company_Name            SPI              0       0.00\n",
       "Currency                SPI              0       0.00\n",
       "Data_Date               SPI              0       0.00\n",
       "Industry                SPI              0       0.00\n",
       "Sector                  SPI              0       0.00\n",
       "Country                 SPI              0       0.00\n",
       "Total_ESG_Score         SPI              0       0.00\n",
       "Environmental_Score     SPI             71      50.35\n",
       "Social_Score            SPI             71      50.35\n",
       "Governance_Score        SPI             71      50.35\n",
       "ESG_Performance         SPI              0       0.00\n",
       "Highest_Controversy     SPI              1       0.71\n",
       "Stock_Price             SPI              1       0.71\n",
       "Current_Price           SPI              0       0.00\n",
       "Market_Cap              SPI              0       0.00\n",
       "PE_Ratio                SPI             24      17.02\n",
       "PB_Ratio                SPI              0       0.00\n",
       "Annual_Return_%         SPI              0       0.00\n",
       "Revenue                 SPI              1       0.71\n",
       "Net_Income              SPI              0       0.00\n",
       "Operating_Margin_%      SPI              0       0.00\n",
       "Gross_Margin_%          SPI              0       0.00\n",
       "ROE_%                   SPI              3       2.13\n",
       "ROA_%                   SPI              1       0.71\n",
       "Profit_Margin_%         SPI              0       0.00\n",
       "EBITDA_Margin_%         SPI             25      17.73\n",
       "EPS                     SPI              0       0.00\n",
       "Beta                    SPI              2       1.42\n",
       "Debt_to_Equity          SPI             27      19.15\n",
       "Current_Ratio           SPI             21      14.89\n",
       "Operating_Cash_Flow     SPI             14       9.93\n",
       "Revenue_Growth_%        SPI              0       0.00\n",
       "Status                  SPI              0       0.00"
      ]
     },
     "execution_count": 21,
     "metadata": {},
     "output_type": "execute_result"
    }
   ],
   "source": [
    "missing_summary(spi_esg, \"SPI\")"
   ]
  },
  {
   "cell_type": "code",
   "execution_count": 22,
   "id": "8c950854",
   "metadata": {},
   "outputs": [
    {
     "name": "stdout",
     "output_type": "stream",
     "text": [
      "         Company_Name  Highest_Controversy  Stock_Price      Revenue  ROE_%  ROA_%   Beta\n",
      "  EvoNext Holdings SA                  0.0         1.16          NaN -12.78  -7.39 -0.116\n",
      "        BB Biotech AG                  NaN        34.32  -80803000.0 -20.75  -2.97  0.787\n",
      "       LEM Holding SA                  0.0       805.00  301692000.0    NaN    NaN  0.732\n",
      "           Temenos AG                  2.0          NaN 1083507968.0  48.96   6.64  0.836\n",
      "mobilezone holding ag                  0.0         9.75  958308992.0    NaN   7.36  0.505\n",
      " Glarner Kantonalbank                  0.0        20.93   95047000.0   5.04   0.24    NaN\n",
      "          Idorsia Ltd                  0.0         0.79  217224000.0    NaN -18.52  1.541\n",
      "             Galderma                  1.0       106.76 4689999872.0   4.92   3.65    NaN\n"
     ]
    }
   ],
   "source": [
    "missing_minor_columns = [\n",
    "    'Highest_Controversy', 'Stock_Price', 'Revenue',\n",
    "    'ROE_%', 'ROA_%', 'Beta'\n",
    "]\n",
    "\n",
    "spi_missing_minor_data = spi_esg[spi_esg[missing_minor_columns].isnull().any(axis=1)]\n",
    "print(spi_missing_minor_data[['Company_Name'] + missing_minor_columns].to_string(index=False))"
   ]
  },
  {
   "cell_type": "markdown",
   "id": "de271e8f",
   "metadata": {},
   "source": [
    "Suggested Strategies for Handling Missing Data:\n",
    "\n",
    "Given that only 141 companies have a Total ESG Score, better avoid removing further companies due to other missing values.\n",
    "\n",
    "1.\tMissing values in Highest_Controversy, Stock_Price, Revenue, ROA_% (1 case each), ROE_% (3 cases), and Beta (2 cases) are negligible and unlikely to bias results.\n",
    "2.\tExclude `PE_Ratio` from the analysis, which is similar to `Market_Cap`.\n",
    "3.\tExclude `EBITDA_Margin_%`, which it is similar to `Profit_Margin_%`.\n",
    "4.\tBeta, Debt_to_Equity, Current_Ratio, Operating_Cash_Flow are all risk and stability indicators, we can use only `Beta`, which has less missing data and better captures systematic market risk."
   ]
  },
  {
   "cell_type": "code",
   "execution_count": 23,
   "id": "a298d2ac",
   "metadata": {},
   "outputs": [
    {
     "data": {
      "application/vnd.microsoft.datawrangler.viewer.v0+json": {
       "columns": [
        {
         "name": "index",
         "rawType": "object",
         "type": "string"
        },
        {
         "name": "Dataset",
         "rawType": "object",
         "type": "string"
        },
        {
         "name": "Missing Count",
         "rawType": "int64",
         "type": "integer"
        },
        {
         "name": "Missing %",
         "rawType": "float64",
         "type": "float"
        }
       ],
       "ref": "4da0c3b3-d964-4230-9050-5dec42860168",
       "rows": [
        [
         "Ticker",
         "SP500",
         "0",
         "0.0"
        ],
        [
         "Company_Name",
         "SP500",
         "0",
         "0.0"
        ],
        [
         "Currency",
         "SP500",
         "0",
         "0.0"
        ],
        [
         "Data_Date",
         "SP500",
         "0",
         "0.0"
        ],
        [
         "Industry",
         "SP500",
         "0",
         "0.0"
        ],
        [
         "Sector",
         "SP500",
         "0",
         "0.0"
        ],
        [
         "Country",
         "SP500",
         "0",
         "0.0"
        ],
        [
         "Total_ESG_Score",
         "SP500",
         "0",
         "0.0"
        ],
        [
         "Environmental_Score",
         "SP500",
         "1",
         "0.2"
        ],
        [
         "Social_Score",
         "SP500",
         "1",
         "0.2"
        ],
        [
         "Governance_Score",
         "SP500",
         "1",
         "0.2"
        ],
        [
         "ESG_Performance",
         "SP500",
         "0",
         "0.0"
        ],
        [
         "Highest_Controversy",
         "SP500",
         "0",
         "0.0"
        ],
        [
         "Stock_Price",
         "SP500",
         "0",
         "0.0"
        ],
        [
         "Current_Price",
         "SP500",
         "0",
         "0.0"
        ],
        [
         "Market_Cap",
         "SP500",
         "0",
         "0.0"
        ],
        [
         "PE_Ratio",
         "SP500",
         "21",
         "4.21"
        ],
        [
         "PB_Ratio",
         "SP500",
         "0",
         "0.0"
        ],
        [
         "Annual_Return_%",
         "SP500",
         "0",
         "0.0"
        ],
        [
         "Revenue",
         "SP500",
         "0",
         "0.0"
        ],
        [
         "Net_Income",
         "SP500",
         "0",
         "0.0"
        ],
        [
         "Operating_Margin_%",
         "SP500",
         "0",
         "0.0"
        ],
        [
         "Gross_Margin_%",
         "SP500",
         "0",
         "0.0"
        ],
        [
         "ROE_%",
         "SP500",
         "32",
         "6.41"
        ],
        [
         "ROA_%",
         "SP500",
         "5",
         "1.0"
        ],
        [
         "Profit_Margin_%",
         "SP500",
         "0",
         "0.0"
        ],
        [
         "EBITDA_Margin_%",
         "SP500",
         "30",
         "6.01"
        ],
        [
         "EPS",
         "SP500",
         "0",
         "0.0"
        ],
        [
         "Beta",
         "SP500",
         "4",
         "0.8"
        ],
        [
         "Debt_to_Equity",
         "SP500",
         "54",
         "10.82"
        ],
        [
         "Current_Ratio",
         "SP500",
         "23",
         "4.61"
        ],
        [
         "Operating_Cash_Flow",
         "SP500",
         "22",
         "4.41"
        ],
        [
         "Revenue_Growth_%",
         "SP500",
         "2",
         "0.4"
        ],
        [
         "Status",
         "SP500",
         "0",
         "0.0"
        ]
       ],
       "shape": {
        "columns": 3,
        "rows": 34
       }
      },
      "text/html": [
       "<div>\n",
       "<style scoped>\n",
       "    .dataframe tbody tr th:only-of-type {\n",
       "        vertical-align: middle;\n",
       "    }\n",
       "\n",
       "    .dataframe tbody tr th {\n",
       "        vertical-align: top;\n",
       "    }\n",
       "\n",
       "    .dataframe thead th {\n",
       "        text-align: right;\n",
       "    }\n",
       "</style>\n",
       "<table border=\"1\" class=\"dataframe\">\n",
       "  <thead>\n",
       "    <tr style=\"text-align: right;\">\n",
       "      <th></th>\n",
       "      <th>Dataset</th>\n",
       "      <th>Missing Count</th>\n",
       "      <th>Missing %</th>\n",
       "    </tr>\n",
       "  </thead>\n",
       "  <tbody>\n",
       "    <tr>\n",
       "      <th>Ticker</th>\n",
       "      <td>SP500</td>\n",
       "      <td>0</td>\n",
       "      <td>0.00</td>\n",
       "    </tr>\n",
       "    <tr>\n",
       "      <th>Company_Name</th>\n",
       "      <td>SP500</td>\n",
       "      <td>0</td>\n",
       "      <td>0.00</td>\n",
       "    </tr>\n",
       "    <tr>\n",
       "      <th>Currency</th>\n",
       "      <td>SP500</td>\n",
       "      <td>0</td>\n",
       "      <td>0.00</td>\n",
       "    </tr>\n",
       "    <tr>\n",
       "      <th>Data_Date</th>\n",
       "      <td>SP500</td>\n",
       "      <td>0</td>\n",
       "      <td>0.00</td>\n",
       "    </tr>\n",
       "    <tr>\n",
       "      <th>Industry</th>\n",
       "      <td>SP500</td>\n",
       "      <td>0</td>\n",
       "      <td>0.00</td>\n",
       "    </tr>\n",
       "    <tr>\n",
       "      <th>Sector</th>\n",
       "      <td>SP500</td>\n",
       "      <td>0</td>\n",
       "      <td>0.00</td>\n",
       "    </tr>\n",
       "    <tr>\n",
       "      <th>Country</th>\n",
       "      <td>SP500</td>\n",
       "      <td>0</td>\n",
       "      <td>0.00</td>\n",
       "    </tr>\n",
       "    <tr>\n",
       "      <th>Total_ESG_Score</th>\n",
       "      <td>SP500</td>\n",
       "      <td>0</td>\n",
       "      <td>0.00</td>\n",
       "    </tr>\n",
       "    <tr>\n",
       "      <th>Environmental_Score</th>\n",
       "      <td>SP500</td>\n",
       "      <td>1</td>\n",
       "      <td>0.20</td>\n",
       "    </tr>\n",
       "    <tr>\n",
       "      <th>Social_Score</th>\n",
       "      <td>SP500</td>\n",
       "      <td>1</td>\n",
       "      <td>0.20</td>\n",
       "    </tr>\n",
       "    <tr>\n",
       "      <th>Governance_Score</th>\n",
       "      <td>SP500</td>\n",
       "      <td>1</td>\n",
       "      <td>0.20</td>\n",
       "    </tr>\n",
       "    <tr>\n",
       "      <th>ESG_Performance</th>\n",
       "      <td>SP500</td>\n",
       "      <td>0</td>\n",
       "      <td>0.00</td>\n",
       "    </tr>\n",
       "    <tr>\n",
       "      <th>Highest_Controversy</th>\n",
       "      <td>SP500</td>\n",
       "      <td>0</td>\n",
       "      <td>0.00</td>\n",
       "    </tr>\n",
       "    <tr>\n",
       "      <th>Stock_Price</th>\n",
       "      <td>SP500</td>\n",
       "      <td>0</td>\n",
       "      <td>0.00</td>\n",
       "    </tr>\n",
       "    <tr>\n",
       "      <th>Current_Price</th>\n",
       "      <td>SP500</td>\n",
       "      <td>0</td>\n",
       "      <td>0.00</td>\n",
       "    </tr>\n",
       "    <tr>\n",
       "      <th>Market_Cap</th>\n",
       "      <td>SP500</td>\n",
       "      <td>0</td>\n",
       "      <td>0.00</td>\n",
       "    </tr>\n",
       "    <tr>\n",
       "      <th>PE_Ratio</th>\n",
       "      <td>SP500</td>\n",
       "      <td>21</td>\n",
       "      <td>4.21</td>\n",
       "    </tr>\n",
       "    <tr>\n",
       "      <th>PB_Ratio</th>\n",
       "      <td>SP500</td>\n",
       "      <td>0</td>\n",
       "      <td>0.00</td>\n",
       "    </tr>\n",
       "    <tr>\n",
       "      <th>Annual_Return_%</th>\n",
       "      <td>SP500</td>\n",
       "      <td>0</td>\n",
       "      <td>0.00</td>\n",
       "    </tr>\n",
       "    <tr>\n",
       "      <th>Revenue</th>\n",
       "      <td>SP500</td>\n",
       "      <td>0</td>\n",
       "      <td>0.00</td>\n",
       "    </tr>\n",
       "    <tr>\n",
       "      <th>Net_Income</th>\n",
       "      <td>SP500</td>\n",
       "      <td>0</td>\n",
       "      <td>0.00</td>\n",
       "    </tr>\n",
       "    <tr>\n",
       "      <th>Operating_Margin_%</th>\n",
       "      <td>SP500</td>\n",
       "      <td>0</td>\n",
       "      <td>0.00</td>\n",
       "    </tr>\n",
       "    <tr>\n",
       "      <th>Gross_Margin_%</th>\n",
       "      <td>SP500</td>\n",
       "      <td>0</td>\n",
       "      <td>0.00</td>\n",
       "    </tr>\n",
       "    <tr>\n",
       "      <th>ROE_%</th>\n",
       "      <td>SP500</td>\n",
       "      <td>32</td>\n",
       "      <td>6.41</td>\n",
       "    </tr>\n",
       "    <tr>\n",
       "      <th>ROA_%</th>\n",
       "      <td>SP500</td>\n",
       "      <td>5</td>\n",
       "      <td>1.00</td>\n",
       "    </tr>\n",
       "    <tr>\n",
       "      <th>Profit_Margin_%</th>\n",
       "      <td>SP500</td>\n",
       "      <td>0</td>\n",
       "      <td>0.00</td>\n",
       "    </tr>\n",
       "    <tr>\n",
       "      <th>EBITDA_Margin_%</th>\n",
       "      <td>SP500</td>\n",
       "      <td>30</td>\n",
       "      <td>6.01</td>\n",
       "    </tr>\n",
       "    <tr>\n",
       "      <th>EPS</th>\n",
       "      <td>SP500</td>\n",
       "      <td>0</td>\n",
       "      <td>0.00</td>\n",
       "    </tr>\n",
       "    <tr>\n",
       "      <th>Beta</th>\n",
       "      <td>SP500</td>\n",
       "      <td>4</td>\n",
       "      <td>0.80</td>\n",
       "    </tr>\n",
       "    <tr>\n",
       "      <th>Debt_to_Equity</th>\n",
       "      <td>SP500</td>\n",
       "      <td>54</td>\n",
       "      <td>10.82</td>\n",
       "    </tr>\n",
       "    <tr>\n",
       "      <th>Current_Ratio</th>\n",
       "      <td>SP500</td>\n",
       "      <td>23</td>\n",
       "      <td>4.61</td>\n",
       "    </tr>\n",
       "    <tr>\n",
       "      <th>Operating_Cash_Flow</th>\n",
       "      <td>SP500</td>\n",
       "      <td>22</td>\n",
       "      <td>4.41</td>\n",
       "    </tr>\n",
       "    <tr>\n",
       "      <th>Revenue_Growth_%</th>\n",
       "      <td>SP500</td>\n",
       "      <td>2</td>\n",
       "      <td>0.40</td>\n",
       "    </tr>\n",
       "    <tr>\n",
       "      <th>Status</th>\n",
       "      <td>SP500</td>\n",
       "      <td>0</td>\n",
       "      <td>0.00</td>\n",
       "    </tr>\n",
       "  </tbody>\n",
       "</table>\n",
       "</div>"
      ],
      "text/plain": [
       "                    Dataset  Missing Count  Missing %\n",
       "Ticker                SP500              0       0.00\n",
       "Company_Name          SP500              0       0.00\n",
       "Currency              SP500              0       0.00\n",
       "Data_Date             SP500              0       0.00\n",
       "Industry              SP500              0       0.00\n",
       "Sector                SP500              0       0.00\n",
       "Country               SP500              0       0.00\n",
       "Total_ESG_Score       SP500              0       0.00\n",
       "Environmental_Score   SP500              1       0.20\n",
       "Social_Score          SP500              1       0.20\n",
       "Governance_Score      SP500              1       0.20\n",
       "ESG_Performance       SP500              0       0.00\n",
       "Highest_Controversy   SP500              0       0.00\n",
       "Stock_Price           SP500              0       0.00\n",
       "Current_Price         SP500              0       0.00\n",
       "Market_Cap            SP500              0       0.00\n",
       "PE_Ratio              SP500             21       4.21\n",
       "PB_Ratio              SP500              0       0.00\n",
       "Annual_Return_%       SP500              0       0.00\n",
       "Revenue               SP500              0       0.00\n",
       "Net_Income            SP500              0       0.00\n",
       "Operating_Margin_%    SP500              0       0.00\n",
       "Gross_Margin_%        SP500              0       0.00\n",
       "ROE_%                 SP500             32       6.41\n",
       "ROA_%                 SP500              5       1.00\n",
       "Profit_Margin_%       SP500              0       0.00\n",
       "EBITDA_Margin_%       SP500             30       6.01\n",
       "EPS                   SP500              0       0.00\n",
       "Beta                  SP500              4       0.80\n",
       "Debt_to_Equity        SP500             54      10.82\n",
       "Current_Ratio         SP500             23       4.61\n",
       "Operating_Cash_Flow   SP500             22       4.41\n",
       "Revenue_Growth_%      SP500              2       0.40\n",
       "Status                SP500              0       0.00"
      ]
     },
     "execution_count": 23,
     "metadata": {},
     "output_type": "execute_result"
    }
   ],
   "source": [
    "missing_summary(sp500_esg, \"SP500\")"
   ]
  },
  {
   "cell_type": "markdown",
   "id": "d69ba9f5",
   "metadata": {},
   "source": [
    "TODO: depending on which metrics and industries we choose to further analyze, we may need to further remove some data from S&P 500 due to unbalanced size of two datasets and missing data. However, S&P 500 dataset is mainly for support and comparison, so here we don't go deeper with this dataset and adjust this dataset according to SPI dataset."
   ]
  },
  {
   "cell_type": "code",
   "execution_count": 24,
   "id": "2c27576a",
   "metadata": {},
   "outputs": [],
   "source": [
    "# Remove columns with large missing data\n",
    "missing_large_columns = [\n",
    "    'PE_Ratio', 'EBITDA_Margin_%', 'Debt_to_Equity', \n",
    "    'Current_Ratio', 'Operating_Cash_Flow'\n",
    "]\n",
    "spi_esg = spi_esg.drop(columns=missing_large_columns)\n",
    "sp500_esg = sp500_esg.drop(columns=missing_large_columns)"
   ]
  },
  {
   "cell_type": "markdown",
   "id": "c0aa157d",
   "metadata": {},
   "source": [
    "## 2. Check and Fix Data Types"
   ]
  },
  {
   "cell_type": "code",
   "execution_count": 25,
   "id": "891cf569",
   "metadata": {},
   "outputs": [
    {
     "data": {
      "application/vnd.microsoft.datawrangler.viewer.v0+json": {
       "columns": [
        {
         "name": "index",
         "rawType": "object",
         "type": "string"
        },
        {
         "name": "0",
         "rawType": "object",
         "type": "unknown"
        }
       ],
       "ref": "d8ad671f-2df4-428e-8469-8f584cc72852",
       "rows": [
        [
         "Ticker",
         "object"
        ],
        [
         "Company_Name",
         "object"
        ],
        [
         "Currency",
         "object"
        ],
        [
         "Data_Date",
         "object"
        ],
        [
         "Industry",
         "object"
        ],
        [
         "Sector",
         "object"
        ],
        [
         "Country",
         "object"
        ],
        [
         "Total_ESG_Score",
         "float64"
        ],
        [
         "Environmental_Score",
         "float64"
        ],
        [
         "Social_Score",
         "float64"
        ],
        [
         "Governance_Score",
         "float64"
        ],
        [
         "ESG_Performance",
         "object"
        ],
        [
         "Highest_Controversy",
         "float64"
        ],
        [
         "Stock_Price",
         "float64"
        ],
        [
         "Current_Price",
         "float64"
        ],
        [
         "Market_Cap",
         "float64"
        ],
        [
         "PB_Ratio",
         "float64"
        ],
        [
         "Annual_Return_%",
         "float64"
        ],
        [
         "Revenue",
         "float64"
        ],
        [
         "Net_Income",
         "float64"
        ],
        [
         "Operating_Margin_%",
         "float64"
        ],
        [
         "Gross_Margin_%",
         "float64"
        ],
        [
         "ROE_%",
         "float64"
        ],
        [
         "ROA_%",
         "float64"
        ],
        [
         "Profit_Margin_%",
         "float64"
        ],
        [
         "EPS",
         "float64"
        ],
        [
         "Beta",
         "float64"
        ],
        [
         "Revenue_Growth_%",
         "float64"
        ],
        [
         "Status",
         "object"
        ]
       ],
       "shape": {
        "columns": 1,
        "rows": 29
       }
      },
      "text/plain": [
       "Ticker                  object\n",
       "Company_Name            object\n",
       "Currency                object\n",
       "Data_Date               object\n",
       "Industry                object\n",
       "Sector                  object\n",
       "Country                 object\n",
       "Total_ESG_Score        float64\n",
       "Environmental_Score    float64\n",
       "Social_Score           float64\n",
       "Governance_Score       float64\n",
       "ESG_Performance         object\n",
       "Highest_Controversy    float64\n",
       "Stock_Price            float64\n",
       "Current_Price          float64\n",
       "Market_Cap             float64\n",
       "PB_Ratio               float64\n",
       "Annual_Return_%        float64\n",
       "Revenue                float64\n",
       "Net_Income             float64\n",
       "Operating_Margin_%     float64\n",
       "Gross_Margin_%         float64\n",
       "ROE_%                  float64\n",
       "ROA_%                  float64\n",
       "Profit_Margin_%        float64\n",
       "EPS                    float64\n",
       "Beta                   float64\n",
       "Revenue_Growth_%       float64\n",
       "Status                  object\n",
       "dtype: object"
      ]
     },
     "execution_count": 25,
     "metadata": {},
     "output_type": "execute_result"
    }
   ],
   "source": [
    "spi_esg.dtypes"
   ]
  },
  {
   "cell_type": "code",
   "execution_count": 26,
   "id": "f4dffb16",
   "metadata": {},
   "outputs": [
    {
     "name": "stdout",
     "output_type": "stream",
     "text": [
      "\n",
      "SPI - Fixing Data Types:\n",
      "  Currency: object → category\n",
      "  Sector: object → category\n",
      "  Industry: object → category\n",
      "  Country: object → category\n",
      "  ESG_Performance: object → category\n",
      "  Status: object → category\n",
      "  Data_Date: → datetime64\n",
      "\n",
      "S&P 500 - Fixing Data Types:\n",
      "  Currency: object → category\n",
      "  Sector: object → category\n",
      "  Industry: object → category\n",
      "  Country: object → category\n",
      "  ESG_Performance: object → category\n",
      "  Status: object → category\n",
      "  Data_Date: → datetime64\n"
     ]
    }
   ],
   "source": [
    "def fix_datatypes(df, name):\n",
    "    \"\"\"Ensure columns have appropriate data types\"\"\"\n",
    "    print(f\"\\n{name} - Fixing Data Types:\")\n",
    "    \n",
    "    # Numeric columns that should be float\n",
    "    numeric_cols = ['Total_ESG_Score', 'Environmental_Score', 'Social_Score', 'Governance_Score',\n",
    "                'Stock_Price', 'Current_Price', 'Market_Cap', 'PB_Ratio', 'Annual_Return_%', \n",
    "                'Revenue', 'Net_Income', 'Operating_Margin_%', 'Gross_Margin_%', 'ROE_%', 'ROA_%', \n",
    "                'Profit_Margin_%', 'EPS', 'Beta', 'Revenue_Growth_%']\n",
    "\n",
    "    for col in numeric_cols:\n",
    "        if col in df.columns:\n",
    "            original_type = df[col].dtype\n",
    "            df[col] = pd.to_numeric(df[col], errors='coerce')\n",
    "            if original_type != df[col].dtype:\n",
    "                print(f\"  {col}: {original_type} → {df[col].dtype}\")\n",
    "    \n",
    "    # Integer columns\n",
    "    int_cols = ['Highest_Controversy']\n",
    "    for col in int_cols:\n",
    "        if col in df.columns:\n",
    "            original_type = df[col].dtype\n",
    "            df[col] = pd.to_numeric(df[col], errors='coerce')\n",
    "            if original_type != df[col].dtype:\n",
    "                print(f\"  {col}: {original_type} → {df[col].dtype}\")\n",
    "    \n",
    "    # Categorical columns\n",
    "    categorical_cols = ['Currency', 'Sector', 'Industry', 'Country', 'ESG_Performance', 'Status']\n",
    "    for col in categorical_cols:\n",
    "        if col in df.columns:\n",
    "            original_type = df[col].dtype\n",
    "            df[col] = df[col].astype('category')\n",
    "            if str(original_type) != 'category':\n",
    "                print(f\"  {col}: {original_type} → category\")\n",
    "    \n",
    "    # Date column\n",
    "    if 'Data_Date' in df.columns:\n",
    "        df['Data_Date'] = pd.to_datetime(df['Data_Date'], errors='coerce')\n",
    "        print(f\"  Data_Date: → datetime64\")\n",
    "\n",
    "    # Object column\n",
    "    for col in ['Ticker', 'Company_Name']:\n",
    "        if col in df.columns:\n",
    "            original_type = df[col].dtype\n",
    "            df[col] = df[col].astype(object)\n",
    "            if original_type != df[col].dtype:\n",
    "                print(f\"  {col}: {original_type} → object\")\n",
    "    \n",
    "    return df\n",
    "\n",
    "spi_esg = fix_datatypes(spi_esg, \"SPI\")\n",
    "sp500_esg = fix_datatypes(sp500_esg, \"S&P 500\")"
   ]
  },
  {
   "cell_type": "markdown",
   "id": "382183b6",
   "metadata": {},
   "source": [
    "## 3. Check Value Ranges and Remove Errors"
   ]
  },
  {
   "cell_type": "markdown",
   "id": "4caf0a8d",
   "metadata": {},
   "source": [
    "### 3.1 Numeric Data"
   ]
  },
  {
   "cell_type": "code",
   "execution_count": 27,
   "id": "99b96740",
   "metadata": {},
   "outputs": [],
   "source": [
    "def check_value_ranges(df, name):\n",
    "    \"\"\"Check value ranges and return DataFrame of all exceptions (errors + warnings) without deleting rows\"\"\"\n",
    "    print(f\"\\n{name} - Value Range Checks:\")\n",
    "\n",
    "    warnings_list = []\n",
    "\n",
    "    # ESG scores should be 0-100\n",
    "    esg_cols = ['Total_ESG_Score', 'Environmental_Score', 'Social_Score', 'Governance_Score']\n",
    "    for col in esg_cols:\n",
    "        if col in df.columns:\n",
    "            invalid = (df[col] < 0) | (df[col] > 100)\n",
    "            if invalid.sum() > 0:\n",
    "                print(f\"  ERROR in {col}: {invalid.sum()} values outside [0, 100]\")\n",
    "                warnings_list.append(df.loc[invalid, ['Company_Name', col]])\n",
    "\n",
    "    # Controversy should be 0-5\n",
    "    if 'Highest_Controversy' in df.columns:\n",
    "        invalid = (df['Highest_Controversy'] < 0) | (df['Highest_Controversy'] > 5)\n",
    "        if invalid.sum() > 0:\n",
    "            print(f\"  ERROR in Highest_Controversy: {invalid.sum()} values outside [0, 5]\")\n",
    "            warnings_list.append(df.loc[invalid, ['Company_Name', 'Highest_Controversy']])\n",
    "\n",
    "    # Stock prices should be positive\n",
    "    for col in ['Stock_Price', 'Current_Price']:\n",
    "        if col in df.columns:\n",
    "            invalid = df[col] <= 0\n",
    "            if invalid.sum() > 0:\n",
    "                print(f\"  ERROR in {col}: {invalid.sum()} non-positive values\")\n",
    "                warnings_list.append(df.loc[invalid, ['Company_Name', col]])\n",
    "\n",
    "    # Market cap should be positive\n",
    "    if 'Market_Cap' in df.columns:\n",
    "        invalid = df['Market_Cap'] <= 0\n",
    "        if invalid.sum() > 0:\n",
    "            print(f\"  ERROR in Market_Cap: {invalid.sum()} non-positive values\")\n",
    "            warnings_list.append(df.loc[invalid, ['Company_Name', 'Market_Cap']])\n",
    "\n",
    "    # Margins reasonable (-100% to 100%)\n",
    "    margin_cols = ['Operating_Margin_%', 'Gross_Margin_%', 'Profit_Margin_%']\n",
    "    for col in margin_cols:\n",
    "        if col in df.columns:\n",
    "            invalid = (df[col] < -100) | (df[col] > 100)\n",
    "            if invalid.sum() > 0:\n",
    "                print(f\"  WARNING in {col}: {invalid.sum()} values outside [-100, 100]\")\n",
    "                warnings_list.append(df.loc[invalid, ['Company_Name', col]])\n",
    "\n",
    "    # ROE and ROA reasonable (-100% to 200%)\n",
    "    for col in ['ROE_%', 'ROA_%']:\n",
    "        if col in df.columns:\n",
    "            invalid = (df[col] < -100) | (df[col] > 200)\n",
    "            if invalid.sum() > 0:\n",
    "                print(f\"  WARNING in {col}: {invalid.sum()} values outside [-100, 200]\")\n",
    "                warnings_list.append(df.loc[invalid, ['Company_Name', col]])\n",
    "\n",
    "    # Combine warning/error rows\n",
    "    if warnings_list:\n",
    "        df_errors = pd.concat(warnings_list).drop_duplicates()\n",
    "    else:\n",
    "        df_errors = pd.DataFrame(columns=df.columns)\n",
    "\n",
    "    print(f\"  Total rows with warnings/errors: {df_errors.shape[0]}\")\n",
    "    return df_errors"
   ]
  },
  {
   "cell_type": "code",
   "execution_count": 28,
   "id": "63f64441",
   "metadata": {},
   "outputs": [
    {
     "name": "stdout",
     "output_type": "stream",
     "text": [
      "\n",
      "SPI - Value Range Checks:\n",
      "  WARNING in Operating_Margin_%: 2 values outside [-100, 100]\n",
      "  WARNING in Gross_Margin_%: 1 values outside [-100, 100]\n",
      "  WARNING in Profit_Margin_%: 5 values outside [-100, 100]\n",
      "  WARNING in ROE_%: 2 values outside [-100, 200]\n",
      "  Total rows with warnings/errors: 10\n",
      "\n",
      "S&P 500 - Value Range Checks:\n",
      "  WARNING in Operating_Margin_%: 3 values outside [-100, 100]\n",
      "  WARNING in ROE_%: 7 values outside [-100, 200]\n",
      "  Total rows with warnings/errors: 10\n",
      "                   Company_Name  Operating_Margin_%  Gross_Margin_%  \\\n",
      "45                BB Biotech AG            -1541.06             NaN   \n",
      "119  Meyer Burger Technology AG             -388.50             NaN   \n",
      "119  Meyer Burger Technology AG                 NaN         -103.15   \n",
      "51        PSP Swiss Property AG                 NaN             NaN   \n",
      "114        Intershop Holding AG                 NaN             NaN   \n",
      "132     Peach Property Group AG                 NaN             NaN   \n",
      "163      Zug Estates Holding AG                 NaN             NaN   \n",
      "168         Investis Holding SA                 NaN             NaN   \n",
      "106            Gurit Holding AG                 NaN             NaN   \n",
      "119  Meyer Burger Technology AG                 NaN             NaN   \n",
      "\n",
      "     Profit_Margin_%   ROE_%  \n",
      "45               NaN     NaN  \n",
      "119              NaN     NaN  \n",
      "119              NaN     NaN  \n",
      "51            117.82     NaN  \n",
      "114           209.44     NaN  \n",
      "132          -128.57     NaN  \n",
      "163           104.52     NaN  \n",
      "168           245.05     NaN  \n",
      "106              NaN -149.20  \n",
      "119              NaN -233.84  \n"
     ]
    }
   ],
   "source": [
    "spi_esg_errors = check_value_ranges(spi_esg, \"SPI\")\n",
    "sp500_esg_errors = check_value_ranges(sp500_esg, \"S&P 500\")\n",
    "\n",
    "print(spi_esg_errors)"
   ]
  },
  {
   "cell_type": "code",
   "execution_count": 29,
   "id": "8341a4c3",
   "metadata": {},
   "outputs": [
    {
     "name": "stdout",
     "output_type": "stream",
     "text": [
      "                          Company_Name  Operating_Margin_%     ROE_%\n",
      "83   Capital One Financial Corporation             -532.77       NaN\n",
      "318                      Moderna, Inc.             -638.73       NaN\n",
      "474               VICI Properties Inc.              109.30       NaN\n",
      "40                AppLovin Corporation                 NaN    253.77\n",
      "115          Colgate-Palmolive Company                 NaN    398.04\n",
      "131                  Crown Castle Inc.                 NaN   -183.28\n",
      "220                       GoDaddy Inc.                 NaN    288.03\n",
      "225               HCA Healthcare, Inc.                 NaN  13631.68\n",
      "302                  Masco Corporation                 NaN    514.46\n",
      "470             Verisk Analytics, Inc.                 NaN    243.11\n"
     ]
    }
   ],
   "source": [
    "print(sp500_esg_errors)"
   ]
  },
  {
   "cell_type": "markdown",
   "id": "35cea92c",
   "metadata": {},
   "source": [
    "Margin and Return data are just warning (or might be considered outliers) but here should not be removed since some companies can have extreme margins and returns"
   ]
  },
  {
   "cell_type": "markdown",
   "id": "5429afa4",
   "metadata": {},
   "source": [
    "### 3.2 Categorical Data"
   ]
  },
  {
   "cell_type": "code",
   "execution_count": 30,
   "id": "93dbb351",
   "metadata": {},
   "outputs": [
    {
     "name": "stdout",
     "output_type": "stream",
     "text": [
      "Currency\n",
      "Currency\n",
      "CHF    141\n",
      "Name: count, dtype: int64\n",
      "Sector\n",
      "Sector\n",
      "Industrials               37\n",
      "Financial Services        31\n",
      "Healthcare                23\n",
      "Technology                13\n",
      "Consumer Cyclical          9\n",
      "Real Estate                9\n",
      "Basic Materials            8\n",
      "Consumer Defensive         7\n",
      "Communication Services     2\n",
      "Utilities                  2\n",
      "Name: count, dtype: int64\n",
      "Industry\n",
      "Industry\n",
      "Banks - Regional                            15\n",
      "Specialty Industrial Machinery              14\n",
      "Building Products & Equipment                7\n",
      "Medical Instruments & Supplies               6\n",
      "Real Estate Services                         6\n",
      "Insurance - Diversified                      5\n",
      "Packaged Foods                               5\n",
      "Asset Management                             5\n",
      "Specialty Chemicals                          5\n",
      "Drug Manufacturers - Specialty & Generic     4\n",
      "Biotechnology                                4\n",
      "Drug Manufacturers - General                 3\n",
      "Medical Devices                              3\n",
      "Scientific & Technical Instruments           3\n",
      "Real Estate - Diversified                    3\n",
      "Banks - Diversified                          3\n",
      "Railroads                                    2\n",
      "Packaging & Containers                       2\n",
      "Engineering & Construction                   2\n",
      "Software - Application                       2\n",
      "Specialty Retail                             2\n",
      "Luxury Goods                                 2\n",
      "Industrial Distribution                      2\n",
      "Utilities - Renewable                        2\n",
      "Consulting Services                          2\n",
      "Electrical Equipment & Parts                 2\n",
      "Chemicals                                    2\n",
      "Communication Equipment                      2\n",
      "Confectioners                                2\n",
      "Capital Markets                              2\n",
      "Electronic Components                        2\n",
      "Staffing & Employment Services               1\n",
      "Apparel Manufacturing                        1\n",
      "Semiconductors                               1\n",
      "Auto Manufacturers                           1\n",
      "Telecom Services                             1\n",
      "Auto Parts                                   1\n",
      "Solar                                        1\n",
      "Building Materials                           1\n",
      "Tools & Accessories                          1\n",
      "Electronics & Computer Distribution          1\n",
      "Computer Hardware                            1\n",
      "Airports & Air Services                      1\n",
      "Publishing                                   1\n",
      "Pharmaceutical Retailers                     1\n",
      "Conglomerates                                1\n",
      "Medical Distribution                         1\n",
      "Diagnostics & Research                       1\n",
      "Integrated Freight & Logistics               1\n",
      "Insurance - Reinsurance                      1\n",
      "Aerospace & Defense                          1\n",
      "Name: count, dtype: int64\n",
      "Country\n",
      "Country\n",
      "Switzerland      136\n",
      "Austria            2\n",
      "Liechtenstein      2\n",
      "Ireland            1\n",
      "Name: count, dtype: int64\n",
      "ESG_Performance\n",
      "ESG_Performance\n",
      "AVG_PERF      62\n",
      "LAG_PERF      61\n",
      "LEAD_PERF     17\n",
      "UNDER_PERF     1\n",
      "Name: count, dtype: int64\n",
      "Status\n",
      "Status\n",
      "Success    141\n",
      "Name: count, dtype: int64\n"
     ]
    }
   ],
   "source": [
    "categorical_cols = ['Currency', 'Sector', 'Industry', 'Country', 'ESG_Performance', 'Status']\n",
    "for col in categorical_cols:\n",
    "    print(col)\n",
    "    print(spi_esg[col].value_counts())"
   ]
  },
  {
   "cell_type": "code",
   "execution_count": 31,
   "id": "4b04f710",
   "metadata": {},
   "outputs": [
    {
     "name": "stdout",
     "output_type": "stream",
     "text": [
      "Currency\n",
      "Currency\n",
      "USD    499\n",
      "Name: count, dtype: int64\n",
      "Sector\n",
      "Sector\n",
      "Technology                81\n",
      "Industrials               72\n",
      "Financial Services        69\n",
      "Healthcare                60\n",
      "Consumer Cyclical         55\n",
      "Consumer Defensive        36\n",
      "Real Estate               31\n",
      "Utilities                 31\n",
      "Communication Services    22\n",
      "Energy                    22\n",
      "Basic Materials           20\n",
      "Name: count, dtype: int64\n",
      "Industry\n",
      "Industry\n",
      "Utilities - Regulated Electric    23\n",
      "Specialty Industrial Machinery    17\n",
      "Software - Application            17\n",
      "Software - Infrastructure         15\n",
      "Semiconductors                    13\n",
      "                                  ..\n",
      "Pollution & Treatment Controls     1\n",
      "REIT - Diversified                 1\n",
      "Rental & Leasing Services          1\n",
      "REIT - Hotel & Motel               1\n",
      "Copper                             1\n",
      "Name: count, Length: 113, dtype: int64\n",
      "Country\n",
      "Country\n",
      "United States     478\n",
      "Ireland             9\n",
      "Switzerland         4\n",
      "United Kingdom      3\n",
      "Bermuda             2\n",
      "Canada              1\n",
      "Netherlands         1\n",
      "Singapore           1\n",
      "Name: count, dtype: int64\n",
      "ESG_Performance\n",
      "ESG_Performance\n",
      "LAG_PERF     283\n",
      "AVG_PERF     177\n",
      "LEAD_PERF     39\n",
      "Name: count, dtype: int64\n",
      "Status\n",
      "Status\n",
      "Success    499\n",
      "Name: count, dtype: int64\n"
     ]
    }
   ],
   "source": [
    "for col in categorical_cols:\n",
    "    print(col)\n",
    "    print(sp500_esg[col].value_counts())"
   ]
  },
  {
   "cell_type": "markdown",
   "id": "0825c862",
   "metadata": {},
   "source": [
    "### 3.3 Integer Data"
   ]
  },
  {
   "cell_type": "code",
   "execution_count": 32,
   "id": "918618f0",
   "metadata": {},
   "outputs": [
    {
     "name": "stdout",
     "output_type": "stream",
     "text": [
      "Highest_Controversy\n",
      "0.0    93\n",
      "2.0    28\n",
      "1.0    17\n",
      "3.0     1\n",
      "4.0     1\n",
      "Name: count, dtype: int64\n"
     ]
    }
   ],
   "source": [
    "print(spi_esg['Highest_Controversy'].value_counts())"
   ]
  },
  {
   "cell_type": "code",
   "execution_count": 33,
   "id": "1bc63c2a",
   "metadata": {},
   "outputs": [
    {
     "name": "stdout",
     "output_type": "stream",
     "text": [
      "Highest_Controversy\n",
      "2.0    349\n",
      "1.0     74\n",
      "3.0     38\n",
      "0.0     28\n",
      "4.0      9\n",
      "5.0      1\n",
      "Name: count, dtype: int64\n"
     ]
    }
   ],
   "source": [
    "print(sp500_esg['Highest_Controversy'].value_counts())"
   ]
  },
  {
   "cell_type": "markdown",
   "id": "3229c2b4",
   "metadata": {},
   "source": [
    "## 4. Identify and Treat Outliers"
   ]
  },
  {
   "cell_type": "markdown",
   "id": "cf82a857",
   "metadata": {},
   "source": [
    "### 4.1 Identify using IQR Method"
   ]
  },
  {
   "cell_type": "code",
   "execution_count": 34,
   "id": "2b97f2aa",
   "metadata": {},
   "outputs": [],
   "source": [
    "def identify_outliers(df, name):\n",
    "    \"\"\"Identify outliers using IQR method\"\"\"\n",
    "    print(f\"\\n{name} - Outlier Detection:\")\n",
    "\n",
    "    numeric_cols = ['Total_ESG_Score', 'Environmental_Score', 'Social_Score', 'Governance_Score',\n",
    "                'Stock_Price', 'Current_Price', 'Market_Cap', 'PB_Ratio', 'Annual_Return_%', \n",
    "                'Revenue', 'Net_Income', 'Operating_Margin_%', 'Gross_Margin_%', 'ROE_%', 'ROA_%', \n",
    "                'Profit_Margin_%', 'EPS', 'Beta', 'Revenue_Growth_%']\n",
    "\n",
    "    outlier_summary = {}\n",
    "\n",
    "    for col in numeric_cols:\n",
    "        if col in df.columns and df[col].notna().sum() > 0:\n",
    "            Q1 = df[col].quantile(0.25)\n",
    "            Q3 = df[col].quantile(0.75)\n",
    "            IQR = Q3 - Q1\n",
    "            \n",
    "            lower_bound = Q1 - 3 * IQR  # Using 3*IQR for extreme outliers only\n",
    "            upper_bound = Q3 + 3 * IQR\n",
    "            \n",
    "            outliers = (df[col] < lower_bound) | (df[col] > upper_bound)\n",
    "            outlier_count = outliers.sum()\n",
    "            \n",
    "            if outlier_count > 0:\n",
    "                outlier_summary[col] = {\n",
    "                    'count': outlier_count,\n",
    "                    'percentage': outlier_count / df[col].notna().sum() * 100,\n",
    "                    'lower_bound': lower_bound,\n",
    "                    'upper_bound': upper_bound,\n",
    "                    'outlier_indices': df[outliers].index.tolist()\n",
    "                }\n",
    "                \n",
    "                print(f\"\\n  {col}:\")\n",
    "                print(f\"    Outliers found: {outlier_count} ({outlier_count/df[col].notna().sum()*100:.2f}%)\")\n",
    "                print(f\"    Expected range: [{lower_bound:.2f}, {upper_bound:.2f}]\")\n",
    "                print(f\"    Actual range: [{df[col].min():.2f}, {df[col].max():.2f}]\")\n",
    "    \n",
    "    return outlier_summary"
   ]
  },
  {
   "cell_type": "code",
   "execution_count": 35,
   "id": "13f62fba",
   "metadata": {},
   "outputs": [
    {
     "name": "stdout",
     "output_type": "stream",
     "text": [
      "\n",
      "SPI - Outlier Detection:\n",
      "\n",
      "  Stock_Price:\n",
      "    Outliers found: 9 (6.43%)\n",
      "    Expected range: [-594.48, 906.74]\n",
      "    Actual range: [0.79, 97134.13]\n",
      "\n",
      "  Current_Price:\n",
      "    Outliers found: 7 (4.96%)\n",
      "    Expected range: [-633.50, 966.70]\n",
      "    Actual range: [0.06, 130600.00]\n",
      "\n",
      "  Market_Cap:\n",
      "    Outliers found: 16 (11.35%)\n",
      "    Expected range: [-19733119488.00, 28683930368.00]\n",
      "    Actual range: [1980570.00, 225000000000.00]\n",
      "\n",
      "  PB_Ratio:\n",
      "    Outliers found: 6 (4.26%)\n",
      "    Expected range: [-9.24, 14.84]\n",
      "    Actual range: [-19.15, 26.44]\n",
      "\n",
      "  Annual_Return_%:\n",
      "    Outliers found: 2 (1.42%)\n",
      "    Expected range: [-135.80, 136.29]\n",
      "    Actual range: [-96.56, 264.81]\n",
      "\n",
      "  Revenue:\n",
      "    Outliers found: 11 (7.86%)\n",
      "    Expected range: [-9617416736.00, 14048661560.00]\n",
      "    Actual range: [-80803000.00, 90898997248.00]\n",
      "\n",
      "  Net_Income:\n",
      "    Outliers found: 13 (9.22%)\n",
      "    Expected range: [-829464640.00, 1160774520.00]\n",
      "    Actual range: [-544475008.00, 13653999616.00]\n",
      "\n",
      "  Operating_Margin_%:\n",
      "    Outliers found: 3 (2.13%)\n",
      "    Expected range: [-58.81, 91.20]\n",
      "    Actual range: [-1541.06, 84.47]\n",
      "\n",
      "  ROE_%:\n",
      "    Outliers found: 8 (5.80%)\n",
      "    Expected range: [-36.55, 60.26]\n",
      "    Actual range: [-233.84, 163.70]\n",
      "\n",
      "  ROA_%:\n",
      "    Outliers found: 2 (1.43%)\n",
      "    Expected range: [-17.36, 24.79]\n",
      "    Actual range: [-27.20, 21.88]\n",
      "\n",
      "  Profit_Margin_%:\n",
      "    Outliers found: 6 (4.26%)\n",
      "    Expected range: [-58.86, 83.94]\n",
      "    Actual range: [-128.57, 245.05]\n",
      "\n",
      "  EPS:\n",
      "    Outliers found: 15 (10.64%)\n",
      "    Expected range: [-26.36, 37.90]\n",
      "    Actual range: [-28.81, 2764.10]\n",
      "\n",
      "  Revenue_Growth_%:\n",
      "    Outliers found: 7 (4.96%)\n",
      "    Expected range: [-35.07, 38.78]\n",
      "    Actual range: [-100.00, 187.55]\n"
     ]
    }
   ],
   "source": [
    "spi_outliers = identify_outliers(spi_esg, \"SPI\")"
   ]
  },
  {
   "cell_type": "code",
   "execution_count": 36,
   "id": "7436c100",
   "metadata": {},
   "outputs": [
    {
     "name": "stdout",
     "output_type": "stream",
     "text": [
      "\n",
      "S&P 500 - Outlier Detection:\n",
      "\n",
      "  Governance_Score:\n",
      "    Outliers found: 4 (0.80%)\n",
      "    Expected range: [-2.87, 12.02]\n",
      "    Actual range: [1.43, 20.21]\n",
      "\n",
      "  Stock_Price:\n",
      "    Outliers found: 15 (3.01%)\n",
      "    Expected range: [-410.39, 707.01]\n",
      "    Actual range: [9.17, 8005.95]\n",
      "\n",
      "  Current_Price:\n",
      "    Outliers found: 18 (3.61%)\n",
      "    Expected range: [-452.37, 767.24]\n",
      "    Actual range: [8.14, 7605.88]\n",
      "\n",
      "  Market_Cap:\n",
      "    Outliers found: 29 (5.81%)\n",
      "    Expected range: [-176384815104.00, 282580432896.00]\n",
      "    Actual range: [6353985024.00, 4430000000000.00]\n",
      "\n",
      "  PB_Ratio:\n",
      "    Outliers found: 50 (10.02%)\n",
      "    Expected range: [-14.85, 23.92]\n",
      "    Actual range: [-2181.44, 175.81]\n",
      "\n",
      "  Annual_Return_%:\n",
      "    Outliers found: 7 (1.40%)\n",
      "    Expected range: [-115.05, 116.27]\n",
      "    Actual range: [-58.76, 389.90]\n",
      "\n",
      "  Revenue:\n",
      "    Outliers found: 34 (6.81%)\n",
      "    Expected range: [-59663499264.00, 94945499392.00]\n",
      "    Actual range: [742873024.00, 693000000000.00]\n",
      "\n",
      "  Net_Income:\n",
      "    Outliers found: 37 (7.41%)\n",
      "    Expected range: [-6732500096.00, 10792000128.00]\n",
      "    Actual range: [-20504000512.00, 116000000000.00]\n",
      "\n",
      "  Operating_Margin_%:\n",
      "    Outliers found: 4 (0.80%)\n",
      "    Expected range: [-36.04, 77.08]\n",
      "    Actual range: [-638.73, 109.30]\n",
      "\n",
      "  Gross_Margin_%:\n",
      "    Outliers found: 1 (0.20%)\n",
      "    Expected range: [-65.45, 155.64]\n",
      "    Actual range: [-71.44, 100.00]\n",
      "\n",
      "  ROE_%:\n",
      "    Outliers found: 27 (5.78%)\n",
      "    Expected range: [-50.02, 87.88]\n",
      "    Actual range: [-183.28, 13631.68]\n",
      "\n",
      "  ROA_%:\n",
      "    Outliers found: 7 (1.42%)\n",
      "    Expected range: [-13.89, 25.90]\n",
      "    Actual range: [-14.77, 53.09]\n",
      "\n",
      "  Profit_Margin_%:\n",
      "    Outliers found: 8 (1.60%)\n",
      "    Expected range: [-31.54, 59.00]\n",
      "    Actual range: [-94.31, 73.17]\n",
      "\n",
      "  EPS:\n",
      "    Outliers found: 15 (3.01%)\n",
      "    Expected range: [-17.95, 29.47]\n",
      "    Actual range: [-24.13, 473.09]\n",
      "\n",
      "  Beta:\n",
      "    Outliers found: 1 (0.20%)\n",
      "    Expected range: [-0.95, 2.94]\n",
      "    Actual range: [-0.03, 3.68]\n",
      "\n",
      "  Revenue_Growth_%:\n",
      "    Outliers found: 18 (3.62%)\n",
      "    Expected range: [-30.78, 41.04]\n",
      "    Actual range: [-52.64, 114.20]\n"
     ]
    }
   ],
   "source": [
    "sp500_outliers = identify_outliers(sp500_esg, \"S&P 500\")"
   ]
  },
  {
   "cell_type": "markdown",
   "id": "00495fbe",
   "metadata": {},
   "source": [
    "### 4.2 Visualize using Boxplot"
   ]
  },
  {
   "cell_type": "code",
   "execution_count": 37,
   "id": "c886735c",
   "metadata": {},
   "outputs": [],
   "source": [
    "def plot_outliers(df, name):\n",
    "    \"\"\"Plot boxplots for numeric columns to visualize outliers\"\"\"\n",
    "    numeric_cols = ['Total_ESG_Score', 'Environmental_Score', 'Social_Score', 'Governance_Score',\n",
    "                    'Stock_Price', 'Current_Price', 'Market_Cap', 'PB_Ratio', 'Annual_Return_%', \n",
    "                    'Revenue', 'Net_Income', 'Operating_Margin_%', 'Gross_Margin_%', 'ROE_%', 'ROA_%', \n",
    "                    'Profit_Margin_%', 'EPS', 'Beta', 'Revenue_Growth_%']\n",
    "\n",
    "    for col in numeric_cols:\n",
    "        if col in df.columns and df[col].notna().sum() > 0:\n",
    "            plt.figure(figsize=(8, 4))\n",
    "            sns.boxplot(x=df[col], showfliers=True)\n",
    "            plt.title(f\"{name} - {col} Boxplot with Outliers\")\n",
    "            plt.xlabel(col)\n",
    "            plt.show()"
   ]
  },
  {
   "cell_type": "code",
   "execution_count": 38,
   "id": "2b7fb9ee",
   "metadata": {},
   "outputs": [
    {
     "data": {
      "image/png": "[encoded data removed]",
      "text/plain": [
       "<Figure size 800x400 with 1 Axes>"
      ]
     },
     "metadata": {},
     "output_type": "display_data"
    },
    {
     "data": {
      "image/png": "[encoded data removed]",
      "text/plain": [
       "<Figure size 800x400 with 1 Axes>"
      ]
     },
     "metadata": {},
     "output_type": "display_data"
    },
    {
     "data": {
      "image/png": "[encoded data removed]",
      "text/plain": [
       "<Figure size 800x400 with 1 Axes>"
      ]
     },
     "metadata": {},
     "output_type": "display_data"
    },
    {
     "data": {
      "image/png": "[encoded data removed]",
      "text/plain": [
       "<Figure size 800x400 with 1 Axes>"
      ]
     },
     "metadata": {},
     "output_type": "display_data"
    },
    {
     "data": {
      "image/png": "[encoded data removed]",
      "text/plain": [
       "<Figure size 800x400 with 1 Axes>"
      ]
     },
     "metadata": {},
     "output_type": "display_data"
    },
    {
     "data": {
      "image/png": "[encoded data removed]",
      "text/plain": [
       "<Figure size 800x400 with 1 Axes>"
      ]
     },
     "metadata": {},
     "output_type": "display_data"
    },
    {
     "data": {
      "image/png": "[encoded data removed]",
      "text/plain": [
       "<Figure size 800x400 with 1 Axes>"
      ]
     },
     "metadata": {},
     "output_type": "display_data"
    },
    {
     "data": {
      "image/png": "[encoded data removed]",
      "text/plain": [
       "<Figure size 800x400 with 1 Axes>"
      ]
     },
     "metadata": {},
     "output_type": "display_data"
    },
    {
     "data": {
      "image/png": "[encoded data removed]",
      "text/plain": [
       "<Figure size 800x400 with 1 Axes>"
      ]
     },
     "metadata": {},
     "output_type": "display_data"
    },
    {
     "data": {
      "image/png": "[encoded data removed]",
      "text/plain": [
       "<Figure size 800x400 with 1 Axes>"
      ]
     },
     "metadata": {},
     "output_type": "display_data"
    },
    {
     "data": {
      "image/png": "[encoded data removed]",
      "text/plain": [
       "<Figure size 800x400 with 1 Axes>"
      ]
     },
     "metadata": {},
     "output_type": "display_data"
    },
    {
     "data": {
      "image/png": "[encoded data removed]",
      "text/plain": [
       "<Figure size 800x400 with 1 Axes>"
      ]
     },
     "metadata": {},
     "output_type": "display_data"
    },
    {
     "data": {
      "image/png": "[encoded data removed]",
      "text/plain": [
       "<Figure size 800x400 with 1 Axes>"
      ]
     },
     "metadata": {},
     "output_type": "display_data"
    },
    {
     "data": {
      "image/png": "[encoded data removed]",
      "text/plain": [
       "<Figure size 800x400 with 1 Axes>"
      ]
     },
     "metadata": {},
     "output_type": "display_data"
    },
    {
     "data": {
      "image/png": "[encoded data removed]",
      "text/plain": [
       "<Figure size 800x400 with 1 Axes>"
      ]
     },
     "metadata": {},
     "output_type": "display_data"
    },
    {
     "data": {
      "image/png": "[encoded data removed]",
      "text/plain": [
       "<Figure size 800x400 with 1 Axes>"
      ]
     },
     "metadata": {},
     "output_type": "display_data"
    },
    {
     "data": {
      "image/png": "[encoded data removed]",
      "text/plain": [
       "<Figure size 800x400 with 1 Axes>"
      ]
     },
     "metadata": {},
     "output_type": "display_data"
    },
    {
     "data": {
      "image/png": "[encoded data removed]",
      "text/plain": [
       "<Figure size 800x400 with 1 Axes>"
      ]
     },
     "metadata": {},
     "output_type": "display_data"
    },
    {
     "data": {
      "image/png": "[encoded data removed]",
      "text/plain": [
       "<Figure size 800x400 with 1 Axes>"
      ]
     },
     "metadata": {},
     "output_type": "display_data"
    }
   ],
   "source": [
    "plot_outliers(spi_esg, \"SPI\")"
   ]
  },
  {
   "cell_type": "markdown",
   "id": "f5594f9c",
   "metadata": {},
   "source": [
    "### 4.3 Handling Strategies\n",
    "Boxplots help us visually identify where extreme values occur for specific metrics. Given that our effective ESG sample size is limited, we do not handle extreme values during the data preparation stage, as such extreme values may be legitimate. \n",
    "\n",
    "TODO: Addressing outliers (keep or remove them) during the analysis and comparison of specific metrics, based on the observed distributions"
   ]
  },
  {
   "cell_type": "markdown",
   "id": "bc547364",
   "metadata": {},
   "source": [
    "## 5. Enrich Dataset with Additional Information"
   ]
  },
  {
   "cell_type": "markdown",
   "id": "ed759f7e",
   "metadata": {},
   "source": [
    "### 5.1 Add Company_Type column for identification before merging"
   ]
  },
  {
   "cell_type": "code",
   "execution_count": 39,
   "id": "cecc4a58",
   "metadata": {},
   "outputs": [],
   "source": [
    "spi_esg['Company_Type'] = \"SPI\"\n",
    "sp500_esg['Company_Type'] = \"S&P 500\""
   ]
  },
  {
   "cell_type": "markdown",
   "id": "4526e6ae",
   "metadata": {},
   "source": [
    "### 5.2 ESG Risk Classification"
   ]
  },
  {
   "cell_type": "markdown",
   "id": "812fba79",
   "metadata": {},
   "source": [
    "Yahoo Finance utilizes Sustainalytics’ ESG Risk Ratings, which categorize companies into five levels: Negligible, Low, Medium, High, and Severe. These ratings are visually represented using ESG Globe icons, where **Low numbers indicate a low risk, whereas higher numbers indicate a higher risk**. This classification is widely used in ESG data analysis and investment decision-making."
   ]
  },
  {
   "cell_type": "markdown",
   "id": "1ec339c4",
   "metadata": {},
   "source": [
    "**ESG Risk Categories at Overall Level** \n",
    "(according to [ESG Risk Ratings Methodology](https://www.sustainalytics.com/docs/knowledgehublibraries/default-document-library/sustainalytics_-esg-risk-ratings_-version-3-1_-methodology-abstract_-june-2024.pdf))\n",
    "\n",
    "A company’s ESG Risk Ratings score on Overall Level is assigned to one of five ESG risk categories in the ESG Risk Ratings:\n",
    "- Negligible risk (overall unmanaged risk score between 0 and 9.99 points): ESG factors are considered to drive negligible risk to enterprise value.\n",
    "- Low risk (overall unmanaged risk score between 10 and 19.99 points): ESG factors are considered to drive low risk to enterprise value.\n",
    "- Medium risk (overall unmanaged risk score between 20 and 29.99 points): ESG factors are considered to drive medium risk to enterprise value.\n",
    "- High risk (overall unmanaged risk score between 30 and 39.99 points): ESG factors are considered to drive high risk to enterprise value.\n",
    "- Severe risk (overall unmanaged risk score 40 points and above): ESG factors are considered to drive severe risk to enterprise value.\n",
    "\n",
    "Note: Because ESG risks materialize at an unknown time in the future and depend on a variety of unpredictable conditions, no predictions on financial or share price impacts, or on the time horizon of such impacts, are intended or implied by these risk categories."
   ]
  },
  {
   "cell_type": "code",
   "execution_count": 40,
   "id": "935f4e0c",
   "metadata": {},
   "outputs": [],
   "source": [
    "def categorize_esg_risk(score):\n",
    "    if pd.isna(score):\n",
    "        return np.nan\n",
    "    elif score < 10:\n",
    "        return 'Negligible'\n",
    "    elif score < 20:\n",
    "        return 'Low'\n",
    "    elif score < 30:\n",
    "        return 'Medium'\n",
    "    elif score < 40:\n",
    "        return 'High'\n",
    "    else:\n",
    "        return 'Severe'\n",
    "    \n",
    "spi_esg['ESG_Risk_Category'] = spi_esg['Total_ESG_Score'].apply(categorize_esg_risk)\n",
    "spi_esg['ESG_Risk_Category'] = spi_esg['ESG_Risk_Category'].astype('category')"
   ]
  },
  {
   "cell_type": "code",
   "execution_count": 41,
   "id": "9f163df2",
   "metadata": {},
   "outputs": [],
   "source": [
    "sp500_esg['ESG_Risk_Category'] = sp500_esg['Total_ESG_Score'].apply(categorize_esg_risk)\n",
    "sp500_esg['ESG_Risk_Category'] = sp500_esg['ESG_Risk_Category'].astype('category')"
   ]
  },
  {
   "cell_type": "markdown",
   "id": "11ce05cd",
   "metadata": {},
   "source": [
    "### 5.3 Reorder columns for better readability"
   ]
  },
  {
   "cell_type": "code",
   "execution_count": 42,
   "id": "d5383960",
   "metadata": {},
   "outputs": [],
   "source": [
    "cols = list(spi_esg.columns)\n",
    "cols.remove('Company_Type')\n",
    "idx = cols.index('Company_Name') + 1\n",
    "cols.insert(idx, 'Company_Type')\n",
    "spi_esg = spi_esg[cols]"
   ]
  },
  {
   "cell_type": "code",
   "execution_count": 43,
   "id": "31937133",
   "metadata": {},
   "outputs": [],
   "source": [
    "cols = list(spi_esg.columns)\n",
    "cols.remove('ESG_Risk_Category')\n",
    "idx = cols.index('Country') + 1\n",
    "cols.insert(idx, 'ESG_Risk_Category')\n",
    "spi_esg = spi_esg[cols]"
   ]
  },
  {
   "cell_type": "code",
   "execution_count": 44,
   "id": "9ea12fe3",
   "metadata": {},
   "outputs": [],
   "source": [
    "cols = list(sp500_esg.columns)\n",
    "cols.remove('Company_Type')\n",
    "idx = cols.index('Company_Name') + 1\n",
    "cols.insert(idx, 'Company_Type')\n",
    "\n",
    "cols.remove('ESG_Risk_Category')\n",
    "idx = cols.index('Country') + 1\n",
    "cols.insert(idx, 'ESG_Risk_Category')\n",
    "\n",
    "sp500_esg = sp500_esg[cols]"
   ]
  },
  {
   "cell_type": "markdown",
   "id": "45f8aefd",
   "metadata": {},
   "source": [
    "## 6. Format Dataset for Analysis"
   ]
  },
  {
   "cell_type": "markdown",
   "id": "fab17e68",
   "metadata": {},
   "source": [
    "### 6.1 Remove columns with identical value"
   ]
  },
  {
   "cell_type": "code",
   "execution_count": 45,
   "id": "abb2d86d",
   "metadata": {},
   "outputs": [],
   "source": [
    "esg_clean = pd.concat([spi_esg, sp500_esg], ignore_index=True)"
   ]
  },
  {
   "cell_type": "code",
   "execution_count": 46,
   "id": "4a8b43e3",
   "metadata": {},
   "outputs": [
    {
     "name": "stdout",
     "output_type": "stream",
     "text": [
      "Dropped columns: ['Data_Date', 'Status']\n"
     ]
    }
   ],
   "source": [
    "cols_to_drop = [col for col in esg_clean.columns if esg_clean[col].nunique() == 1]\n",
    "\n",
    "esg_clean = esg_clean.drop(columns=cols_to_drop)\n",
    "\n",
    "print(\"Dropped columns:\", cols_to_drop)"
   ]
  },
  {
   "cell_type": "markdown",
   "id": "061a038b",
   "metadata": {},
   "source": [
    "### 6.2 Save Cleaned Datasets"
   ]
  },
  {
   "cell_type": "code",
   "execution_count": 47,
   "id": "ab802981",
   "metadata": {},
   "outputs": [],
   "source": [
    "esg_clean.to_csv(\"Data/cleaned_combined_data.csv\", index=False)"
   ]
  },
  {
   "cell_type": "markdown",
   "id": "f21f676b",
   "metadata": {},
   "source": [
    "# Light Exploratory Data Analysis\n",
    "- Industry Distribution\n",
    "- ESG Distribution"
   ]
  },
  {
   "cell_type": "markdown",
   "id": "6bafa11f",
   "metadata": {},
   "source": [
    "## Industry Distribution"
   ]
  },
  {
   "cell_type": "code",
   "execution_count": 71,
   "id": "f31fb08c",
   "metadata": {},
   "outputs": [
    {
     "data": {
      "image/png": "[encoded data removed]",
      "text/plain": [
       "<Figure size 640x480 with 1 Axes>"
      ]
     },
     "metadata": {},
     "output_type": "display_data"
    }
   ],
   "source": [
    "# Top 10 industries by overall company count\n",
    "top_industries = esg_clean['Industry'].value_counts().head(10).index\n",
    "top_ind = esg_clean[esg_clean['Industry'].isin(top_industries)]\n",
    "\n",
    "industry_type_counts = pd.crosstab(top_ind['Industry'], top_ind['Company_Type'])\n",
    "industry_type_counts = industry_type_counts[['SPI', 'S&P 500']]\n",
    "industry_type_counts['Total'] = industry_type_counts.sum(axis=1)\n",
    "industry_type_counts = industry_type_counts.sort_values(by='Total', ascending=True)\n",
    "industry_type_counts = industry_type_counts.drop(columns='Total')\n",
    "\n",
    "# figure\n",
    "industry_type_counts.plot(kind='barh', stacked=True, \n",
    "                         color=['#2E86AB', '#A23B72'])\n",
    "\n",
    "plt.xlabel('Number of Companies', fontsize=11)\n",
    "plt.ylabel('Industry', fontsize=11)\n",
    "plt.title('Top 10 Industries (SPI + S&P 500)', fontsize=12, fontweight='bold')\n",
    "plt.legend(title='Company Type', fontsize=9)\n",
    "plt.grid(axis='x', alpha=0.3)\n",
    "\n",
    "plt.show()"
   ]
  },
  {
   "cell_type": "markdown",
   "id": "395862a8",
   "metadata": {},
   "source": [
    "### Top 10 Industries according to SPI counts"
   ]
  },
  {
   "cell_type": "code",
   "execution_count": 72,
   "id": "a8028101",
   "metadata": {},
   "outputs": [
    {
     "data": {
      "image/png": "[encoded data removed]",
      "text/plain": [
       "<Figure size 640x480 with 1 Axes>"
      ]
     },
     "metadata": {},
     "output_type": "display_data"
    }
   ],
   "source": [
    "spi_companies = esg_clean[esg_clean['Company_Type'] == 'SPI']\n",
    "top_spi_industries = spi_companies['Industry'].value_counts().head(10).index\n",
    "\n",
    "top_spi_ind = esg_clean[esg_clean['Industry'].isin(top_spi_industries)]\n",
    "\n",
    "industry_spi_counts = pd.crosstab(top_spi_ind['Industry'], top_spi_ind['Company_Type'])\n",
    "industry_spi_counts = industry_spi_counts[['SPI', 'S&P 500']]\n",
    "industry_spi_counts = industry_spi_counts.sort_values(by='SPI', ascending=True)\n",
    "\n",
    "industry_spi_counts.plot(kind='barh', stacked=True, \n",
    "                          color=['#2E86AB', '#A23B72'])\n",
    "\n",
    "plt.xlabel('Number of Companies', fontsize=11)\n",
    "plt.ylabel('Industry', fontsize=11)\n",
    "plt.title('Top 10 Industries (SPI)', fontsize=12, fontweight='bold')\n",
    "plt.legend(title='Company Type', fontsize=9)\n",
    "plt.grid(axis='x', alpha=0.3)\n",
    "plt.tight_layout()\n",
    "\n",
    "plt.show()"
   ]
  },
  {
   "cell_type": "markdown",
   "id": "c4beaf76",
   "metadata": {},
   "source": [
    "## ESG Distribution"
   ]
  },
  {
   "cell_type": "code",
   "execution_count": 77,
   "id": "d141d87c",
   "metadata": {},
   "outputs": [
    {
     "data": {
      "image/png": "[encoded data removed]",
      "text/plain": [
       "<Figure size 600x400 with 1 Axes>"
      ]
     },
     "metadata": {},
     "output_type": "display_data"
    }
   ],
   "source": [
    "plt.figure(figsize=(6,4))\n",
    "plt.hist(esg_clean[esg_clean['Company_Type']=='SPI']['Total_ESG_Score'].dropna(), bins=25, alpha=0.6, label='SPI')\n",
    "plt.hist(esg_clean[esg_clean['Company_Type']=='S&P 500']['Total_ESG_Score'].dropna(), bins=25, alpha=0.6, label='S&P 500')\n",
    "plt.xlabel('Total ESG Score')\n",
    "plt.ylabel('Frequency')\n",
    "plt.title('Total ESG Score Distribution')\n",
    "plt.legend()\n",
    "plt.grid(alpha=0.3)\n",
    "plt.show()"
   ]
  },
  {
   "cell_type": "code",
   "execution_count": 84,
   "id": "48feb356",
   "metadata": {},
   "outputs": [
    {
     "name": "stderr",
     "output_type": "stream",
     "text": [
      "/var/folders/dz/c4g03dt52yv21fwz68wlsfz80000gn/T/ipykernel_25465/3026642191.py:8: FutureWarning: \n",
      "\n",
      "Passing `palette` without assigning `hue` is deprecated and will be removed in v0.14.0. Assign the `x` variable to `hue` and set `legend=False` for the same effect.\n",
      "\n",
      "  sns.boxplot(data=esg_clean, x='Company_Type', y=col, ax=axes[i], palette=['#2E86AB', '#A23B72'])\n",
      "/var/folders/dz/c4g03dt52yv21fwz68wlsfz80000gn/T/ipykernel_25465/3026642191.py:8: FutureWarning: \n",
      "\n",
      "Passing `palette` without assigning `hue` is deprecated and will be removed in v0.14.0. Assign the `x` variable to `hue` and set `legend=False` for the same effect.\n",
      "\n",
      "  sns.boxplot(data=esg_clean, x='Company_Type', y=col, ax=axes[i], palette=['#2E86AB', '#A23B72'])\n",
      "/var/folders/dz/c4g03dt52yv21fwz68wlsfz80000gn/T/ipykernel_25465/3026642191.py:8: FutureWarning: \n",
      "\n",
      "Passing `palette` without assigning `hue` is deprecated and will be removed in v0.14.0. Assign the `x` variable to `hue` and set `legend=False` for the same effect.\n",
      "\n",
      "  sns.boxplot(data=esg_clean, x='Company_Type', y=col, ax=axes[i], palette=['#2E86AB', '#A23B72'])\n",
      "/var/folders/dz/c4g03dt52yv21fwz68wlsfz80000gn/T/ipykernel_25465/3026642191.py:8: FutureWarning: \n",
      "\n",
      "Passing `palette` without assigning `hue` is deprecated and will be removed in v0.14.0. Assign the `x` variable to `hue` and set `legend=False` for the same effect.\n",
      "\n",
      "  sns.boxplot(data=esg_clean, x='Company_Type', y=col, ax=axes[i], palette=['#2E86AB', '#A23B72'])\n"
     ]
    },
    {
     "data": {
      "image/png": "[encoded data removed]",
      "text/plain": [
       "<Figure size 1200x1000 with 4 Axes>"
      ]
     },
     "metadata": {},
     "output_type": "display_data"
    }
   ],
   "source": [
    "esg_cols = ['Total_ESG_Score', 'Environmental_Score', 'Social_Score', 'Governance_Score']\n",
    "esg_labels = ['Total ESG', 'Environmental (E)', 'Social (S)', 'Governance (G)']\n",
    "\n",
    "fig, axes = plt.subplots(2, 2, figsize=(12, 10))\n",
    "axes = axes.flatten()\n",
    "\n",
    "for i, col in enumerate(esg_cols):\n",
    "    sns.boxplot(data=esg_clean, x='Company_Type', y=col, ax=axes[i], palette=['#2E86AB', '#A23B72'])\n",
    "    axes[i].set_title(f'{esg_labels[i]} Comparison', fontsize=12, fontweight='bold')\n",
    "    axes[i].grid(axis='y', alpha=0.3)\n",
    "    axes[i].set_xlabel('')\n",
    "    axes[i].set_ylabel('Score')\n",
    "\n",
    "plt.tight_layout()\n",
    "plt.show()"
   ]
  },
  {
   "cell_type": "code",
   "execution_count": 85,
   "id": "3a0de455",
   "metadata": {},
   "outputs": [
    {
     "data": {
      "text/plain": [
       "<Figure size 700x400 with 0 Axes>"
      ]
     },
     "metadata": {},
     "output_type": "display_data"
    },
    {
     "data": {
      "image/png": "[encoded data removed]",
      "text/plain": [
       "<Figure size 640x480 with 1 Axes>"
      ]
     },
     "metadata": {},
     "output_type": "display_data"
    }
   ],
   "source": [
    "plt.figure(figsize=(7,4))\n",
    "pd.crosstab(esg_clean['ESG_Risk_Category'], esg_clean['Company_Type']).plot(kind='bar', color=['#2E86AB', '#A23B72'])\n",
    "plt.xlabel('ESG Risk Category')\n",
    "plt.ylabel('Number of Companies')\n",
    "plt.title('ESG Risk Category Distribution')\n",
    "plt.grid(axis='y', alpha=0.3)\n",
    "plt.tight_layout()\n",
    "plt.show()"
   ]
  },
  {
   "cell_type": "code",
   "execution_count": 88,
   "id": "54485ebb",
   "metadata": {},
   "outputs": [
    {
     "name": "stdout",
     "output_type": "stream",
     "text": [
      "              Total_ESG_Score  Environmental_Score  Social_Score  \\\n",
      "Company_Type                                                       \n",
      "S&P 500                 19.70                 6.28          8.55   \n",
      "SPI                     22.15                 5.72          8.23   \n",
      "\n",
      "              Governance_Score  \n",
      "Company_Type                    \n",
      "S&P 500                   4.88  \n",
      "SPI                       5.48  \n"
     ]
    }
   ],
   "source": [
    "esg_means = esg_clean.groupby('Company_Type')[esg_cols].mean().round(2)\n",
    "print(esg_means)"
   ]
  },
  {
   "cell_type": "code",
   "execution_count": null,
   "id": "0e9d8159",
   "metadata": {},
   "outputs": [],
   "source": []
  }
 ],
 "metadata": {
  "kernelspec": {
   "display_name": "Python 3",
   "language": "python",
   "name": "python3"
  },
  "language_info": {
   "codemirror_mode": {
    "name": "ipython",
    "version": 3
   },
   "file_extension": ".py",
   "mimetype": "text/x-python",
   "name": "python",
   "nbconvert_exporter": "python",
   "pygments_lexer": "ipython3",
   "version": "3.12.7"
  }
 },
 "nbformat": 4,
 "nbformat_minor": 5
}
