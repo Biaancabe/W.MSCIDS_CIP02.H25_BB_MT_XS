{
 "cells": [
  {
   "metadata": {},
   "cell_type": "markdown",
   "source": [
    "# Notes/Questions to discuss:\n",
    "1.\tI removed 59 SPI companies without Total ESG Score, 1 duplicate company (Schindler, see 1.4), and 4 S&P 500 companies without Total ESG Score **(see section 1.3.1)**.</br>\n",
    "    *Remark Marisa: Makes sense*\n",
    "2.\t**To discuss:** Should we remove SPI companies whose Country is not Switzerland? (There are 5 with ESG scores.) Should we remove a few S&P companies whose country is not US? **(See 1.3.2)**</br>\n",
    "    *Remark Marisa: I would remove non swiss companies from SPI. Also only take US companies from S&P 500 because 96% are from the US. I added code to show this so we can argue properly*\n",
    "3.\tI removed financial indicators due to a large amount of missing data: PE_Ratio, EBITDA_Margin_%, Debt_to_Equity, Current_Ratio, and Operating_Cash_Flow **(see 1.3.5)**.</br>\n",
    "    *Remark Marisa: Makes sense to me.*\n",
    "4.\tDepending on the metrics and industries chosen for further analysis, we may need to remove additional S&P 500 data due to the unbalanced size of the two datasets and missing values. However, the S&P 500 dataset is mainly used for support and comparison, so we do not perform a deep analysis on it and adjust it according to the SPI dataset **(see 1.3.5)**. </br>\n",
    "    *Remark Marisa: Fine for me for now. But I will keep it in mind for further analysis*\n",
    "5.\tOutliers should be addressed (keep or remove) during the analysis and comparison of specific metrics based on their observed distributions **(see 4.3)**. </br>\n",
    "    *Remark Marisa: Same as above. I would keep these for now and think about removing them when we analyse them for our research questions.*\n",
    "6.\tThe merged and cleaned dataset is saved as `cleaned_combined_data.csv` in the Data folder. Additional columns have been added:\n",
    "    - Company_Type to identify SPI vs S&P 500 companies\n",
    "    - ESG Risk Classification according to the ESG Risk Ratings Methodology **(see 5.2)**"
   ],
   "id": "d66855ec7d28989e"
  },
  {
   "metadata": {},
   "cell_type": "markdown",
   "source": "# 1 Data Loading & Cleansing",
   "id": "3251c85ca7f88ee5"
  },
  {
   "metadata": {},
   "cell_type": "markdown",
   "source": "## 1.1  Import packages",
   "id": "4574f9d607ff8989"
  },
  {
   "cell_type": "code",
   "id": "aa7937d8",
   "metadata": {
    "ExecuteTime": {
     "end_time": "2025-10-19T18:23:56.379344Z",
     "start_time": "2025-10-19T18:23:56.129180Z"
    }
   },
   "source": [
    "import pandas as pd\n",
    "import numpy as np\n",
    "import matplotlib.pyplot as plt\n",
    "import seaborn as sns\n",
    "from datetime import datetime\n",
    "import statsmodels.formula.api as smf\n",
    "import statsmodels.api as sm\n",
    "from pathlib import Path"
   ],
   "outputs": [],
   "execution_count": 1
  },
  {
   "cell_type": "markdown",
   "id": "5f3de72d",
   "metadata": {},
   "source": "## 1.2  Load Data"
  },
  {
   "metadata": {},
   "cell_type": "markdown",
   "source": "Firstly, we load the tickers which were originally downloaded from wikipedia and checked with ...",
   "id": "b9d70114acced18d"
  },
  {
   "cell_type": "code",
   "id": "00d52fb9",
   "metadata": {
    "ExecuteTime": {
     "end_time": "2025-10-19T18:23:56.437637Z",
     "start_time": "2025-10-19T18:23:56.425644Z"
    }
   },
   "source": [
    "spi = pd.read_csv(Path(\"Data/esg_financial_analysis_spi.csv\"))\n",
    "sp500 = pd.read_csv(Path(\"Data/esg_financial_analysis_sp500.csv\"))"
   ],
   "outputs": [],
   "execution_count": 2
  },
  {
   "metadata": {},
   "cell_type": "markdown",
   "source": [
    "Then we check the structure of the SPI dataset. I contains 201 observations with 34 variables.\n",
    "On the first glance, we see that we don't have all variables of all observations. We therefore need to look into that closer.\n",
    "(i.e. 142 Total ESG Scores out of 201 observations)"
   ],
   "id": "509f9357341e637d"
  },
  {
   "cell_type": "code",
   "id": "e7654ab4",
   "metadata": {
    "ExecuteTime": {
     "end_time": "2025-10-19T18:23:56.498669Z",
     "start_time": "2025-10-19T18:23:56.456296Z"
    }
   },
   "source": [
    "# SPI dataset overview\n",
    "print(spi.shape)\n",
    "spi.describe()"
   ],
   "outputs": [
    {
     "name": "stdout",
     "output_type": "stream",
     "text": [
      "(201, 34)\n"
     ]
    },
    {
     "data": {
      "text/plain": [
       "       Total_ESG_Score  Environmental_Score  Social_Score  Governance_Score  \\\n",
       "count       142.000000            71.000000     71.000000         71.000000   \n",
       "mean         22.166127             5.776479      8.240423          5.491690   \n",
       "std           7.795570             4.963638      3.330291          2.194745   \n",
       "min           8.560000             0.000000      0.640000          1.070000   \n",
       "25%          15.647500             1.735000      5.755000          4.235000   \n",
       "50%          22.320000             3.920000      8.790000          5.010000   \n",
       "75%          27.620000             9.985000     10.495000          6.795000   \n",
       "max          49.050000            17.020000     16.750000         10.960000   \n",
       "\n",
       "       Highest_Controversy   Stock_Price  Current_Price    Market_Cap  \\\n",
       "count           141.000000    196.000000     199.000000  1.990000e+02   \n",
       "mean              0.574468    834.992959    1017.642378  9.678245e+09   \n",
       "std               0.880211   6992.709729    9313.699001  2.940864e+10   \n",
       "min               0.000000      0.050000       0.021000  1.046500e+05   \n",
       "25%               0.000000     25.152500      23.275000  3.087133e+08   \n",
       "50%               0.000000     77.185000      80.200000  1.277350e+09   \n",
       "75%               1.000000    220.257500     223.500000  4.349876e+09   \n",
       "max               4.000000  97134.130000  130600.000000  2.250000e+11   \n",
       "\n",
       "         PE_Ratio    PB_Ratio  ...     ROE_Pct     ROA_Pct  Profit_Margin_Pct  \\\n",
       "count  150.000000  198.000000  ...  186.000000  190.000000         194.000000   \n",
       "mean    29.586800    3.581717  ...    4.347473    2.742158          41.736392   \n",
       "std     40.782032   13.400904  ...   44.542110    7.851904         290.066171   \n",
       "min      0.040000  -51.520000  ... -288.140000  -27.200000        -133.720000   \n",
       "25%     13.937500    0.865000  ...    2.012500    0.632500           1.062500   \n",
       "50%     19.425000    1.675000  ...    8.285000    2.225000           8.055000   \n",
       "75%     30.932500    3.747500  ...   15.940000    6.605000          21.027500   \n",
       "max    443.330000  172.410000  ...  163.700000   50.970000        3663.790000   \n",
       "\n",
       "       EBITDA_Margin_Pct           EPS        Beta  Debt_to_Equity  \\\n",
       "count         162.000000    194.000000  189.000000      158.000000   \n",
       "mean          -56.286296    475.215722    0.664238      114.213291   \n",
       "std           696.720688   6191.892435    0.469562      301.059794   \n",
       "min         -8713.510000    -28.810000   -0.464000        0.280000   \n",
       "25%             5.557500      0.257500    0.299000       21.365000   \n",
       "50%            12.760000      4.020000    0.664000       56.305000   \n",
       "75%            23.687500      9.702500    0.964000      109.325000   \n",
       "max           116.370000  86227.180000    2.164000     3322.760000   \n",
       "\n",
       "       Current_Ratio  Operating_Cash_Flow  Revenue_Growth_Pct  \n",
       "count     170.000000         1.770000e+02          196.000000  \n",
       "mean        7.071059         8.240547e+08           19.177653  \n",
       "std        58.167139         2.949556e+09          220.548477  \n",
       "min         0.020000        -4.749700e+09         -100.000000  \n",
       "25%         1.022500         1.764100e+07           -4.537500  \n",
       "50%         1.505000         8.063400e+07            1.180000  \n",
       "75%         2.387500         4.170490e+08            7.077500  \n",
       "max       758.290000         2.078800e+10         3028.010000  \n",
       "\n",
       "[8 rows x 25 columns]"
      ],
      "text/html": [
       "<div>\n",
       "<style scoped>\n",
       "    .dataframe tbody tr th:only-of-type {\n",
       "        vertical-align: middle;\n",
       "    }\n",
       "\n",
       "    .dataframe tbody tr th {\n",
       "        vertical-align: top;\n",
       "    }\n",
       "\n",
       "    .dataframe thead th {\n",
       "        text-align: right;\n",
       "    }\n",
       "</style>\n",
       "<table border=\"1\" class=\"dataframe\">\n",
       "  <thead>\n",
       "    <tr style=\"text-align: right;\">\n",
       "      <th></th>\n",
       "      <th>Total_ESG_Score</th>\n",
       "      <th>Environmental_Score</th>\n",
       "      <th>Social_Score</th>\n",
       "      <th>Governance_Score</th>\n",
       "      <th>Highest_Controversy</th>\n",
       "      <th>Stock_Price</th>\n",
       "      <th>Current_Price</th>\n",
       "      <th>Market_Cap</th>\n",
       "      <th>PE_Ratio</th>\n",
       "      <th>PB_Ratio</th>\n",
       "      <th>...</th>\n",
       "      <th>ROE_Pct</th>\n",
       "      <th>ROA_Pct</th>\n",
       "      <th>Profit_Margin_Pct</th>\n",
       "      <th>EBITDA_Margin_Pct</th>\n",
       "      <th>EPS</th>\n",
       "      <th>Beta</th>\n",
       "      <th>Debt_to_Equity</th>\n",
       "      <th>Current_Ratio</th>\n",
       "      <th>Operating_Cash_Flow</th>\n",
       "      <th>Revenue_Growth_Pct</th>\n",
       "    </tr>\n",
       "  </thead>\n",
       "  <tbody>\n",
       "    <tr>\n",
       "      <th>count</th>\n",
       "      <td>142.000000</td>\n",
       "      <td>71.000000</td>\n",
       "      <td>71.000000</td>\n",
       "      <td>71.000000</td>\n",
       "      <td>141.000000</td>\n",
       "      <td>196.000000</td>\n",
       "      <td>199.000000</td>\n",
       "      <td>1.990000e+02</td>\n",
       "      <td>150.000000</td>\n",
       "      <td>198.000000</td>\n",
       "      <td>...</td>\n",
       "      <td>186.000000</td>\n",
       "      <td>190.000000</td>\n",
       "      <td>194.000000</td>\n",
       "      <td>162.000000</td>\n",
       "      <td>194.000000</td>\n",
       "      <td>189.000000</td>\n",
       "      <td>158.000000</td>\n",
       "      <td>170.000000</td>\n",
       "      <td>1.770000e+02</td>\n",
       "      <td>196.000000</td>\n",
       "    </tr>\n",
       "    <tr>\n",
       "      <th>mean</th>\n",
       "      <td>22.166127</td>\n",
       "      <td>5.776479</td>\n",
       "      <td>8.240423</td>\n",
       "      <td>5.491690</td>\n",
       "      <td>0.574468</td>\n",
       "      <td>834.992959</td>\n",
       "      <td>1017.642378</td>\n",
       "      <td>9.678245e+09</td>\n",
       "      <td>29.586800</td>\n",
       "      <td>3.581717</td>\n",
       "      <td>...</td>\n",
       "      <td>4.347473</td>\n",
       "      <td>2.742158</td>\n",
       "      <td>41.736392</td>\n",
       "      <td>-56.286296</td>\n",
       "      <td>475.215722</td>\n",
       "      <td>0.664238</td>\n",
       "      <td>114.213291</td>\n",
       "      <td>7.071059</td>\n",
       "      <td>8.240547e+08</td>\n",
       "      <td>19.177653</td>\n",
       "    </tr>\n",
       "    <tr>\n",
       "      <th>std</th>\n",
       "      <td>7.795570</td>\n",
       "      <td>4.963638</td>\n",
       "      <td>3.330291</td>\n",
       "      <td>2.194745</td>\n",
       "      <td>0.880211</td>\n",
       "      <td>6992.709729</td>\n",
       "      <td>9313.699001</td>\n",
       "      <td>2.940864e+10</td>\n",
       "      <td>40.782032</td>\n",
       "      <td>13.400904</td>\n",
       "      <td>...</td>\n",
       "      <td>44.542110</td>\n",
       "      <td>7.851904</td>\n",
       "      <td>290.066171</td>\n",
       "      <td>696.720688</td>\n",
       "      <td>6191.892435</td>\n",
       "      <td>0.469562</td>\n",
       "      <td>301.059794</td>\n",
       "      <td>58.167139</td>\n",
       "      <td>2.949556e+09</td>\n",
       "      <td>220.548477</td>\n",
       "    </tr>\n",
       "    <tr>\n",
       "      <th>min</th>\n",
       "      <td>8.560000</td>\n",
       "      <td>0.000000</td>\n",
       "      <td>0.640000</td>\n",
       "      <td>1.070000</td>\n",
       "      <td>0.000000</td>\n",
       "      <td>0.050000</td>\n",
       "      <td>0.021000</td>\n",
       "      <td>1.046500e+05</td>\n",
       "      <td>0.040000</td>\n",
       "      <td>-51.520000</td>\n",
       "      <td>...</td>\n",
       "      <td>-288.140000</td>\n",
       "      <td>-27.200000</td>\n",
       "      <td>-133.720000</td>\n",
       "      <td>-8713.510000</td>\n",
       "      <td>-28.810000</td>\n",
       "      <td>-0.464000</td>\n",
       "      <td>0.280000</td>\n",
       "      <td>0.020000</td>\n",
       "      <td>-4.749700e+09</td>\n",
       "      <td>-100.000000</td>\n",
       "    </tr>\n",
       "    <tr>\n",
       "      <th>25%</th>\n",
       "      <td>15.647500</td>\n",
       "      <td>1.735000</td>\n",
       "      <td>5.755000</td>\n",
       "      <td>4.235000</td>\n",
       "      <td>0.000000</td>\n",
       "      <td>25.152500</td>\n",
       "      <td>23.275000</td>\n",
       "      <td>3.087133e+08</td>\n",
       "      <td>13.937500</td>\n",
       "      <td>0.865000</td>\n",
       "      <td>...</td>\n",
       "      <td>2.012500</td>\n",
       "      <td>0.632500</td>\n",
       "      <td>1.062500</td>\n",
       "      <td>5.557500</td>\n",
       "      <td>0.257500</td>\n",
       "      <td>0.299000</td>\n",
       "      <td>21.365000</td>\n",
       "      <td>1.022500</td>\n",
       "      <td>1.764100e+07</td>\n",
       "      <td>-4.537500</td>\n",
       "    </tr>\n",
       "    <tr>\n",
       "      <th>50%</th>\n",
       "      <td>22.320000</td>\n",
       "      <td>3.920000</td>\n",
       "      <td>8.790000</td>\n",
       "      <td>5.010000</td>\n",
       "      <td>0.000000</td>\n",
       "      <td>77.185000</td>\n",
       "      <td>80.200000</td>\n",
       "      <td>1.277350e+09</td>\n",
       "      <td>19.425000</td>\n",
       "      <td>1.675000</td>\n",
       "      <td>...</td>\n",
       "      <td>8.285000</td>\n",
       "      <td>2.225000</td>\n",
       "      <td>8.055000</td>\n",
       "      <td>12.760000</td>\n",
       "      <td>4.020000</td>\n",
       "      <td>0.664000</td>\n",
       "      <td>56.305000</td>\n",
       "      <td>1.505000</td>\n",
       "      <td>8.063400e+07</td>\n",
       "      <td>1.180000</td>\n",
       "    </tr>\n",
       "    <tr>\n",
       "      <th>75%</th>\n",
       "      <td>27.620000</td>\n",
       "      <td>9.985000</td>\n",
       "      <td>10.495000</td>\n",
       "      <td>6.795000</td>\n",
       "      <td>1.000000</td>\n",
       "      <td>220.257500</td>\n",
       "      <td>223.500000</td>\n",
       "      <td>4.349876e+09</td>\n",
       "      <td>30.932500</td>\n",
       "      <td>3.747500</td>\n",
       "      <td>...</td>\n",
       "      <td>15.940000</td>\n",
       "      <td>6.605000</td>\n",
       "      <td>21.027500</td>\n",
       "      <td>23.687500</td>\n",
       "      <td>9.702500</td>\n",
       "      <td>0.964000</td>\n",
       "      <td>109.325000</td>\n",
       "      <td>2.387500</td>\n",
       "      <td>4.170490e+08</td>\n",
       "      <td>7.077500</td>\n",
       "    </tr>\n",
       "    <tr>\n",
       "      <th>max</th>\n",
       "      <td>49.050000</td>\n",
       "      <td>17.020000</td>\n",
       "      <td>16.750000</td>\n",
       "      <td>10.960000</td>\n",
       "      <td>4.000000</td>\n",
       "      <td>97134.130000</td>\n",
       "      <td>130600.000000</td>\n",
       "      <td>2.250000e+11</td>\n",
       "      <td>443.330000</td>\n",
       "      <td>172.410000</td>\n",
       "      <td>...</td>\n",
       "      <td>163.700000</td>\n",
       "      <td>50.970000</td>\n",
       "      <td>3663.790000</td>\n",
       "      <td>116.370000</td>\n",
       "      <td>86227.180000</td>\n",
       "      <td>2.164000</td>\n",
       "      <td>3322.760000</td>\n",
       "      <td>758.290000</td>\n",
       "      <td>2.078800e+10</td>\n",
       "      <td>3028.010000</td>\n",
       "    </tr>\n",
       "  </tbody>\n",
       "</table>\n",
       "<p>8 rows × 25 columns</p>\n",
       "</div>"
      ]
     },
     "execution_count": 3,
     "metadata": {},
     "output_type": "execute_result"
    }
   ],
   "execution_count": 3
  },
  {
   "metadata": {},
   "cell_type": "markdown",
   "source": [
    "We do the same for the S&P 500 dataset. It contains 503 observations with 34 variables.\n",
    "Here we see as well that we have some NAs for certain variables."
   ],
   "id": "e2c1485e4a31d48d"
  },
  {
   "cell_type": "code",
   "id": "89a4bf4f",
   "metadata": {
    "ExecuteTime": {
     "end_time": "2025-10-19T18:23:56.677694Z",
     "start_time": "2025-10-19T18:23:56.639284Z"
    }
   },
   "source": [
    "# S&P 500 dataset overview\n",
    "print(sp500.shape)\n",
    "sp500.describe()"
   ],
   "outputs": [
    {
     "name": "stdout",
     "output_type": "stream",
     "text": [
      "(503, 34)\n"
     ]
    },
    {
     "data": {
      "text/plain": [
       "       Total_ESG_Score  Environmental_Score  Social_Score  Governance_Score  \\\n",
       "count       300.000000           299.000000    299.000000        299.000000   \n",
       "mean         20.164533             6.871003      8.532174          4.794582   \n",
       "std           6.717920             5.474978      3.392135          2.299318   \n",
       "min           7.120000             0.040000      0.890000          1.430000   \n",
       "25%          15.102500             2.255000      6.225000          3.380000   \n",
       "50%          19.630000             5.690000      8.610000          4.360000   \n",
       "75%          23.932500            10.775000     10.625000          5.490000   \n",
       "max          41.260000            24.790000     17.760000         20.210000   \n",
       "\n",
       "       Highest_Controversy  Stock_Price  Current_Price    Market_Cap  \\\n",
       "count           300.000000   303.000000     303.000000  3.030000e+02   \n",
       "mean              1.930000   189.875446     202.044719  1.521832e+11   \n",
       "std               0.752987   339.840025     343.964816  4.808831e+11   \n",
       "min               0.000000     9.170000       8.140000  6.908318e+09   \n",
       "25%               2.000000    57.130000      62.100000  2.035670e+10   \n",
       "50%               2.000000   109.290000     122.870000  3.940400e+10   \n",
       "75%               2.000000   224.685000     238.605000  1.075000e+11   \n",
       "max               5.000000  4845.740000    4952.310000  4.430000e+12   \n",
       "\n",
       "         PE_Ratio     PB_Ratio  ...     ROE_Pct     ROA_Pct  \\\n",
       "count  288.000000   303.000000  ...  283.000000  299.000000   \n",
       "mean    38.558889    -3.138020  ...   27.100919    6.966120   \n",
       "std     74.027724   127.439643  ...   51.741107    5.957017   \n",
       "min      4.850000 -2181.440000  ... -183.280000   -3.730000   \n",
       "25%     17.295000     1.600000  ...    9.105000    3.205000   \n",
       "50%     24.215000     3.060000  ...   15.200000    5.400000   \n",
       "75%     34.490000     6.865000  ...   29.045000    8.660000   \n",
       "max    755.640000   175.810000  ...  514.460000   53.090000   \n",
       "\n",
       "       Profit_Margin_Pct  EBITDA_Margin_Pct         EPS        Beta  \\\n",
       "count         303.000000         282.000000  303.000000  300.000000   \n",
       "mean           14.526073          28.319433    7.003432    0.981867   \n",
       "std            13.684727          16.779211   10.369405    0.428993   \n",
       "min           -71.710000          -9.300000  -16.550000    0.023000   \n",
       "25%             7.495000          16.960000    2.245000    0.669500   \n",
       "50%            13.630000          24.995000    4.860000    0.998500   \n",
       "75%            20.550000          37.205000    9.270000    1.230250   \n",
       "max            72.960000          92.610000  143.620000    2.686000   \n",
       "\n",
       "       Debt_to_Equity  Current_Ratio  Operating_Cash_Flow  Revenue_Growth_Pct  \n",
       "count      264.000000     283.000000         2.890000e+02          302.000000  \n",
       "mean       137.596364       1.751272         6.891888e+09            5.838278  \n",
       "std        202.053465       3.759739         1.667697e+10           14.167928  \n",
       "min          0.050000       0.040000        -1.076700e+10          -45.710000  \n",
       "25%         46.792500       0.875000         1.256918e+09           -0.155000  \n",
       "50%         74.615000       1.220000         2.617000e+09            4.255000  \n",
       "75%        155.700000       1.775000         5.611000e+09            9.955000  \n",
       "max       2149.330000      60.310000         1.360000e+11          114.200000  \n",
       "\n",
       "[8 rows x 25 columns]"
      ],
      "text/html": [
       "<div>\n",
       "<style scoped>\n",
       "    .dataframe tbody tr th:only-of-type {\n",
       "        vertical-align: middle;\n",
       "    }\n",
       "\n",
       "    .dataframe tbody tr th {\n",
       "        vertical-align: top;\n",
       "    }\n",
       "\n",
       "    .dataframe thead th {\n",
       "        text-align: right;\n",
       "    }\n",
       "</style>\n",
       "<table border=\"1\" class=\"dataframe\">\n",
       "  <thead>\n",
       "    <tr style=\"text-align: right;\">\n",
       "      <th></th>\n",
       "      <th>Total_ESG_Score</th>\n",
       "      <th>Environmental_Score</th>\n",
       "      <th>Social_Score</th>\n",
       "      <th>Governance_Score</th>\n",
       "      <th>Highest_Controversy</th>\n",
       "      <th>Stock_Price</th>\n",
       "      <th>Current_Price</th>\n",
       "      <th>Market_Cap</th>\n",
       "      <th>PE_Ratio</th>\n",
       "      <th>PB_Ratio</th>\n",
       "      <th>...</th>\n",
       "      <th>ROE_Pct</th>\n",
       "      <th>ROA_Pct</th>\n",
       "      <th>Profit_Margin_Pct</th>\n",
       "      <th>EBITDA_Margin_Pct</th>\n",
       "      <th>EPS</th>\n",
       "      <th>Beta</th>\n",
       "      <th>Debt_to_Equity</th>\n",
       "      <th>Current_Ratio</th>\n",
       "      <th>Operating_Cash_Flow</th>\n",
       "      <th>Revenue_Growth_Pct</th>\n",
       "    </tr>\n",
       "  </thead>\n",
       "  <tbody>\n",
       "    <tr>\n",
       "      <th>count</th>\n",
       "      <td>300.000000</td>\n",
       "      <td>299.000000</td>\n",
       "      <td>299.000000</td>\n",
       "      <td>299.000000</td>\n",
       "      <td>300.000000</td>\n",
       "      <td>303.000000</td>\n",
       "      <td>303.000000</td>\n",
       "      <td>3.030000e+02</td>\n",
       "      <td>288.000000</td>\n",
       "      <td>303.000000</td>\n",
       "      <td>...</td>\n",
       "      <td>283.000000</td>\n",
       "      <td>299.000000</td>\n",
       "      <td>303.000000</td>\n",
       "      <td>282.000000</td>\n",
       "      <td>303.000000</td>\n",
       "      <td>300.000000</td>\n",
       "      <td>264.000000</td>\n",
       "      <td>283.000000</td>\n",
       "      <td>2.890000e+02</td>\n",
       "      <td>302.000000</td>\n",
       "    </tr>\n",
       "    <tr>\n",
       "      <th>mean</th>\n",
       "      <td>20.164533</td>\n",
       "      <td>6.871003</td>\n",
       "      <td>8.532174</td>\n",
       "      <td>4.794582</td>\n",
       "      <td>1.930000</td>\n",
       "      <td>189.875446</td>\n",
       "      <td>202.044719</td>\n",
       "      <td>1.521832e+11</td>\n",
       "      <td>38.558889</td>\n",
       "      <td>-3.138020</td>\n",
       "      <td>...</td>\n",
       "      <td>27.100919</td>\n",
       "      <td>6.966120</td>\n",
       "      <td>14.526073</td>\n",
       "      <td>28.319433</td>\n",
       "      <td>7.003432</td>\n",
       "      <td>0.981867</td>\n",
       "      <td>137.596364</td>\n",
       "      <td>1.751272</td>\n",
       "      <td>6.891888e+09</td>\n",
       "      <td>5.838278</td>\n",
       "    </tr>\n",
       "    <tr>\n",
       "      <th>std</th>\n",
       "      <td>6.717920</td>\n",
       "      <td>5.474978</td>\n",
       "      <td>3.392135</td>\n",
       "      <td>2.299318</td>\n",
       "      <td>0.752987</td>\n",
       "      <td>339.840025</td>\n",
       "      <td>343.964816</td>\n",
       "      <td>4.808831e+11</td>\n",
       "      <td>74.027724</td>\n",
       "      <td>127.439643</td>\n",
       "      <td>...</td>\n",
       "      <td>51.741107</td>\n",
       "      <td>5.957017</td>\n",
       "      <td>13.684727</td>\n",
       "      <td>16.779211</td>\n",
       "      <td>10.369405</td>\n",
       "      <td>0.428993</td>\n",
       "      <td>202.053465</td>\n",
       "      <td>3.759739</td>\n",
       "      <td>1.667697e+10</td>\n",
       "      <td>14.167928</td>\n",
       "    </tr>\n",
       "    <tr>\n",
       "      <th>min</th>\n",
       "      <td>7.120000</td>\n",
       "      <td>0.040000</td>\n",
       "      <td>0.890000</td>\n",
       "      <td>1.430000</td>\n",
       "      <td>0.000000</td>\n",
       "      <td>9.170000</td>\n",
       "      <td>8.140000</td>\n",
       "      <td>6.908318e+09</td>\n",
       "      <td>4.850000</td>\n",
       "      <td>-2181.440000</td>\n",
       "      <td>...</td>\n",
       "      <td>-183.280000</td>\n",
       "      <td>-3.730000</td>\n",
       "      <td>-71.710000</td>\n",
       "      <td>-9.300000</td>\n",
       "      <td>-16.550000</td>\n",
       "      <td>0.023000</td>\n",
       "      <td>0.050000</td>\n",
       "      <td>0.040000</td>\n",
       "      <td>-1.076700e+10</td>\n",
       "      <td>-45.710000</td>\n",
       "    </tr>\n",
       "    <tr>\n",
       "      <th>25%</th>\n",
       "      <td>15.102500</td>\n",
       "      <td>2.255000</td>\n",
       "      <td>6.225000</td>\n",
       "      <td>3.380000</td>\n",
       "      <td>2.000000</td>\n",
       "      <td>57.130000</td>\n",
       "      <td>62.100000</td>\n",
       "      <td>2.035670e+10</td>\n",
       "      <td>17.295000</td>\n",
       "      <td>1.600000</td>\n",
       "      <td>...</td>\n",
       "      <td>9.105000</td>\n",
       "      <td>3.205000</td>\n",
       "      <td>7.495000</td>\n",
       "      <td>16.960000</td>\n",
       "      <td>2.245000</td>\n",
       "      <td>0.669500</td>\n",
       "      <td>46.792500</td>\n",
       "      <td>0.875000</td>\n",
       "      <td>1.256918e+09</td>\n",
       "      <td>-0.155000</td>\n",
       "    </tr>\n",
       "    <tr>\n",
       "      <th>50%</th>\n",
       "      <td>19.630000</td>\n",
       "      <td>5.690000</td>\n",
       "      <td>8.610000</td>\n",
       "      <td>4.360000</td>\n",
       "      <td>2.000000</td>\n",
       "      <td>109.290000</td>\n",
       "      <td>122.870000</td>\n",
       "      <td>3.940400e+10</td>\n",
       "      <td>24.215000</td>\n",
       "      <td>3.060000</td>\n",
       "      <td>...</td>\n",
       "      <td>15.200000</td>\n",
       "      <td>5.400000</td>\n",
       "      <td>13.630000</td>\n",
       "      <td>24.995000</td>\n",
       "      <td>4.860000</td>\n",
       "      <td>0.998500</td>\n",
       "      <td>74.615000</td>\n",
       "      <td>1.220000</td>\n",
       "      <td>2.617000e+09</td>\n",
       "      <td>4.255000</td>\n",
       "    </tr>\n",
       "    <tr>\n",
       "      <th>75%</th>\n",
       "      <td>23.932500</td>\n",
       "      <td>10.775000</td>\n",
       "      <td>10.625000</td>\n",
       "      <td>5.490000</td>\n",
       "      <td>2.000000</td>\n",
       "      <td>224.685000</td>\n",
       "      <td>238.605000</td>\n",
       "      <td>1.075000e+11</td>\n",
       "      <td>34.490000</td>\n",
       "      <td>6.865000</td>\n",
       "      <td>...</td>\n",
       "      <td>29.045000</td>\n",
       "      <td>8.660000</td>\n",
       "      <td>20.550000</td>\n",
       "      <td>37.205000</td>\n",
       "      <td>9.270000</td>\n",
       "      <td>1.230250</td>\n",
       "      <td>155.700000</td>\n",
       "      <td>1.775000</td>\n",
       "      <td>5.611000e+09</td>\n",
       "      <td>9.955000</td>\n",
       "    </tr>\n",
       "    <tr>\n",
       "      <th>max</th>\n",
       "      <td>41.260000</td>\n",
       "      <td>24.790000</td>\n",
       "      <td>17.760000</td>\n",
       "      <td>20.210000</td>\n",
       "      <td>5.000000</td>\n",
       "      <td>4845.740000</td>\n",
       "      <td>4952.310000</td>\n",
       "      <td>4.430000e+12</td>\n",
       "      <td>755.640000</td>\n",
       "      <td>175.810000</td>\n",
       "      <td>...</td>\n",
       "      <td>514.460000</td>\n",
       "      <td>53.090000</td>\n",
       "      <td>72.960000</td>\n",
       "      <td>92.610000</td>\n",
       "      <td>143.620000</td>\n",
       "      <td>2.686000</td>\n",
       "      <td>2149.330000</td>\n",
       "      <td>60.310000</td>\n",
       "      <td>1.360000e+11</td>\n",
       "      <td>114.200000</td>\n",
       "    </tr>\n",
       "  </tbody>\n",
       "</table>\n",
       "<p>8 rows × 25 columns</p>\n",
       "</div>"
      ]
     },
     "execution_count": 4,
     "metadata": {},
     "output_type": "execute_result"
    }
   ],
   "execution_count": 4
  },
  {
   "cell_type": "markdown",
   "id": "8fb8830e",
   "metadata": {},
   "source": "## 1.3 Data cleansing"
  },
  {
   "metadata": {},
   "cell_type": "markdown",
   "source": [
    "*Remark MT: cant we remove this first step because we handle it in more detail later?* </br>\n",
    "We now look into more detail of missing data: We look at the count and the percentage of the amount of data missing. </br>\n",
    "Especially for the ESG, we see some missing data which we need to look into closer."
   ],
   "id": "28aada88be28e3cb"
  },
  {
   "cell_type": "code",
   "id": "a6f35f9c",
   "metadata": {
    "ExecuteTime": {
     "end_time": "2025-10-19T18:23:56.949468Z",
     "start_time": "2025-10-19T18:23:56.945783Z"
    }
   },
   "source": [
    "def missing_summary(df, name):\n",
    "    missing_count = df.isnull().sum()\n",
    "    missing_pct = (missing_count / len(df) * 100).round(2)\n",
    "    return pd.DataFrame({\n",
    "        \"Dataset\": name,\n",
    "        \"Missing Count\": missing_count,\n",
    "        \"Missing %\": missing_pct\n",
    "    })"
   ],
   "outputs": [],
   "execution_count": 5
  },
  {
   "cell_type": "code",
   "id": "cbc948d9",
   "metadata": {
    "ExecuteTime": {
     "end_time": "2025-10-19T18:23:57.038501Z",
     "start_time": "2025-10-19T18:23:57.028097Z"
    }
   },
   "source": [
    "missing_summary(spi, \"SPI\")"
   ],
   "outputs": [
    {
     "data": {
      "text/plain": [
       "                     Dataset  Missing Count  Missing %\n",
       "Ticker                   SPI              0       0.00\n",
       "Company_Name             SPI              3       1.49\n",
       "Currency                 SPI              2       1.00\n",
       "Data_Date                SPI              1       0.50\n",
       "Industry                 SPI              7       3.48\n",
       "Sector                   SPI              7       3.48\n",
       "Country                  SPI              7       3.48\n",
       "Total_ESG_Score          SPI             59      29.35\n",
       "Environmental_Score      SPI            130      64.68\n",
       "Social_Score             SPI            130      64.68\n",
       "Governance_Score         SPI            130      64.68\n",
       "ESG_Performance          SPI             59      29.35\n",
       "Highest_Controversy      SPI             60      29.85\n",
       "Stock_Price              SPI              5       2.49\n",
       "Current_Price            SPI              2       1.00\n",
       "Market_Cap               SPI              2       1.00\n",
       "PE_Ratio                 SPI             51      25.37\n",
       "PB_Ratio                 SPI              3       1.49\n",
       "Annual_Return_Pct        SPI              5       2.49\n",
       "Revenue                  SPI              9       4.48\n",
       "Net_Income               SPI              8       3.98\n",
       "Operating_Margin_Pct     SPI              7       3.48\n",
       "Gross_Margin_Pct         SPI              7       3.48\n",
       "ROE_Pct                  SPI             15       7.46\n",
       "ROA_Pct                  SPI             11       5.47\n",
       "Profit_Margin_Pct        SPI              7       3.48\n",
       "EBITDA_Margin_Pct        SPI             39      19.40\n",
       "EPS                      SPI              7       3.48\n",
       "Beta                     SPI             12       5.97\n",
       "Debt_to_Equity           SPI             43      21.39\n",
       "Current_Ratio            SPI             31      15.42\n",
       "Operating_Cash_Flow      SPI             24      11.94\n",
       "Revenue_Growth_Pct       SPI              5       2.49\n",
       "Status                   SPI              1       0.50"
      ],
      "text/html": [
       "<div>\n",
       "<style scoped>\n",
       "    .dataframe tbody tr th:only-of-type {\n",
       "        vertical-align: middle;\n",
       "    }\n",
       "\n",
       "    .dataframe tbody tr th {\n",
       "        vertical-align: top;\n",
       "    }\n",
       "\n",
       "    .dataframe thead th {\n",
       "        text-align: right;\n",
       "    }\n",
       "</style>\n",
       "<table border=\"1\" class=\"dataframe\">\n",
       "  <thead>\n",
       "    <tr style=\"text-align: right;\">\n",
       "      <th></th>\n",
       "      <th>Dataset</th>\n",
       "      <th>Missing Count</th>\n",
       "      <th>Missing %</th>\n",
       "    </tr>\n",
       "  </thead>\n",
       "  <tbody>\n",
       "    <tr>\n",
       "      <th>Ticker</th>\n",
       "      <td>SPI</td>\n",
       "      <td>0</td>\n",
       "      <td>0.00</td>\n",
       "    </tr>\n",
       "    <tr>\n",
       "      <th>Company_Name</th>\n",
       "      <td>SPI</td>\n",
       "      <td>3</td>\n",
       "      <td>1.49</td>\n",
       "    </tr>\n",
       "    <tr>\n",
       "      <th>Currency</th>\n",
       "      <td>SPI</td>\n",
       "      <td>2</td>\n",
       "      <td>1.00</td>\n",
       "    </tr>\n",
       "    <tr>\n",
       "      <th>Data_Date</th>\n",
       "      <td>SPI</td>\n",
       "      <td>1</td>\n",
       "      <td>0.50</td>\n",
       "    </tr>\n",
       "    <tr>\n",
       "      <th>Industry</th>\n",
       "      <td>SPI</td>\n",
       "      <td>7</td>\n",
       "      <td>3.48</td>\n",
       "    </tr>\n",
       "    <tr>\n",
       "      <th>Sector</th>\n",
       "      <td>SPI</td>\n",
       "      <td>7</td>\n",
       "      <td>3.48</td>\n",
       "    </tr>\n",
       "    <tr>\n",
       "      <th>Country</th>\n",
       "      <td>SPI</td>\n",
       "      <td>7</td>\n",
       "      <td>3.48</td>\n",
       "    </tr>\n",
       "    <tr>\n",
       "      <th>Total_ESG_Score</th>\n",
       "      <td>SPI</td>\n",
       "      <td>59</td>\n",
       "      <td>29.35</td>\n",
       "    </tr>\n",
       "    <tr>\n",
       "      <th>Environmental_Score</th>\n",
       "      <td>SPI</td>\n",
       "      <td>130</td>\n",
       "      <td>64.68</td>\n",
       "    </tr>\n",
       "    <tr>\n",
       "      <th>Social_Score</th>\n",
       "      <td>SPI</td>\n",
       "      <td>130</td>\n",
       "      <td>64.68</td>\n",
       "    </tr>\n",
       "    <tr>\n",
       "      <th>Governance_Score</th>\n",
       "      <td>SPI</td>\n",
       "      <td>130</td>\n",
       "      <td>64.68</td>\n",
       "    </tr>\n",
       "    <tr>\n",
       "      <th>ESG_Performance</th>\n",
       "      <td>SPI</td>\n",
       "      <td>59</td>\n",
       "      <td>29.35</td>\n",
       "    </tr>\n",
       "    <tr>\n",
       "      <th>Highest_Controversy</th>\n",
       "      <td>SPI</td>\n",
       "      <td>60</td>\n",
       "      <td>29.85</td>\n",
       "    </tr>\n",
       "    <tr>\n",
       "      <th>Stock_Price</th>\n",
       "      <td>SPI</td>\n",
       "      <td>5</td>\n",
       "      <td>2.49</td>\n",
       "    </tr>\n",
       "    <tr>\n",
       "      <th>Current_Price</th>\n",
       "      <td>SPI</td>\n",
       "      <td>2</td>\n",
       "      <td>1.00</td>\n",
       "    </tr>\n",
       "    <tr>\n",
       "      <th>Market_Cap</th>\n",
       "      <td>SPI</td>\n",
       "      <td>2</td>\n",
       "      <td>1.00</td>\n",
       "    </tr>\n",
       "    <tr>\n",
       "      <th>PE_Ratio</th>\n",
       "      <td>SPI</td>\n",
       "      <td>51</td>\n",
       "      <td>25.37</td>\n",
       "    </tr>\n",
       "    <tr>\n",
       "      <th>PB_Ratio</th>\n",
       "      <td>SPI</td>\n",
       "      <td>3</td>\n",
       "      <td>1.49</td>\n",
       "    </tr>\n",
       "    <tr>\n",
       "      <th>Annual_Return_Pct</th>\n",
       "      <td>SPI</td>\n",
       "      <td>5</td>\n",
       "      <td>2.49</td>\n",
       "    </tr>\n",
       "    <tr>\n",
       "      <th>Revenue</th>\n",
       "      <td>SPI</td>\n",
       "      <td>9</td>\n",
       "      <td>4.48</td>\n",
       "    </tr>\n",
       "    <tr>\n",
       "      <th>Net_Income</th>\n",
       "      <td>SPI</td>\n",
       "      <td>8</td>\n",
       "      <td>3.98</td>\n",
       "    </tr>\n",
       "    <tr>\n",
       "      <th>Operating_Margin_Pct</th>\n",
       "      <td>SPI</td>\n",
       "      <td>7</td>\n",
       "      <td>3.48</td>\n",
       "    </tr>\n",
       "    <tr>\n",
       "      <th>Gross_Margin_Pct</th>\n",
       "      <td>SPI</td>\n",
       "      <td>7</td>\n",
       "      <td>3.48</td>\n",
       "    </tr>\n",
       "    <tr>\n",
       "      <th>ROE_Pct</th>\n",
       "      <td>SPI</td>\n",
       "      <td>15</td>\n",
       "      <td>7.46</td>\n",
       "    </tr>\n",
       "    <tr>\n",
       "      <th>ROA_Pct</th>\n",
       "      <td>SPI</td>\n",
       "      <td>11</td>\n",
       "      <td>5.47</td>\n",
       "    </tr>\n",
       "    <tr>\n",
       "      <th>Profit_Margin_Pct</th>\n",
       "      <td>SPI</td>\n",
       "      <td>7</td>\n",
       "      <td>3.48</td>\n",
       "    </tr>\n",
       "    <tr>\n",
       "      <th>EBITDA_Margin_Pct</th>\n",
       "      <td>SPI</td>\n",
       "      <td>39</td>\n",
       "      <td>19.40</td>\n",
       "    </tr>\n",
       "    <tr>\n",
       "      <th>EPS</th>\n",
       "      <td>SPI</td>\n",
       "      <td>7</td>\n",
       "      <td>3.48</td>\n",
       "    </tr>\n",
       "    <tr>\n",
       "      <th>Beta</th>\n",
       "      <td>SPI</td>\n",
       "      <td>12</td>\n",
       "      <td>5.97</td>\n",
       "    </tr>\n",
       "    <tr>\n",
       "      <th>Debt_to_Equity</th>\n",
       "      <td>SPI</td>\n",
       "      <td>43</td>\n",
       "      <td>21.39</td>\n",
       "    </tr>\n",
       "    <tr>\n",
       "      <th>Current_Ratio</th>\n",
       "      <td>SPI</td>\n",
       "      <td>31</td>\n",
       "      <td>15.42</td>\n",
       "    </tr>\n",
       "    <tr>\n",
       "      <th>Operating_Cash_Flow</th>\n",
       "      <td>SPI</td>\n",
       "      <td>24</td>\n",
       "      <td>11.94</td>\n",
       "    </tr>\n",
       "    <tr>\n",
       "      <th>Revenue_Growth_Pct</th>\n",
       "      <td>SPI</td>\n",
       "      <td>5</td>\n",
       "      <td>2.49</td>\n",
       "    </tr>\n",
       "    <tr>\n",
       "      <th>Status</th>\n",
       "      <td>SPI</td>\n",
       "      <td>1</td>\n",
       "      <td>0.50</td>\n",
       "    </tr>\n",
       "  </tbody>\n",
       "</table>\n",
       "</div>"
      ]
     },
     "execution_count": 6,
     "metadata": {},
     "output_type": "execute_result"
    }
   ],
   "execution_count": 6
  },
  {
   "cell_type": "code",
   "id": "3c1fcf99",
   "metadata": {
    "ExecuteTime": {
     "end_time": "2025-10-19T18:23:57.219985Z",
     "start_time": "2025-10-19T18:23:57.210427Z"
    }
   },
   "source": [
    "missing_summary(sp500, \"SP500\")"
   ],
   "outputs": [
    {
     "data": {
      "text/plain": [
       "                     Dataset  Missing Count  Missing %\n",
       "Ticker                 SP500              0       0.00\n",
       "Company_Name           SP500            200      39.76\n",
       "Currency               SP500            200      39.76\n",
       "Data_Date              SP500            200      39.76\n",
       "Industry               SP500            200      39.76\n",
       "Sector                 SP500            200      39.76\n",
       "Country                SP500            200      39.76\n",
       "Total_ESG_Score        SP500            203      40.36\n",
       "Environmental_Score    SP500            204      40.56\n",
       "Social_Score           SP500            204      40.56\n",
       "Governance_Score       SP500            204      40.56\n",
       "ESG_Performance        SP500            203      40.36\n",
       "Highest_Controversy    SP500            203      40.36\n",
       "Stock_Price            SP500            200      39.76\n",
       "Current_Price          SP500            200      39.76\n",
       "Market_Cap             SP500            200      39.76\n",
       "PE_Ratio               SP500            215      42.74\n",
       "PB_Ratio               SP500            200      39.76\n",
       "Annual_Return_Pct      SP500            200      39.76\n",
       "Revenue                SP500            200      39.76\n",
       "Net_Income             SP500            200      39.76\n",
       "Operating_Margin_Pct   SP500            200      39.76\n",
       "Gross_Margin_Pct       SP500            200      39.76\n",
       "ROE_Pct                SP500            220      43.74\n",
       "ROA_Pct                SP500            204      40.56\n",
       "Profit_Margin_Pct      SP500            200      39.76\n",
       "EBITDA_Margin_Pct      SP500            221      43.94\n",
       "EPS                    SP500            200      39.76\n",
       "Beta                   SP500            203      40.36\n",
       "Debt_to_Equity         SP500            239      47.51\n",
       "Current_Ratio          SP500            220      43.74\n",
       "Operating_Cash_Flow    SP500            214      42.54\n",
       "Revenue_Growth_Pct     SP500            201      39.96\n",
       "Status                 SP500            200      39.76"
      ],
      "text/html": [
       "<div>\n",
       "<style scoped>\n",
       "    .dataframe tbody tr th:only-of-type {\n",
       "        vertical-align: middle;\n",
       "    }\n",
       "\n",
       "    .dataframe tbody tr th {\n",
       "        vertical-align: top;\n",
       "    }\n",
       "\n",
       "    .dataframe thead th {\n",
       "        text-align: right;\n",
       "    }\n",
       "</style>\n",
       "<table border=\"1\" class=\"dataframe\">\n",
       "  <thead>\n",
       "    <tr style=\"text-align: right;\">\n",
       "      <th></th>\n",
       "      <th>Dataset</th>\n",
       "      <th>Missing Count</th>\n",
       "      <th>Missing %</th>\n",
       "    </tr>\n",
       "  </thead>\n",
       "  <tbody>\n",
       "    <tr>\n",
       "      <th>Ticker</th>\n",
       "      <td>SP500</td>\n",
       "      <td>0</td>\n",
       "      <td>0.00</td>\n",
       "    </tr>\n",
       "    <tr>\n",
       "      <th>Company_Name</th>\n",
       "      <td>SP500</td>\n",
       "      <td>200</td>\n",
       "      <td>39.76</td>\n",
       "    </tr>\n",
       "    <tr>\n",
       "      <th>Currency</th>\n",
       "      <td>SP500</td>\n",
       "      <td>200</td>\n",
       "      <td>39.76</td>\n",
       "    </tr>\n",
       "    <tr>\n",
       "      <th>Data_Date</th>\n",
       "      <td>SP500</td>\n",
       "      <td>200</td>\n",
       "      <td>39.76</td>\n",
       "    </tr>\n",
       "    <tr>\n",
       "      <th>Industry</th>\n",
       "      <td>SP500</td>\n",
       "      <td>200</td>\n",
       "      <td>39.76</td>\n",
       "    </tr>\n",
       "    <tr>\n",
       "      <th>Sector</th>\n",
       "      <td>SP500</td>\n",
       "      <td>200</td>\n",
       "      <td>39.76</td>\n",
       "    </tr>\n",
       "    <tr>\n",
       "      <th>Country</th>\n",
       "      <td>SP500</td>\n",
       "      <td>200</td>\n",
       "      <td>39.76</td>\n",
       "    </tr>\n",
       "    <tr>\n",
       "      <th>Total_ESG_Score</th>\n",
       "      <td>SP500</td>\n",
       "      <td>203</td>\n",
       "      <td>40.36</td>\n",
       "    </tr>\n",
       "    <tr>\n",
       "      <th>Environmental_Score</th>\n",
       "      <td>SP500</td>\n",
       "      <td>204</td>\n",
       "      <td>40.56</td>\n",
       "    </tr>\n",
       "    <tr>\n",
       "      <th>Social_Score</th>\n",
       "      <td>SP500</td>\n",
       "      <td>204</td>\n",
       "      <td>40.56</td>\n",
       "    </tr>\n",
       "    <tr>\n",
       "      <th>Governance_Score</th>\n",
       "      <td>SP500</td>\n",
       "      <td>204</td>\n",
       "      <td>40.56</td>\n",
       "    </tr>\n",
       "    <tr>\n",
       "      <th>ESG_Performance</th>\n",
       "      <td>SP500</td>\n",
       "      <td>203</td>\n",
       "      <td>40.36</td>\n",
       "    </tr>\n",
       "    <tr>\n",
       "      <th>Highest_Controversy</th>\n",
       "      <td>SP500</td>\n",
       "      <td>203</td>\n",
       "      <td>40.36</td>\n",
       "    </tr>\n",
       "    <tr>\n",
       "      <th>Stock_Price</th>\n",
       "      <td>SP500</td>\n",
       "      <td>200</td>\n",
       "      <td>39.76</td>\n",
       "    </tr>\n",
       "    <tr>\n",
       "      <th>Current_Price</th>\n",
       "      <td>SP500</td>\n",
       "      <td>200</td>\n",
       "      <td>39.76</td>\n",
       "    </tr>\n",
       "    <tr>\n",
       "      <th>Market_Cap</th>\n",
       "      <td>SP500</td>\n",
       "      <td>200</td>\n",
       "      <td>39.76</td>\n",
       "    </tr>\n",
       "    <tr>\n",
       "      <th>PE_Ratio</th>\n",
       "      <td>SP500</td>\n",
       "      <td>215</td>\n",
       "      <td>42.74</td>\n",
       "    </tr>\n",
       "    <tr>\n",
       "      <th>PB_Ratio</th>\n",
       "      <td>SP500</td>\n",
       "      <td>200</td>\n",
       "      <td>39.76</td>\n",
       "    </tr>\n",
       "    <tr>\n",
       "      <th>Annual_Return_Pct</th>\n",
       "      <td>SP500</td>\n",
       "      <td>200</td>\n",
       "      <td>39.76</td>\n",
       "    </tr>\n",
       "    <tr>\n",
       "      <th>Revenue</th>\n",
       "      <td>SP500</td>\n",
       "      <td>200</td>\n",
       "      <td>39.76</td>\n",
       "    </tr>\n",
       "    <tr>\n",
       "      <th>Net_Income</th>\n",
       "      <td>SP500</td>\n",
       "      <td>200</td>\n",
       "      <td>39.76</td>\n",
       "    </tr>\n",
       "    <tr>\n",
       "      <th>Operating_Margin_Pct</th>\n",
       "      <td>SP500</td>\n",
       "      <td>200</td>\n",
       "      <td>39.76</td>\n",
       "    </tr>\n",
       "    <tr>\n",
       "      <th>Gross_Margin_Pct</th>\n",
       "      <td>SP500</td>\n",
       "      <td>200</td>\n",
       "      <td>39.76</td>\n",
       "    </tr>\n",
       "    <tr>\n",
       "      <th>ROE_Pct</th>\n",
       "      <td>SP500</td>\n",
       "      <td>220</td>\n",
       "      <td>43.74</td>\n",
       "    </tr>\n",
       "    <tr>\n",
       "      <th>ROA_Pct</th>\n",
       "      <td>SP500</td>\n",
       "      <td>204</td>\n",
       "      <td>40.56</td>\n",
       "    </tr>\n",
       "    <tr>\n",
       "      <th>Profit_Margin_Pct</th>\n",
       "      <td>SP500</td>\n",
       "      <td>200</td>\n",
       "      <td>39.76</td>\n",
       "    </tr>\n",
       "    <tr>\n",
       "      <th>EBITDA_Margin_Pct</th>\n",
       "      <td>SP500</td>\n",
       "      <td>221</td>\n",
       "      <td>43.94</td>\n",
       "    </tr>\n",
       "    <tr>\n",
       "      <th>EPS</th>\n",
       "      <td>SP500</td>\n",
       "      <td>200</td>\n",
       "      <td>39.76</td>\n",
       "    </tr>\n",
       "    <tr>\n",
       "      <th>Beta</th>\n",
       "      <td>SP500</td>\n",
       "      <td>203</td>\n",
       "      <td>40.36</td>\n",
       "    </tr>\n",
       "    <tr>\n",
       "      <th>Debt_to_Equity</th>\n",
       "      <td>SP500</td>\n",
       "      <td>239</td>\n",
       "      <td>47.51</td>\n",
       "    </tr>\n",
       "    <tr>\n",
       "      <th>Current_Ratio</th>\n",
       "      <td>SP500</td>\n",
       "      <td>220</td>\n",
       "      <td>43.74</td>\n",
       "    </tr>\n",
       "    <tr>\n",
       "      <th>Operating_Cash_Flow</th>\n",
       "      <td>SP500</td>\n",
       "      <td>214</td>\n",
       "      <td>42.54</td>\n",
       "    </tr>\n",
       "    <tr>\n",
       "      <th>Revenue_Growth_Pct</th>\n",
       "      <td>SP500</td>\n",
       "      <td>201</td>\n",
       "      <td>39.96</td>\n",
       "    </tr>\n",
       "    <tr>\n",
       "      <th>Status</th>\n",
       "      <td>SP500</td>\n",
       "      <td>200</td>\n",
       "      <td>39.76</td>\n",
       "    </tr>\n",
       "  </tbody>\n",
       "</table>\n",
       "</div>"
      ]
     },
     "execution_count": 7,
     "metadata": {},
     "output_type": "execute_result"
    }
   ],
   "execution_count": 7
  },
  {
   "cell_type": "markdown",
   "id": "c9e7495f",
   "metadata": {},
   "source": "### 1.3.1 Missing ESG data"
  },
  {
   "cell_type": "code",
   "id": "83d3964b",
   "metadata": {
    "ExecuteTime": {
     "end_time": "2025-10-19T18:23:57.621676Z",
     "start_time": "2025-10-19T18:23:57.609832Z"
    }
   },
   "source": [
    "def check_esg_missing(df, name):\n",
    "    \"\"\"Check proportion of missing ESG scores\"\"\"\n",
    "    esg_columns = ['Total_ESG_Score', 'Environmental_Score', 'Social_Score', 'Governance_Score', 'ESG_Performance', 'Highest_Controversy']\n",
    "    esg_scores_columns = ['Total_ESG_Score', 'Environmental_Score', 'Social_Score', 'Governance_Score']\n",
    "    \n",
    "    print(f\"\\n{name} - ESG Data Availability:\")\n",
    "    for col in esg_columns:\n",
    "        if col in df.columns:\n",
    "            missing_count = df[col].isnull().sum()\n",
    "            missing_pct = (missing_count / len(df) * 100)\n",
    "            print(f\"  {col}: {missing_count}/{len(df)} missing ({missing_pct:.2f}%)\")\n",
    "    \n",
    "    # Overall ESG availability\n",
    "    has_total_esg = df[['Total_ESG_Score']].notnull().all(axis=1)\n",
    "    has_all_esg_scores = df[esg_scores_columns].notnull().all(axis=1)\n",
    "    has_all_esg_data = df[esg_columns].notnull().all(axis=1)\n",
    "    companies_with_total_esg = has_total_esg.sum()\n",
    "    companies_without_total_esg = len(df) - companies_with_total_esg\n",
    "    companies_with_all_esg_scores = has_all_esg_scores.sum()\n",
    "    companies_with_all_esg_data = has_all_esg_data.sum()\n",
    "    \n",
    "    print(f\"\\n  Companies WITHOUT Total ESG scores: {companies_without_total_esg} ({companies_without_total_esg/len(df)*100:.2f}%)\")\n",
    "    print(f\"  Companies WITH Total ESG score: {companies_with_total_esg} ({companies_with_total_esg/len(df)*100:.2f}%)\")\n",
    "    print(f\"  Companies WITH all ESG scores: {companies_with_all_esg_scores} ({companies_with_all_esg_scores/len(df)*100:.2f}%)\")\n",
    "    print(f\"  Companies WITH all ESG data: {companies_with_all_esg_data} ({companies_with_all_esg_data/len(df)*100:.2f}%)\")\n",
    "\n",
    "spi_no_esg = check_esg_missing(spi, \"SPI\")\n",
    "sp500_no_esg = check_esg_missing(sp500, \"S&P 500\")"
   ],
   "outputs": [
    {
     "name": "stdout",
     "output_type": "stream",
     "text": [
      "\n",
      "SPI - ESG Data Availability:\n",
      "  Total_ESG_Score: 59/201 missing (29.35%)\n",
      "  Environmental_Score: 130/201 missing (64.68%)\n",
      "  Social_Score: 130/201 missing (64.68%)\n",
      "  Governance_Score: 130/201 missing (64.68%)\n",
      "  ESG_Performance: 59/201 missing (29.35%)\n",
      "  Highest_Controversy: 60/201 missing (29.85%)\n",
      "\n",
      "  Companies WITHOUT Total ESG scores: 59 (29.35%)\n",
      "  Companies WITH Total ESG score: 142 (70.65%)\n",
      "  Companies WITH all ESG scores: 71 (35.32%)\n",
      "  Companies WITH all ESG data: 71 (35.32%)\n",
      "\n",
      "S&P 500 - ESG Data Availability:\n",
      "  Total_ESG_Score: 203/503 missing (40.36%)\n",
      "  Environmental_Score: 204/503 missing (40.56%)\n",
      "  Social_Score: 204/503 missing (40.56%)\n",
      "  Governance_Score: 204/503 missing (40.56%)\n",
      "  ESG_Performance: 203/503 missing (40.36%)\n",
      "  Highest_Controversy: 203/503 missing (40.36%)\n",
      "\n",
      "  Companies WITHOUT Total ESG scores: 203 (40.36%)\n",
      "  Companies WITH Total ESG score: 300 (59.64%)\n",
      "  Companies WITH all ESG scores: 299 (59.44%)\n",
      "  Companies WITH all ESG data: 299 (59.44%)\n"
     ]
    }
   ],
   "execution_count": 8
  },
  {
   "cell_type": "markdown",
   "id": "59b7306d",
   "metadata": {},
   "source": [
    "Summary: \n",
    "\n",
    "Missing ESG data in the S&P 500 dataset is negligible, but in SPI dataset, only 71/201 companies have full ESG data, and 142 have Total ESG Score as well as ESG_Performance indicator. Removing the 130 companies without detailed scores would be too much, instead, we could remove 59/201 SPI companies without the Total ESG Score, and consider dividing the remaining companies into two subgroups for further analysis: \n",
    "- 142 companies with Total ESG Score \n",
    "- and 71 with full ESG data"
   ]
  },
  {
   "cell_type": "code",
   "id": "0f542262",
   "metadata": {
    "ExecuteTime": {
     "end_time": "2025-10-19T18:23:57.690415Z",
     "start_time": "2025-10-19T18:23:57.685649Z"
    }
   },
   "source": [
    "spi_esg = spi.dropna(subset=['Total_ESG_Score'])\n",
    "print(spi_esg.shape)\n",
    "print(spi_esg['Total_ESG_Score'].isnull().sum())"
   ],
   "outputs": [
    {
     "name": "stdout",
     "output_type": "stream",
     "text": [
      "(142, 34)\n",
      "0\n"
     ]
    }
   ],
   "execution_count": 9
  },
  {
   "cell_type": "code",
   "id": "a2d775d7",
   "metadata": {
    "ExecuteTime": {
     "end_time": "2025-10-19T18:23:57.756660Z",
     "start_time": "2025-10-19T18:23:57.752244Z"
    }
   },
   "source": [
    "sp500_esg = sp500.dropna(subset=['Total_ESG_Score'])\n",
    "print(sp500_esg.shape)\n",
    "print(sp500_esg['Total_ESG_Score'].isnull().sum())"
   ],
   "outputs": [
    {
     "name": "stdout",
     "output_type": "stream",
     "text": [
      "(300, 34)\n",
      "0\n"
     ]
    }
   ],
   "execution_count": 10
  },
  {
   "cell_type": "markdown",
   "id": "505f5de2",
   "metadata": {},
   "source": "### 1.3.2 Country Issues"
  },
  {
   "metadata": {},
   "cell_type": "markdown",
   "source": "Next, we look at the headquarters of the companies because...",
   "id": "e1a1bab8ee6018f4"
  },
  {
   "cell_type": "code",
   "id": "e9086257",
   "metadata": {
    "ExecuteTime": {
     "end_time": "2025-10-19T18:23:57.816763Z",
     "start_time": "2025-10-19T18:23:57.811193Z"
    }
   },
   "source": [
    "non_swiss = spi_esg[spi_esg[\"Country\"] != \"Switzerland\"]\n",
    "print(non_swiss[['Ticker', 'Company_Name', 'Country', 'Total_ESG_Score']].to_string())"
   ],
   "outputs": [
    {
     "name": "stdout",
     "output_type": "stream",
     "text": [
      "      Ticker                                      Company_Name        Country  Total_ESG_Score\n",
      "21    AMS.SW                                      ams-OSRAM AG        Austria            17.61\n",
      "44   COPN.SW                        Cosmo Pharmaceuticals N.V.        Ireland            29.37\n",
      "124  LLBN.SW  Liechtensteinische Landesbank Aktiengesellschaft  Liechtenstein            28.14\n",
      "156  VPBN.SW                                        VP Bank AG  Liechtenstein            28.06\n",
      "170  PKTM.SW                                PIERER Mobility AG        Austria             8.88\n"
     ]
    }
   ],
   "execution_count": 11
  },
  {
   "cell_type": "markdown",
   "id": "b2b2ddd0",
   "metadata": {},
   "source": [
    "TODO: Consider if we should remove these non-swiss companies from SPI dataset"
   ]
  },
  {
   "metadata": {},
   "cell_type": "markdown",
   "source": "Next, we check if companies in the SPI are also in the S&P 500. ???",
   "id": "ddc0ae42482cbc9d"
  },
  {
   "cell_type": "code",
   "id": "673c7fa1",
   "metadata": {
    "ExecuteTime": {
     "end_time": "2025-10-19T18:23:57.880787Z",
     "start_time": "2025-10-19T18:23:57.875735Z"
    }
   },
   "source": [
    "sp500_swiss = sp500_esg[sp500_esg[\"Country\"] == \"Switzerland\"]\n",
    "print(sp500_swiss[['Ticker', 'Company_Name', 'Country', 'Total_ESG_Score']].to_string())"
   ],
   "outputs": [
    {
     "name": "stdout",
     "output_type": "stream",
     "text": [
      "    Ticker   Company_Name      Country  Total_ESG_Score\n",
      "23    AMCR      Amcor plc  Switzerland            14.31\n",
      "41    APTV      Aptiv PLC  Switzerland            12.89\n",
      "101     CB  Chubb Limited  Switzerland            20.12\n",
      "206   GRMN    Garmin Ltd.  Switzerland            21.23\n"
     ]
    }
   ],
   "execution_count": 12
  },
  {
   "cell_type": "code",
   "id": "ba3cfed2",
   "metadata": {
    "ExecuteTime": {
     "end_time": "2025-10-19T18:23:57.981420Z",
     "start_time": "2025-10-19T18:23:57.976515Z"
    }
   },
   "source": [
    "check_duplicates = sp500_esg['Company_Name'].tolist()\n",
    "matching_spi = spi_esg[spi_esg['Company_Name'].isin(check_duplicates)]\n",
    "\n",
    "print(matching_spi[['Ticker', 'Company_Name', 'Country', 'Total_ESG_Score']].to_string())"
   ],
   "outputs": [
    {
     "name": "stdout",
     "output_type": "stream",
     "text": [
      "Empty DataFrame\n",
      "Columns: [Ticker, Company_Name, Country, Total_ESG_Score]\n",
      "Index: []\n"
     ]
    }
   ],
   "execution_count": 13
  },
  {
   "cell_type": "markdown",
   "id": "27d26d26",
   "metadata": {},
   "source": "So: No overlapping companies"
  },
  {
   "metadata": {},
   "cell_type": "markdown",
   "source": "We want to see the distribution of countries in the S&P dataset. Because approx 96% of the companies are based in the US, we decide to focus on Swiss vs. US companies.",
   "id": "1eb31dd84fad0325"
  },
  {
   "metadata": {
    "ExecuteTime": {
     "end_time": "2025-10-19T18:23:58.006480Z",
     "start_time": "2025-10-19T18:23:57.999189Z"
    }
   },
   "cell_type": "code",
   "source": [
    "country_counts = sp500_esg['Country'].value_counts(dropna=False)\n",
    "country_pct = (country_counts / len(sp500_esg) * 100).round(2)\n",
    "\n",
    "country_summary = pd.DataFrame({\n",
    "    'Count': country_counts,\n",
    "    'Percentage (%)': country_pct\n",
    "})\n",
    "\n",
    "print(\"S&P 500 — Country distribution:\")\n",
    "display(country_summary)"
   ],
   "id": "c356aeb111dd96df",
   "outputs": [
    {
     "name": "stdout",
     "output_type": "stream",
     "text": [
      "S&P 500 — Country distribution:\n"
     ]
    },
    {
     "data": {
      "text/plain": [
       "                Count  Percentage (%)\n",
       "Country                              \n",
       "United States     280           93.33\n",
       "Ireland             9            3.00\n",
       "Switzerland         4            1.33\n",
       "United Kingdom      3            1.00\n",
       "Bermuda             1            0.33\n",
       "Canada              1            0.33\n",
       "Netherlands         1            0.33\n",
       "Singapore           1            0.33"
      ],
      "text/html": [
       "<div>\n",
       "<style scoped>\n",
       "    .dataframe tbody tr th:only-of-type {\n",
       "        vertical-align: middle;\n",
       "    }\n",
       "\n",
       "    .dataframe tbody tr th {\n",
       "        vertical-align: top;\n",
       "    }\n",
       "\n",
       "    .dataframe thead th {\n",
       "        text-align: right;\n",
       "    }\n",
       "</style>\n",
       "<table border=\"1\" class=\"dataframe\">\n",
       "  <thead>\n",
       "    <tr style=\"text-align: right;\">\n",
       "      <th></th>\n",
       "      <th>Count</th>\n",
       "      <th>Percentage (%)</th>\n",
       "    </tr>\n",
       "    <tr>\n",
       "      <th>Country</th>\n",
       "      <th></th>\n",
       "      <th></th>\n",
       "    </tr>\n",
       "  </thead>\n",
       "  <tbody>\n",
       "    <tr>\n",
       "      <th>United States</th>\n",
       "      <td>280</td>\n",
       "      <td>93.33</td>\n",
       "    </tr>\n",
       "    <tr>\n",
       "      <th>Ireland</th>\n",
       "      <td>9</td>\n",
       "      <td>3.00</td>\n",
       "    </tr>\n",
       "    <tr>\n",
       "      <th>Switzerland</th>\n",
       "      <td>4</td>\n",
       "      <td>1.33</td>\n",
       "    </tr>\n",
       "    <tr>\n",
       "      <th>United Kingdom</th>\n",
       "      <td>3</td>\n",
       "      <td>1.00</td>\n",
       "    </tr>\n",
       "    <tr>\n",
       "      <th>Bermuda</th>\n",
       "      <td>1</td>\n",
       "      <td>0.33</td>\n",
       "    </tr>\n",
       "    <tr>\n",
       "      <th>Canada</th>\n",
       "      <td>1</td>\n",
       "      <td>0.33</td>\n",
       "    </tr>\n",
       "    <tr>\n",
       "      <th>Netherlands</th>\n",
       "      <td>1</td>\n",
       "      <td>0.33</td>\n",
       "    </tr>\n",
       "    <tr>\n",
       "      <th>Singapore</th>\n",
       "      <td>1</td>\n",
       "      <td>0.33</td>\n",
       "    </tr>\n",
       "  </tbody>\n",
       "</table>\n",
       "</div>"
      ]
     },
     "metadata": {},
     "output_type": "display_data",
     "jetTransient": {
      "display_id": null
     }
    }
   ],
   "execution_count": 14
  },
  {
   "cell_type": "code",
   "id": "30263e8f",
   "metadata": {
    "ExecuteTime": {
     "end_time": "2025-10-19T18:23:58.061351Z",
     "start_time": "2025-10-19T18:23:58.055834Z"
    }
   },
   "source": [
    "sp500_nonUS = sp500_esg[sp500_esg[\"Country\"] != \"United States\"]\n",
    "print(sp500_nonUS[['Ticker', 'Company_Name', 'Country', 'Total_ESG_Score']].to_string())"
   ],
   "outputs": [
    {
     "name": "stdout",
     "output_type": "stream",
     "text": [
      "    Ticker                                 Company_Name         Country  Total_ESG_Score\n",
      "4      ACN                                Accenture plc         Ireland            12.88\n",
      "16    ALLE                                 Allegion plc         Ireland            20.10\n",
      "23    AMCR                                    Amcor plc     Switzerland            14.31\n",
      "35     AON                                      Aon plc         Ireland            13.64\n",
      "41    APTV                                    Aptiv PLC     Switzerland            12.89\n",
      "42    ACGL                      Arch Capital Group Ltd.         Bermuda            18.36\n",
      "101     CB                                Chubb Limited     Switzerland            20.12\n",
      "160    ETN                        Eaton Corporation plc         Ireland            19.80\n",
      "206   GRMN                                  Garmin Ltd.     Switzerland            21.23\n",
      "266    JCI           Johnson Controls International plc         Ireland            14.97\n",
      "289    LIN                                    Linde plc  United Kingdom            11.63\n",
      "295   LULU                     lululemon athletica inc.          Canada            13.52\n",
      "308    MDT                                Medtronic plc         Ireland            16.27\n",
      "348   NXPI                      NXP Semiconductors N.V.     Netherlands            16.03\n",
      "366    PNR                                  Pentair plc  United Kingdom            28.23\n",
      "409    STX              Seagate Technology Holdings plc       Singapore            12.11\n",
      "416     SW                         Smurfit Westrock Plc         Ireland            18.34\n",
      "437    TEL                          TE Connectivity plc         Ireland            15.32\n",
      "449     TT                       Trane Technologies plc         Ireland            13.12\n",
      "494    WTW  Willis Towers Watson Public Limited Company  United Kingdom            16.20\n"
     ]
    }
   ],
   "execution_count": 15
  },
  {
   "cell_type": "markdown",
   "id": "69479e6b",
   "metadata": {},
   "source": "### 1.3.3 Fix Company Name"
  },
  {
   "cell_type": "code",
   "id": "5ab88426",
   "metadata": {
    "ExecuteTime": {
     "end_time": "2025-10-19T18:23:58.234255Z",
     "start_time": "2025-10-19T18:23:58.221931Z"
    }
   },
   "source": [
    "spi_esg[spi_esg[\"Company_Name\"].isna()]"
   ],
   "outputs": [
    {
     "data": {
      "text/plain": [
       "      Ticker Company_Name Currency Data_Date  \\\n",
       "197  GALD.SW          NaN      CHF  12/31/24   \n",
       "\n",
       "                                     Industry      Sector      Country  \\\n",
       "197  Drug Manufacturers - Specialty & Generic  Healthcare  Switzerland   \n",
       "\n",
       "     Total_ESG_Score  Environmental_Score  Social_Score  ...  ROA_Pct  \\\n",
       "197             19.8                 3.84         11.03  ...     3.65   \n",
       "\n",
       "    Profit_Margin_Pct  EBITDA_Margin_Pct   EPS  Beta  Debt_to_Equity  \\\n",
       "197              8.06              20.98  1.28   NaN           36.84   \n",
       "\n",
       "     Current_Ratio  Operating_Cash_Flow  Revenue_Growth_Pct   Status  \n",
       "197           1.09          951000000.0                7.85  Success  \n",
       "\n",
       "[1 rows x 34 columns]"
      ],
      "text/html": [
       "<div>\n",
       "<style scoped>\n",
       "    .dataframe tbody tr th:only-of-type {\n",
       "        vertical-align: middle;\n",
       "    }\n",
       "\n",
       "    .dataframe tbody tr th {\n",
       "        vertical-align: top;\n",
       "    }\n",
       "\n",
       "    .dataframe thead th {\n",
       "        text-align: right;\n",
       "    }\n",
       "</style>\n",
       "<table border=\"1\" class=\"dataframe\">\n",
       "  <thead>\n",
       "    <tr style=\"text-align: right;\">\n",
       "      <th></th>\n",
       "      <th>Ticker</th>\n",
       "      <th>Company_Name</th>\n",
       "      <th>Currency</th>\n",
       "      <th>Data_Date</th>\n",
       "      <th>Industry</th>\n",
       "      <th>Sector</th>\n",
       "      <th>Country</th>\n",
       "      <th>Total_ESG_Score</th>\n",
       "      <th>Environmental_Score</th>\n",
       "      <th>Social_Score</th>\n",
       "      <th>...</th>\n",
       "      <th>ROA_Pct</th>\n",
       "      <th>Profit_Margin_Pct</th>\n",
       "      <th>EBITDA_Margin_Pct</th>\n",
       "      <th>EPS</th>\n",
       "      <th>Beta</th>\n",
       "      <th>Debt_to_Equity</th>\n",
       "      <th>Current_Ratio</th>\n",
       "      <th>Operating_Cash_Flow</th>\n",
       "      <th>Revenue_Growth_Pct</th>\n",
       "      <th>Status</th>\n",
       "    </tr>\n",
       "  </thead>\n",
       "  <tbody>\n",
       "    <tr>\n",
       "      <th>197</th>\n",
       "      <td>GALD.SW</td>\n",
       "      <td>NaN</td>\n",
       "      <td>CHF</td>\n",
       "      <td>12/31/24</td>\n",
       "      <td>Drug Manufacturers - Specialty &amp; Generic</td>\n",
       "      <td>Healthcare</td>\n",
       "      <td>Switzerland</td>\n",
       "      <td>19.8</td>\n",
       "      <td>3.84</td>\n",
       "      <td>11.03</td>\n",
       "      <td>...</td>\n",
       "      <td>3.65</td>\n",
       "      <td>8.06</td>\n",
       "      <td>20.98</td>\n",
       "      <td>1.28</td>\n",
       "      <td>NaN</td>\n",
       "      <td>36.84</td>\n",
       "      <td>1.09</td>\n",
       "      <td>951000000.0</td>\n",
       "      <td>7.85</td>\n",
       "      <td>Success</td>\n",
       "    </tr>\n",
       "  </tbody>\n",
       "</table>\n",
       "<p>1 rows × 34 columns</p>\n",
       "</div>"
      ]
     },
     "execution_count": 16,
     "metadata": {},
     "output_type": "execute_result"
    }
   ],
   "execution_count": 16
  },
  {
   "cell_type": "code",
   "id": "9181d025",
   "metadata": {
    "ExecuteTime": {
     "end_time": "2025-10-19T18:23:58.362184Z",
     "start_time": "2025-10-19T18:23:58.352856Z"
    }
   },
   "source": [
    "spi_esg['Company_Name'].fillna(\"Galderma\", inplace=True)\n",
    "spi_esg[spi_esg[\"Company_Name\"].isna()]"
   ],
   "outputs": [
    {
     "name": "stderr",
     "output_type": "stream",
     "text": [
      "/tmp/ipykernel_23354/2277365914.py:1: FutureWarning: A value is trying to be set on a copy of a DataFrame or Series through chained assignment using an inplace method.\n",
      "The behavior will change in pandas 3.0. This inplace method will never work because the intermediate object on which we are setting values always behaves as a copy.\n",
      "\n",
      "For example, when doing 'df[col].method(value, inplace=True)', try using 'df.method({col: value}, inplace=True)' or df[col] = df[col].method(value) instead, to perform the operation inplace on the original object.\n",
      "\n",
      "\n",
      "  spi_esg['Company_Name'].fillna(\"Galderma\", inplace=True)\n",
      "/tmp/ipykernel_23354/2277365914.py:1: SettingWithCopyWarning: \n",
      "A value is trying to be set on a copy of a slice from a DataFrame\n",
      "\n",
      "See the caveats in the documentation: https://pandas.pydata.org/pandas-docs/stable/user_guide/indexing.html#returning-a-view-versus-a-copy\n",
      "  spi_esg['Company_Name'].fillna(\"Galderma\", inplace=True)\n"
     ]
    },
    {
     "data": {
      "text/plain": [
       "Empty DataFrame\n",
       "Columns: [Ticker, Company_Name, Currency, Data_Date, Industry, Sector, Country, Total_ESG_Score, Environmental_Score, Social_Score, Governance_Score, ESG_Performance, Highest_Controversy, Stock_Price, Current_Price, Market_Cap, PE_Ratio, PB_Ratio, Annual_Return_Pct, Revenue, Net_Income, Operating_Margin_Pct, Gross_Margin_Pct, ROE_Pct, ROA_Pct, Profit_Margin_Pct, EBITDA_Margin_Pct, EPS, Beta, Debt_to_Equity, Current_Ratio, Operating_Cash_Flow, Revenue_Growth_Pct, Status]\n",
       "Index: []\n",
       "\n",
       "[0 rows x 34 columns]"
      ],
      "text/html": [
       "<div>\n",
       "<style scoped>\n",
       "    .dataframe tbody tr th:only-of-type {\n",
       "        vertical-align: middle;\n",
       "    }\n",
       "\n",
       "    .dataframe tbody tr th {\n",
       "        vertical-align: top;\n",
       "    }\n",
       "\n",
       "    .dataframe thead th {\n",
       "        text-align: right;\n",
       "    }\n",
       "</style>\n",
       "<table border=\"1\" class=\"dataframe\">\n",
       "  <thead>\n",
       "    <tr style=\"text-align: right;\">\n",
       "      <th></th>\n",
       "      <th>Ticker</th>\n",
       "      <th>Company_Name</th>\n",
       "      <th>Currency</th>\n",
       "      <th>Data_Date</th>\n",
       "      <th>Industry</th>\n",
       "      <th>Sector</th>\n",
       "      <th>Country</th>\n",
       "      <th>Total_ESG_Score</th>\n",
       "      <th>Environmental_Score</th>\n",
       "      <th>Social_Score</th>\n",
       "      <th>...</th>\n",
       "      <th>ROA_Pct</th>\n",
       "      <th>Profit_Margin_Pct</th>\n",
       "      <th>EBITDA_Margin_Pct</th>\n",
       "      <th>EPS</th>\n",
       "      <th>Beta</th>\n",
       "      <th>Debt_to_Equity</th>\n",
       "      <th>Current_Ratio</th>\n",
       "      <th>Operating_Cash_Flow</th>\n",
       "      <th>Revenue_Growth_Pct</th>\n",
       "      <th>Status</th>\n",
       "    </tr>\n",
       "  </thead>\n",
       "  <tbody>\n",
       "  </tbody>\n",
       "</table>\n",
       "<p>0 rows × 34 columns</p>\n",
       "</div>"
      ]
     },
     "execution_count": 17,
     "metadata": {},
     "output_type": "execute_result"
    }
   ],
   "execution_count": 17
  },
  {
   "cell_type": "code",
   "id": "a716145c",
   "metadata": {
    "ExecuteTime": {
     "end_time": "2025-10-19T18:23:58.577554Z",
     "start_time": "2025-10-19T18:23:58.569318Z"
    }
   },
   "source": [
    "sp500_esg[sp500_esg[\"Company_Name\"].isna()]"
   ],
   "outputs": [
    {
     "data": {
      "text/plain": [
       "Empty DataFrame\n",
       "Columns: [Ticker, Company_Name, Currency, Data_Date, Industry, Sector, Country, Total_ESG_Score, Environmental_Score, Social_Score, Governance_Score, ESG_Performance, Highest_Controversy, Stock_Price, Current_Price, Market_Cap, PE_Ratio, PB_Ratio, Annual_Return_Pct, Revenue, Net_Income, Operating_Margin_Pct, Gross_Margin_Pct, ROE_Pct, ROA_Pct, Profit_Margin_Pct, EBITDA_Margin_Pct, EPS, Beta, Debt_to_Equity, Current_Ratio, Operating_Cash_Flow, Revenue_Growth_Pct, Status]\n",
       "Index: []\n",
       "\n",
       "[0 rows x 34 columns]"
      ],
      "text/html": [
       "<div>\n",
       "<style scoped>\n",
       "    .dataframe tbody tr th:only-of-type {\n",
       "        vertical-align: middle;\n",
       "    }\n",
       "\n",
       "    .dataframe tbody tr th {\n",
       "        vertical-align: top;\n",
       "    }\n",
       "\n",
       "    .dataframe thead th {\n",
       "        text-align: right;\n",
       "    }\n",
       "</style>\n",
       "<table border=\"1\" class=\"dataframe\">\n",
       "  <thead>\n",
       "    <tr style=\"text-align: right;\">\n",
       "      <th></th>\n",
       "      <th>Ticker</th>\n",
       "      <th>Company_Name</th>\n",
       "      <th>Currency</th>\n",
       "      <th>Data_Date</th>\n",
       "      <th>Industry</th>\n",
       "      <th>Sector</th>\n",
       "      <th>Country</th>\n",
       "      <th>Total_ESG_Score</th>\n",
       "      <th>Environmental_Score</th>\n",
       "      <th>Social_Score</th>\n",
       "      <th>...</th>\n",
       "      <th>ROA_Pct</th>\n",
       "      <th>Profit_Margin_Pct</th>\n",
       "      <th>EBITDA_Margin_Pct</th>\n",
       "      <th>EPS</th>\n",
       "      <th>Beta</th>\n",
       "      <th>Debt_to_Equity</th>\n",
       "      <th>Current_Ratio</th>\n",
       "      <th>Operating_Cash_Flow</th>\n",
       "      <th>Revenue_Growth_Pct</th>\n",
       "      <th>Status</th>\n",
       "    </tr>\n",
       "  </thead>\n",
       "  <tbody>\n",
       "  </tbody>\n",
       "</table>\n",
       "<p>0 rows × 34 columns</p>\n",
       "</div>"
      ]
     },
     "execution_count": 18,
     "metadata": {},
     "output_type": "execute_result"
    }
   ],
   "execution_count": 18
  },
  {
   "cell_type": "markdown",
   "id": "effbaaf9",
   "metadata": {},
   "source": "### 1.3.4 Check Duplicates by Company Name"
  },
  {
   "cell_type": "code",
   "id": "afe2a14f",
   "metadata": {
    "ExecuteTime": {
     "end_time": "2025-10-19T18:23:58.712905Z",
     "start_time": "2025-10-19T18:23:58.703003Z"
    }
   },
   "source": [
    "spi_duplicates = spi_esg[spi_esg.duplicated(subset=['Company_Name'], keep=False)]\n",
    "print(spi_duplicates.to_string())"
   ],
   "outputs": [
    {
     "name": "stdout",
     "output_type": "stream",
     "text": [
      "     Ticker          Company_Name Currency Data_Date                        Industry       Sector      Country  Total_ESG_Score  Environmental_Score  Social_Score  Governance_Score ESG_Performance  Highest_Controversy  Stock_Price  Current_Price    Market_Cap  PE_Ratio  PB_Ratio  Annual_Return_Pct       Revenue   Net_Income  Operating_Margin_Pct  Gross_Margin_Pct  ROE_Pct  ROA_Pct  Profit_Margin_Pct  EBITDA_Margin_Pct   EPS   Beta  Debt_to_Equity  Current_Ratio  Operating_Cash_Flow  Revenue_Growth_Pct   Status\n",
      "39  SCHN.SW  Schindler Holding AG      CHF  12/31/24  Specialty Industrial Machinery  Industrials  Switzerland            25.07                 9.86          8.84              6.36        AVG_PERF                  1.0       241.18          284.0  3.105988e+10     31.00      6.21              13.29  1.113000e+10  987000000.0                 12.56             73.28     22.3     7.14               8.87              13.36  9.16  0.717           14.87           1.39         1.622000e+09               -2.24  Success\n",
      "53  SCHP.SW  Schindler Holding AG      CHF  12/31/24  Specialty Industrial Machinery  Industrials  Switzerland            25.07                 9.86          8.84              6.36        AVG_PERF                  1.0       244.99          297.4  3.101536e+10     32.47      6.51              15.15  1.113000e+10  987000000.0                 12.56             73.28     22.3     7.14               8.87              13.36  9.16  0.717           14.87           1.39         1.622000e+09               -2.24  Success\n"
     ]
    }
   ],
   "execution_count": 19
  },
  {
   "cell_type": "code",
   "id": "7ad913d3",
   "metadata": {
    "ExecuteTime": {
     "end_time": "2025-10-19T18:23:58.800306Z",
     "start_time": "2025-10-19T18:23:58.795558Z"
    }
   },
   "source": [
    "# Keep SCHN.SW (Registered Shares) and remove SCHP.SW (Participation Certificates)\n",
    "# since SCHN.SW reflects the company’s core ESG profile\n",
    "spi_esg = spi_esg[spi_esg[\"Ticker\"] != \"SCHP.SW\"]\n",
    "spi_esg.shape"
   ],
   "outputs": [
    {
     "data": {
      "text/plain": [
       "(141, 34)"
      ]
     },
     "execution_count": 20,
     "metadata": {},
     "output_type": "execute_result"
    }
   ],
   "execution_count": 20
  },
  {
   "cell_type": "code",
   "id": "15c18003",
   "metadata": {
    "ExecuteTime": {
     "end_time": "2025-10-19T18:23:58.818942Z",
     "start_time": "2025-10-19T18:23:58.814919Z"
    }
   },
   "source": [
    "sp500_duplicates = sp500_esg[sp500_esg.duplicated(subset=['Company_Name'], keep=False)]\n",
    "print(sp500_duplicates[['Ticker', 'Company_Name', 'Total_ESG_Score','Environmental_Score', 'Stock_Price']].to_string())"
   ],
   "outputs": [
    {
     "name": "stdout",
     "output_type": "stream",
     "text": [
      "Empty DataFrame\n",
      "Columns: [Ticker, Company_Name, Total_ESG_Score, Environmental_Score, Stock_Price]\n",
      "Index: []\n"
     ]
    }
   ],
   "execution_count": 21
  },
  {
   "cell_type": "markdown",
   "id": "3a4a5fb7",
   "metadata": {},
   "source": "###  1.3.5 Other Missing Data"
  },
  {
   "cell_type": "code",
   "id": "855cf149",
   "metadata": {
    "ExecuteTime": {
     "end_time": "2025-10-19T18:23:58.887875Z",
     "start_time": "2025-10-19T18:23:58.880091Z"
    }
   },
   "source": [
    "missing_summary(spi_esg, \"SPI\")"
   ],
   "outputs": [
    {
     "data": {
      "text/plain": [
       "                     Dataset  Missing Count  Missing %\n",
       "Ticker                   SPI              0       0.00\n",
       "Company_Name             SPI              0       0.00\n",
       "Currency                 SPI              0       0.00\n",
       "Data_Date                SPI              0       0.00\n",
       "Industry                 SPI              0       0.00\n",
       "Sector                   SPI              0       0.00\n",
       "Country                  SPI              0       0.00\n",
       "Total_ESG_Score          SPI              0       0.00\n",
       "Environmental_Score      SPI             71      50.35\n",
       "Social_Score             SPI             71      50.35\n",
       "Governance_Score         SPI             71      50.35\n",
       "ESG_Performance          SPI              0       0.00\n",
       "Highest_Controversy      SPI              1       0.71\n",
       "Stock_Price              SPI              1       0.71\n",
       "Current_Price            SPI              0       0.00\n",
       "Market_Cap               SPI              0       0.00\n",
       "PE_Ratio                 SPI             24      17.02\n",
       "PB_Ratio                 SPI              0       0.00\n",
       "Annual_Return_Pct        SPI              0       0.00\n",
       "Revenue                  SPI              1       0.71\n",
       "Net_Income               SPI              0       0.00\n",
       "Operating_Margin_Pct     SPI              0       0.00\n",
       "Gross_Margin_Pct         SPI              0       0.00\n",
       "ROE_Pct                  SPI              3       2.13\n",
       "ROA_Pct                  SPI              1       0.71\n",
       "Profit_Margin_Pct        SPI              0       0.00\n",
       "EBITDA_Margin_Pct        SPI             25      17.73\n",
       "EPS                      SPI              0       0.00\n",
       "Beta                     SPI              2       1.42\n",
       "Debt_to_Equity           SPI             27      19.15\n",
       "Current_Ratio            SPI             21      14.89\n",
       "Operating_Cash_Flow      SPI             14       9.93\n",
       "Revenue_Growth_Pct       SPI              0       0.00\n",
       "Status                   SPI              0       0.00"
      ],
      "text/html": [
       "<div>\n",
       "<style scoped>\n",
       "    .dataframe tbody tr th:only-of-type {\n",
       "        vertical-align: middle;\n",
       "    }\n",
       "\n",
       "    .dataframe tbody tr th {\n",
       "        vertical-align: top;\n",
       "    }\n",
       "\n",
       "    .dataframe thead th {\n",
       "        text-align: right;\n",
       "    }\n",
       "</style>\n",
       "<table border=\"1\" class=\"dataframe\">\n",
       "  <thead>\n",
       "    <tr style=\"text-align: right;\">\n",
       "      <th></th>\n",
       "      <th>Dataset</th>\n",
       "      <th>Missing Count</th>\n",
       "      <th>Missing %</th>\n",
       "    </tr>\n",
       "  </thead>\n",
       "  <tbody>\n",
       "    <tr>\n",
       "      <th>Ticker</th>\n",
       "      <td>SPI</td>\n",
       "      <td>0</td>\n",
       "      <td>0.00</td>\n",
       "    </tr>\n",
       "    <tr>\n",
       "      <th>Company_Name</th>\n",
       "      <td>SPI</td>\n",
       "      <td>0</td>\n",
       "      <td>0.00</td>\n",
       "    </tr>\n",
       "    <tr>\n",
       "      <th>Currency</th>\n",
       "      <td>SPI</td>\n",
       "      <td>0</td>\n",
       "      <td>0.00</td>\n",
       "    </tr>\n",
       "    <tr>\n",
       "      <th>Data_Date</th>\n",
       "      <td>SPI</td>\n",
       "      <td>0</td>\n",
       "      <td>0.00</td>\n",
       "    </tr>\n",
       "    <tr>\n",
       "      <th>Industry</th>\n",
       "      <td>SPI</td>\n",
       "      <td>0</td>\n",
       "      <td>0.00</td>\n",
       "    </tr>\n",
       "    <tr>\n",
       "      <th>Sector</th>\n",
       "      <td>SPI</td>\n",
       "      <td>0</td>\n",
       "      <td>0.00</td>\n",
       "    </tr>\n",
       "    <tr>\n",
       "      <th>Country</th>\n",
       "      <td>SPI</td>\n",
       "      <td>0</td>\n",
       "      <td>0.00</td>\n",
       "    </tr>\n",
       "    <tr>\n",
       "      <th>Total_ESG_Score</th>\n",
       "      <td>SPI</td>\n",
       "      <td>0</td>\n",
       "      <td>0.00</td>\n",
       "    </tr>\n",
       "    <tr>\n",
       "      <th>Environmental_Score</th>\n",
       "      <td>SPI</td>\n",
       "      <td>71</td>\n",
       "      <td>50.35</td>\n",
       "    </tr>\n",
       "    <tr>\n",
       "      <th>Social_Score</th>\n",
       "      <td>SPI</td>\n",
       "      <td>71</td>\n",
       "      <td>50.35</td>\n",
       "    </tr>\n",
       "    <tr>\n",
       "      <th>Governance_Score</th>\n",
       "      <td>SPI</td>\n",
       "      <td>71</td>\n",
       "      <td>50.35</td>\n",
       "    </tr>\n",
       "    <tr>\n",
       "      <th>ESG_Performance</th>\n",
       "      <td>SPI</td>\n",
       "      <td>0</td>\n",
       "      <td>0.00</td>\n",
       "    </tr>\n",
       "    <tr>\n",
       "      <th>Highest_Controversy</th>\n",
       "      <td>SPI</td>\n",
       "      <td>1</td>\n",
       "      <td>0.71</td>\n",
       "    </tr>\n",
       "    <tr>\n",
       "      <th>Stock_Price</th>\n",
       "      <td>SPI</td>\n",
       "      <td>1</td>\n",
       "      <td>0.71</td>\n",
       "    </tr>\n",
       "    <tr>\n",
       "      <th>Current_Price</th>\n",
       "      <td>SPI</td>\n",
       "      <td>0</td>\n",
       "      <td>0.00</td>\n",
       "    </tr>\n",
       "    <tr>\n",
       "      <th>Market_Cap</th>\n",
       "      <td>SPI</td>\n",
       "      <td>0</td>\n",
       "      <td>0.00</td>\n",
       "    </tr>\n",
       "    <tr>\n",
       "      <th>PE_Ratio</th>\n",
       "      <td>SPI</td>\n",
       "      <td>24</td>\n",
       "      <td>17.02</td>\n",
       "    </tr>\n",
       "    <tr>\n",
       "      <th>PB_Ratio</th>\n",
       "      <td>SPI</td>\n",
       "      <td>0</td>\n",
       "      <td>0.00</td>\n",
       "    </tr>\n",
       "    <tr>\n",
       "      <th>Annual_Return_Pct</th>\n",
       "      <td>SPI</td>\n",
       "      <td>0</td>\n",
       "      <td>0.00</td>\n",
       "    </tr>\n",
       "    <tr>\n",
       "      <th>Revenue</th>\n",
       "      <td>SPI</td>\n",
       "      <td>1</td>\n",
       "      <td>0.71</td>\n",
       "    </tr>\n",
       "    <tr>\n",
       "      <th>Net_Income</th>\n",
       "      <td>SPI</td>\n",
       "      <td>0</td>\n",
       "      <td>0.00</td>\n",
       "    </tr>\n",
       "    <tr>\n",
       "      <th>Operating_Margin_Pct</th>\n",
       "      <td>SPI</td>\n",
       "      <td>0</td>\n",
       "      <td>0.00</td>\n",
       "    </tr>\n",
       "    <tr>\n",
       "      <th>Gross_Margin_Pct</th>\n",
       "      <td>SPI</td>\n",
       "      <td>0</td>\n",
       "      <td>0.00</td>\n",
       "    </tr>\n",
       "    <tr>\n",
       "      <th>ROE_Pct</th>\n",
       "      <td>SPI</td>\n",
       "      <td>3</td>\n",
       "      <td>2.13</td>\n",
       "    </tr>\n",
       "    <tr>\n",
       "      <th>ROA_Pct</th>\n",
       "      <td>SPI</td>\n",
       "      <td>1</td>\n",
       "      <td>0.71</td>\n",
       "    </tr>\n",
       "    <tr>\n",
       "      <th>Profit_Margin_Pct</th>\n",
       "      <td>SPI</td>\n",
       "      <td>0</td>\n",
       "      <td>0.00</td>\n",
       "    </tr>\n",
       "    <tr>\n",
       "      <th>EBITDA_Margin_Pct</th>\n",
       "      <td>SPI</td>\n",
       "      <td>25</td>\n",
       "      <td>17.73</td>\n",
       "    </tr>\n",
       "    <tr>\n",
       "      <th>EPS</th>\n",
       "      <td>SPI</td>\n",
       "      <td>0</td>\n",
       "      <td>0.00</td>\n",
       "    </tr>\n",
       "    <tr>\n",
       "      <th>Beta</th>\n",
       "      <td>SPI</td>\n",
       "      <td>2</td>\n",
       "      <td>1.42</td>\n",
       "    </tr>\n",
       "    <tr>\n",
       "      <th>Debt_to_Equity</th>\n",
       "      <td>SPI</td>\n",
       "      <td>27</td>\n",
       "      <td>19.15</td>\n",
       "    </tr>\n",
       "    <tr>\n",
       "      <th>Current_Ratio</th>\n",
       "      <td>SPI</td>\n",
       "      <td>21</td>\n",
       "      <td>14.89</td>\n",
       "    </tr>\n",
       "    <tr>\n",
       "      <th>Operating_Cash_Flow</th>\n",
       "      <td>SPI</td>\n",
       "      <td>14</td>\n",
       "      <td>9.93</td>\n",
       "    </tr>\n",
       "    <tr>\n",
       "      <th>Revenue_Growth_Pct</th>\n",
       "      <td>SPI</td>\n",
       "      <td>0</td>\n",
       "      <td>0.00</td>\n",
       "    </tr>\n",
       "    <tr>\n",
       "      <th>Status</th>\n",
       "      <td>SPI</td>\n",
       "      <td>0</td>\n",
       "      <td>0.00</td>\n",
       "    </tr>\n",
       "  </tbody>\n",
       "</table>\n",
       "</div>"
      ]
     },
     "execution_count": 22,
     "metadata": {},
     "output_type": "execute_result"
    }
   ],
   "execution_count": 22
  },
  {
   "cell_type": "code",
   "id": "8c950854",
   "metadata": {
    "ExecuteTime": {
     "end_time": "2025-10-19T18:23:59.036565Z",
     "start_time": "2025-10-19T18:23:59.028789Z"
    }
   },
   "source": [
    "missing_minor_columns = [\n",
    "    'Highest_Controversy', 'Stock_Price', 'Revenue',\n",
    "    'ROE_Pct', 'ROA_Pct', 'Beta'\n",
    "]\n",
    "\n",
    "spi_missing_minor_data = spi_esg[spi_esg[missing_minor_columns].isnull().any(axis=1)]\n",
    "print(spi_missing_minor_data[['Company_Name'] + missing_minor_columns].to_string(index=False))"
   ],
   "outputs": [
    {
     "name": "stdout",
     "output_type": "stream",
     "text": [
      "         Company_Name  Highest_Controversy  Stock_Price      Revenue  ROE_Pct  ROA_Pct   Beta\n",
      "  EvoNext Holdings SA                  0.0         1.16          NaN   -12.78    -7.39 -0.116\n",
      "        BB Biotech AG                  NaN        34.32  -80803000.0   -20.75    -2.97  0.787\n",
      "       LEM Holding SA                  0.0       805.00  301692000.0      NaN      NaN  0.732\n",
      "           Temenos AG                  2.0          NaN 1083507968.0    48.96     6.64  0.836\n",
      "mobilezone holding ag                  0.0         9.75  958308992.0      NaN     7.36  0.505\n",
      " Glarner Kantonalbank                  0.0        20.93   95047000.0     5.04     0.24    NaN\n",
      "          Idorsia Ltd                  0.0         0.79  217224000.0      NaN   -18.52  1.541\n",
      "             Galderma                  1.0       106.76 4689999872.0     4.92     3.65    NaN\n"
     ]
    }
   ],
   "execution_count": 23
  },
  {
   "cell_type": "markdown",
   "id": "de271e8f",
   "metadata": {},
   "source": [
    "Suggested Strategies for Handling Missing Data:\n",
    "\n",
    "Given that only 141 companies have a Total ESG Score, better avoid removing further companies due to other missing values.\n",
    "\n",
    "1.\tMissing values in Highest_Controversy, Stock_Price, Revenue, ROA_% (1 case each), ROE_% (3 cases), and Beta (2 cases) are negligible and unlikely to bias results.\n",
    "2.\tExclude `PE_Ratio` from the analysis, which is similar to `Market_Cap`.\n",
    "3.\tExclude `EBITDA_Margin_%`, which it is similar to `Profit_Margin_%`.\n",
    "4.\tBeta, Debt_to_Equity, Current_Ratio, Operating_Cash_Flow are all risk and stability indicators, we can use only `Beta`, which has less missing data and better captures systematic market risk."
   ]
  },
  {
   "cell_type": "code",
   "id": "a298d2ac",
   "metadata": {
    "ExecuteTime": {
     "end_time": "2025-10-19T18:23:59.191864Z",
     "start_time": "2025-10-19T18:23:59.181965Z"
    }
   },
   "source": [
    "missing_summary(sp500_esg, \"SP500\")"
   ],
   "outputs": [
    {
     "data": {
      "text/plain": [
       "                     Dataset  Missing Count  Missing %\n",
       "Ticker                 SP500              0       0.00\n",
       "Company_Name           SP500              0       0.00\n",
       "Currency               SP500              0       0.00\n",
       "Data_Date              SP500              0       0.00\n",
       "Industry               SP500              0       0.00\n",
       "Sector                 SP500              0       0.00\n",
       "Country                SP500              0       0.00\n",
       "Total_ESG_Score        SP500              0       0.00\n",
       "Environmental_Score    SP500              1       0.33\n",
       "Social_Score           SP500              1       0.33\n",
       "Governance_Score       SP500              1       0.33\n",
       "ESG_Performance        SP500              0       0.00\n",
       "Highest_Controversy    SP500              0       0.00\n",
       "Stock_Price            SP500              0       0.00\n",
       "Current_Price          SP500              0       0.00\n",
       "Market_Cap             SP500              0       0.00\n",
       "PE_Ratio               SP500             15       5.00\n",
       "PB_Ratio               SP500              0       0.00\n",
       "Annual_Return_Pct      SP500              0       0.00\n",
       "Revenue                SP500              0       0.00\n",
       "Net_Income             SP500              0       0.00\n",
       "Operating_Margin_Pct   SP500              0       0.00\n",
       "Gross_Margin_Pct       SP500              0       0.00\n",
       "ROE_Pct                SP500             20       6.67\n",
       "ROA_Pct                SP500              4       1.33\n",
       "Profit_Margin_Pct      SP500              0       0.00\n",
       "EBITDA_Margin_Pct      SP500             21       7.00\n",
       "EPS                    SP500              0       0.00\n",
       "Beta                   SP500              3       1.00\n",
       "Debt_to_Equity         SP500             39      13.00\n",
       "Current_Ratio          SP500             20       6.67\n",
       "Operating_Cash_Flow    SP500             14       4.67\n",
       "Revenue_Growth_Pct     SP500              1       0.33\n",
       "Status                 SP500              0       0.00"
      ],
      "text/html": [
       "<div>\n",
       "<style scoped>\n",
       "    .dataframe tbody tr th:only-of-type {\n",
       "        vertical-align: middle;\n",
       "    }\n",
       "\n",
       "    .dataframe tbody tr th {\n",
       "        vertical-align: top;\n",
       "    }\n",
       "\n",
       "    .dataframe thead th {\n",
       "        text-align: right;\n",
       "    }\n",
       "</style>\n",
       "<table border=\"1\" class=\"dataframe\">\n",
       "  <thead>\n",
       "    <tr style=\"text-align: right;\">\n",
       "      <th></th>\n",
       "      <th>Dataset</th>\n",
       "      <th>Missing Count</th>\n",
       "      <th>Missing %</th>\n",
       "    </tr>\n",
       "  </thead>\n",
       "  <tbody>\n",
       "    <tr>\n",
       "      <th>Ticker</th>\n",
       "      <td>SP500</td>\n",
       "      <td>0</td>\n",
       "      <td>0.00</td>\n",
       "    </tr>\n",
       "    <tr>\n",
       "      <th>Company_Name</th>\n",
       "      <td>SP500</td>\n",
       "      <td>0</td>\n",
       "      <td>0.00</td>\n",
       "    </tr>\n",
       "    <tr>\n",
       "      <th>Currency</th>\n",
       "      <td>SP500</td>\n",
       "      <td>0</td>\n",
       "      <td>0.00</td>\n",
       "    </tr>\n",
       "    <tr>\n",
       "      <th>Data_Date</th>\n",
       "      <td>SP500</td>\n",
       "      <td>0</td>\n",
       "      <td>0.00</td>\n",
       "    </tr>\n",
       "    <tr>\n",
       "      <th>Industry</th>\n",
       "      <td>SP500</td>\n",
       "      <td>0</td>\n",
       "      <td>0.00</td>\n",
       "    </tr>\n",
       "    <tr>\n",
       "      <th>Sector</th>\n",
       "      <td>SP500</td>\n",
       "      <td>0</td>\n",
       "      <td>0.00</td>\n",
       "    </tr>\n",
       "    <tr>\n",
       "      <th>Country</th>\n",
       "      <td>SP500</td>\n",
       "      <td>0</td>\n",
       "      <td>0.00</td>\n",
       "    </tr>\n",
       "    <tr>\n",
       "      <th>Total_ESG_Score</th>\n",
       "      <td>SP500</td>\n",
       "      <td>0</td>\n",
       "      <td>0.00</td>\n",
       "    </tr>\n",
       "    <tr>\n",
       "      <th>Environmental_Score</th>\n",
       "      <td>SP500</td>\n",
       "      <td>1</td>\n",
       "      <td>0.33</td>\n",
       "    </tr>\n",
       "    <tr>\n",
       "      <th>Social_Score</th>\n",
       "      <td>SP500</td>\n",
       "      <td>1</td>\n",
       "      <td>0.33</td>\n",
       "    </tr>\n",
       "    <tr>\n",
       "      <th>Governance_Score</th>\n",
       "      <td>SP500</td>\n",
       "      <td>1</td>\n",
       "      <td>0.33</td>\n",
       "    </tr>\n",
       "    <tr>\n",
       "      <th>ESG_Performance</th>\n",
       "      <td>SP500</td>\n",
       "      <td>0</td>\n",
       "      <td>0.00</td>\n",
       "    </tr>\n",
       "    <tr>\n",
       "      <th>Highest_Controversy</th>\n",
       "      <td>SP500</td>\n",
       "      <td>0</td>\n",
       "      <td>0.00</td>\n",
       "    </tr>\n",
       "    <tr>\n",
       "      <th>Stock_Price</th>\n",
       "      <td>SP500</td>\n",
       "      <td>0</td>\n",
       "      <td>0.00</td>\n",
       "    </tr>\n",
       "    <tr>\n",
       "      <th>Current_Price</th>\n",
       "      <td>SP500</td>\n",
       "      <td>0</td>\n",
       "      <td>0.00</td>\n",
       "    </tr>\n",
       "    <tr>\n",
       "      <th>Market_Cap</th>\n",
       "      <td>SP500</td>\n",
       "      <td>0</td>\n",
       "      <td>0.00</td>\n",
       "    </tr>\n",
       "    <tr>\n",
       "      <th>PE_Ratio</th>\n",
       "      <td>SP500</td>\n",
       "      <td>15</td>\n",
       "      <td>5.00</td>\n",
       "    </tr>\n",
       "    <tr>\n",
       "      <th>PB_Ratio</th>\n",
       "      <td>SP500</td>\n",
       "      <td>0</td>\n",
       "      <td>0.00</td>\n",
       "    </tr>\n",
       "    <tr>\n",
       "      <th>Annual_Return_Pct</th>\n",
       "      <td>SP500</td>\n",
       "      <td>0</td>\n",
       "      <td>0.00</td>\n",
       "    </tr>\n",
       "    <tr>\n",
       "      <th>Revenue</th>\n",
       "      <td>SP500</td>\n",
       "      <td>0</td>\n",
       "      <td>0.00</td>\n",
       "    </tr>\n",
       "    <tr>\n",
       "      <th>Net_Income</th>\n",
       "      <td>SP500</td>\n",
       "      <td>0</td>\n",
       "      <td>0.00</td>\n",
       "    </tr>\n",
       "    <tr>\n",
       "      <th>Operating_Margin_Pct</th>\n",
       "      <td>SP500</td>\n",
       "      <td>0</td>\n",
       "      <td>0.00</td>\n",
       "    </tr>\n",
       "    <tr>\n",
       "      <th>Gross_Margin_Pct</th>\n",
       "      <td>SP500</td>\n",
       "      <td>0</td>\n",
       "      <td>0.00</td>\n",
       "    </tr>\n",
       "    <tr>\n",
       "      <th>ROE_Pct</th>\n",
       "      <td>SP500</td>\n",
       "      <td>20</td>\n",
       "      <td>6.67</td>\n",
       "    </tr>\n",
       "    <tr>\n",
       "      <th>ROA_Pct</th>\n",
       "      <td>SP500</td>\n",
       "      <td>4</td>\n",
       "      <td>1.33</td>\n",
       "    </tr>\n",
       "    <tr>\n",
       "      <th>Profit_Margin_Pct</th>\n",
       "      <td>SP500</td>\n",
       "      <td>0</td>\n",
       "      <td>0.00</td>\n",
       "    </tr>\n",
       "    <tr>\n",
       "      <th>EBITDA_Margin_Pct</th>\n",
       "      <td>SP500</td>\n",
       "      <td>21</td>\n",
       "      <td>7.00</td>\n",
       "    </tr>\n",
       "    <tr>\n",
       "      <th>EPS</th>\n",
       "      <td>SP500</td>\n",
       "      <td>0</td>\n",
       "      <td>0.00</td>\n",
       "    </tr>\n",
       "    <tr>\n",
       "      <th>Beta</th>\n",
       "      <td>SP500</td>\n",
       "      <td>3</td>\n",
       "      <td>1.00</td>\n",
       "    </tr>\n",
       "    <tr>\n",
       "      <th>Debt_to_Equity</th>\n",
       "      <td>SP500</td>\n",
       "      <td>39</td>\n",
       "      <td>13.00</td>\n",
       "    </tr>\n",
       "    <tr>\n",
       "      <th>Current_Ratio</th>\n",
       "      <td>SP500</td>\n",
       "      <td>20</td>\n",
       "      <td>6.67</td>\n",
       "    </tr>\n",
       "    <tr>\n",
       "      <th>Operating_Cash_Flow</th>\n",
       "      <td>SP500</td>\n",
       "      <td>14</td>\n",
       "      <td>4.67</td>\n",
       "    </tr>\n",
       "    <tr>\n",
       "      <th>Revenue_Growth_Pct</th>\n",
       "      <td>SP500</td>\n",
       "      <td>1</td>\n",
       "      <td>0.33</td>\n",
       "    </tr>\n",
       "    <tr>\n",
       "      <th>Status</th>\n",
       "      <td>SP500</td>\n",
       "      <td>0</td>\n",
       "      <td>0.00</td>\n",
       "    </tr>\n",
       "  </tbody>\n",
       "</table>\n",
       "</div>"
      ]
     },
     "execution_count": 24,
     "metadata": {},
     "output_type": "execute_result"
    }
   ],
   "execution_count": 24
  },
  {
   "cell_type": "markdown",
   "id": "d69ba9f5",
   "metadata": {},
   "source": [
    "TODO: depending on which metrics and industries we choose to further analyze, we may need to further remove some data from S&P 500 due to unbalanced size of two datasets and missing data. However, S&P 500 dataset is mainly for support and comparison, so here we don't go deeper with this dataset and adjust this dataset according to SPI dataset."
   ]
  },
  {
   "cell_type": "code",
   "id": "2c27576a",
   "metadata": {
    "ExecuteTime": {
     "end_time": "2025-10-19T18:23:59.345212Z",
     "start_time": "2025-10-19T18:23:59.341079Z"
    }
   },
   "source": [
    "# Remove columns with large missing data\n",
    "missing_large_columns = [\n",
    "    'PE_Ratio', 'EBITDA_Margin_Pct', 'Debt_to_Equity',\n",
    "    'Current_Ratio', 'Operating_Cash_Flow'\n",
    "]\n",
    "spi_esg = spi_esg.drop(columns=missing_large_columns)\n",
    "sp500_esg = sp500_esg.drop(columns=missing_large_columns)"
   ],
   "outputs": [],
   "execution_count": 25
  },
  {
   "cell_type": "markdown",
   "id": "c0aa157d",
   "metadata": {},
   "source": "## 1.4 Check and Fix Data Types"
  },
  {
   "cell_type": "code",
   "id": "891cf569",
   "metadata": {
    "ExecuteTime": {
     "end_time": "2025-10-19T18:23:59.539212Z",
     "start_time": "2025-10-19T18:23:59.533324Z"
    }
   },
   "source": [
    "spi_esg.dtypes"
   ],
   "outputs": [
    {
     "data": {
      "text/plain": [
       "Ticker                   object\n",
       "Company_Name             object\n",
       "Currency                 object\n",
       "Data_Date                object\n",
       "Industry                 object\n",
       "Sector                   object\n",
       "Country                  object\n",
       "Total_ESG_Score         float64\n",
       "Environmental_Score     float64\n",
       "Social_Score            float64\n",
       "Governance_Score        float64\n",
       "ESG_Performance          object\n",
       "Highest_Controversy     float64\n",
       "Stock_Price             float64\n",
       "Current_Price           float64\n",
       "Market_Cap              float64\n",
       "PB_Ratio                float64\n",
       "Annual_Return_Pct       float64\n",
       "Revenue                 float64\n",
       "Net_Income              float64\n",
       "Operating_Margin_Pct    float64\n",
       "Gross_Margin_Pct        float64\n",
       "ROE_Pct                 float64\n",
       "ROA_Pct                 float64\n",
       "Profit_Margin_Pct       float64\n",
       "EPS                     float64\n",
       "Beta                    float64\n",
       "Revenue_Growth_Pct      float64\n",
       "Status                   object\n",
       "dtype: object"
      ]
     },
     "execution_count": 26,
     "metadata": {},
     "output_type": "execute_result"
    }
   ],
   "execution_count": 26
  },
  {
   "cell_type": "code",
   "id": "f4dffb16",
   "metadata": {
    "ExecuteTime": {
     "end_time": "2025-10-19T18:23:59.668458Z",
     "start_time": "2025-10-19T18:23:59.642911Z"
    }
   },
   "source": [
    "def fix_datatypes(df, name):\n",
    "    \"\"\"Ensure columns have appropriate data types\"\"\"\n",
    "    print(f\"\\n{name} - Fixing Data Types:\")\n",
    "    \n",
    "    # Numeric columns that should be float\n",
    "    numeric_cols = ['Total_ESG_Score', 'Environmental_Score', 'Social_Score', 'Governance_Score',\n",
    "                'Stock_Price', 'Current_Price', 'Market_Cap', 'PB_Ratio', 'Annual_Return_Pct',\n",
    "                'Revenue', 'Net_Income', 'Operating_Margin_Pct', 'Gross_Margin_Pct', 'ROE_Pct', 'ROA_Pct',\n",
    "                'Profit_Margin_Pct', 'EPS', 'Beta', 'Revenue_Growth_Pct']\n",
    "\n",
    "    for col in numeric_cols:\n",
    "        if col in df.columns:\n",
    "            original_type = df[col].dtype\n",
    "            df[col] = pd.to_numeric(df[col], errors='coerce')\n",
    "            if original_type != df[col].dtype:\n",
    "                print(f\"  {col}: {original_type} → {df[col].dtype}\")\n",
    "    \n",
    "    # Integer columns\n",
    "    int_cols = ['Highest_Controversy']\n",
    "    for col in int_cols:\n",
    "        if col in df.columns:\n",
    "            original_type = df[col].dtype\n",
    "            df[col] = pd.to_numeric(df[col], errors='coerce')\n",
    "            if original_type != df[col].dtype:\n",
    "                print(f\"  {col}: {original_type} → {df[col].dtype}\")\n",
    "    \n",
    "    # Categorical columns\n",
    "    categorical_cols = ['Currency', 'Sector', 'Industry', 'Country', 'ESG_Performance', 'Status']\n",
    "    for col in categorical_cols:\n",
    "        if col in df.columns:\n",
    "            original_type = df[col].dtype\n",
    "            df[col] = df[col].astype('category')\n",
    "            if str(original_type) != 'category':\n",
    "                print(f\"  {col}: {original_type} → category\")\n",
    "    \n",
    "    # Date column\n",
    "    if 'Data_Date' in df.columns:\n",
    "        df['Data_Date'] = pd.to_datetime(df['Data_Date'], errors='coerce')\n",
    "        print(f\"  Data_Date: → datetime64\")\n",
    "\n",
    "    # Object column\n",
    "    for col in ['Ticker', 'Company_Name']:\n",
    "        if col in df.columns:\n",
    "            original_type = df[col].dtype\n",
    "            df[col] = df[col].astype(object)\n",
    "            if original_type != df[col].dtype:\n",
    "                print(f\"  {col}: {original_type} → object\")\n",
    "    \n",
    "    return df\n",
    "\n",
    "spi_esg = fix_datatypes(spi_esg, \"SPI\")\n",
    "sp500_esg = fix_datatypes(sp500_esg, \"S&P 500\")"
   ],
   "outputs": [
    {
     "name": "stdout",
     "output_type": "stream",
     "text": [
      "\n",
      "SPI - Fixing Data Types:\n",
      "  Currency: object → category\n",
      "  Sector: object → category\n",
      "  Industry: object → category\n",
      "  Country: object → category\n",
      "  ESG_Performance: object → category\n",
      "  Status: object → category\n",
      "  Data_Date: → datetime64\n",
      "\n",
      "S&P 500 - Fixing Data Types:\n",
      "  Currency: object → category\n",
      "  Sector: object → category\n",
      "  Industry: object → category\n",
      "  Country: object → category\n",
      "  ESG_Performance: object → category\n",
      "  Status: object → category\n",
      "  Data_Date: → datetime64\n"
     ]
    }
   ],
   "execution_count": 27
  },
  {
   "cell_type": "markdown",
   "id": "382183b6",
   "metadata": {},
   "source": "## 1.5 Check Value Ranges and Remove Errors"
  },
  {
   "cell_type": "markdown",
   "id": "4caf0a8d",
   "metadata": {},
   "source": "### 1.5.1 Numeric Data"
  },
  {
   "cell_type": "code",
   "id": "99b96740",
   "metadata": {
    "ExecuteTime": {
     "end_time": "2025-10-19T18:23:59.808361Z",
     "start_time": "2025-10-19T18:23:59.800438Z"
    }
   },
   "source": [
    "def check_value_ranges(df, name):\n",
    "    \"\"\"Check value ranges and return DataFrame of all exceptions (errors + warnings) without deleting rows\"\"\"\n",
    "    print(f\"\\n{name} - Value Range Checks:\")\n",
    "\n",
    "    warnings_list = []\n",
    "\n",
    "    # ESG scores should be 0-100\n",
    "    esg_cols = ['Total_ESG_Score', 'Environmental_Score', 'Social_Score', 'Governance_Score']\n",
    "    for col in esg_cols:\n",
    "        if col in df.columns:\n",
    "            invalid = (df[col] < 0) | (df[col] > 100)\n",
    "            if invalid.sum() > 0:\n",
    "                print(f\"  ERROR in {col}: {invalid.sum()} values outside [0, 100]\")\n",
    "                warnings_list.append(df.loc[invalid, ['Company_Name', col]])\n",
    "\n",
    "    # Controversy should be 0-5\n",
    "    if 'Highest_Controversy' in df.columns:\n",
    "        invalid = (df['Highest_Controversy'] < 0) | (df['Highest_Controversy'] > 5)\n",
    "        if invalid.sum() > 0:\n",
    "            print(f\"  ERROR in Highest_Controversy: {invalid.sum()} values outside [0, 5]\")\n",
    "            warnings_list.append(df.loc[invalid, ['Company_Name', 'Highest_Controversy']])\n",
    "\n",
    "    # Stock prices should be positive\n",
    "    for col in ['Stock_Price', 'Current_Price']:\n",
    "        if col in df.columns:\n",
    "            invalid = df[col] <= 0\n",
    "            if invalid.sum() > 0:\n",
    "                print(f\"  ERROR in {col}: {invalid.sum()} non-positive values\")\n",
    "                warnings_list.append(df.loc[invalid, ['Company_Name', col]])\n",
    "\n",
    "    # Market cap should be positive\n",
    "    if 'Market_Cap' in df.columns:\n",
    "        invalid = df['Market_Cap'] <= 0\n",
    "        if invalid.sum() > 0:\n",
    "            print(f\"  ERROR in Market_Cap: {invalid.sum()} non-positive values\")\n",
    "            warnings_list.append(df.loc[invalid, ['Company_Name', 'Market_Cap']])\n",
    "\n",
    "    # Margins reasonable (-100% to 100%)\n",
    "    margin_cols = ['Operating_Margin_Pct', 'Gross_Margin_Pct', 'Profit_Margin_Pct']\n",
    "    for col in margin_cols:\n",
    "        if col in df.columns:\n",
    "            invalid = (df[col] < -100) | (df[col] > 100)\n",
    "            if invalid.sum() > 0:\n",
    "                print(f\"  WARNING in {col}: {invalid.sum()} values outside [-100, 100]\")\n",
    "                warnings_list.append(df.loc[invalid, ['Company_Name', col]])\n",
    "\n",
    "    # ROE and ROA reasonable (-100% to 200%)\n",
    "    for col in ['ROE_Pct', 'ROA_Pct']:\n",
    "        if col in df.columns:\n",
    "            invalid = (df[col] < -100) | (df[col] > 200)\n",
    "            if invalid.sum() > 0:\n",
    "                print(f\"  WARNING in {col}: {invalid.sum()} values outside [-100, 200]\")\n",
    "                warnings_list.append(df.loc[invalid, ['Company_Name', col]])\n",
    "\n",
    "    # Combine warning/error rows\n",
    "    if warnings_list:\n",
    "        df_errors = pd.concat(warnings_list).drop_duplicates()\n",
    "    else:\n",
    "        df_errors = pd.DataFrame(columns=df.columns)\n",
    "\n",
    "    print(f\"  Total rows with warnings/errors: {df_errors.shape[0]}\")\n",
    "    return df_errors"
   ],
   "outputs": [],
   "execution_count": 28
  },
  {
   "cell_type": "code",
   "id": "63f64441",
   "metadata": {
    "ExecuteTime": {
     "end_time": "2025-10-19T18:23:59.894878Z",
     "start_time": "2025-10-19T18:23:59.877741Z"
    }
   },
   "source": [
    "spi_esg_errors = check_value_ranges(spi_esg, \"SPI\")\n",
    "sp500_esg_errors = check_value_ranges(sp500_esg, \"S&P 500\")\n",
    "\n",
    "print(spi_esg_errors)"
   ],
   "outputs": [
    {
     "name": "stdout",
     "output_type": "stream",
     "text": [
      "\n",
      "SPI - Value Range Checks:\n",
      "  WARNING in Operating_Margin_Pct: 2 values outside [-100, 100]\n",
      "  WARNING in Gross_Margin_Pct: 1 values outside [-100, 100]\n",
      "  WARNING in Profit_Margin_Pct: 5 values outside [-100, 100]\n",
      "  WARNING in ROE_Pct: 2 values outside [-100, 200]\n",
      "  Total rows with warnings/errors: 10\n",
      "\n",
      "S&P 500 - Value Range Checks:\n",
      "  WARNING in Operating_Margin_Pct: 2 values outside [-100, 100]\n",
      "  WARNING in ROE_Pct: 5 values outside [-100, 200]\n",
      "  Total rows with warnings/errors: 7\n",
      "                   Company_Name  Operating_Margin_Pct  Gross_Margin_Pct  \\\n",
      "45                BB Biotech AG              -1541.06               NaN   \n",
      "119  Meyer Burger Technology AG               -388.50               NaN   \n",
      "119  Meyer Burger Technology AG                   NaN           -103.15   \n",
      "51        PSP Swiss Property AG                   NaN               NaN   \n",
      "114        Intershop Holding AG                   NaN               NaN   \n",
      "132     Peach Property Group AG                   NaN               NaN   \n",
      "163      Zug Estates Holding AG                   NaN               NaN   \n",
      "168         Investis Holding SA                   NaN               NaN   \n",
      "106            Gurit Holding AG                   NaN               NaN   \n",
      "119  Meyer Burger Technology AG                   NaN               NaN   \n",
      "\n",
      "     Profit_Margin_Pct  ROE_Pct  \n",
      "45                 NaN      NaN  \n",
      "119                NaN      NaN  \n",
      "119                NaN      NaN  \n",
      "51              117.82      NaN  \n",
      "114             209.44      NaN  \n",
      "132            -128.57      NaN  \n",
      "163             104.52      NaN  \n",
      "168             245.05      NaN  \n",
      "106                NaN  -149.20  \n",
      "119                NaN  -233.84  \n"
     ]
    }
   ],
   "execution_count": 29
  },
  {
   "cell_type": "code",
   "id": "8341a4c3",
   "metadata": {
    "ExecuteTime": {
     "end_time": "2025-10-19T18:23:59.970951Z",
     "start_time": "2025-10-19T18:23:59.966247Z"
    }
   },
   "source": [
    "print(sp500_esg_errors)"
   ],
   "outputs": [
    {
     "name": "stdout",
     "output_type": "stream",
     "text": [
      "                          Company_Name  Operating_Margin_Pct  ROE_Pct\n",
      "83   Capital One Financial Corporation               -532.77      NaN\n",
      "474               VICI Properties Inc.                109.30      NaN\n",
      "40                AppLovin Corporation                   NaN   253.77\n",
      "115          Colgate-Palmolive Company                   NaN   398.04\n",
      "131                  Crown Castle Inc.                   NaN  -183.28\n",
      "220                       GoDaddy Inc.                   NaN   288.03\n",
      "302                  Masco Corporation                   NaN   514.46\n"
     ]
    }
   ],
   "execution_count": 30
  },
  {
   "cell_type": "markdown",
   "id": "35cea92c",
   "metadata": {},
   "source": [
    "Margin and Return data are just warning (or might be considered outliers) but here should not be removed since some companies can have extreme margins and returns"
   ]
  },
  {
   "cell_type": "markdown",
   "id": "5429afa4",
   "metadata": {},
   "source": "### 1.5.2 Categorical Data"
  },
  {
   "cell_type": "code",
   "id": "93dbb351",
   "metadata": {
    "ExecuteTime": {
     "end_time": "2025-10-19T18:24:00.042743Z",
     "start_time": "2025-10-19T18:24:00.034551Z"
    }
   },
   "source": [
    "categorical_cols = ['Currency', 'Sector', 'Industry', 'Country', 'ESG_Performance', 'Status']\n",
    "for col in categorical_cols:\n",
    "    print(col)\n",
    "    print(spi_esg[col].value_counts())"
   ],
   "outputs": [
    {
     "name": "stdout",
     "output_type": "stream",
     "text": [
      "Currency\n",
      "Currency\n",
      "CHF    141\n",
      "Name: count, dtype: int64\n",
      "Sector\n",
      "Sector\n",
      "Industrials               37\n",
      "Financial Services        31\n",
      "Healthcare                23\n",
      "Technology                13\n",
      "Real Estate                9\n",
      "Consumer Cyclical          9\n",
      "Basic Materials            8\n",
      "Consumer Defensive         7\n",
      "Communication Services     2\n",
      "Utilities                  2\n",
      "Name: count, dtype: int64\n",
      "Industry\n",
      "Industry\n",
      "Banks - Regional                            15\n",
      "Specialty Industrial Machinery              14\n",
      "Building Products & Equipment                7\n",
      "Medical Instruments & Supplies               6\n",
      "Real Estate Services                         6\n",
      "Insurance - Diversified                      5\n",
      "Packaged Foods                               5\n",
      "Specialty Chemicals                          5\n",
      "Asset Management                             5\n",
      "Biotechnology                                4\n",
      "Drug Manufacturers - Specialty & Generic     4\n",
      "Drug Manufacturers - General                 3\n",
      "Banks - Diversified                          3\n",
      "Medical Devices                              3\n",
      "Real Estate - Diversified                    3\n",
      "Scientific & Technical Instruments           3\n",
      "Consulting Services                          2\n",
      "Chemicals                                    2\n",
      "Confectioners                                2\n",
      "Utilities - Renewable                        2\n",
      "Specialty Retail                             2\n",
      "Software - Application                       2\n",
      "Railroads                                    2\n",
      "Luxury Goods                                 2\n",
      "Industrial Distribution                      2\n",
      "Electronic Components                        2\n",
      "Electrical Equipment & Parts                 2\n",
      "Packaging & Containers                       2\n",
      "Capital Markets                              2\n",
      "Communication Equipment                      2\n",
      "Engineering & Construction                   2\n",
      "Aerospace & Defense                          1\n",
      "Auto Manufacturers                           1\n",
      "Airports & Air Services                      1\n",
      "Apparel Manufacturing                        1\n",
      "Diagnostics & Research                       1\n",
      "Conglomerates                                1\n",
      "Computer Hardware                            1\n",
      "Building Materials                           1\n",
      "Auto Parts                                   1\n",
      "Insurance - Reinsurance                      1\n",
      "Integrated Freight & Logistics               1\n",
      "Electronics & Computer Distribution          1\n",
      "Medical Distribution                         1\n",
      "Semiconductors                               1\n",
      "Publishing                                   1\n",
      "Pharmaceutical Retailers                     1\n",
      "Solar                                        1\n",
      "Staffing & Employment Services               1\n",
      "Telecom Services                             1\n",
      "Tools & Accessories                          1\n",
      "Name: count, dtype: int64\n",
      "Country\n",
      "Country\n",
      "Switzerland      136\n",
      "Austria            2\n",
      "Liechtenstein      2\n",
      "Ireland            1\n",
      "Name: count, dtype: int64\n",
      "ESG_Performance\n",
      "ESG_Performance\n",
      "AVG_PERF      62\n",
      "LAG_PERF      61\n",
      "LEAD_PERF     17\n",
      "UNDER_PERF     1\n",
      "Name: count, dtype: int64\n",
      "Status\n",
      "Status\n",
      "Success    141\n",
      "Name: count, dtype: int64\n"
     ]
    }
   ],
   "execution_count": 31
  },
  {
   "cell_type": "code",
   "id": "4b04f710",
   "metadata": {
    "ExecuteTime": {
     "end_time": "2025-10-19T18:24:00.106882Z",
     "start_time": "2025-10-19T18:24:00.099274Z"
    }
   },
   "source": [
    "for col in categorical_cols:\n",
    "    print(col)\n",
    "    print(sp500_esg[col].value_counts())"
   ],
   "outputs": [
    {
     "name": "stdout",
     "output_type": "stream",
     "text": [
      "Currency\n",
      "Currency\n",
      "USD    300\n",
      "Name: count, dtype: int64\n",
      "Sector\n",
      "Sector\n",
      "Industrials               50\n",
      "Financial Services        43\n",
      "Technology                40\n",
      "Healthcare                37\n",
      "Consumer Cyclical         26\n",
      "Consumer Defensive        25\n",
      "Utilities                 22\n",
      "Energy                    17\n",
      "Real Estate               16\n",
      "Basic Materials           13\n",
      "Communication Services    11\n",
      "Name: count, dtype: int64\n",
      "Industry\n",
      "Industry\n",
      "Utilities - Regulated Electric             16\n",
      "Specialty Industrial Machinery             15\n",
      "Aerospace & Defense                         9\n",
      "Semiconductors                              8\n",
      "Oil & Gas E&P                               8\n",
      "                                           ..\n",
      "Specialty Retail                            1\n",
      "Tobacco                                     1\n",
      "Tools & Accessories                         1\n",
      "Utilities - Independent Power Producers     1\n",
      "Utilities - Renewable                       1\n",
      "Name: count, Length: 97, dtype: int64\n",
      "Country\n",
      "Country\n",
      "United States     280\n",
      "Ireland             9\n",
      "Switzerland         4\n",
      "United Kingdom      3\n",
      "Netherlands         1\n",
      "Canada              1\n",
      "Bermuda             1\n",
      "Singapore           1\n",
      "Name: count, dtype: int64\n",
      "ESG_Performance\n",
      "ESG_Performance\n",
      "LAG_PERF     155\n",
      "AVG_PERF     118\n",
      "LEAD_PERF     27\n",
      "Name: count, dtype: int64\n",
      "Status\n",
      "Status\n",
      "Success    300\n",
      "Name: count, dtype: int64\n"
     ]
    }
   ],
   "execution_count": 32
  },
  {
   "cell_type": "markdown",
   "id": "0825c862",
   "metadata": {},
   "source": "### 1.5.3 Integer Data"
  },
  {
   "cell_type": "code",
   "id": "918618f0",
   "metadata": {
    "ExecuteTime": {
     "end_time": "2025-10-19T18:24:00.182644Z",
     "start_time": "2025-10-19T18:24:00.178398Z"
    }
   },
   "source": [
    "print(spi_esg['Highest_Controversy'].value_counts())"
   ],
   "outputs": [
    {
     "name": "stdout",
     "output_type": "stream",
     "text": [
      "Highest_Controversy\n",
      "0.0    93\n",
      "2.0    28\n",
      "1.0    17\n",
      "3.0     1\n",
      "4.0     1\n",
      "Name: count, dtype: int64\n"
     ]
    }
   ],
   "execution_count": 33
  },
  {
   "cell_type": "code",
   "id": "1bc63c2a",
   "metadata": {
    "ExecuteTime": {
     "end_time": "2025-10-19T18:24:00.256890Z",
     "start_time": "2025-10-19T18:24:00.253129Z"
    }
   },
   "source": [
    "print(sp500_esg['Highest_Controversy'].value_counts())"
   ],
   "outputs": [
    {
     "name": "stdout",
     "output_type": "stream",
     "text": [
      "Highest_Controversy\n",
      "2.0    212\n",
      "1.0     32\n",
      "3.0     30\n",
      "0.0     18\n",
      "4.0      7\n",
      "5.0      1\n",
      "Name: count, dtype: int64\n"
     ]
    }
   ],
   "execution_count": 34
  },
  {
   "cell_type": "markdown",
   "id": "3229c2b4",
   "metadata": {},
   "source": "## 1.6 Identify and Treat Outliers"
  },
  {
   "cell_type": "markdown",
   "id": "cf82a857",
   "metadata": {},
   "source": "### 1.6.1 Identify using IQR Method"
  },
  {
   "cell_type": "code",
   "id": "2b97f2aa",
   "metadata": {
    "ExecuteTime": {
     "end_time": "2025-10-19T18:24:00.318351Z",
     "start_time": "2025-10-19T18:24:00.313096Z"
    }
   },
   "source": [
    "def identify_outliers(df, name):\n",
    "    \"\"\"Identify outliers using IQR method\"\"\"\n",
    "    print(f\"\\n{name} - Outlier Detection:\")\n",
    "\n",
    "    numeric_cols = ['Total_ESG_Score', 'Environmental_Score', 'Social_Score', 'Governance_Score',\n",
    "                'Stock_Price', 'Current_Price', 'Market_Cap', 'PB_Ratio', 'Annual_Return_Pct',\n",
    "                'Revenue', 'Net_Income', 'Operating_Margin_Pct', 'Gross_Margin_Pct', 'ROE_Pct', 'ROA_Pct',\n",
    "                'Profit_Margin_Pct', 'EPS', 'Beta', 'Revenue_Growth_Pct']\n",
    "\n",
    "    outlier_summary = {}\n",
    "\n",
    "    for col in numeric_cols:\n",
    "        if col in df.columns and df[col].notna().sum() > 0:\n",
    "            Q1 = df[col].quantile(0.25)\n",
    "            Q3 = df[col].quantile(0.75)\n",
    "            IQR = Q3 - Q1\n",
    "            \n",
    "            lower_bound = Q1 - 3 * IQR  # Using 3*IQR for extreme outliers only\n",
    "            upper_bound = Q3 + 3 * IQR\n",
    "            \n",
    "            outliers = (df[col] < lower_bound) | (df[col] > upper_bound)\n",
    "            outlier_count = outliers.sum()\n",
    "            \n",
    "            if outlier_count > 0:\n",
    "                outlier_summary[col] = {\n",
    "                    'count': outlier_count,\n",
    "                    'percentage': outlier_count / df[col].notna().sum() * 100,\n",
    "                    'lower_bound': lower_bound,\n",
    "                    'upper_bound': upper_bound,\n",
    "                    'outlier_indices': df[outliers].index.tolist()\n",
    "                }\n",
    "                \n",
    "                print(f\"\\n  {col}:\")\n",
    "                print(f\"    Outliers found: {outlier_count} ({outlier_count/df[col].notna().sum()*100:.2f}%)\")\n",
    "                print(f\"    Expected range: [{lower_bound:.2f}, {upper_bound:.2f}]\")\n",
    "                print(f\"    Actual range: [{df[col].min():.2f}, {df[col].max():.2f}]\")\n",
    "    \n",
    "    return outlier_summary"
   ],
   "outputs": [],
   "execution_count": 35
  },
  {
   "cell_type": "code",
   "id": "13f62fba",
   "metadata": {
    "ExecuteTime": {
     "end_time": "2025-10-19T18:24:00.408166Z",
     "start_time": "2025-10-19T18:24:00.377564Z"
    }
   },
   "source": [
    "spi_outliers = identify_outliers(spi_esg, \"SPI\")"
   ],
   "outputs": [
    {
     "name": "stdout",
     "output_type": "stream",
     "text": [
      "\n",
      "SPI - Outlier Detection:\n",
      "\n",
      "  Stock_Price:\n",
      "    Outliers found: 9 (6.43%)\n",
      "    Expected range: [-594.48, 906.74]\n",
      "    Actual range: [0.79, 97134.13]\n",
      "\n",
      "  Current_Price:\n",
      "    Outliers found: 7 (4.96%)\n",
      "    Expected range: [-633.50, 966.70]\n",
      "    Actual range: [0.06, 130600.00]\n",
      "\n",
      "  Market_Cap:\n",
      "    Outliers found: 16 (11.35%)\n",
      "    Expected range: [-19733119488.00, 28683930368.00]\n",
      "    Actual range: [1980570.00, 225000000000.00]\n",
      "\n",
      "  PB_Ratio:\n",
      "    Outliers found: 6 (4.26%)\n",
      "    Expected range: [-9.24, 14.84]\n",
      "    Actual range: [-19.15, 26.44]\n",
      "\n",
      "  Annual_Return_Pct:\n",
      "    Outliers found: 2 (1.42%)\n",
      "    Expected range: [-135.80, 136.29]\n",
      "    Actual range: [-96.56, 264.81]\n",
      "\n",
      "  Revenue:\n",
      "    Outliers found: 11 (7.86%)\n",
      "    Expected range: [-9617416736.00, 14048661560.00]\n",
      "    Actual range: [-80803000.00, 90898997248.00]\n",
      "\n",
      "  Net_Income:\n",
      "    Outliers found: 13 (9.22%)\n",
      "    Expected range: [-829464640.00, 1160774520.00]\n",
      "    Actual range: [-544475008.00, 13653999616.00]\n",
      "\n",
      "  Operating_Margin_Pct:\n",
      "    Outliers found: 3 (2.13%)\n",
      "    Expected range: [-58.81, 91.20]\n",
      "    Actual range: [-1541.06, 84.47]\n",
      "\n",
      "  ROE_Pct:\n",
      "    Outliers found: 8 (5.80%)\n",
      "    Expected range: [-36.55, 60.26]\n",
      "    Actual range: [-233.84, 163.70]\n",
      "\n",
      "  ROA_Pct:\n",
      "    Outliers found: 2 (1.43%)\n",
      "    Expected range: [-17.36, 24.79]\n",
      "    Actual range: [-27.20, 21.88]\n",
      "\n",
      "  Profit_Margin_Pct:\n",
      "    Outliers found: 6 (4.26%)\n",
      "    Expected range: [-58.86, 83.94]\n",
      "    Actual range: [-128.57, 245.05]\n",
      "\n",
      "  EPS:\n",
      "    Outliers found: 15 (10.64%)\n",
      "    Expected range: [-26.36, 37.90]\n",
      "    Actual range: [-28.81, 2764.10]\n",
      "\n",
      "  Revenue_Growth_Pct:\n",
      "    Outliers found: 7 (4.96%)\n",
      "    Expected range: [-35.07, 38.78]\n",
      "    Actual range: [-100.00, 187.55]\n"
     ]
    }
   ],
   "execution_count": 36
  },
  {
   "cell_type": "code",
   "id": "7436c100",
   "metadata": {
    "ExecuteTime": {
     "end_time": "2025-10-19T18:24:00.474842Z",
     "start_time": "2025-10-19T18:24:00.444882Z"
    }
   },
   "source": [
    "sp500_outliers = identify_outliers(sp500_esg, \"S&P 500\")"
   ],
   "outputs": [
    {
     "name": "stdout",
     "output_type": "stream",
     "text": [
      "\n",
      "S&P 500 - Outlier Detection:\n",
      "\n",
      "  Governance_Score:\n",
      "    Outliers found: 4 (1.34%)\n",
      "    Expected range: [-2.95, 11.82]\n",
      "    Actual range: [1.43, 20.21]\n",
      "\n",
      "  Stock_Price:\n",
      "    Outliers found: 7 (2.33%)\n",
      "    Expected range: [-445.61, 728.55]\n",
      "    Actual range: [9.17, 4845.74]\n",
      "\n",
      "  Current_Price:\n",
      "    Outliers found: 9 (3.00%)\n",
      "    Expected range: [-461.97, 762.56]\n",
      "    Actual range: [8.14, 4952.31]\n",
      "\n",
      "  Market_Cap:\n",
      "    Outliers found: 18 (6.00%)\n",
      "    Expected range: [-240310499712.00, 367920374784.00]\n",
      "    Actual range: [6908318208.00, 4430000000000.00]\n",
      "\n",
      "  PB_Ratio:\n",
      "    Outliers found: 30 (10.00%)\n",
      "    Expected range: [-14.17, 22.62]\n",
      "    Actual range: [-2181.44, 175.81]\n",
      "\n",
      "  Annual_Return_Pct:\n",
      "    Outliers found: 4 (1.33%)\n",
      "    Expected range: [-115.30, 119.55]\n",
      "    Actual range: [-58.76, 317.08]\n",
      "\n",
      "  Revenue:\n",
      "    Outliers found: 25 (8.33%)\n",
      "    Expected range: [-73763564544.00, 116229515264.00]\n",
      "    Actual range: [742873024.00, 693000000000.00]\n",
      "\n",
      "  Net_Income:\n",
      "    Outliers found: 25 (8.33%)\n",
      "    Expected range: [-8342699712.00, 13052274672.00]\n",
      "    Actual range: [-20504000512.00, 116000000000.00]\n",
      "\n",
      "  Operating_Margin_Pct:\n",
      "    Outliers found: 2 (0.67%)\n",
      "    Expected range: [-36.90, 79.72]\n",
      "    Actual range: [-532.77, 109.30]\n",
      "\n",
      "  ROE_Pct:\n",
      "    Outliers found: 17 (6.07%)\n",
      "    Expected range: [-50.54, 88.66]\n",
      "    Actual range: [-183.28, 514.46]\n",
      "\n",
      "  ROA_Pct:\n",
      "    Outliers found: 4 (1.35%)\n",
      "    Expected range: [-13.09, 24.92]\n",
      "    Actual range: [-3.73, 53.09]\n",
      "\n",
      "  Profit_Margin_Pct:\n",
      "    Outliers found: 5 (1.67%)\n",
      "    Expected range: [-31.79, 59.81]\n",
      "    Actual range: [-71.71, 72.96]\n",
      "\n",
      "  EPS:\n",
      "    Outliers found: 3 (1.00%)\n",
      "    Expected range: [-18.64, 30.12]\n",
      "    Actual range: [-16.55, 143.62]\n",
      "\n",
      "  Revenue_Growth_Pct:\n",
      "    Outliers found: 12 (4.01%)\n",
      "    Expected range: [-30.59, 40.28]\n",
      "    Actual range: [-45.71, 114.20]\n"
     ]
    }
   ],
   "execution_count": 37
  },
  {
   "cell_type": "markdown",
   "id": "00495fbe",
   "metadata": {},
   "source": "### 1.6.2 Visualize using Boxplot"
  },
  {
   "cell_type": "code",
   "id": "c886735c",
   "metadata": {
    "ExecuteTime": {
     "end_time": "2025-10-19T18:24:00.606467Z",
     "start_time": "2025-10-19T18:24:00.602309Z"
    }
   },
   "source": [
    "def plot_outliers(df, name):\n",
    "    \"\"\"Plot boxplots for numeric columns to visualize outliers\"\"\"\n",
    "    numeric_cols = ['Total_ESG_Score', 'Environmental_Score', 'Social_Score', 'Governance_Score',\n",
    "                    'Stock_Price', 'Current_Price', 'Market_Cap', 'PB_Ratio', 'Annual_Return_Pct',\n",
    "                    'Revenue', 'Net_Income', 'Operating_Margin_Pct', 'Gross_Margin_Pct', 'ROE_Pct', 'ROA_Pct',\n",
    "                    'Profit_Margin_Pct', 'EPS', 'Beta', 'Revenue_Growth_Pct']\n",
    "\n",
    "    for col in numeric_cols:\n",
    "        if col in df.columns and df[col].notna().sum() > 0:\n",
    "            plt.figure(figsize=(8, 4))\n",
    "            sns.boxplot(x=df[col], showfliers=True)\n",
    "            plt.title(f\"{name} - {col} Boxplot with Outliers\")\n",
    "            plt.xlabel(col)\n",
    "            plt.show()"
   ],
   "outputs": [],
   "execution_count": 38
  },
  {
   "cell_type": "code",
   "id": "2b7fb9ee",
   "metadata": {
    "ExecuteTime": {
     "end_time": "2025-10-19T18:24:02.171287Z",
     "start_time": "2025-10-19T18:24:00.620809Z"
    }
   },
   "source": [
    "plot_outliers(spi_esg, \"SPI\")"
   ],
   "outputs": [
    {
     "data": {
      "text/plain": [
       "<Figure size 800x400 with 1 Axes>"
      ],
      "image/png": "[encoded data removed]"
     },
     "metadata": {},
     "output_type": "display_data",
     "jetTransient": {
      "display_id": null
     }
    },
    {
     "data": {
      "text/plain": [
       "<Figure size 800x400 with 1 Axes>"
      ],
      "image/png": "[encoded data removed]"
     },
     "metadata": {},
     "output_type": "display_data",
     "jetTransient": {
      "display_id": null
     }
    },
    {
     "data": {
      "text/plain": [
       "<Figure size 800x400 with 1 Axes>"
      ],
      "image/png": "[encoded data removed]"
     },
     "metadata": {},
     "output_type": "display_data",
     "jetTransient": {
      "display_id": null
     }
    },
    {
     "data": {
      "text/plain": [
       "<Figure size 800x400 with 1 Axes>"
      ],
      "image/png": "[encoded data removed]"
     },
     "metadata": {},
     "output_type": "display_data",
     "jetTransient": {
      "display_id": null
     }
    },
    {
     "data": {
      "text/plain": [
       "<Figure size 800x400 with 1 Axes>"
      ],
      "image/png": "[encoded data removed]"
     },
     "metadata": {},
     "output_type": "display_data",
     "jetTransient": {
      "display_id": null
     }
    },
    {
     "data": {
      "text/plain": [
       "<Figure size 800x400 with 1 Axes>"
      ],
      "image/png": "[encoded data removed]"
     },
     "metadata": {},
     "output_type": "display_data",
     "jetTransient": {
      "display_id": null
     }
    },
    {
     "data": {
      "text/plain": [
       "<Figure size 800x400 with 1 Axes>"
      ],
      "image/png": "[encoded data removed]"
     },
     "metadata": {},
     "output_type": "display_data",
     "jetTransient": {
      "display_id": null
     }
    },
    {
     "data": {
      "text/plain": [
       "<Figure size 800x400 with 1 Axes>"
      ],
      "image/png": "[encoded data removed]"
     },
     "metadata": {},
     "output_type": "display_data",
     "jetTransient": {
      "display_id": null
     }
    },
    {
     "data": {
      "text/plain": [
       "<Figure size 800x400 with 1 Axes>"
      ],
      "image/png": "[encoded data removed]"
     },
     "metadata": {},
     "output_type": "display_data",
     "jetTransient": {
      "display_id": null
     }
    },
    {
     "data": {
      "text/plain": [
       "<Figure size 800x400 with 1 Axes>"
      ],
      "image/png": "[encoded data removed]"
     },
     "metadata": {},
     "output_type": "display_data",
     "jetTransient": {
      "display_id": null
     }
    },
    {
     "data": {
      "text/plain": [
       "<Figure size 800x400 with 1 Axes>"
      ],
      "image/png": "[encoded data removed]"
     },
     "metadata": {},
     "output_type": "display_data",
     "jetTransient": {
      "display_id": null
     }
    },
    {
     "data": {
      "text/plain": [
       "<Figure size 800x400 with 1 Axes>"
      ],
      "image/png": "[encoded data removed]"
     },
     "metadata": {},
     "output_type": "display_data",
     "jetTransient": {
      "display_id": null
     }
    },
    {
     "data": {
      "text/plain": [
       "<Figure size 800x400 with 1 Axes>"
      ],
      "image/png": "[encoded data removed]"
     },
     "metadata": {},
     "output_type": "display_data",
     "jetTransient": {
      "display_id": null
     }
    },
    {
     "data": {
      "text/plain": [
       "<Figure size 800x400 with 1 Axes>"
      ],
      "image/png": "[encoded data removed]"
     },
     "metadata": {},
     "output_type": "display_data",
     "jetTransient": {
      "display_id": null
     }
    },
    {
     "data": {
      "text/plain": [
       "<Figure size 800x400 with 1 Axes>"
      ],
      "image/png": "[encoded data removed]"
     },
     "metadata": {},
     "output_type": "display_data",
     "jetTransient": {
      "display_id": null
     }
    },
    {
     "data": {
      "text/plain": [
       "<Figure size 800x400 with 1 Axes>"
      ],
      "image/png": "[encoded data removed]"
     },
     "metadata": {},
     "output_type": "display_data",
     "jetTransient": {
      "display_id": null
     }
    },
    {
     "data": {
      "text/plain": [
       "<Figure size 800x400 with 1 Axes>"
      ],
      "image/png": "[encoded data removed]"
     },
     "metadata": {},
     "output_type": "display_data",
     "jetTransient": {
      "display_id": null
     }
    },
    {
     "data": {
      "text/plain": [
       "<Figure size 800x400 with 1 Axes>"
      ],
      "image/png": "[encoded data removed]"
     },
     "metadata": {},
     "output_type": "display_data",
     "jetTransient": {
      "display_id": null
     }
    },
    {
     "data": {
      "text/plain": [
       "<Figure size 800x400 with 1 Axes>"
      ],
      "image/png": "[encoded data removed]"
     },
     "metadata": {},
     "output_type": "display_data",
     "jetTransient": {
      "display_id": null
     }
    }
   ],
   "execution_count": 39
  },
  {
   "cell_type": "markdown",
   "id": "f5594f9c",
   "metadata": {},
   "source": [
    "Boxplots help us visually identify where extreme values occur for specific metrics. Given that our effective ESG sample size is limited, we do not handle extreme values during the data preparation stage, as such extreme values may be legitimate.\n",
    "\n",
    "TODO: Addressing outliers (keep or remove them) during the analysis and comparison of specific metrics, based on the observed distributions"
   ]
  },
  {
   "cell_type": "markdown",
   "id": "bc547364",
   "metadata": {},
   "source": "## 1.7 Enrich Dataset with Additional Information"
  },
  {
   "cell_type": "markdown",
   "id": "ed759f7e",
   "metadata": {},
   "source": "### 1.7.1 Add Company_Type column for identification before merging"
  },
  {
   "cell_type": "code",
   "id": "cecc4a58",
   "metadata": {
    "ExecuteTime": {
     "end_time": "2025-10-19T18:24:02.303256Z",
     "start_time": "2025-10-19T18:24:02.300709Z"
    }
   },
   "source": [
    "spi_esg['Company_Type'] = \"SPI\"\n",
    "sp500_esg['Company_Type'] = \"S&P 500\""
   ],
   "outputs": [],
   "execution_count": 40
  },
  {
   "cell_type": "markdown",
   "id": "4526e6ae",
   "metadata": {},
   "source": "### 1.7.2 ESG Risk Classification"
  },
  {
   "cell_type": "markdown",
   "id": "812fba79",
   "metadata": {},
   "source": [
    "Yahoo Finance utilizes Sustainalytics’ ESG Risk Ratings, which categorize companies into five levels: Negligible, Low, Medium, High, and Severe. These ratings are visually represented using ESG Globe icons, where **Low numbers indicate a low risk, whereas higher numbers indicate a higher risk**. This classification is widely used in ESG data analysis and investment decision-making."
   ]
  },
  {
   "cell_type": "markdown",
   "id": "1ec339c4",
   "metadata": {},
   "source": [
    "**ESG Risk Categories at Overall Level** \n",
    "(according to [ESG Risk Ratings Methodology](https://www.sustainalytics.com/docs/knowledgehublibraries/default-document-library/sustainalytics_-esg-risk-ratings_-version-3-1_-methodology-abstract_-june-2024.pdf))\n",
    "\n",
    "A company’s ESG Risk Ratings score on Overall Level is assigned to one of five ESG risk categories in the ESG Risk Ratings:\n",
    "- Negligible risk (overall unmanaged risk score between 0 and 9.99 points): ESG factors are considered to drive negligible risk to enterprise value.\n",
    "- Low risk (overall unmanaged risk score between 10 and 19.99 points): ESG factors are considered to drive low risk to enterprise value.\n",
    "- Medium risk (overall unmanaged risk score between 20 and 29.99 points): ESG factors are considered to drive medium risk to enterprise value.\n",
    "- High risk (overall unmanaged risk score between 30 and 39.99 points): ESG factors are considered to drive high risk to enterprise value.\n",
    "- Severe risk (overall unmanaged risk score 40 points and above): ESG factors are considered to drive severe risk to enterprise value.\n",
    "\n",
    "Note: Because ESG risks materialize at an unknown time in the future and depend on a variety of unpredictable conditions, no predictions on financial or share price impacts, or on the time horizon of such impacts, are intended or implied by these risk categories."
   ]
  },
  {
   "cell_type": "code",
   "id": "935f4e0c",
   "metadata": {
    "ExecuteTime": {
     "end_time": "2025-10-19T18:24:02.412975Z",
     "start_time": "2025-10-19T18:24:02.408924Z"
    }
   },
   "source": [
    "def categorize_esg_risk(score):\n",
    "    if pd.isna(score):\n",
    "        return np.nan\n",
    "    elif score < 10:\n",
    "        return 'Negligible'\n",
    "    elif score < 20:\n",
    "        return 'Low'\n",
    "    elif score < 30:\n",
    "        return 'Medium'\n",
    "    elif score < 40:\n",
    "        return 'High'\n",
    "    else:\n",
    "        return 'Severe'\n",
    "    \n",
    "spi_esg['ESG_Risk_Category'] = spi_esg['Total_ESG_Score'].apply(categorize_esg_risk)\n",
    "spi_esg['ESG_Risk_Category'] = spi_esg['ESG_Risk_Category'].astype('category')"
   ],
   "outputs": [],
   "execution_count": 41
  },
  {
   "cell_type": "code",
   "id": "9f163df2",
   "metadata": {
    "ExecuteTime": {
     "end_time": "2025-10-19T18:24:02.432941Z",
     "start_time": "2025-10-19T18:24:02.429230Z"
    }
   },
   "source": [
    "sp500_esg['ESG_Risk_Category'] = sp500_esg['Total_ESG_Score'].apply(categorize_esg_risk)\n",
    "sp500_esg['ESG_Risk_Category'] = sp500_esg['ESG_Risk_Category'].astype('category')"
   ],
   "outputs": [],
   "execution_count": 42
  },
  {
   "cell_type": "markdown",
   "id": "11ce05cd",
   "metadata": {},
   "source": "### 1.7.2 Reorder columns for better readability"
  },
  {
   "cell_type": "code",
   "id": "d5383960",
   "metadata": {
    "ExecuteTime": {
     "end_time": "2025-10-19T18:24:02.495817Z",
     "start_time": "2025-10-19T18:24:02.492360Z"
    }
   },
   "source": [
    "cols = list(spi_esg.columns)\n",
    "cols.remove('Company_Type')\n",
    "idx = cols.index('Company_Name') + 1\n",
    "cols.insert(idx, 'Company_Type')\n",
    "spi_esg = spi_esg[cols]"
   ],
   "outputs": [],
   "execution_count": 43
  },
  {
   "cell_type": "code",
   "id": "31937133",
   "metadata": {
    "ExecuteTime": {
     "end_time": "2025-10-19T18:24:02.553961Z",
     "start_time": "2025-10-19T18:24:02.550701Z"
    }
   },
   "source": [
    "cols = list(spi_esg.columns)\n",
    "cols.remove('ESG_Risk_Category')\n",
    "idx = cols.index('Country') + 1\n",
    "cols.insert(idx, 'ESG_Risk_Category')\n",
    "spi_esg = spi_esg[cols]"
   ],
   "outputs": [],
   "execution_count": 44
  },
  {
   "cell_type": "code",
   "id": "9ea12fe3",
   "metadata": {
    "ExecuteTime": {
     "end_time": "2025-10-19T18:24:02.690791Z",
     "start_time": "2025-10-19T18:24:02.686946Z"
    }
   },
   "source": [
    "cols = list(sp500_esg.columns)\n",
    "cols.remove('Company_Type')\n",
    "idx = cols.index('Company_Name') + 1\n",
    "cols.insert(idx, 'Company_Type')\n",
    "\n",
    "cols.remove('ESG_Risk_Category')\n",
    "idx = cols.index('Country') + 1\n",
    "cols.insert(idx, 'ESG_Risk_Category')\n",
    "\n",
    "sp500_esg = sp500_esg[cols]"
   ],
   "outputs": [],
   "execution_count": 45
  },
  {
   "cell_type": "markdown",
   "id": "45f8aefd",
   "metadata": {},
   "source": "## 1.8 Format Dataset for Analysis"
  },
  {
   "cell_type": "markdown",
   "id": "fab17e68",
   "metadata": {},
   "source": "### 1.8.1 Remove columns with identical value"
  },
  {
   "cell_type": "code",
   "id": "abb2d86d",
   "metadata": {
    "ExecuteTime": {
     "end_time": "2025-10-19T18:24:02.710770Z",
     "start_time": "2025-10-19T18:24:02.705482Z"
    }
   },
   "source": [
    "esg_clean = pd.concat([spi_esg, sp500_esg], ignore_index=True)"
   ],
   "outputs": [],
   "execution_count": 46
  },
  {
   "cell_type": "code",
   "id": "4a8b43e3",
   "metadata": {
    "ExecuteTime": {
     "end_time": "2025-10-19T18:24:02.839191Z",
     "start_time": "2025-10-19T18:24:02.832801Z"
    }
   },
   "source": [
    "cols_to_drop = [col for col in esg_clean.columns if esg_clean[col].nunique() == 1]\n",
    "\n",
    "esg_clean = esg_clean.drop(columns=cols_to_drop)\n",
    "\n",
    "print(\"Dropped columns:\", cols_to_drop)"
   ],
   "outputs": [
    {
     "name": "stdout",
     "output_type": "stream",
     "text": [
      "Dropped columns: ['Data_Date', 'Status']\n"
     ]
    }
   ],
   "execution_count": 47
  },
  {
   "cell_type": "markdown",
   "id": "061a038b",
   "metadata": {},
   "source": "### 1.8.2 Save Cleaned Datasets"
  },
  {
   "cell_type": "code",
   "id": "ab802981",
   "metadata": {
    "ExecuteTime": {
     "end_time": "2025-10-19T18:24:02.888547Z",
     "start_time": "2025-10-19T18:24:02.878525Z"
    }
   },
   "source": [
    "esg_clean.to_csv(\"Data/cleaned_combined_data.csv\", index=False)"
   ],
   "outputs": [],
   "execution_count": 48
  },
  {
   "cell_type": "markdown",
   "id": "f21f676b",
   "metadata": {},
   "source": [
    "# 2 Light Exploratory Data Analysis\n",
    "- Industry Distribution\n",
    "- ESG Distribution"
   ]
  },
  {
   "cell_type": "markdown",
   "id": "6bafa11f",
   "metadata": {},
   "source": "## 2.1 Industry Distribution"
  },
  {
   "cell_type": "code",
   "id": "f31fb08c",
   "metadata": {
    "ExecuteTime": {
     "end_time": "2025-10-19T18:24:03.103253Z",
     "start_time": "2025-10-19T18:24:02.947102Z"
    }
   },
   "source": [
    "# Top 10 industries by overall company count\n",
    "top_industries = esg_clean['Industry'].value_counts().head(10).index\n",
    "top_ind = esg_clean[esg_clean['Industry'].isin(top_industries)]\n",
    "\n",
    "industry_type_counts = pd.crosstab(top_ind['Industry'], top_ind['Company_Type'])\n",
    "industry_type_counts = industry_type_counts[['SPI', 'S&P 500']]\n",
    "industry_type_counts['Total'] = industry_type_counts.sum(axis=1)\n",
    "industry_type_counts = industry_type_counts.sort_values(by='Total', ascending=True)\n",
    "industry_type_counts = industry_type_counts.drop(columns='Total')\n",
    "\n",
    "# figure\n",
    "industry_type_counts.plot(kind='barh', stacked=True, \n",
    "                         color=['#2E86AB', '#A23B72'])\n",
    "\n",
    "plt.xlabel('Number of Companies', fontsize=11)\n",
    "plt.ylabel('Industry', fontsize=11)\n",
    "plt.title('Top 10 Industries (SPI + S&P 500)', fontsize=12, fontweight='bold')\n",
    "plt.legend(title='Company Type', fontsize=9)\n",
    "plt.grid(axis='x', alpha=0.3)\n",
    "\n",
    "plt.show()"
   ],
   "outputs": [
    {
     "data": {
      "text/plain": [
       "<Figure size 640x480 with 1 Axes>"
      ],
      "image/png": "[encoded data removed]"
     },
     "metadata": {},
     "output_type": "display_data",
     "jetTransient": {
      "display_id": null
     }
    }
   ],
   "execution_count": 49
  },
  {
   "cell_type": "markdown",
   "id": "395862a8",
   "metadata": {},
   "source": "**Top 10 Industries according to SPI counts**"
  },
  {
   "cell_type": "code",
   "id": "a8028101",
   "metadata": {
    "ExecuteTime": {
     "end_time": "2025-10-19T18:24:03.298402Z",
     "start_time": "2025-10-19T18:24:03.137136Z"
    }
   },
   "source": [
    "spi_companies = esg_clean[esg_clean['Company_Type'] == 'SPI']\n",
    "top_spi_industries = spi_companies['Industry'].value_counts().head(10).index\n",
    "\n",
    "top_spi_ind = esg_clean[esg_clean['Industry'].isin(top_spi_industries)]\n",
    "\n",
    "industry_spi_counts = pd.crosstab(top_spi_ind['Industry'], top_spi_ind['Company_Type'])\n",
    "industry_spi_counts = industry_spi_counts[['SPI', 'S&P 500']]\n",
    "industry_spi_counts = industry_spi_counts.sort_values(by='SPI', ascending=True)\n",
    "\n",
    "industry_spi_counts.plot(kind='barh', stacked=True, \n",
    "                          color=['#2E86AB', '#A23B72'])\n",
    "\n",
    "plt.xlabel('Number of Companies', fontsize=11)\n",
    "plt.ylabel('Industry', fontsize=11)\n",
    "plt.title('Top 10 Industries (SPI)', fontsize=12, fontweight='bold')\n",
    "plt.legend(title='Company Type', fontsize=9)\n",
    "plt.grid(axis='x', alpha=0.3)\n",
    "plt.tight_layout()\n",
    "\n",
    "plt.show()"
   ],
   "outputs": [
    {
     "data": {
      "text/plain": [
       "<Figure size 640x480 with 1 Axes>"
      ],
      "image/png": "[encoded data removed]"
     },
     "metadata": {},
     "output_type": "display_data",
     "jetTransient": {
      "display_id": null
     }
    }
   ],
   "execution_count": 50
  },
  {
   "cell_type": "markdown",
   "id": "c4beaf76",
   "metadata": {},
   "source": "## 2.2 ESG Distribution"
  },
  {
   "cell_type": "code",
   "id": "d141d87c",
   "metadata": {
    "ExecuteTime": {
     "end_time": "2025-10-19T18:24:03.499360Z",
     "start_time": "2025-10-19T18:24:03.359410Z"
    }
   },
   "source": [
    "plt.figure(figsize=(6,4))\n",
    "plt.hist(esg_clean[esg_clean['Company_Type']=='SPI']['Total_ESG_Score'].dropna(), bins=25, alpha=0.6, label='SPI')\n",
    "plt.hist(esg_clean[esg_clean['Company_Type']=='S&P 500']['Total_ESG_Score'].dropna(), bins=25, alpha=0.6, label='S&P 500')\n",
    "plt.xlabel('Total ESG Score')\n",
    "plt.ylabel('Frequency')\n",
    "plt.title('Total ESG Score Distribution')\n",
    "plt.legend()\n",
    "plt.grid(alpha=0.3)\n",
    "plt.show()"
   ],
   "outputs": [
    {
     "data": {
      "text/plain": [
       "<Figure size 600x400 with 1 Axes>"
      ],
      "image/png": "[encoded data removed]"
     },
     "metadata": {},
     "output_type": "display_data",
     "jetTransient": {
      "display_id": null
     }
    }
   ],
   "execution_count": 51
  },
  {
   "cell_type": "code",
   "id": "48feb356",
   "metadata": {
    "ExecuteTime": {
     "end_time": "2025-10-19T18:24:04.166419Z",
     "start_time": "2025-10-19T18:24:03.553178Z"
    }
   },
   "source": [
    "esg_cols = ['Total_ESG_Score', 'Environmental_Score', 'Social_Score', 'Governance_Score']\n",
    "esg_labels = ['Total ESG', 'Environmental (E)', 'Social (S)', 'Governance (G)']\n",
    "\n",
    "fig, axes = plt.subplots(2, 2, figsize=(12, 10))\n",
    "axes = axes.flatten()\n",
    "\n",
    "for i, col in enumerate(esg_cols):\n",
    "    sns.boxplot(data=esg_clean, x='Company_Type', y=col, ax=axes[i], palette=['#2E86AB', '#A23B72'])\n",
    "    axes[i].set_title(f'{esg_labels[i]} Comparison', fontsize=12, fontweight='bold')\n",
    "    axes[i].grid(axis='y', alpha=0.3)\n",
    "    axes[i].set_xlabel('')\n",
    "    axes[i].set_ylabel('Score')\n",
    "\n",
    "plt.tight_layout()\n",
    "plt.show()"
   ],
   "outputs": [
    {
     "name": "stderr",
     "output_type": "stream",
     "text": [
      "/tmp/ipykernel_23354/123533497.py:8: FutureWarning: \n",
      "\n",
      "Passing `palette` without assigning `hue` is deprecated and will be removed in v0.14.0. Assign the `x` variable to `hue` and set `legend=False` for the same effect.\n",
      "\n",
      "  sns.boxplot(data=esg_clean, x='Company_Type', y=col, ax=axes[i], palette=['#2E86AB', '#A23B72'])\n",
      "/tmp/ipykernel_23354/123533497.py:8: FutureWarning: \n",
      "\n",
      "Passing `palette` without assigning `hue` is deprecated and will be removed in v0.14.0. Assign the `x` variable to `hue` and set `legend=False` for the same effect.\n",
      "\n",
      "  sns.boxplot(data=esg_clean, x='Company_Type', y=col, ax=axes[i], palette=['#2E86AB', '#A23B72'])\n",
      "/tmp/ipykernel_23354/123533497.py:8: FutureWarning: \n",
      "\n",
      "Passing `palette` without assigning `hue` is deprecated and will be removed in v0.14.0. Assign the `x` variable to `hue` and set `legend=False` for the same effect.\n",
      "\n",
      "  sns.boxplot(data=esg_clean, x='Company_Type', y=col, ax=axes[i], palette=['#2E86AB', '#A23B72'])\n",
      "/tmp/ipykernel_23354/123533497.py:8: FutureWarning: \n",
      "\n",
      "Passing `palette` without assigning `hue` is deprecated and will be removed in v0.14.0. Assign the `x` variable to `hue` and set `legend=False` for the same effect.\n",
      "\n",
      "  sns.boxplot(data=esg_clean, x='Company_Type', y=col, ax=axes[i], palette=['#2E86AB', '#A23B72'])\n"
     ]
    },
    {
     "data": {
      "text/plain": [
       "<Figure size 1200x1000 with 4 Axes>"
      ],
      "image/png": "[encoded data removed]"
     },
     "metadata": {},
     "output_type": "display_data",
     "jetTransient": {
      "display_id": null
     }
    }
   ],
   "execution_count": 52
  },
  {
   "cell_type": "code",
   "id": "3a0de455",
   "metadata": {
    "ExecuteTime": {
     "end_time": "2025-10-19T18:24:04.394388Z",
     "start_time": "2025-10-19T18:24:04.254929Z"
    }
   },
   "source": [
    "plt.figure(figsize=(7,4))\n",
    "pd.crosstab(esg_clean['ESG_Risk_Category'], esg_clean['Company_Type']).plot(kind='bar', color=['#2E86AB', '#A23B72'])\n",
    "plt.xlabel('ESG Risk Category')\n",
    "plt.ylabel('Number of Companies')\n",
    "plt.title('ESG Risk Category Distribution')\n",
    "plt.grid(axis='y', alpha=0.3)\n",
    "plt.tight_layout()\n",
    "plt.show()"
   ],
   "outputs": [
    {
     "data": {
      "text/plain": [
       "<Figure size 700x400 with 0 Axes>"
      ]
     },
     "metadata": {},
     "output_type": "display_data",
     "jetTransient": {
      "display_id": null
     }
    },
    {
     "data": {
      "text/plain": [
       "<Figure size 640x480 with 1 Axes>"
      ],
      "image/png": "[encoded data removed]"
     },
     "metadata": {},
     "output_type": "display_data",
     "jetTransient": {
      "display_id": null
     }
    }
   ],
   "execution_count": 53
  },
  {
   "cell_type": "code",
   "id": "54485ebb",
   "metadata": {
    "ExecuteTime": {
     "end_time": "2025-10-19T18:24:04.465967Z",
     "start_time": "2025-10-19T18:24:04.459956Z"
    }
   },
   "source": [
    "esg_means = esg_clean.groupby('Company_Type')[esg_cols].mean().round(2)\n",
    "print(esg_means)"
   ],
   "outputs": [
    {
     "name": "stdout",
     "output_type": "stream",
     "text": [
      "              Total_ESG_Score  Environmental_Score  Social_Score  \\\n",
      "Company_Type                                                       \n",
      "S&P 500                 20.16                 6.87          8.53   \n",
      "SPI                     22.15                 5.72          8.23   \n",
      "\n",
      "              Governance_Score  \n",
      "Company_Type                    \n",
      "S&P 500                   4.79  \n",
      "SPI                       5.48  \n"
     ]
    }
   ],
   "execution_count": 54
  },
  {
   "metadata": {},
   "cell_type": "markdown",
   "source": "# 3 Relationship between financial performance and ESG",
   "id": "fee53cabebcbe41f"
  },
  {
   "metadata": {},
   "cell_type": "markdown",
   "source": "To answer this question, we want to look into the relationship of several financial performance indicators with the ESG risk score. We first look at the different variables and whey they are relevant or not for further analysis",
   "id": "97e6e04e15c4bbda"
  },
  {
   "metadata": {},
   "cell_type": "markdown",
   "source": [
    "| **Indicator**            | **Description**                               | **Relevancy for Financial Performance** | **Remarks**                                   |\n",
    "| ------------------------ | --------------------------------------------- | --------------------------------------- | --------------------------------------------- |\n",
    "| **Stock_Price**          | Stock price at reference date                 | ❌ Not relevant                           | Not comparable across firms                   |\n",
    "| **Current_Price**        | Most recent stock price                       | ❌ Not relevant                            | Used to compute returns                       |\n",
    "| **Market_Cap**           | Market capitalization (price × shares)        | ⚪ Control variable                      | Proxy for firm size                           |\n",
    "| **log_mc**               | Log-transformed market capitalization         | ⚪ Control variable                      | Used in regressions for size control          |\n",
    "| **PB_Ratio**             | Price-to-book ratio                           | ✅ Relevant                              | Measures market valuation vs. book value      |\n",
    "| **Annual_Return_Pct**    | Annualized stock return (%)                   | ✅ Highly relevant                       | Captures market-based performance             |\n",
    "| **Revenue**              | Total revenues                                | ⚪ Control variable                      | Use only for scaling or ratios                |\n",
    "| **Net_Income**           | Total net income                              | ⚪ Control variable                      | Absolute measure, not comparable across firms |\n",
    "| **Operating_Margin_Pct** | Operating income / revenue                    | ✅ Relevant                              | Core profitability indicator                  |\n",
    "| **Gross_Margin_Pct**     | Gross profit / revenue                        | ✅ Relevant                              | Indicates production efficiency               |\n",
    "| **ROE_Pct**              | Return on equity                              | ✅ Relevant                              | Measures profitability to shareholders        |\n",
    "| **ROA_Pct**              | Return on assets                              | ✅ Relevant                              | Measures efficiency of asset use              |\n",
    "| **Profit_Margin_Pct**    | Net profit / revenue                          | ✅ Relevant                              | Overall profitability indicator               |\n",
    "| **EPS**                  | Earnings per share                            | ✅ Relevant                              | Reflects profitability per share              |\n",
    "| **Beta**                 | Systematic market risk                        | ✅ Relevant                              | Indicates volatility relative to market       |\n",
    "| **Revenue_Growth_Pct**   | Revenue growth rate (%)                       | ✅ Relevant                              | Measures growth and business momentum         |\n"
   ],
   "id": "ae53ff79f9daf714"
  },
  {
   "metadata": {},
   "cell_type": "markdown",
   "source": "For the analysis we want to look closer into these models closer",
   "id": "5335a77a42ff5d1"
  },
  {
   "metadata": {},
   "cell_type": "markdown",
   "source": [
    "| **Research Focus**     | **Dependent Variable(s)**                                         | **Control Variables**                         | **Independent Variable (ESG)**      |\n",
    "| ---------------------- | ----------------------------------------------------------------- | --------------------------------------------- | ----------------------------------- |\n",
    "| **Market performance** | `Annual_Return_Pct`                                               | `log_mc`, `Revenue_Growth_Pct`, `C(Industry)` | `Total_ESG_Score`                   |\n",
    "| **Profitability**      | `ROE_Pct`, `ROA_Pct`, `Profit_Margin_Pct`, `Operating_Margin_Pct` | `log_mc`, `C(Industry)`                       | `Total_ESG_Score`                   |\n",
    "| **Valuation**          | `PB_Ratio`, `EPS`                                                 | `log_mc`, `Revenue_Growth_Pct`, `C(Industry)` | `Total_ESG_Score`                   |\n",
    "| **Risk profile**       | `Beta`                                                            | `log_mc`, `C(Industry)`                       | `Total_ESG_Score`                   |\n",
    "| **Growth perspective** | `Revenue_Growth_Pct`                                              | `log_mc`, `C(Industry)`                       | `Total_ESG_Score` or ESG sub-scores |\n"
   ],
   "id": "b34b440e7030f6dd"
  },
  {
   "metadata": {},
   "cell_type": "markdown",
   "source": "## 3.1 Market performance",
   "id": "3c274ccbb2000c00"
  },
  {
   "metadata": {},
   "cell_type": "markdown",
   "source": "### 3.1.1 Data preparation",
   "id": "40b560e54adc986c"
  },
  {
   "metadata": {},
   "cell_type": "markdown",
   "source": [
    "First prepare the data for the analysis:\n",
    "1. create a dataset only with the SPI companies\n",
    "2. log transform market cap to smoothen extreme values\n",
    "3. choose only those observations with complete data for necessary variables\n",
    "4. check number of observation per industry to see if we have enough observations"
   ],
   "id": "be2c9b40c609395e"
  },
  {
   "metadata": {
    "ExecuteTime": {
     "end_time": "2025-10-19T18:41:39.029697Z",
     "start_time": "2025-10-19T18:41:39.012847Z"
    }
   },
   "cell_type": "code",
   "source": [
    "# only SPI dataset from merged data\n",
    "ch = esg_clean.query(\"Company_Type == 'SPI'\").copy()\n",
    "\n",
    "# log transformed market cap to smoothen extreme values\n",
    "ch[\"log_mc\"] = np.log1p(ch[\"Market_Cap\"])\n",
    "\n",
    "#choose only those entries with complete data in the necessary variables\n",
    "vars_needed_1 = [\n",
    "    \"Annual_Return_Pct\",\n",
    "    \"Total_ESG_Score\",\n",
    "    \"log_mc\",\n",
    "    \"Revenue_Growth_Pct\",\n",
    "    \"Industry\"\n",
    "]\n",
    "\n",
    "# drop rows with missing values\n",
    "df_return = ch.dropna(subset=vars_needed_1).copy()\n",
    "print(\"N after drop NA:\", len(df_return))\n",
    "df_return[vars_needed_1].describe()\n",
    "\n",
    "\n",
    "# Check range of ESG and Return values\n",
    "print(\"ESG range:\", df_return[\"Total_ESG_Score\"].min(), \"-\", df_return[\"Total_ESG_Score\"].max())\n",
    "print(\"Return range:\", df_return[\"Annual_Return_Pct\"].min(), \"-\", df_return[\"Annual_Return_Pct\"].max())\n",
    "\n",
    "# Industry representation\n",
    "print(\"Industries:\", df_return[\"Industry\"].nunique())\n",
    "print(df_return[\"Industry\"].value_counts().head(10))"
   ],
   "id": "3f997c385fde7a7e",
   "outputs": [
    {
     "name": "stdout",
     "output_type": "stream",
     "text": [
      "N after drop NA: 141\n",
      "ESG range: 8.56 - 49.05\n",
      "Return range: -96.56 - 264.81\n",
      "Industries: 51\n",
      "Industry\n",
      "Banks - Regional                            15\n",
      "Specialty Industrial Machinery              14\n",
      "Building Products & Equipment                7\n",
      "Medical Instruments & Supplies               6\n",
      "Real Estate Services                         6\n",
      "Packaged Foods                               5\n",
      "Specialty Chemicals                          5\n",
      "Asset Management                             5\n",
      "Insurance - Diversified                      5\n",
      "Drug Manufacturers - Specialty & Generic     4\n",
      "Name: count, dtype: int64\n"
     ]
    }
   ],
   "execution_count": 59
  },
  {
   "metadata": {},
   "cell_type": "markdown",
   "source": [
    "- We see that the number of companies per industry is maximum 15. Not surprising when considering that the dataset includes only 141 observations. We will take the low number per industry into account for further analysis.\n",
    "- When looking at the range of ESG rist, we see that we have a broad Streuung, ranging from negligible up to severy risk.\n",
    "- the annual return range is quite broad with extreme outliers ranging from losses up to -100% or winnings over +250%. In a next step we check the outliers and will exclude them if necessary."
   ],
   "id": "c792716cf0144cdf"
  },
  {
   "metadata": {
    "ExecuteTime": {
     "end_time": "2025-10-19T18:51:09.367773Z",
     "start_time": "2025-10-19T18:51:09.170998Z"
    }
   },
   "cell_type": "code",
   "source": [
    "# Histogram + Boxplot\n",
    "fig, ax = plt.subplots(1, 2)\n",
    "\n",
    "ax[0].hist(df_return[\"Annual_Return_Pct\"], bins=40)\n",
    "ax[0].axvline(0, linestyle=\"--\")\n",
    "ax[0].set_title(\"Histogram - Annual Return\")\n",
    "ax[0].set_xlabel(\"Annual Return (%)\"); ax[0].set_ylabel(\"Count\")\n",
    "\n",
    "ax[1].boxplot(df_return[\"Annual_Return_Pct\"].dropna(), vert=False, showfliers=True)\n",
    "ax[1].set_title(\"Boxplot - Annual Return\")\n",
    "ax[1].set_xlabel(\"Annual Return (%)\")\n",
    "\n",
    "plt.tight_layout(); plt.show()\n"
   ],
   "id": "f4ebccda893379ed",
   "outputs": [
    {
     "data": {
      "text/plain": [
       "<Figure size 640x480 with 2 Axes>"
      ],
      "image/png": "[encoded data removed]"
     },
     "metadata": {},
     "output_type": "display_data",
     "jetTransient": {
      "display_id": null
     }
    }
   ],
   "execution_count": 61
  },
  {
   "metadata": {},
   "cell_type": "markdown",
   "source": "We see that we have 6 outliers according to the boxplot. We want to exclude them from further analysis.",
   "id": "d062ecfdafb70190"
  },
  {
   "metadata": {
    "ExecuteTime": {
     "end_time": "2025-10-19T18:53:59.911362Z",
     "start_time": "2025-10-19T18:53:59.903839Z"
    }
   },
   "cell_type": "code",
   "source": [
    "# Compute IQR boundaries\n",
    "Q1 = df_return[\"Annual_Return_Pct\"].quantile(0.25)\n",
    "Q3 = df_return[\"Annual_Return_Pct\"].quantile(0.75)\n",
    "IQR = Q3 - Q1\n",
    "\n",
    "lower_bound = Q1 - 1.5 * IQR\n",
    "upper_bound = Q3 + 1.5 * IQR\n",
    "\n",
    "print(f\"Q1: {Q1:.2f}, Q3: {Q3:.2f}, IQR: {IQR:.2f}\")\n",
    "print(f\"Lower bound: {lower_bound:.2f}, Upper bound: {upper_bound:.2f}\")\n",
    "\n",
    "df_return_no_outliers = df_return[\n",
    "    (df_return[\"Annual_Return_Pct\"] >= lower_bound) &\n",
    "    (df_return[\"Annual_Return_Pct\"] <= upper_bound)\n",
    "].copy()\n",
    "\n",
    "print(f\"Removed {len(df_return) - len(df_return_no_outliers)} outliers\")\n",
    "print(f\"Remaining observations: {len(df_return_no_outliers)}\")"
   ],
   "id": "84f5315c1ccf706f",
   "outputs": [
    {
     "name": "stdout",
     "output_type": "stream",
     "text": [
      "Q1: -19.19, Q3: 19.68, IQR: 38.87\n",
      "Lower bound: -77.50, Upper bound: 77.99\n",
      "Removed 7 outliers\n",
      "Remaining observations: 134\n"
     ]
    }
   ],
   "execution_count": 62
  },
  {
   "metadata": {},
   "cell_type": "markdown",
   "source": "### 3.1.2 Analysis",
   "id": "89e1a92b8ef71ee3"
  },
  {
   "metadata": {},
   "cell_type": "markdown",
   "source": "We create a scatterplot to analyse the relationship visually.",
   "id": "29cd6f179c94d27b"
  },
  {
   "metadata": {
    "ExecuteTime": {
     "end_time": "2025-10-19T19:26:35.090630Z",
     "start_time": "2025-10-19T19:26:34.894289Z"
    }
   },
   "cell_type": "code",
   "source": [
    "plt.figure()\n",
    "sns.regplot(\n",
    "    data=df_return_no_outliers,\n",
    "    x=\"Total_ESG_Score\",\n",
    "    y=\"Annual_Return_Pct\",\n",
    "    scatter_kws={\"alpha\":0.5},\n",
    "    line_kws={\"color\":\"red\"},\n",
    "    ci=95\n",
    ")\n",
    "plt.title(\"Annual Return vs ESG Score\", fontsize=13)\n",
    "plt.xlabel(\"Total ESG Score\")\n",
    "plt.ylabel(\"Annual Return (%)\")\n",
    "plt.grid(alpha=0.3)\n",
    "plt.tight_layout()\n",
    "plt.show()\n"
   ],
   "id": "bdb911dca5d6a6a6",
   "outputs": [
    {
     "data": {
      "text/plain": [
       "<Figure size 640x480 with 1 Axes>"
      ],
      "image/png": "[encoded data removed]"
     },
     "metadata": {},
     "output_type": "display_data",
     "jetTransient": {
      "display_id": null
     }
    }
   ],
   "execution_count": 74
  },
  {
   "metadata": {},
   "cell_type": "markdown",
   "source": [
    "The linear fit indicates a very weak (slightly positive) relationship between ESG risk scores and annual returns among SPI companies.\n",
    "Given that a lower ESG score means lower risk and better ESG performance, this result implies that firms with stronger ESG profiles do not systematically outperform or underperform peers in terms of annual stock returns.\n",
    "The broad confidence band further suggests that ESG factors alone have limited explanatory power for short-term returns."
   ],
   "id": "1c4032a648dfeb2a"
  },
  {
   "metadata": {},
   "cell_type": "markdown",
   "source": [
    "Now we run a regression analysis to statistically disentangle the effects and control for several influencing factors, such as:\n",
    "- **Market capitalization** (log_mc): Larger firms tend to be more diversified, less volatile, and often receive more analyst coverage, which can influence both their ESG performance and financial returns.\n",
    "- **Revenue growth** (Revenue_Growth_Pct): Rapidly growing firms may experience higher stock returns independent of their ESG profile, so controlling for growth isolates the ESG effect on returns.\n",
    "- **Industry**: ESG scores and their financial relevance can vary substantially across sectors — for example, environmental factors are more material in manufacturing, while governance plays a stronger role in financial services. Including industry dummies controls for these structural differences."
   ],
   "id": "29d359f79e6b7918"
  },
  {
   "metadata": {
    "ExecuteTime": {
     "end_time": "2025-10-19T19:15:19.659022Z",
     "start_time": "2025-10-19T19:15:19.636166Z"
    }
   },
   "cell_type": "code",
   "source": [
    "# How many obs per industry?\n",
    "counts = df_return_no_outliers[\"Industry\"].value_counts()\n",
    "keep = counts[counts >= 3].index            # require at least 3 per industry (adjust if you like)\n",
    "\n",
    "df_fix = df_return_no_outliers.copy()\n",
    "df_fix[\"Industry_grp\"] = np.where(df_fix[\"Industry\"].isin(keep), df_fix[\"Industry\"], \"Other\")\n",
    "\n",
    "# Refit with grouped industry FE\n",
    "m_ret_clean = smf.ols(\n",
    "    \"Annual_Return_Pct ~ Total_ESG_Score + log_mc + Revenue_Growth_Pct + C(Industry_grp)\",\n",
    "    data=df_fix\n",
    ").fit(cov_type=\"HC3\") #assumption of heteroscadicity\n",
    "\n",
    "print(m_ret_clean.summary())\n",
    "\n"
   ],
   "id": "c5bda1ddbb3f7c78",
   "outputs": [
    {
     "name": "stdout",
     "output_type": "stream",
     "text": [
      "                            OLS Regression Results                            \n",
      "==============================================================================\n",
      "Dep. Variable:      Annual_Return_Pct   R-squared:                       0.339\n",
      "Model:                            OLS   Adj. R-squared:                  0.229\n",
      "Method:                 Least Squares   F-statistic:                     7.750\n",
      "Date:                Sun, 19 Oct 2025   Prob (F-statistic):           3.52e-13\n",
      "Time:                        21:15:19   Log-Likelihood:                -607.47\n",
      "No. Observations:                 134   AIC:                             1255.\n",
      "Df Residuals:                     114   BIC:                             1313.\n",
      "Df Model:                          19                                         \n",
      "Covariance Type:                  HC3                                         \n",
      "===============================================================================================================================\n",
      "                                                                  coef    std err          z      P>|z|      [0.025      0.975]\n",
      "-------------------------------------------------------------------------------------------------------------------------------\n",
      "Intercept                                                    -158.9530     34.231     -4.643      0.000    -226.045     -91.861\n",
      "C(Industry_grp)[T.Banks - Diversified]                         26.7450     17.707      1.510      0.131      -7.961      61.451\n",
      "C(Industry_grp)[T.Banks - Regional]                            22.8341     10.355      2.205      0.027       2.538      43.130\n",
      "C(Industry_grp)[T.Biotechnology]                               15.7028     17.122      0.917      0.359     -17.855      49.261\n",
      "C(Industry_grp)[T.Building Products & Equipment]                8.6064     16.163      0.532      0.594     -23.073      40.285\n",
      "C(Industry_grp)[T.Drug Manufacturers - General]                -7.2942     12.260     -0.595      0.552     -31.323      16.735\n",
      "C(Industry_grp)[T.Drug Manufacturers - Specialty & Generic]    19.7845     25.662      0.771      0.441     -30.511      70.080\n",
      "C(Industry_grp)[T.Insurance - Diversified]                     22.6260     12.391      1.826      0.068      -1.660      46.912\n",
      "C(Industry_grp)[T.Medical Devices]                             16.3298     28.867      0.566      0.572     -40.248      72.908\n",
      "C(Industry_grp)[T.Medical Instruments & Supplies]             -17.1881     11.598     -1.482      0.138     -39.920       5.544\n",
      "C(Industry_grp)[T.Other]                                       12.4722     10.354      1.205      0.228      -7.822      32.767\n",
      "C(Industry_grp)[T.Packaged Foods]                             -19.9144     12.996     -1.532      0.125     -45.385       5.557\n",
      "C(Industry_grp)[T.Real Estate - Diversified]                   37.8300     13.368      2.830      0.005      11.630      64.030\n",
      "C(Industry_grp)[T.Real Estate Services]                        26.9757     12.111      2.227      0.026       3.238      50.713\n",
      "C(Industry_grp)[T.Scientific & Technical Instruments]           2.0725      9.901      0.209      0.834     -17.333      21.478\n",
      "C(Industry_grp)[T.Specialty Chemicals]                        -25.5188     10.356     -2.464      0.014     -45.817      -5.221\n",
      "C(Industry_grp)[T.Specialty Industrial Machinery]               3.3559     10.782      0.311      0.756     -17.776      24.488\n",
      "Total_ESG_Score                                                 0.7777      0.390      1.994      0.046       0.013       1.542\n",
      "log_mc                                                          6.0486      1.371      4.413      0.000       3.362       8.735\n",
      "Revenue_Growth_Pct                                              0.0333      0.100      0.333      0.739      -0.163       0.229\n",
      "==============================================================================\n",
      "Omnibus:                       11.114   Durbin-Watson:                   2.012\n",
      "Prob(Omnibus):                  0.004   Jarque-Bera (JB):               12.965\n",
      "Skew:                           0.539   Prob(JB):                      0.00153\n",
      "Kurtosis:                       4.078   Cond. No.                         721.\n",
      "==============================================================================\n",
      "\n",
      "Notes:\n",
      "[1] Standard Errors are heteroscedasticity robust (HC3)\n"
     ]
    }
   ],
   "execution_count": 72
  },
  {
   "metadata": {},
   "cell_type": "markdown",
   "source": [
    "The adjusted R-squared indicates that the model explains approximately 23% of the variance in annual returns.\n",
    "Contrary to what we expected based on the visual analysis, the Total ESG Score shows a statistically significant effect (coef = 0.78, p = 0.046). However, the direction of the effect is opposite to our assumption — higher ESG risk (i.e., a higher score) is associated with higher annual returns. The magnitude of this relationship is relatively small, amounting to an increase of about 0.77 percentage points in annual return per ESG-risk point.\n",
    "\n",
    "The log-transformed market capitalization is highly significant (coef = 6.05, p < 0.001), suggesting that larger companies tend to achieve higher annual returns. In contrast, revenue growth shows no statistically significant relationship with annual returns (coef = 0.03, p = 0.74).\n",
    "\n",
    "Regarding industry effects, the analysis reveals significantly positive coefficients for:\n",
    "- Real Estate – Diversified (coef = 37.83, p = 0.005)\n",
    "- Real Estate Services (coef = 26.98, p = 0.026)\n",
    "- Banks – Regional (coef = 22.83, p = 0.027)\n",
    "\n",
    "while Specialty Chemicals is the only sector exhibiting a significant negative effect on annual returns (coef = -25.52, p = 0.014).\n"
   ],
   "id": "f5fe5a658a1a28e7"
  },
  {
   "metadata": {},
   "cell_type": "markdown",
   "source": "now we control for Market cap and industry",
   "id": "215c0dff5533225b"
  },
  {
   "metadata": {
    "ExecuteTime": {
     "end_time": "2025-10-19T19:26:03.105011Z",
     "start_time": "2025-10-19T19:26:02.977059Z"
    }
   },
   "cell_type": "code",
   "source": [
    "fig = sm.graphics.plot_partregress(\n",
    "    endog=\"Annual_Return_Pct\",\n",
    "    exog_i=\"Total_ESG_Score\",\n",
    "    exog_others=[\"log_mc\", \"Revenue_Growth_Pct\"],\n",
    "    data=df_return,\n",
    "    obs_labels=False\n",
    ")\n",
    "plt.title(\"Partial Regression: ESG Score controlling for Size & Industry\")\n",
    "plt.show()\n"
   ],
   "id": "4cf6e3f51fb3d8d0",
   "outputs": [
    {
     "data": {
      "text/plain": [
       "<Figure size 640x480 with 1 Axes>"
      ],
      "image/png": "[encoded data removed]"
     },
     "metadata": {},
     "output_type": "display_data",
     "jetTransient": {
      "display_id": null
     }
    }
   ],
   "execution_count": 73
  },
  {
   "metadata": {},
   "cell_type": "markdown",
   "source": [
    "The partial regression plot visualizes the isolated relationship between the Total ESG Score and the Annual Return, after controlling for firm size (log of market capitalization) and industry effects.\n",
    "\n",
    "Each point represents the residuals from two regressions:\n",
    "\n",
    "- On the x-axis: the portion of ESG Score not explained by size and industry.\n",
    "- On the y-axis: the portion of Annual Return not explained by size and industry.\n",
    "\n",
    "The fitted line shows the remaining linear association between these residuals. The slightly positive slope indicates that, when holding firm size and industry constant, companies with higher ESG risk (higher ESG scores) tend to exhibit slightly higher annual returns.\n",
    "\n",
    "However, the relationship is weak, as shown by the flat slope and the high dispersion of points around the regression line. This suggests that ESG risk alone explains little of the remaining variation in returns once structural factors like size and industry are accounted for.\n",
    "\n",
    "In summary, the partial regression confirms the main regression result: ESG risk has a small but statistically significant positive association with returns, implying that higher-risk firms might be compensated by slightly higher financial performance — though the economic relevance of this effect is limited."
   ],
   "id": "e2db20d796fcfc7c"
  },
  {
   "metadata": {
    "ExecuteTime": {
     "end_time": "2025-10-19T19:33:15.167936Z",
     "start_time": "2025-10-19T19:33:14.305295Z"
    }
   },
   "cell_type": "code",
   "source": [
    "# pick the significant industries (from your regression)\n",
    "sig_inds = [\n",
    "    \"Real Estate - Diversified\",\n",
    "    \"Real Estate Services\",\n",
    "    \"Banks - Regional\",\n",
    "    \"Specialty Chemicals\"\n",
    "]\n",
    "\n",
    "# choose which column to use (Industry_grp if you grouped, else Industry)\n",
    "ind_col = \"Industry_grp\" if \"Industry_grp\" in df_return_no_outliers.columns else \"Industry\"\n",
    "\n",
    "use_col = \"Industry_grp\" if \"Industry_grp\" in df_return_no_outliers.columns else \"Industry\"\n",
    "plot_set = df_return_no_outliers[df_return_no_outliers[use_col].isin(sig_inds)].copy()\n",
    "\n",
    "g = sns.lmplot(\n",
    "    data=plot_set,\n",
    "    x=\"Total_ESG_Score\", y=\"Annual_Return_Pct\",\n",
    "    col=use_col, col_wrap=2, height=3.6,\n",
    "    scatter_kws={\"alpha\":0.6}\n",
    ")\n",
    "g.set_axis_labels(\"Total ESG Score (higher = worse ESG)\", \"Annual Return (%)\")\n",
    "for ax in g.axes.flat:\n",
    "    ax.grid(alpha=0.3)\n",
    "plt.subplots_adjust(top=0.88)\n",
    "g.fig.suptitle(\"Annual Return vs ESG Score — Significant Industries\")\n",
    "plt.show()\n"
   ],
   "id": "1387e8daf3dba938",
   "outputs": [
    {
     "data": {
      "text/plain": [
       "<Figure size 720x720 with 4 Axes>"
      ],
      "image/png": "[encoded data removed]"
     },
     "metadata": {},
     "output_type": "display_data",
     "jetTransient": {
      "display_id": null
     }
    }
   ],
   "execution_count": 77
  },
  {
   "metadata": {},
   "cell_type": "markdown",
   "source": [
    "To further explore whether the relationship between ESG performance and annual financial returns varies across industries, we visualized the associations for the sectors that showed significant effects in the regression model: Specialty Chemicals, Real Estate – Diversified, Real Estate Services, and Banks – Regional.\n",
    "\n",
    "Across these industries, the patterns differ in both direction and magnitude. In Specialty Chemicals and Regional Banks, we observe a slightly negative relationship, suggesting that companies with better ESG scores (lower ESG risk) tend to achieve higher annual returns. Conversely, in Real Estate Services, the relationship appears positive, implying that firms with higher ESG risk might exhibit somewhat higher returns, although this effect is characterized by wide confidence intervals due to limited sample size. For Real Estate – Diversified, the slope is nearly flat, indicating no meaningful association between ESG performance and annual return.\n",
    "\n",
    "Overall, these results suggest that the financial relevance of ESG factors is industry-dependent, with some sectors potentially rewarding better ESG management, while in others, the relationship appears weak or even reversed. However, given the small number of observations in several industries, these findings should be interpreted with caution and considered indicative rather than conclusive."
   ],
   "id": "ee50ee58cabbe94d"
  }
 ],
 "metadata": {
  "kernelspec": {
   "display_name": "Python 3",
   "language": "python",
   "name": "python3"
  },
  "language_info": {
   "codemirror_mode": {
    "name": "ipython",
    "version": 3
   },
   "file_extension": ".py",
   "mimetype": "text/x-python",
   "name": "python",
   "nbconvert_exporter": "python",
   "pygments_lexer": "ipython3",
   "version": "3.12.7"
  }
 },
 "nbformat": 4,
 "nbformat_minor": 5
}
